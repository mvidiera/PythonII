{
 "cells": [
  {
   "cell_type": "code",
   "execution_count": 29,
   "id": "c75fdca6",
   "metadata": {},
   "outputs": [
    {
     "name": "stdout",
     "output_type": "stream",
     "text": [
      "Overwriting xyz.txt\n"
     ]
    }
   ],
   "source": [
    "%%writefile xyz.txt\n",
    "my name is Melissa Vidiera\n",
    " \n"
   ]
  },
  {
   "cell_type": "code",
   "execution_count": 30,
   "id": "3ac3f5bd",
   "metadata": {},
   "outputs": [],
   "source": [
    "#how to create new file\n",
    "#make sure that there should not be any comment line above writefile\n",
    "#error: Line magic function `%%writefile` not found.\n",
    "#no much control on file using just python. unlike pandas\n",
    "\n"
   ]
  },
  {
   "cell_type": "code",
   "execution_count": 31,
   "id": "adfd8555",
   "metadata": {},
   "outputs": [
    {
     "data": {
      "text/plain": [
       "'/Users/melissavidiera/Documents'"
      ]
     },
     "execution_count": 31,
     "metadata": {},
     "output_type": "execute_result"
    }
   ],
   "source": [
    "pwd() #print work dictionary "
   ]
  },
  {
   "cell_type": "code",
   "execution_count": 32,
   "id": "96810ca7",
   "metadata": {},
   "outputs": [
    {
     "data": {
      "text/plain": [
       "<_io.TextIOWrapper name='xyz.txt' mode='r' encoding='UTF-8'>"
      ]
     },
     "execution_count": 32,
     "metadata": {},
     "output_type": "execute_result"
    }
   ],
   "source": [
    "f= open('xyz.txt') #open file\n",
    "f      #print file variable"
   ]
  },
  {
   "cell_type": "code",
   "execution_count": 33,
   "id": "206d648d",
   "metadata": {},
   "outputs": [
    {
     "data": {
      "text/plain": [
       "<_io.TextIOWrapper name='/Users/melissavidiera/Documents/xyz.txt' mode='r' encoding='UTF-8'>"
      ]
     },
     "execution_count": 33,
     "metadata": {},
     "output_type": "execute_result"
    }
   ],
   "source": [
    "#another way to open file is to use path\n",
    "\n",
    "f= open('/Users/melissavidiera/Documents/xyz.txt')\n",
    "f\n",
    "#by default file mode will be Read"
   ]
  },
  {
   "cell_type": "code",
   "execution_count": 28,
   "id": "c88e6150",
   "metadata": {},
   "outputs": [
    {
     "data": {
      "text/plain": [
       "'my name is Melissa Vidiera\\n #how to create new file\\n#make sure that there should not be any comment line above writefile\\n#error: Line magic function `%%writefile` not found.\\n#no much control on file using just python. unlike pandas\\n\\n\\n'"
      ]
     },
     "execution_count": 28,
     "metadata": {},
     "output_type": "execute_result"
    }
   ],
   "source": [
    "#to see data\n",
    "\n",
    "f.read() # even comment lines are stored in file "
   ]
  },
  {
   "cell_type": "code",
   "execution_count": 34,
   "id": "f2027547",
   "metadata": {},
   "outputs": [
    {
     "data": {
      "text/plain": [
       "'my name is Melissa Vidiera\\n \\n'"
      ]
     },
     "execution_count": 34,
     "metadata": {},
     "output_type": "execute_result"
    }
   ],
   "source": [
    "f.read()"
   ]
  },
  {
   "cell_type": "code",
   "execution_count": 35,
   "id": "560ee30a",
   "metadata": {},
   "outputs": [
    {
     "data": {
      "text/plain": [
       "''"
      ]
     },
     "execution_count": 35,
     "metadata": {},
     "output_type": "execute_result"
    }
   ],
   "source": [
    "#executing read operation \n",
    "\n",
    "f.read()\n",
    "# I will get blank as the cursor will move to end of the file details\n",
    "#end of this- \"'my name is Melissa Vidiera\\n \\n'\" so I get blanks"
   ]
  },
  {
   "cell_type": "code",
   "execution_count": 41,
   "id": "aafefb62",
   "metadata": {},
   "outputs": [
    {
     "data": {
      "text/plain": [
       "0"
      ]
     },
     "execution_count": 41,
     "metadata": {},
     "output_type": "execute_result"
    }
   ],
   "source": [
    "#to reset the pointer. set the pointer to 0th index\n",
    "#use seek() then read() again \n",
    "f.seek(0)\n"
   ]
  },
  {
   "cell_type": "code",
   "execution_count": 42,
   "id": "90699c50",
   "metadata": {},
   "outputs": [
    {
     "data": {
      "text/plain": [
       "'my name is Melissa Vidiera\\n \\n'"
      ]
     },
     "execution_count": 42,
     "metadata": {},
     "output_type": "execute_result"
    }
   ],
   "source": [
    "f.read()"
   ]
  },
  {
   "cell_type": "code",
   "execution_count": 47,
   "id": "21ec66fb",
   "metadata": {},
   "outputs": [
    {
     "data": {
      "text/plain": [
       "5"
      ]
     },
     "execution_count": 47,
     "metadata": {},
     "output_type": "execute_result"
    }
   ],
   "source": [
    "f.seek(5) #from 5th index"
   ]
  },
  {
   "cell_type": "code",
   "execution_count": 48,
   "id": "f2cfa38a",
   "metadata": {},
   "outputs": [
    {
     "data": {
      "text/plain": [
       "'me is Melissa Vidiera\\n \\n'"
      ]
     },
     "execution_count": 48,
     "metadata": {},
     "output_type": "execute_result"
    }
   ],
   "source": [
    "f.read()"
   ]
  },
  {
   "cell_type": "code",
   "execution_count": 57,
   "id": "ba3b4562",
   "metadata": {},
   "outputs": [
    {
     "data": {
      "text/plain": [
       "22"
      ]
     },
     "execution_count": 57,
     "metadata": {},
     "output_type": "execute_result"
    }
   ],
   "source": [
    "\n",
    "\n",
    "f1= open('xyz.txt','w+')\n",
    "f1.write(\"This is Whisky Vidiera\")\n",
    "\n",
    "#how to write in existing file or apend \n",
    "# change mode as by default it will be read mode \n",
    "#'w'->open for writing, truncating the file first. That is, remove all data and rewrite\n",
    "#'+'->open a disk file for updating (reading and writing). If I want to update something\n"
   ]
  },
  {
   "cell_type": "code",
   "execution_count": 60,
   "id": "78487c6b",
   "metadata": {},
   "outputs": [
    {
     "data": {
      "text/plain": [
       "''"
      ]
     },
     "execution_count": 60,
     "metadata": {},
     "output_type": "execute_result"
    }
   ],
   "source": [
    "#it is returning 22 as there are 22 characters\n",
    "#when I am reading I am getting blank, as I changed the seek to 6 previously. Let's reset seek to 0 and read\n",
    "f1.read()"
   ]
  },
  {
   "cell_type": "code",
   "execution_count": 61,
   "id": "fa45c930",
   "metadata": {},
   "outputs": [
    {
     "data": {
      "text/plain": [
       "0"
      ]
     },
     "execution_count": 61,
     "metadata": {},
     "output_type": "execute_result"
    }
   ],
   "source": [
    "f1.seek(0)"
   ]
  },
  {
   "cell_type": "code",
   "execution_count": 62,
   "id": "2fe48040",
   "metadata": {},
   "outputs": [
    {
     "data": {
      "text/plain": [
       "'This is Whisky Vidiera'"
      ]
     },
     "execution_count": 62,
     "metadata": {},
     "output_type": "execute_result"
    }
   ],
   "source": [
    "f1.read()"
   ]
  },
  {
   "cell_type": "code",
   "execution_count": 64,
   "id": "5e544ca8",
   "metadata": {},
   "outputs": [
    {
     "data": {
      "text/plain": [
       "33"
      ]
     },
     "execution_count": 64,
     "metadata": {},
     "output_type": "execute_result"
    }
   ],
   "source": [
    "f2= open('xyz.txt','w+')\n",
    "f2.write(\"This is Whisky \\n and Coco Vidiera\")"
   ]
  },
  {
   "cell_type": "code",
   "execution_count": 67,
   "id": "b09d6991",
   "metadata": {},
   "outputs": [
    {
     "data": {
      "text/plain": [
       "'This is Whisky \\n and Coco Vidiera'"
      ]
     },
     "execution_count": 67,
     "metadata": {},
     "output_type": "execute_result"
    }
   ],
   "source": [
    "f2.seek(0)\n",
    "f2.read()"
   ]
  },
  {
   "cell_type": "code",
   "execution_count": 70,
   "id": "4f73a178",
   "metadata": {},
   "outputs": [
    {
     "data": {
      "text/plain": [
       "'This is Whisky \\n and Coco Vidiera\\n Melissa Vidiera\\n Picu\\n Whisky\\n Coco\\n Wishu\\n Ishu\\n Golu molu \\n ishu baba\\n '"
      ]
     },
     "execution_count": 70,
     "metadata": {},
     "output_type": "execute_result"
    }
   ],
   "source": [
    "#\\n- next line works as next line when I open real file but when I am opening in this console it will show\n",
    "#in single line. if I open up file, I will get output whisky and coco in different line\n",
    "f2.seek(0)\n",
    "f2.read()"
   ]
  },
  {
   "cell_type": "code",
   "execution_count": 71,
   "id": "28fb6cf8",
   "metadata": {},
   "outputs": [
    {
     "name": "stdout",
     "output_type": "stream",
     "text": [
      "This is Whisky \n",
      "\n",
      " and Coco Vidiera\n",
      "\n",
      " Melissa Vidiera\n",
      "\n",
      " Picu\n",
      "\n",
      " Whisky\n",
      "\n",
      " Coco\n",
      "\n",
      " Wishu\n",
      "\n",
      " Ishu\n",
      "\n",
      " Golu molu \n",
      "\n",
      " ishu baba\n",
      "\n",
      " \n"
     ]
    }
   ],
   "source": [
    "#this is not readable format. so to separate lines use for loop\n",
    "\n",
    "for i in open('xyz.txt'):\n",
    "    print(i)"
   ]
  },
  {
   "cell_type": "markdown",
   "id": "338186c0",
   "metadata": {},
   "source": [
    "## string io operation\n",
    "\n",
    "StringIO will make string act like file\n",
    "\n",
    "I pass string inside StringIO(), then I can use file functions in string.\n",
    "\n",
    "Garbage collection explained in notes\n",
    "\n",
    "2 types. 1. reference counting 2. Genrational garbage collection algo(for references pointing itself) ex:list, string\n",
    "\n"
   ]
  },
  {
   "cell_type": "code",
   "execution_count": 72,
   "id": "94763d7c",
   "metadata": {},
   "outputs": [],
   "source": [
    "s= \"Melissa\"\n",
    "\n",
    "from io import StringIO #package to treat string like file"
   ]
  },
  {
   "cell_type": "code",
   "execution_count": 73,
   "id": "d92519fa",
   "metadata": {},
   "outputs": [
    {
     "name": "stdout",
     "output_type": "stream",
     "text": [
      "Melissa Vidiera\n"
     ]
    }
   ],
   "source": [
    "s=input()"
   ]
  },
  {
   "cell_type": "code",
   "execution_count": 74,
   "id": "37d63605",
   "metadata": {},
   "outputs": [],
   "source": [
    "s1= StringIO(s) #take StringIO class and assign it to object s1 for future use"
   ]
  },
  {
   "cell_type": "code",
   "execution_count": 75,
   "id": "a07021f3",
   "metadata": {},
   "outputs": [
    {
     "data": {
      "text/plain": [
       "str"
      ]
     },
     "execution_count": 75,
     "metadata": {},
     "output_type": "execute_result"
    }
   ],
   "source": [
    "type(s)"
   ]
  },
  {
   "cell_type": "code",
   "execution_count": 76,
   "id": "30232b34",
   "metadata": {},
   "outputs": [
    {
     "data": {
      "text/plain": [
       "_io.StringIO"
      ]
     },
     "execution_count": 76,
     "metadata": {},
     "output_type": "execute_result"
    }
   ],
   "source": [
    "type(s1)"
   ]
  },
  {
   "cell_type": "code",
   "execution_count": 77,
   "id": "afc40ac6",
   "metadata": {},
   "outputs": [
    {
     "data": {
      "text/plain": [
       "'Melissa Vidiera'"
      ]
     },
     "execution_count": 77,
     "metadata": {},
     "output_type": "execute_result"
    }
   ],
   "source": [
    "#if I check function using tab for s1,I will get all the methods which for file not strin\n",
    "s1.read()"
   ]
  },
  {
   "cell_type": "code",
   "execution_count": 78,
   "id": "4b6487bb",
   "metadata": {},
   "outputs": [
    {
     "data": {
      "text/plain": [
       "''"
      ]
     },
     "execution_count": 78,
     "metadata": {},
     "output_type": "execute_result"
    }
   ],
   "source": [
    "s1.read() #gives blanks as str s1 acts as file and second time execution gives me blank\n",
    "#as pointer ponts to last index of file after 1st execution. use seek to set pointer"
   ]
  },
  {
   "cell_type": "code",
   "execution_count": 81,
   "id": "6e233cb0",
   "metadata": {},
   "outputs": [
    {
     "data": {
      "text/plain": [
       "5"
      ]
     },
     "execution_count": 81,
     "metadata": {},
     "output_type": "execute_result"
    }
   ],
   "source": [
    "s1.seek(5)"
   ]
  },
  {
   "cell_type": "code",
   "execution_count": 82,
   "id": "958be45b",
   "metadata": {},
   "outputs": [
    {
     "data": {
      "text/plain": [
       "'sa Vidiera'"
      ]
     },
     "execution_count": 82,
     "metadata": {},
     "output_type": "execute_result"
    }
   ],
   "source": [
    "s1.read()"
   ]
  },
  {
   "cell_type": "code",
   "execution_count": 83,
   "id": "f7985b8d",
   "metadata": {},
   "outputs": [
    {
     "data": {
      "text/plain": [
       "47"
      ]
     },
     "execution_count": 83,
     "metadata": {},
     "output_type": "execute_result"
    }
   ],
   "source": [
    "s1.write(\"mkjsvngiequrhgkn kcjwnivuhrwg ibewfiwqbnrgije9b\")\n",
    "\n"
   ]
  },
  {
   "cell_type": "code",
   "execution_count": 84,
   "id": "3a9ee283",
   "metadata": {},
   "outputs": [
    {
     "data": {
      "text/plain": [
       "''"
      ]
     },
     "execution_count": 84,
     "metadata": {},
     "output_type": "execute_result"
    }
   ],
   "source": [
    "s1.read()"
   ]
  },
  {
   "cell_type": "code",
   "execution_count": 86,
   "id": "3392a87f",
   "metadata": {},
   "outputs": [
    {
     "data": {
      "text/plain": [
       "0"
      ]
     },
     "execution_count": 86,
     "metadata": {},
     "output_type": "execute_result"
    }
   ],
   "source": [
    "s1.seek(0)"
   ]
  },
  {
   "cell_type": "code",
   "execution_count": 87,
   "id": "b9e7a943",
   "metadata": {},
   "outputs": [
    {
     "data": {
      "text/plain": [
       "'Melissa Vidieramkjsvngiequrhgkn kcjwnivuhrwg ibewfiwqbnrgije9b'"
      ]
     },
     "execution_count": 87,
     "metadata": {},
     "output_type": "execute_result"
    }
   ],
   "source": [
    "s1.read()"
   ]
  },
  {
   "cell_type": "code",
   "execution_count": null,
   "id": "28f3bd3e",
   "metadata": {},
   "outputs": [],
   "source": []
  }
 ],
 "metadata": {
  "kernelspec": {
   "display_name": "Python 3 (ipykernel)",
   "language": "python",
   "name": "python3"
  },
  "language_info": {
   "codemirror_mode": {
    "name": "ipython",
    "version": 3
   },
   "file_extension": ".py",
   "mimetype": "text/x-python",
   "name": "python",
   "nbconvert_exporter": "python",
   "pygments_lexer": "ipython3",
   "version": "3.8.8"
  }
 },
 "nbformat": 4,
 "nbformat_minor": 5
}
