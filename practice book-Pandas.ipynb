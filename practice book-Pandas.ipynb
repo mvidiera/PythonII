{
 "cells": [
  {
   "cell_type": "code",
   "execution_count": 1,
   "metadata": {},
   "outputs": [],
   "source": [
    "import pandas as pd"
   ]
  },
  {
   "cell_type": "code",
   "execution_count": 2,
   "metadata": {},
   "outputs": [],
   "source": [
    "# create a dictionary\n",
    "\n",
    "xyz_web= {'Day':[1,2,3,4,5,6],'visitors':[1000,700,6000,4000,350,670],'bounce_rate':[20,60,70,90,50,20]}"
   ]
  },
  {
   "cell_type": "code",
   "execution_count": 3,
   "metadata": {},
   "outputs": [],
   "source": [
    "#converting dictionary into pandas dataframe\n",
    "#declare var called df\n",
    "\n",
    "df= pd.DataFrame(xyz_web)"
   ]
  },
  {
   "cell_type": "code",
   "execution_count": 5,
   "metadata": {},
   "outputs": [
    {
     "name": "stdout",
     "output_type": "stream",
     "text": [
      "   Day  visitors  bounce_rate\n",
      "0    1      1000           20\n",
      "1    2       700           60\n",
      "2    3      6000           70\n",
      "3    4      4000           90\n",
      "4    5       350           50\n",
      "5    6       670           20\n"
     ]
    }
   ],
   "source": [
    "#converted dictionary to dataframes\n",
    "\n",
    "print(df)"
   ]
  },
  {
   "cell_type": "code",
   "execution_count": 13,
   "metadata": {},
   "outputs": [
    {
     "data": {
      "text/plain": [
       "\"'Operations that can be performed in Pandas\\nslice DF\\nchnage index value\\nconvert the data into different format\\nchange col headers\\nconcatenation\\njoin 2 DFs \""
      ]
     },
     "execution_count": 13,
     "metadata": {},
     "output_type": "execute_result"
    }
   ],
   "source": [
    "''''Operations that can be performed in Pandas\n",
    "slice DF\n",
    "chnage index value\n",
    "convert the data into different format\n",
    "change col headers\n",
    "concatenation\n",
    "join 2 DFs '''''"
   ]
  },
  {
   "cell_type": "markdown",
   "metadata": {},
   "source": [
    "## slicing- starting 2 rows\n",
    "\n",
    "print(df.head(2))\n"
   ]
  },
  {
   "cell_type": "code",
   "execution_count": 18,
   "metadata": {},
   "outputs": [
    {
     "name": "stdout",
     "output_type": "stream",
     "text": [
      "   Day  visitors  bounce_rate\n",
      "4    5       350           50\n",
      "5    6       670           20\n"
     ]
    }
   ],
   "source": [
    "print(df.tail(2))"
   ]
  },
  {
   "cell_type": "code",
   "execution_count": 25,
   "metadata": {},
   "outputs": [
    {
     "name": "stdout",
     "output_type": "stream",
     "text": [
      "      HP1  Int_rate  ind_gdp\n",
      "2001   20         1       30\n",
      "2002   30         2       40\n",
      "2003   40         3       50\n",
      "2004   50         4       60\n"
     ]
    }
   ],
   "source": [
    "#merging\n",
    "#defining 3 DF\n",
    "\n",
    "df1=pd.DataFrame({\"HP1\":[20,30,40,50],\"Int_rate\":[1,2,3,4],\"ind_gdp\":[30,40,50,60]},\n",
    "                 index=[2001,2002,2003,2004])\n",
    "print(df1)"
   ]
  },
  {
   "cell_type": "code",
   "execution_count": 26,
   "metadata": {},
   "outputs": [
    {
     "name": "stdout",
     "output_type": "stream",
     "text": [
      "      HP1  Int_rate  ind_gdp\n",
      "2005   34         6       90\n",
      "2006   33         5       57\n",
      "2007   42         9       89\n",
      "2008   59         3       69\n"
     ]
    }
   ],
   "source": [
    "df2=pd.DataFrame({\"HP1\":[34,33,42,59],\"Int_rate\":[6,5,9,3],\"ind_gdp\":[90,57,89,69]},\n",
    "                 index=[2005,2006,2007,2008])\n",
    "print(df2)"
   ]
  },
  {
   "cell_type": "code",
   "execution_count": 33,
   "metadata": {},
   "outputs": [
    {
     "data": {
      "text/html": [
       "<div>\n",
       "<style scoped>\n",
       "    .dataframe tbody tr th:only-of-type {\n",
       "        vertical-align: middle;\n",
       "    }\n",
       "\n",
       "    .dataframe tbody tr th {\n",
       "        vertical-align: top;\n",
       "    }\n",
       "\n",
       "    .dataframe thead th {\n",
       "        text-align: right;\n",
       "    }\n",
       "</style>\n",
       "<table border=\"1\" class=\"dataframe\">\n",
       "  <thead>\n",
       "    <tr style=\"text-align: right;\">\n",
       "      <th></th>\n",
       "      <th>HP1</th>\n",
       "      <th>Int_rate</th>\n",
       "      <th>ind_gdp</th>\n",
       "    </tr>\n",
       "  </thead>\n",
       "  <tbody>\n",
       "  </tbody>\n",
       "</table>\n",
       "</div>"
      ],
      "text/plain": [
       "Empty DataFrame\n",
       "Columns: [HP1, Int_rate, ind_gdp]\n",
       "Index: []"
      ]
     },
     "execution_count": 33,
     "metadata": {},
     "output_type": "execute_result"
    }
   ],
   "source": [
    "m1= pd.merge(df1,df2)\n",
    "m1"
   ]
  },
  {
   "cell_type": "code",
   "execution_count": 34,
   "metadata": {},
   "outputs": [
    {
     "data": {
      "text/html": [
       "<div>\n",
       "<style scoped>\n",
       "    .dataframe tbody tr th:only-of-type {\n",
       "        vertical-align: middle;\n",
       "    }\n",
       "\n",
       "    .dataframe tbody tr th {\n",
       "        vertical-align: top;\n",
       "    }\n",
       "\n",
       "    .dataframe thead th {\n",
       "        text-align: right;\n",
       "    }\n",
       "</style>\n",
       "<table border=\"1\" class=\"dataframe\">\n",
       "  <thead>\n",
       "    <tr style=\"text-align: right;\">\n",
       "      <th></th>\n",
       "      <th>HP1</th>\n",
       "      <th>Int_rate_x</th>\n",
       "      <th>ind_gdp_x</th>\n",
       "      <th>Int_rate_y</th>\n",
       "      <th>ind_gdp_y</th>\n",
       "    </tr>\n",
       "  </thead>\n",
       "  <tbody>\n",
       "  </tbody>\n",
       "</table>\n",
       "</div>"
      ],
      "text/plain": [
       "Empty DataFrame\n",
       "Columns: [HP1, Int_rate_x, ind_gdp_x, Int_rate_y, ind_gdp_y]\n",
       "Index: []"
      ]
     },
     "execution_count": 34,
     "metadata": {},
     "output_type": "execute_result"
    }
   ],
   "source": [
    "m1= pd.merge(df1,df2, on= \"HP1\")\n",
    "m1   # to keep HP1 common"
   ]
  },
  {
   "cell_type": "code",
   "execution_count": null,
   "metadata": {},
   "outputs": [],
   "source": [
    "#joining- 2 DF are joined basis of their index values\n",
    "# I have 2 DF, DF1 has index 1 2 3 4, and column names A, B. DF2 has index 3 4 5 6 and col name C,D. \n",
    "#result will be, according to index, info will be same whose index will be matching.\n",
    "#Data whose index is not thr or vice versa, or there is no value attached to index data will be NaN Not a Nummber\n"
   ]
  }
 ],
 "metadata": {
  "kernelspec": {
   "display_name": "Python 3",
   "language": "python",
   "name": "python3"
  },
  "language_info": {
   "codemirror_mode": {
    "name": "ipython",
    "version": 3
   },
   "file_extension": ".py",
   "mimetype": "text/x-python",
   "name": "python",
   "nbconvert_exporter": "python",
   "pygments_lexer": "ipython3",
   "version": "3.7.3"
  }
 },
 "nbformat": 4,
 "nbformat_minor": 2
}
