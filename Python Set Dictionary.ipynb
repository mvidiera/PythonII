{
 "cells": [
  {
   "cell_type": "markdown",
   "id": "367cf3ff",
   "metadata": {},
   "source": [
    "* Set: It is kind of collection/ data structure which removes duplicate values\n",
    "*ex: in NLP, we need to hold the data with no duplicate values. in NLP all data from wiki is stored but unique words/values will be stored. But it is case sensitive. Hence we convert all the words into smaller case\n",
    "\n",
    "* Case sensitive: if we want to hold the password value. Vidiera and vidiera is not same when comes to password\n",
    "\n",
    "* Holds Heterogeneous data \n",
    "\n",
    "* Denoted by set([]). Set will be returned as {}\n",
    "\n",
    "* we can not fetch data in set using index. 'set' object is not subscriptable. \n",
    "loophole: can use for loop to fetch the data inside set\n",
    "\n",
    "* Slicng is not possible, as I can not fetch data in set using index\n",
    "Loophole: convert set into list. insert or delete element. convert it back to set\n",
    "\n",
    "* set([]). passing tuple inside set: set((tuple))\n",
    "\n",
    "list [], set {}, tuple (), Dict[k:v]\n"
   ]
  },
  {
   "cell_type": "code",
   "execution_count": 1,
   "id": "6f0b4c69",
   "metadata": {},
   "outputs": [
    {
     "data": {
      "text/plain": [
       "{1, 2, 3, 4, 5, 6, 7, 'Melissa'}"
      ]
     },
     "execution_count": 1,
     "metadata": {},
     "output_type": "execute_result"
    }
   ],
   "source": [
    "s= set([1,2,3,4,5,1,2,1,2,3,3,4,4,5,5,6,7, \"Melissa\",\"Melissa\"])\n",
    "#there are repeated values. Set returns unique entity\n",
    "s"
   ]
  },
  {
   "cell_type": "code",
   "execution_count": 2,
   "id": "65792736",
   "metadata": {},
   "outputs": [
    {
     "ename": "TypeError",
     "evalue": "'set' object is not subscriptable",
     "output_type": "error",
     "traceback": [
      "\u001b[0;31m---------------------------------------------------------------------------\u001b[0m",
      "\u001b[0;31mTypeError\u001b[0m                                 Traceback (most recent call last)",
      "\u001b[0;32m/var/folders/pz/8fj7_jqs1_lglvwks1ym9jl40000gn/T/ipykernel_6150/855032432.py\u001b[0m in \u001b[0;36m<module>\u001b[0;34m\u001b[0m\n\u001b[1;32m      1\u001b[0m \u001b[0;31m#accessing set using index\u001b[0m\u001b[0;34m\u001b[0m\u001b[0;34m\u001b[0m\u001b[0;34m\u001b[0m\u001b[0m\n\u001b[0;32m----> 2\u001b[0;31m \u001b[0ms\u001b[0m\u001b[0;34m[\u001b[0m\u001b[0;36m0\u001b[0m\u001b[0;34m]\u001b[0m\u001b[0;34m\u001b[0m\u001b[0;34m\u001b[0m\u001b[0m\n\u001b[0m",
      "\u001b[0;31mTypeError\u001b[0m: 'set' object is not subscriptable"
     ]
    }
   ],
   "source": [
    "#accessing set using index\n",
    "s[0]"
   ]
  },
  {
   "cell_type": "code",
   "execution_count": 3,
   "id": "376e6632",
   "metadata": {},
   "outputs": [
    {
     "ename": "SyntaxError",
     "evalue": "invalid syntax (3584829723.py, line 2)",
     "output_type": "error",
     "traceback": [
      "\u001b[0;36m  File \u001b[0;32m\"/var/folders/pz/8fj7_jqs1_lglvwks1ym9jl40000gn/T/ipykernel_6150/3584829723.py\"\u001b[0;36m, line \u001b[0;32m2\u001b[0m\n\u001b[0;31m    s{0}\u001b[0m\n\u001b[0m     ^\u001b[0m\n\u001b[0;31mSyntaxError\u001b[0m\u001b[0;31m:\u001b[0m invalid syntax\n"
     ]
    }
   ],
   "source": [
    "#set is denoted by {}. can we fetch using {}? No\n",
    "s{0}"
   ]
  },
  {
   "cell_type": "code",
   "execution_count": 4,
   "id": "bd074037",
   "metadata": {},
   "outputs": [
    {
     "name": "stdout",
     "output_type": "stream",
     "text": [
      "1\n",
      "2\n",
      "3\n",
      "4\n",
      "5\n",
      "6\n",
      "7\n",
      "Melissa\n"
     ]
    }
   ],
   "source": [
    "for i in s:\n",
    "    print(i)"
   ]
  },
  {
   "cell_type": "code",
   "execution_count": 5,
   "id": "9c04553c",
   "metadata": {},
   "outputs": [
    {
     "data": {
      "text/plain": [
       "{1, 2, 3, 4, 5}"
      ]
     },
     "execution_count": 5,
     "metadata": {},
     "output_type": "execute_result"
    }
   ],
   "source": [
    "#passing tuple inside set. Even though it returns unique values\n",
    "\n",
    "d= set((1,2,3,1,2,3,4,4,5,5))\n",
    "d"
   ]
  },
  {
   "cell_type": "code",
   "execution_count": 6,
   "id": "30caee16",
   "metadata": {},
   "outputs": [],
   "source": [
    "#loophole: convert set into list\n",
    "l1= list(d)\n"
   ]
  },
  {
   "cell_type": "code",
   "execution_count": 7,
   "id": "e64a73ba",
   "metadata": {},
   "outputs": [
    {
     "data": {
      "text/plain": [
       "[5, 4, 3, 2, 1]"
      ]
     },
     "execution_count": 7,
     "metadata": {},
     "output_type": "execute_result"
    }
   ],
   "source": [
    "list(d)[::-1]"
   ]
  },
  {
   "cell_type": "code",
   "execution_count": 8,
   "id": "92e12083",
   "metadata": {},
   "outputs": [
    {
     "data": {
      "text/plain": [
       "[1, 2, 3, 4, 5]"
      ]
     },
     "execution_count": 8,
     "metadata": {},
     "output_type": "execute_result"
    }
   ],
   "source": [
    "l1"
   ]
  },
  {
   "cell_type": "code",
   "execution_count": 9,
   "id": "b53313ff",
   "metadata": {},
   "outputs": [
    {
     "data": {
      "text/plain": [
       "list"
      ]
     },
     "execution_count": 9,
     "metadata": {},
     "output_type": "execute_result"
    }
   ],
   "source": [
    "type(l1)"
   ]
  },
  {
   "cell_type": "code",
   "execution_count": 10,
   "id": "0b5469e5",
   "metadata": {},
   "outputs": [
    {
     "data": {
      "text/plain": [
       "[1, 'Melissa', 2, 3, 4, 5]"
      ]
     },
     "execution_count": 10,
     "metadata": {},
     "output_type": "execute_result"
    }
   ],
   "source": [
    "l1.insert(1,\"Melissa\")\n",
    "l1 "
   ]
  },
  {
   "cell_type": "code",
   "execution_count": 11,
   "id": "47a797db",
   "metadata": {},
   "outputs": [],
   "source": [
    "d=set(l1)"
   ]
  },
  {
   "cell_type": "code",
   "execution_count": 12,
   "id": "a0bc9609",
   "metadata": {},
   "outputs": [
    {
     "data": {
      "text/plain": [
       "{1, 2, 3, 4, 5, 'Melissa'}"
      ]
     },
     "execution_count": 12,
     "metadata": {},
     "output_type": "execute_result"
    }
   ],
   "source": [
    "d"
   ]
  },
  {
   "cell_type": "code",
   "execution_count": 13,
   "id": "fbda73a1",
   "metadata": {},
   "outputs": [
    {
     "data": {
      "text/plain": [
       "set"
      ]
     },
     "execution_count": 13,
     "metadata": {},
     "output_type": "execute_result"
    }
   ],
   "source": [
    "type(d)"
   ]
  },
  {
   "cell_type": "code",
   "execution_count": 14,
   "id": "ca887252",
   "metadata": {},
   "outputs": [
    {
     "data": {
      "text/plain": [
       "dict"
      ]
     },
     "execution_count": 14,
     "metadata": {},
     "output_type": "execute_result"
    }
   ],
   "source": [
    "b={} #assign empty { } for a var, it will be considered as dictionary data type not set\n",
    "type(b)"
   ]
  },
  {
   "cell_type": "code",
   "execution_count": 15,
   "id": "1652beda",
   "metadata": {},
   "outputs": [
    {
     "data": {
      "text/plain": [
       "{1, 2, 3, 4, 5}"
      ]
     },
     "execution_count": 15,
     "metadata": {},
     "output_type": "execute_result"
    }
   ],
   "source": [
    "c={1,2,3,3,3,4,4,5,5} #if I assign values inside curly braces, then it will be considered as set\n",
    "c"
   ]
  },
  {
   "cell_type": "code",
   "execution_count": 16,
   "id": "db31c107",
   "metadata": {},
   "outputs": [
    {
     "data": {
      "text/plain": [
       "set"
      ]
     },
     "execution_count": 16,
     "metadata": {},
     "output_type": "execute_result"
    }
   ],
   "source": [
    "type(c)"
   ]
  },
  {
   "cell_type": "code",
   "execution_count": 17,
   "id": "e03acad4",
   "metadata": {},
   "outputs": [
    {
     "data": {
      "text/plain": [
       "{1, 2, 3, 4, 5, 'Whisky'}"
      ]
     },
     "execution_count": 17,
     "metadata": {},
     "output_type": "execute_result"
    }
   ],
   "source": [
    "#we can add data using add\n",
    "c.add(\"Whisky\")\n",
    "c"
   ]
  },
  {
   "cell_type": "code",
   "execution_count": 18,
   "id": "f471d16b",
   "metadata": {},
   "outputs": [
    {
     "data": {
      "text/plain": [
       "1"
      ]
     },
     "execution_count": 18,
     "metadata": {},
     "output_type": "execute_result"
    }
   ],
   "source": [
    "c.pop() #queue: FIFO"
   ]
  },
  {
   "cell_type": "code",
   "execution_count": 19,
   "id": "e9a47647",
   "metadata": {},
   "outputs": [
    {
     "data": {
      "text/plain": [
       "{2, 3, 4, 5, 'Whisky'}"
      ]
     },
     "execution_count": 19,
     "metadata": {},
     "output_type": "execute_result"
    }
   ],
   "source": [
    "c #executed twice"
   ]
  },
  {
   "cell_type": "code",
   "execution_count": 20,
   "id": "c1fafde1",
   "metadata": {},
   "outputs": [
    {
     "ename": "TypeError",
     "evalue": "pop() takes no arguments (1 given)",
     "output_type": "error",
     "traceback": [
      "\u001b[0;31m---------------------------------------------------------------------------\u001b[0m",
      "\u001b[0;31mTypeError\u001b[0m                                 Traceback (most recent call last)",
      "\u001b[0;32m/var/folders/pz/8fj7_jqs1_lglvwks1ym9jl40000gn/T/ipykernel_6150/3478058251.py\u001b[0m in \u001b[0;36m<module>\u001b[0;34m\u001b[0m\n\u001b[1;32m      1\u001b[0m \u001b[0;31m#we can not pop out using index like we used to pop/delete in list\u001b[0m\u001b[0;34m\u001b[0m\u001b[0;34m\u001b[0m\u001b[0;34m\u001b[0m\u001b[0m\n\u001b[0;32m----> 2\u001b[0;31m \u001b[0mc\u001b[0m\u001b[0;34m.\u001b[0m\u001b[0mpop\u001b[0m\u001b[0;34m(\u001b[0m\u001b[0;36m2\u001b[0m\u001b[0;34m)\u001b[0m\u001b[0;34m\u001b[0m\u001b[0;34m\u001b[0m\u001b[0m\n\u001b[0m",
      "\u001b[0;31mTypeError\u001b[0m: pop() takes no arguments (1 given)"
     ]
    }
   ],
   "source": [
    "#we can not pop out using index like we used to pop/delete in list\n",
    "c.pop(2)"
   ]
  },
  {
   "cell_type": "code",
   "execution_count": 21,
   "id": "765182e8",
   "metadata": {},
   "outputs": [
    {
     "data": {
      "text/plain": [
       "{1, 123, 2, 3, 32, 6, 65, 7, 8, 'Coco', 'Picu', 'Whisky'}"
      ]
     },
     "execution_count": 21,
     "metadata": {},
     "output_type": "execute_result"
    }
   ],
   "source": [
    "#set sorts the elements even with letter. it wont sort numbers with respect to values, it will sort with respect\n",
    "# to numbers. For instance as shown, 123 comes after 1. 65 comes after 6\n",
    "\n",
    "s2={1,2,3,65,32,123,7,6,7,1,2,8,8,\"Whisky\",\"Picu\",\"Coco\"}\n",
    "s2"
   ]
  },
  {
   "cell_type": "code",
   "execution_count": 22,
   "id": "c513ef1d",
   "metadata": {},
   "outputs": [
    {
     "ename": "TypeError",
     "evalue": "unhashable type: 'list'",
     "output_type": "error",
     "traceback": [
      "\u001b[0;31m---------------------------------------------------------------------------\u001b[0m",
      "\u001b[0;31mTypeError\u001b[0m                                 Traceback (most recent call last)",
      "\u001b[0;32m/var/folders/pz/8fj7_jqs1_lglvwks1ym9jl40000gn/T/ipykernel_6150/3504860612.py\u001b[0m in \u001b[0;36m<module>\u001b[0;34m\u001b[0m\n\u001b[1;32m      2\u001b[0m \u001b[0;31m#in previous code, I have passes list inside set using set function set(), it is possible but not with {}\u001b[0m\u001b[0;34m\u001b[0m\u001b[0;34m\u001b[0m\u001b[0;34m\u001b[0m\u001b[0m\n\u001b[1;32m      3\u001b[0m \u001b[0;34m\u001b[0m\u001b[0m\n\u001b[0;32m----> 4\u001b[0;31m \u001b[0ms3\u001b[0m\u001b[0;34m=\u001b[0m\u001b[0;34m{\u001b[0m\u001b[0;36m1\u001b[0m\u001b[0;34m,\u001b[0m\u001b[0;36m2\u001b[0m\u001b[0;34m,\u001b[0m\u001b[0;36m3\u001b[0m\u001b[0;34m,\u001b[0m\u001b[0;36m65\u001b[0m\u001b[0;34m,\u001b[0m\u001b[0;36m32\u001b[0m\u001b[0;34m,\u001b[0m\u001b[0;36m123\u001b[0m\u001b[0;34m,\u001b[0m\u001b[0;36m7\u001b[0m\u001b[0;34m,\u001b[0m\u001b[0;36m6\u001b[0m\u001b[0;34m,\u001b[0m\u001b[0;36m7\u001b[0m\u001b[0;34m,\u001b[0m\u001b[0;36m1\u001b[0m\u001b[0;34m,\u001b[0m\u001b[0;36m2\u001b[0m\u001b[0;34m,\u001b[0m\u001b[0;36m8\u001b[0m\u001b[0;34m,\u001b[0m\u001b[0;36m8\u001b[0m\u001b[0;34m,\u001b[0m\u001b[0;34m\"Whisky\"\u001b[0m\u001b[0;34m,\u001b[0m\u001b[0;34m\"Picu\"\u001b[0m\u001b[0;34m,\u001b[0m\u001b[0;34m\"Coco\"\u001b[0m\u001b[0;34m,\u001b[0m \u001b[0;34m[\u001b[0m\u001b[0;36m1\u001b[0m\u001b[0;34m,\u001b[0m\u001b[0;36m2\u001b[0m\u001b[0;34m,\u001b[0m\u001b[0;36m3\u001b[0m\u001b[0;34m,\u001b[0m\u001b[0;36m4\u001b[0m\u001b[0;34m]\u001b[0m\u001b[0;34m}\u001b[0m\u001b[0;34m\u001b[0m\u001b[0;34m\u001b[0m\u001b[0m\n\u001b[0m",
      "\u001b[0;31mTypeError\u001b[0m: unhashable type: 'list'"
     ]
    }
   ],
   "source": [
    "#here I am passing list inside set which is denoted by {}. I'll get an error\n",
    "#in previous code, I have passes list inside set using set function set(), it is possible but not with {}\n",
    "\n",
    "s3={1,2,3,65,32,123,7,6,7,1,2,8,8,\"Whisky\",\"Picu\",\"Coco\", [1,2,3,4]}"
   ]
  },
  {
   "cell_type": "code",
   "execution_count": 23,
   "id": "edf6acb4",
   "metadata": {},
   "outputs": [
    {
     "name": "stdout",
     "output_type": "stream",
     "text": [
      "32\n",
      "65\n",
      "1\n",
      "2\n",
      "3\n",
      "Picu\n",
      "6\n",
      "7\n",
      "8\n",
      "Whisky\n",
      "Coco\n",
      "123\n"
     ]
    }
   ],
   "source": [
    "# we can not fetch (not delete) element in set using index method. Loophole: we can use for loop\n",
    "\n",
    "for i in s2:\n",
    "    print(i)"
   ]
  },
  {
   "cell_type": "markdown",
   "id": "67c523f2",
   "metadata": {},
   "source": [
    "Dictionary\n",
    "\n",
    "*In english dictionary, we have a word which is mentioned just once(not meaning) and that word is unique\n",
    "Map: map takes a key and pair it with a value\n",
    "\n",
    "*Key is unique. Value can be different. \n",
    "Ex: in englist dictionary for the word Bat: animal and also cricket bat\n",
    "\n",
    "* Dictionary dataset has key: value \n",
    "\n",
    "* Keys are case sensitive\n",
    "* Keys cant be special character\n",
    "* Keys cant be a list\n",
    "\n",
    "Values\n",
    "* value can be a list, nested list, tuples,set, dictionary itself"
   ]
  },
  {
   "cell_type": "code",
   "execution_count": 24,
   "id": "6e6c24db",
   "metadata": {},
   "outputs": [
    {
     "data": {
      "text/plain": [
       "{'Name': 'Melissa', 'surname': 'Vidiera'}"
      ]
     },
     "execution_count": 24,
     "metadata": {},
     "output_type": "execute_result"
    }
   ],
   "source": [
    "d={\"Name\": \"Melissa\", \"surname\":\"Vidiera\"}\n",
    "d\n"
   ]
  },
  {
   "cell_type": "code",
   "execution_count": 86,
   "id": "57f16c14",
   "metadata": {},
   "outputs": [
    {
     "data": {
      "text/plain": [
       "dict_items([('Name', 'Melissa'), ('surname', 'Vidiera')])"
      ]
     },
     "execution_count": 86,
     "metadata": {},
     "output_type": "execute_result"
    }
   ],
   "source": [
    "d.items()"
   ]
  },
  {
   "cell_type": "code",
   "execution_count": 25,
   "id": "e569dfd3",
   "metadata": {},
   "outputs": [
    {
     "data": {
      "text/plain": [
       "{'Name': 'Whisky', 'surname': 'Vidiera'}"
      ]
     },
     "execution_count": 25,
     "metadata": {},
     "output_type": "execute_result"
    }
   ],
   "source": [
    "d1={\"Name\": \"Melissa\", \"surname\":\"Vidiera\",\"Name\":\"Whisky\"}\n",
    "d1\n",
    "#duplicate key is not allowed. I have 2 keys called Keys. I wont get an error. \n",
    "#new value will be overridden to the unique key \"name\". that is the latest value for a unique key is overridden/replaced\n"
   ]
  },
  {
   "cell_type": "code",
   "execution_count": 26,
   "id": "69d61a12",
   "metadata": {},
   "outputs": [
    {
     "data": {
      "text/plain": [
       "{'Name': 'Whisky', 'surname': 'Vidiera', 'Drink': 'Whisky'}"
      ]
     },
     "execution_count": 26,
     "metadata": {},
     "output_type": "execute_result"
    }
   ],
   "source": [
    "d2={\"Name\": \"Melissa\", \"surname\":\"Vidiera\",\"Name\":\"Whisky\",\"Drink\": \"Whisky\"}\n",
    "d2\n",
    "#value whisky displays twice with different keys"
   ]
  },
  {
   "cell_type": "code",
   "execution_count": 27,
   "id": "9b880782",
   "metadata": {},
   "outputs": [
    {
     "data": {
      "text/plain": [
       "{'surname': 'Vidiera', 'Name': 'Whisky', 'name': 'Coco'}"
      ]
     },
     "execution_count": 27,
     "metadata": {},
     "output_type": "execute_result"
    }
   ],
   "source": [
    "#keys are case sensitive\n",
    "d3={\"surname\":\"Vidiera\",\"Name\":\"Whisky\", \"name\": \"Coco\"}\n",
    "d3"
   ]
  },
  {
   "cell_type": "code",
   "execution_count": 28,
   "id": "6ad0812a",
   "metadata": {},
   "outputs": [
    {
     "ename": "SyntaxError",
     "evalue": "unexpected EOF while parsing (1343205353.py, line 5)",
     "output_type": "error",
     "traceback": [
      "\u001b[0;36m  File \u001b[0;32m\"/var/folders/pz/8fj7_jqs1_lglvwks1ym9jl40000gn/T/ipykernel_6150/1343205353.py\"\u001b[0;36m, line \u001b[0;32m5\u001b[0m\n\u001b[0;31m    \u001b[0m\n\u001b[0m    ^\u001b[0m\n\u001b[0;31mSyntaxError\u001b[0m\u001b[0;31m:\u001b[0m unexpected EOF while parsing\n"
     ]
    }
   ],
   "source": [
    "#keys cant be special character, but special characters as key can be enclosed within quotes\n",
    "\n",
    "d4={\"Name\": \"Melissa\", \"surname\":\"Vidiera\",\"Name\":\"Whisky\",##Drink: \"Whisky\"}\n",
    "d4\n",
    "    "
   ]
  },
  {
   "cell_type": "code",
   "execution_count": 29,
   "id": "b16bc2cc",
   "metadata": {},
   "outputs": [
    {
     "ename": "TypeError",
     "evalue": "unhashable type: 'list'",
     "output_type": "error",
     "traceback": [
      "\u001b[0;31m---------------------------------------------------------------------------\u001b[0m",
      "\u001b[0;31mTypeError\u001b[0m                                 Traceback (most recent call last)",
      "\u001b[0;32m/var/folders/pz/8fj7_jqs1_lglvwks1ym9jl40000gn/T/ipykernel_6150/1531099181.py\u001b[0m in \u001b[0;36m<module>\u001b[0;34m\u001b[0m\n\u001b[0;32m----> 1\u001b[0;31m \u001b[0md5\u001b[0m\u001b[0;34m=\u001b[0m\u001b[0;34m{\u001b[0m\u001b[0;34m\"Name\"\u001b[0m\u001b[0;34m:\u001b[0m \u001b[0;34m\"Melissa\"\u001b[0m\u001b[0;34m,\u001b[0m \u001b[0;34m\"surname\"\u001b[0m\u001b[0;34m:\u001b[0m\u001b[0;34m\"Vidiera\"\u001b[0m\u001b[0;34m,\u001b[0m\u001b[0;34m[\u001b[0m\u001b[0;36m1\u001b[0m\u001b[0;34m,\u001b[0m\u001b[0;36m2\u001b[0m\u001b[0;34m]\u001b[0m\u001b[0;34m:\u001b[0m \u001b[0;34m\"Whisky\"\u001b[0m\u001b[0;34m}\u001b[0m\u001b[0;34m\u001b[0m\u001b[0;34m\u001b[0m\u001b[0m\n\u001b[0m\u001b[1;32m      2\u001b[0m \u001b[0md5\u001b[0m\u001b[0;34m\u001b[0m\u001b[0;34m\u001b[0m\u001b[0m\n",
      "\u001b[0;31mTypeError\u001b[0m: unhashable type: 'list'"
     ]
    }
   ],
   "source": [
    "d5={\"Name\": \"Melissa\", \"surname\":\"Vidiera\",[1,2]: \"Whisky\"}\n",
    "d5"
   ]
  },
  {
   "cell_type": "code",
   "execution_count": 46,
   "id": "4e99da83",
   "metadata": {},
   "outputs": [
    {
     "data": {
      "text/plain": [
       "{'key1': [1, 2, 3],\n",
       " 'key2': [1, 2, 3, [1, 1, 2]],\n",
       " 'key3': ('x', 'y', 'z'),\n",
       " 'key4': {1, 2, 3},\n",
       " 'key5': {'k': 'v', 'k1': 'v1'}}"
      ]
     },
     "execution_count": 46,
     "metadata": {},
     "output_type": "execute_result"
    }
   ],
   "source": [
    "#different data types of values\n",
    "\n",
    "d6= {\"key1\":[1,2,3], \"key2\" : [1,2,3,[1,1,2]],\"key3\":('x','y','z'),\"key4\":{1,2,3},\"key5\":{\"k\":\"v\",\"k1\":\"v1\"}}\n",
    "d6\n",
    "\n",
    "#I got an error \"key2\" : [1,2,3,[1,1,2]] missed comma in between 3 and [1,2,3] "
   ]
  },
  {
   "cell_type": "code",
   "execution_count": 48,
   "id": "d48be5fa",
   "metadata": {},
   "outputs": [
    {
     "ename": "KeyError",
     "evalue": "0",
     "output_type": "error",
     "traceback": [
      "\u001b[0;31m---------------------------------------------------------------------------\u001b[0m",
      "\u001b[0;31mKeyError\u001b[0m                                  Traceback (most recent call last)",
      "\u001b[0;32m/var/folders/pz/8fj7_jqs1_lglvwks1ym9jl40000gn/T/ipykernel_6150/999493341.py\u001b[0m in \u001b[0;36m<module>\u001b[0;34m\u001b[0m\n\u001b[1;32m      2\u001b[0m \u001b[0;34m\u001b[0m\u001b[0m\n\u001b[1;32m      3\u001b[0m \u001b[0;31m#using index\u001b[0m\u001b[0;34m\u001b[0m\u001b[0;34m\u001b[0m\u001b[0;34m\u001b[0m\u001b[0m\n\u001b[0;32m----> 4\u001b[0;31m \u001b[0md6\u001b[0m\u001b[0;34m[\u001b[0m\u001b[0;36m0\u001b[0m\u001b[0;34m]\u001b[0m\u001b[0;34m\u001b[0m\u001b[0;34m\u001b[0m\u001b[0m\n\u001b[0m\u001b[1;32m      5\u001b[0m \u001b[0;31m# we wll get error\u001b[0m\u001b[0;34m\u001b[0m\u001b[0;34m\u001b[0m\u001b[0;34m\u001b[0m\u001b[0m\n",
      "\u001b[0;31mKeyError\u001b[0m: 0"
     ]
    }
   ],
   "source": [
    "# to access element in dictionary \n",
    "\n",
    "#using index\n",
    "d6[0]\n",
    "# we wll get error"
   ]
  },
  {
   "cell_type": "code",
   "execution_count": 49,
   "id": "5ed6c081",
   "metadata": {},
   "outputs": [
    {
     "data": {
      "text/plain": [
       "[1, 2, 3]"
      ]
     },
     "execution_count": 49,
     "metadata": {},
     "output_type": "execute_result"
    }
   ],
   "source": [
    "# dict will store in form of keys not indices\n",
    "d6[\"key1\"]"
   ]
  },
  {
   "cell_type": "code",
   "execution_count": 50,
   "id": "8ba1c3d5",
   "metadata": {},
   "outputs": [
    {
     "data": {
      "text/plain": [
       "2"
      ]
     },
     "execution_count": 50,
     "metadata": {},
     "output_type": "execute_result"
    }
   ],
   "source": [
    "# to access an element within list inside dict\n",
    "d6[\"key1\"][1]\n",
    "\n",
    "#these will work with respect to list but not for tuple and set\n"
   ]
  },
  {
   "cell_type": "code",
   "execution_count": 51,
   "id": "dc55a3ae",
   "metadata": {},
   "outputs": [
    {
     "data": {
      "text/plain": [
       "{'k': 'v', 'k1': 'v1'}"
      ]
     },
     "execution_count": 51,
     "metadata": {},
     "output_type": "execute_result"
    }
   ],
   "source": [
    "# to access an element within dict inside dict\n",
    "d6[\"key5\"]"
   ]
  },
  {
   "cell_type": "code",
   "execution_count": 52,
   "id": "bd2ac0dc",
   "metadata": {},
   "outputs": [
    {
     "data": {
      "text/plain": [
       "dict"
      ]
     },
     "execution_count": 52,
     "metadata": {},
     "output_type": "execute_result"
    }
   ],
   "source": [
    "type(d6[\"key5\"])"
   ]
  },
  {
   "cell_type": "code",
   "execution_count": 53,
   "id": "9200f3a9",
   "metadata": {},
   "outputs": [
    {
     "data": {
      "text/plain": [
       "'v1'"
      ]
     },
     "execution_count": 53,
     "metadata": {},
     "output_type": "execute_result"
    }
   ],
   "source": [
    "#key of key\n",
    "d6[\"key5\"]['k1']"
   ]
  },
  {
   "cell_type": "code",
   "execution_count": 54,
   "id": "fe752695",
   "metadata": {},
   "outputs": [
    {
     "name": "stdout",
     "output_type": "stream",
     "text": [
      "key1\n",
      "key2\n",
      "key3\n",
      "key4\n",
      "key5\n"
     ]
    }
   ],
   "source": [
    "#applying for in dictionary\n",
    "for i in d6:\n",
    "    print(i)\n",
    "    #we are not getting key value pairs. instead we are just getting keys"
   ]
  },
  {
   "cell_type": "code",
   "execution_count": 55,
   "id": "2ce9d218",
   "metadata": {},
   "outputs": [
    {
     "name": "stdout",
     "output_type": "stream",
     "text": [
      "[1, 2, 3]\n",
      "[1, 2, 3, [1, 1, 2]]\n",
      "('x', 'y', 'z')\n",
      "{1, 2, 3}\n",
      "{'k': 'v', 'k1': 'v1'}\n"
     ]
    }
   ],
   "source": [
    "#to get values\n",
    "for i in d6:\n",
    "    print(d6[i])"
   ]
  },
  {
   "cell_type": "code",
   "execution_count": 56,
   "id": "f8364787",
   "metadata": {},
   "outputs": [
    {
     "data": {
      "text/plain": [
       "dict_keys(['key1', 'key2', 'key3', 'key4', 'key5'])"
      ]
     },
     "execution_count": 56,
     "metadata": {},
     "output_type": "execute_result"
    }
   ],
   "source": [
    "#instead of iterating over dictionary, we can iterate over keys to get values\n",
    "\n",
    "d6.keys()"
   ]
  },
  {
   "cell_type": "code",
   "execution_count": 57,
   "id": "7696610e",
   "metadata": {},
   "outputs": [
    {
     "name": "stdout",
     "output_type": "stream",
     "text": [
      "[1, 2, 3]\n",
      "[1, 2, 3, [1, 1, 2]]\n",
      "('x', 'y', 'z')\n",
      "{1, 2, 3}\n",
      "{'k': 'v', 'k1': 'v1'}\n"
     ]
    }
   ],
   "source": [
    "for i in d6.keys():\n",
    "    print(d6[i])"
   ]
  },
  {
   "cell_type": "code",
   "execution_count": 58,
   "id": "eb38eb1d",
   "metadata": {},
   "outputs": [
    {
     "data": {
      "text/plain": [
       "dict_values([[1, 2, 3], [1, 2, 3, [1, 1, 2]], ('x', 'y', 'z'), {1, 2, 3}, {'k': 'v', 'k1': 'v1'}])"
      ]
     },
     "execution_count": 58,
     "metadata": {},
     "output_type": "execute_result"
    }
   ],
   "source": [
    "d6.values()"
   ]
  },
  {
   "cell_type": "code",
   "execution_count": 59,
   "id": "0c42ee3a",
   "metadata": {},
   "outputs": [
    {
     "data": {
      "text/plain": [
       "[('x', 'y', 'z')]"
      ]
     },
     "execution_count": 59,
     "metadata": {},
     "output_type": "execute_result"
    }
   ],
   "source": [
    "#extract tuple data and try to store the data within the tuple\n",
    "# we have (x,y,z) a tuple. \n",
    "\n",
    "#without j loop \n",
    "\n",
    "m=[]\n",
    "for i in d6.values():\n",
    "    if type(i)==tuple:\n",
    "       # for j in i:\n",
    "        m.append(i)\n",
    "        \n",
    "m # returns dict element within the list m, if 2nd loop isnt applied "
   ]
  },
  {
   "cell_type": "code",
   "execution_count": 62,
   "id": "74eda86b",
   "metadata": {},
   "outputs": [
    {
     "data": {
      "text/plain": [
       "['x', 'y', 'z']"
      ]
     },
     "execution_count": 62,
     "metadata": {},
     "output_type": "execute_result"
    }
   ],
   "source": [
    "#tuple value is (x,y,z), first loop extract the values within the dict, second loop extract values within the tuple\n",
    "#m is giving me elements of tuple as list because we have declared m in list. \n",
    "\n",
    "m=[]\n",
    "for i in d6.values():\n",
    "    if type(i)==tuple:\n",
    "        for j in i:\n",
    "            m.append(j)\n",
    "        \n",
    "m"
   ]
  },
  {
   "cell_type": "code",
   "execution_count": 64,
   "id": "b8a2fdd9",
   "metadata": {},
   "outputs": [
    {
     "data": {
      "text/plain": [
       "{'key1': [1, 2, 3],\n",
       " 'key2': [1, 2, 3, [1, 1, 2]],\n",
       " 'key3': ('x', 'y', 'z'),\n",
       " 'key4': {1, 2, 3},\n",
       " 'key5': {'k': 'v', 'k1': 'v1'},\n",
       " 'Key6': 'this is my new data'}"
      ]
     },
     "execution_count": 64,
     "metadata": {},
     "output_type": "execute_result"
    }
   ],
   "source": [
    "# to add new key value pair inside dict \n",
    "# can do add method. shown one is the simpler way\n",
    "\n",
    "d6['Key6']=\"this is my new data\"\n",
    "d6"
   ]
  },
  {
   "cell_type": "code",
   "execution_count": 65,
   "id": "7f244877",
   "metadata": {},
   "outputs": [
    {
     "data": {
      "text/plain": [
       "{'key1': 'Key overriding. Value editng',\n",
       " 'key2': [1, 2, 3, [1, 1, 2]],\n",
       " 'key3': ('x', 'y', 'z'),\n",
       " 'key4': {1, 2, 3},\n",
       " 'key5': {'k': 'v', 'k1': 'v1'},\n",
       " 'Key6': 'this is my new data'}"
      ]
     },
     "execution_count": 65,
     "metadata": {},
     "output_type": "execute_result"
    }
   ],
   "source": [
    "#reassigning or editind values within dict\n",
    "\n",
    "d6['key1']=\"Key overriding. Value editng\"\n",
    "d6"
   ]
  },
  {
   "cell_type": "markdown",
   "id": "766c95ca",
   "metadata": {},
   "source": [
    "Dictionary comprehension operation: performing multi line task into single line\n"
   ]
  },
  {
   "cell_type": "code",
   "execution_count": 68,
   "id": "addabde7",
   "metadata": {},
   "outputs": [
    {
     "data": {
      "text/plain": [
       "{0: 0, 1: 1, 2: 4, 3: 9, 4: 16, 5: 25, 6: 36, 7: 49, 8: 64, 9: 81}"
      ]
     },
     "execution_count": 68,
     "metadata": {},
     "output_type": "execute_result"
    }
   ],
   "source": [
    "#create dict where key is int and value is square of int. create 10 KV pair\n",
    "\n",
    "d7={}\n",
    "\n",
    "for i in range(10):\n",
    "    d7[i]= i**2  #** is power and * is multiplication\n",
    "    \n",
    "d7"
   ]
  },
  {
   "cell_type": "code",
   "execution_count": 76,
   "id": "b1f7eae5",
   "metadata": {},
   "outputs": [
    {
     "data": {
      "text/plain": [
       "{0: 0, 1: 1, 2: 4, 3: 9, 4: 16, 5: 25, 6: 36, 7: 49, 8: 64, 9: 81}"
      ]
     },
     "execution_count": 76,
     "metadata": {},
     "output_type": "execute_result"
    }
   ],
   "source": [
    "{i:i**2 for i in range(10)}\n",
    "\n",
    "#there is no need of assigning to that dict. \n",
    "# we have to return dict so use {}, then write a for loop inside {}. Next statement that is computation \n",
    "# write it before the for loop. we use : instead of ="
   ]
  },
  {
   "cell_type": "code",
   "execution_count": 71,
   "id": "76550afa",
   "metadata": {},
   "outputs": [
    {
     "data": {
      "text/plain": [
       "{'Melissa': 'MELISSA',\n",
       " 'Whisky': 'WHISKY',\n",
       " 'Coco': 'COCO',\n",
       " 'Picu': 'PICU',\n",
       " 'Vidiera': 'VIDIERA'}"
      ]
     },
     "execution_count": 71,
     "metadata": {},
     "output_type": "execute_result"
    }
   ],
   "source": [
    "#create dict where key is the element in the list and value will be the uppercase of that ele in the list\n",
    "  \n",
    "l= ['Melissa','Whisky','Coco','Picu','Vidiera']\n",
    "d8={}\n",
    "\n",
    "for i in l:\n",
    "    d8[i]= i.upper()\n",
    "    \n",
    "d8"
   ]
  },
  {
   "cell_type": "code",
   "execution_count": 84,
   "id": "7a7d1841",
   "metadata": {},
   "outputs": [
    {
     "data": {
      "text/plain": [
       "{'Melissa': 'MELISSA',\n",
       " 'Whisky': 'WHISKY',\n",
       " 'Coco': 'COCO',\n",
       " 'Picu': 'PICU',\n",
       " 'Vidiera': 'VIDIERA'}"
      ]
     },
     "execution_count": 84,
     "metadata": {},
     "output_type": "execute_result"
    }
   ],
   "source": [
    "\n",
    "{i:i.upper() for i in l}\n",
    "\n",
    "#mistake I made, {d8[i]:i.upper() for i in l1}"
   ]
  },
  {
   "cell_type": "code",
   "execution_count": 73,
   "id": "ec38dd37",
   "metadata": {},
   "outputs": [
    {
     "data": {
      "text/plain": [
       "{'Melissa': False,\n",
       " 'Whisky': False,\n",
       " 'Coco': False,\n",
       " 'Picu': False,\n",
       " 'Vidiera': False}"
      ]
     },
     "execution_count": 73,
     "metadata": {},
     "output_type": "execute_result"
    }
   ],
   "source": [
    "#create key value pair and key is the data and value should be the result of function isupper/is lower\n",
    "\n",
    "d8={}\n",
    "\n",
    "for i in l:\n",
    "    d8[i]= i.islower()\n",
    "    \n",
    "d8"
   ]
  },
  {
   "cell_type": "code",
   "execution_count": 85,
   "id": "2099f933",
   "metadata": {},
   "outputs": [
    {
     "data": {
      "text/plain": [
       "{'Melissa': False,\n",
       " 'Whisky': False,\n",
       " 'Coco': False,\n",
       " 'Picu': False,\n",
       " 'Vidiera': False}"
      ]
     },
     "execution_count": 85,
     "metadata": {},
     "output_type": "execute_result"
    }
   ],
   "source": [
    "{i:i.islower() for i in l}"
   ]
  },
  {
   "cell_type": "code",
   "execution_count": null,
   "id": "c8ccdfb0",
   "metadata": {},
   "outputs": [],
   "source": []
  }
 ],
 "metadata": {
  "kernelspec": {
   "display_name": "Python 3 (ipykernel)",
   "language": "python",
   "name": "python3"
  },
  "language_info": {
   "codemirror_mode": {
    "name": "ipython",
    "version": 3
   },
   "file_extension": ".py",
   "mimetype": "text/x-python",
   "name": "python",
   "nbconvert_exporter": "python",
   "pygments_lexer": "ipython3",
   "version": "3.8.8"
  }
 },
 "nbformat": 4,
 "nbformat_minor": 5
}
