{
 "cells": [
  {
   "cell_type": "markdown",
   "id": "98f93f37",
   "metadata": {},
   "source": [
    "sqlite is a database storage engine, which can be better compared with things such as MySQL, PostgreSQL, Oracle, MSSQL, etc. It is used to store and retrieve structured data from files.\n",
    "\n",
    "SQLAlchemy is a Python library that provides an object relational mapper (ORM). OOP concept\n",
    "\n",
    "It does what it suggests: it maps your databases (tables, etc.) to Python objects, so that you can more easily and natively interact with them. SQLAlchemy can be used with sqlite, MySQL, PostgreSQL, etc.\n",
    "\n",
    "So, an ORM provides a set of tools that let you interact with your database models consistently across database engines.\n",
    "\n"
   ]
  },
  {
   "cell_type": "code",
   "execution_count": 1,
   "id": "01c57726",
   "metadata": {},
   "outputs": [],
   "source": [
    "import sqlite3"
   ]
  },
  {
   "cell_type": "code",
   "execution_count": 18,
   "id": "c78cb067",
   "metadata": {},
   "outputs": [],
   "source": [
    "#after importing establish connection/communication btw Python IDE and DataBase\n",
    "# c is used to establish conn\n",
    "\n",
    "c= sqlite3.connect(\"Melissa2\")\n",
    "#Melissa is database which is created. \n"
   ]
  },
  {
   "cell_type": "markdown",
   "id": "9f47236d",
   "metadata": {},
   "source": [
    "in terminal type >> melissavidiera$ sqlite3\n",
    "\n",
    "SQLite version 3.36.0 2021-06-18 18:36:39\n",
    "\n",
    "Enter \".help\" for usage hints.\n",
    "\n",
    "Connected to a transient in-memory database.\n",
    "\n",
    "Use \".open FILENAME\" to reopen on a persistent database.\n"
   ]
  },
  {
   "cell_type": "code",
   "execution_count": null,
   "id": "cc60bb11",
   "metadata": {},
   "outputs": [],
   "source": []
  },
  {
   "cell_type": "code",
   "execution_count": 12,
   "id": "38bff79d",
   "metadata": {},
   "outputs": [
    {
     "data": {
      "text/plain": [
       "<sqlite3.Cursor at 0x7fa60302de30>"
      ]
     },
     "execution_count": 12,
     "metadata": {},
     "output_type": "execute_result"
    }
   ],
   "source": [
    "c.execute('Drop table if exists Melissa2') #execute one line use c.execute. may- executemany\n",
    "#sql command is passed as argument. \n",
    "#check Melissa DB exists, if does then drop "
   ]
  },
  {
   "cell_type": "code",
   "execution_count": 38,
   "id": "59680706",
   "metadata": {},
   "outputs": [],
   "source": [
    "c= sqlite3.connect(\"Melissa6\")"
   ]
  },
  {
   "cell_type": "code",
   "execution_count": 39,
   "id": "3e59064e",
   "metadata": {},
   "outputs": [
    {
     "data": {
      "text/plain": [
       "<sqlite3.Cursor at 0x7fa60302dc00>"
      ]
     },
     "execution_count": 39,
     "metadata": {},
     "output_type": "execute_result"
    }
   ],
   "source": [
    "c.execute(\"create table Melissa5(id int, name text, score int)\")\n",
    "# create table <table name><(create id, name and score col)>\n",
    "#<(col name1 data type, col name2 data type)"
   ]
  },
  {
   "cell_type": "markdown",
   "id": "75d5eb92",
   "metadata": {},
   "source": [
    "Now check documents, you can find file Melissa Database created with no extension\n",
    "\n",
    "After opening-- melissavidiera$ sqlite3\n",
    "SQLite version 3.36.0 2021-06-18 18:36:39\n",
    "Enter \".help\" for usage hints.\n",
    "Connected to a transient in-memory database.\n",
    "Use \".open FILENAME\" to reopen on a persistent database.\n",
    "\n",
    "I can not open DB as I have no compatible app\n",
    "\n",
    "\n",
    "To check contents of my database, google database browser \n",
    "https://sqlitebrowser.org/ and download app \n",
    "\n",
    "Open-> selectDB we have created\n",
    "\n",
    "Check DB in DB structure tab. \n",
    "to view tablular data, click on Browse data\n",
    "\n",
    "\n",
    "Instead of creating DB in here or using python, I can directly create in the app\n",
    "\n",
    "click on Execue SQL-> create table whisky(Age int, Weight int, cuteness int)\n",
    "\n"
   ]
  },
  {
   "cell_type": "code",
   "execution_count": 25,
   "id": "2f27c25c",
   "metadata": {},
   "outputs": [
    {
     "data": {
      "text/plain": [
       "<sqlite3.Cursor at 0x7fa6031c5f10>"
      ]
     },
     "execution_count": 25,
     "metadata": {},
     "output_type": "execute_result"
    }
   ],
   "source": [
    "# to insert data in DB\n",
    "\n",
    "c.execute(\"insert into Melissa1(id, name, score) values(1, 'Melisa', 1000)\")\n",
    "\n",
    "#error : database is locked. I guess we get this error if we view DB in app\n",
    "#so write code again with dfferent DB name\n",
    "#c= sqlite3.connect(\"Melissa2\") before it was Melissa and execute this\n",
    "#c.execute(\"create table Melissa1(.. again "
   ]
  },
  {
   "cell_type": "code",
   "execution_count": 27,
   "id": "ede09f43",
   "metadata": {},
   "outputs": [],
   "source": [
    "c.commit()\n",
    "#\n"
   ]
  },
  {
   "cell_type": "code",
   "execution_count": 28,
   "id": "8d1ff72c",
   "metadata": {},
   "outputs": [
    {
     "ename": "OperationalError",
     "evalue": "no such table: whisky",
     "output_type": "error",
     "traceback": [
      "\u001b[0;31m---------------------------------------------------------------------------\u001b[0m",
      "\u001b[0;31mOperationalError\u001b[0m                          Traceback (most recent call last)",
      "\u001b[0;32m/var/folders/pz/8fj7_jqs1_lglvwks1ym9jl40000gn/T/ipykernel_3384/2054715909.py\u001b[0m in \u001b[0;36m<module>\u001b[0;34m\u001b[0m\n\u001b[0;32m----> 1\u001b[0;31m \u001b[0mc\u001b[0m\u001b[0;34m.\u001b[0m\u001b[0mexecute\u001b[0m\u001b[0;34m(\u001b[0m\u001b[0;34m\"insert into whisky(age, weight, cuteness) values(5, 28, 1000)\"\u001b[0m\u001b[0;34m)\u001b[0m\u001b[0;34m\u001b[0m\u001b[0;34m\u001b[0m\u001b[0m\n\u001b[0m",
      "\u001b[0;31mOperationalError\u001b[0m: no such table: whisky"
     ]
    }
   ],
   "source": [
    "c.execute(\"insert into whisky(age, weight, cuteness) values(5, 28, 1000)\")"
   ]
  },
  {
   "cell_type": "code",
   "execution_count": 40,
   "id": "754e1a1e",
   "metadata": {},
   "outputs": [
    {
     "data": {
      "text/plain": [
       "<sqlite3.Cursor at 0x7fa5fdc5db20>"
      ]
     },
     "execution_count": 40,
     "metadata": {},
     "output_type": "execute_result"
    }
   ],
   "source": [
    "c.execute(\"insert into Melissa5(id, name, score) values(861, 'Melisa', 100)\")\n",
    "c.execute(\"insert into Melissa5(id, name, score) values(1648, 'Melisa', 10)\")\n",
    "c.execute(\"insert into Melissa5(id, name, score) values(1456, 'Melisa', 100)\")\n",
    "c.execute(\"insert into Melissa5(id, name, score) values(178, 'Melisa', 1)\")\n",
    "c.execute(\"insert into Melissa5(id, name, score) values(145, 'Melisa', 1000)\")\n",
    "c.execute(\"insert into Melissa5(id, name, score) values(15, 'Melisa', 10)\")\n",
    "c.execute(\"insert into Melissa5(id, name, score) values(17, 'Melisa', 1000)\")\n"
   ]
  },
  {
   "cell_type": "code",
   "execution_count": 41,
   "id": "3de3bf05",
   "metadata": {},
   "outputs": [],
   "source": [
    "c.commit() #to save it "
   ]
  },
  {
   "cell_type": "code",
   "execution_count": 44,
   "id": "fdbd874c",
   "metadata": {},
   "outputs": [
    {
     "data": {
      "text/plain": [
       "<sqlite3.Cursor at 0x7fa6031c5030>"
      ]
     },
     "execution_count": 44,
     "metadata": {},
     "output_type": "execute_result"
    }
   ],
   "source": [
    "#to search\n",
    "#select all from table Melissa5\n",
    "\n",
    "c.execute(\"select * from Melissa5\")\n",
    "#retrns cursor"
   ]
  },
  {
   "cell_type": "code",
   "execution_count": 45,
   "id": "04d1abbf",
   "metadata": {},
   "outputs": [
    {
     "data": {
      "text/plain": [
       "[(861, 'Melisa', 100),\n",
       " (1648, 'Melisa', 10),\n",
       " (1456, 'Melisa', 100),\n",
       " (178, 'Melisa', 1),\n",
       " (145, 'Melisa', 1000),\n",
       " (15, 'Melisa', 10),\n",
       " (17, 'Melisa', 1000)]"
      ]
     },
     "execution_count": 45,
     "metadata": {},
     "output_type": "execute_result"
    }
   ],
   "source": [
    "#to display \n",
    "list(c.execute(\"select * from Melissa5\"))"
   ]
  },
  {
   "cell_type": "code",
   "execution_count": 47,
   "id": "fe800565",
   "metadata": {},
   "outputs": [
    {
     "data": {
      "text/plain": [
       "sqlite3.Cursor"
      ]
     },
     "execution_count": 47,
     "metadata": {},
     "output_type": "execute_result"
    }
   ],
   "source": [
    "type(c.execute(\"select * from Melissa5\"))"
   ]
  },
  {
   "cell_type": "code",
   "execution_count": 49,
   "id": "28b807e8",
   "metadata": {},
   "outputs": [
    {
     "name": "stdout",
     "output_type": "stream",
     "text": [
      "(861, 'Melisa', 100)\n",
      "(1648, 'Melisa', 10)\n",
      "(1456, 'Melisa', 100)\n",
      "(178, 'Melisa', 1)\n",
      "(145, 'Melisa', 1000)\n",
      "(15, 'Melisa', 10)\n",
      "(17, 'Melisa', 1000)\n"
     ]
    }
   ],
   "source": [
    "for i in c.execute(\"select * from Melissa5\"):\n",
    "    print(i)"
   ]
  },
  {
   "cell_type": "code",
   "execution_count": 51,
   "id": "1c09c23e",
   "metadata": {},
   "outputs": [
    {
     "name": "stdout",
     "output_type": "stream",
     "text": [
      "(178, 'Melisa', 1)\n",
      "(1648, 'Melisa', 10)\n",
      "(15, 'Melisa', 10)\n",
      "(861, 'Melisa', 100)\n",
      "(1456, 'Melisa', 100)\n",
      "(145, 'Melisa', 1000)\n",
      "(17, 'Melisa', 1000)\n"
     ]
    }
   ],
   "source": [
    "for i in c.execute(\"select * from Melissa5 order by score\"):\n",
    "    print(i)    #c.execute returns cursor\n",
    "#order by id- gives each and every dataaset \n",
    "# displays in ascending order by score \n"
   ]
  },
  {
   "cell_type": "code",
   "execution_count": 52,
   "id": "2c17d0d5",
   "metadata": {},
   "outputs": [
    {
     "name": "stdout",
     "output_type": "stream",
     "text": [
      "(15, 'Melisa', 10)\n",
      "(17, 'Melisa', 1000)\n",
      "(145, 'Melisa', 1000)\n",
      "(178, 'Melisa', 1)\n",
      "(861, 'Melisa', 100)\n",
      "(1456, 'Melisa', 100)\n",
      "(1648, 'Melisa', 10)\n"
     ]
    }
   ],
   "source": [
    "for i in c.execute(\"select * from Melissa5 order by id\"):\n",
    "    print(i)"
   ]
  },
  {
   "cell_type": "code",
   "execution_count": 59,
   "id": "5dbf672f",
   "metadata": {},
   "outputs": [
    {
     "name": "stdout",
     "output_type": "stream",
     "text": [
      "(861, 'Melisa', 100)\n",
      "(1648, 'Melisa', 10)\n",
      "(1456, 'Melisa', 100)\n",
      "(178, 'Melisa', 1)\n",
      "(145, 'Melisa', 1000)\n",
      "(15, 'Melisa', 10)\n",
      "(17, 'Melisa', 1000)\n"
     ]
    }
   ],
   "source": [
    "for i in c.execute(\"select * from Melissa5 where name= 'Melisa'\"):\n",
    "                   print(i)"
   ]
  },
  {
   "cell_type": "code",
   "execution_count": 60,
   "id": "767188d1",
   "metadata": {},
   "outputs": [
    {
     "name": "stdout",
     "output_type": "stream",
     "text": [
      "(861,)\n",
      "(1648,)\n",
      "(1456,)\n",
      "(178,)\n",
      "(145,)\n",
      "(15,)\n",
      "(17,)\n"
     ]
    }
   ],
   "source": [
    "#to display entries( id ) with respect to name\n",
    "\n",
    "for i in c.execute(\"select id from Melissa5 where name= 'Melisa'\"):\n",
    "                   print(i)"
   ]
  },
  {
   "cell_type": "code",
   "execution_count": null,
   "id": "9443a0e0",
   "metadata": {},
   "outputs": [],
   "source": []
  }
 ],
 "metadata": {
  "kernelspec": {
   "display_name": "Python 3 (ipykernel)",
   "language": "python",
   "name": "python3"
  },
  "language_info": {
   "codemirror_mode": {
    "name": "ipython",
    "version": 3
   },
   "file_extension": ".py",
   "mimetype": "text/x-python",
   "name": "python",
   "nbconvert_exporter": "python",
   "pygments_lexer": "ipython3",
   "version": "3.8.8"
  }
 },
 "nbformat": 4,
 "nbformat_minor": 5
}
