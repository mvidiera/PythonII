{
 "cells": [
  {
   "cell_type": "code",
   "execution_count": 2,
   "id": "f2885bf7",
   "metadata": {},
   "outputs": [],
   "source": [
    "import pandas as pd\n",
    "chunk= pd.read_csv(\"test5.csv\")"
   ]
  },
  {
   "cell_type": "code",
   "execution_count": 2,
   "id": "b3defc4e",
   "metadata": {},
   "outputs": [
    {
     "data": {
      "text/html": [
       "<div>\n",
       "<style scoped>\n",
       "    .dataframe tbody tr th:only-of-type {\n",
       "        vertical-align: middle;\n",
       "    }\n",
       "\n",
       "    .dataframe tbody tr th {\n",
       "        vertical-align: top;\n",
       "    }\n",
       "\n",
       "    .dataframe thead th {\n",
       "        text-align: right;\n",
       "    }\n",
       "</style>\n",
       "<table border=\"1\" class=\"dataframe\">\n",
       "  <thead>\n",
       "    <tr style=\"text-align: right;\">\n",
       "      <th></th>\n",
       "      <th>Unnamed: 0</th>\n",
       "      <th>vdagn</th>\n",
       "      <th>yrk</th>\n",
       "      <th>ngff</th>\n",
       "      <th>dngd</th>\n",
       "    </tr>\n",
       "  </thead>\n",
       "  <tbody>\n",
       "    <tr>\n",
       "      <th>0</th>\n",
       "      <td>0</td>\n",
       "      <td>nhrymw</td>\n",
       "      <td>NaN</td>\n",
       "      <td>NaN</td>\n",
       "      <td>NaN</td>\n",
       "    </tr>\n",
       "    <tr>\n",
       "      <th>1</th>\n",
       "      <td>1</td>\n",
       "      <td>NaN</td>\n",
       "      <td>jryk</td>\n",
       "      <td>ngfsf</td>\n",
       "      <td>NaN</td>\n",
       "    </tr>\n",
       "    <tr>\n",
       "      <th>2</th>\n",
       "      <td>2</td>\n",
       "      <td>NaN</td>\n",
       "      <td>NaN</td>\n",
       "      <td>NaN</td>\n",
       "      <td>NaN</td>\n",
       "    </tr>\n",
       "    <tr>\n",
       "      <th>3</th>\n",
       "      <td>3</td>\n",
       "      <td>mntwy,</td>\n",
       "      <td>ngf</td>\n",
       "      <td>NaN</td>\n",
       "      <td>NaN</td>\n",
       "    </tr>\n",
       "    <tr>\n",
       "      <th>4</th>\n",
       "      <td>4</td>\n",
       "      <td>nrs</td>\n",
       "      <td>NaN</td>\n",
       "      <td>ngfn</td>\n",
       "      <td>NaN</td>\n",
       "    </tr>\n",
       "    <tr>\n",
       "      <th>5</th>\n",
       "      <td>5</td>\n",
       "      <td>NaN</td>\n",
       "      <td>NaN</td>\n",
       "      <td>NaN</td>\n",
       "      <td>ngdnj</td>\n",
       "    </tr>\n",
       "    <tr>\n",
       "      <th>6</th>\n",
       "      <td>6</td>\n",
       "      <td>n</td>\n",
       "      <td>nsryj</td>\n",
       "      <td>NaN</td>\n",
       "      <td>badgn</td>\n",
       "    </tr>\n",
       "  </tbody>\n",
       "</table>\n",
       "</div>"
      ],
      "text/plain": [
       "   Unnamed: 0   vdagn    yrk  ngff    dngd\n",
       "0           0  nhrymw    NaN    NaN    NaN\n",
       "1           1     NaN   jryk  ngfsf    NaN\n",
       "2           2     NaN    NaN    NaN    NaN\n",
       "3           3  mntwy,    ngf    NaN    NaN\n",
       "4           4     nrs    NaN   ngfn    NaN\n",
       "5           5     NaN    NaN    NaN  ngdnj\n",
       "6           6       n  nsryj    NaN  badgn"
      ]
     },
     "execution_count": 2,
     "metadata": {},
     "output_type": "execute_result"
    }
   ],
   "source": [
    "chunk"
   ]
  },
  {
   "cell_type": "code",
   "execution_count": 4,
   "id": "4b256ef3",
   "metadata": {},
   "outputs": [
    {
     "data": {
      "text/plain": [
       "<pandas.io.parsers.readers.TextFileReader at 0x7f7fd1f08f40>"
      ]
     },
     "execution_count": 4,
     "metadata": {},
     "output_type": "execute_result"
    }
   ],
   "source": [
    "chunk1= pd.read_csv(\"test5.csv\",chunksize=100)\n",
    "chunk1\n",
    "\n",
    "#chunksize : int, optional\n",
    "   # Return TextFileReader object for iteration."
   ]
  },
  {
   "cell_type": "markdown",
   "id": "8aa8d2ec",
   "metadata": {},
   "source": [
    "* Chunksize is by default none. \n",
    "* it defines that much bytes of data. Here 100\n",
    "* It loads partial dataset sometimes. Ex: I have given chunk size as 100 and my each row's memory is 30 bytes. \n",
    "* so it loads 3 entire row and partial 4th row\n",
    "* It do not return data, it returns textfile object. We iterate through that object to fetch data.\n",
    "\n",
    "* there is huge possibilities of data loss. hence, chunkzise is not used\n"
   ]
  },
  {
   "cell_type": "code",
   "execution_count": 7,
   "id": "51155163",
   "metadata": {},
   "outputs": [
    {
     "data": {
      "text/html": [
       "<div>\n",
       "<style scoped>\n",
       "    .dataframe tbody tr th:only-of-type {\n",
       "        vertical-align: middle;\n",
       "    }\n",
       "\n",
       "    .dataframe tbody tr th {\n",
       "        vertical-align: top;\n",
       "    }\n",
       "\n",
       "    .dataframe thead th {\n",
       "        text-align: right;\n",
       "    }\n",
       "</style>\n",
       "<table border=\"1\" class=\"dataframe\">\n",
       "  <thead>\n",
       "    <tr style=\"text-align: right;\">\n",
       "      <th></th>\n",
       "      <th>Unnamed: 0</th>\n",
       "      <th>vdagn</th>\n",
       "      <th>yrk</th>\n",
       "      <th>ngff</th>\n",
       "      <th>dngd</th>\n",
       "    </tr>\n",
       "  </thead>\n",
       "  <tbody>\n",
       "    <tr>\n",
       "      <th>0</th>\n",
       "      <td>0</td>\n",
       "      <td>nhrymw</td>\n",
       "      <td>NaN</td>\n",
       "      <td>NaN</td>\n",
       "      <td>NaN</td>\n",
       "    </tr>\n",
       "    <tr>\n",
       "      <th>1</th>\n",
       "      <td>1</td>\n",
       "      <td>NaN</td>\n",
       "      <td>jryk</td>\n",
       "      <td>ngfsf</td>\n",
       "      <td>NaN</td>\n",
       "    </tr>\n",
       "    <tr>\n",
       "      <th>2</th>\n",
       "      <td>2</td>\n",
       "      <td>NaN</td>\n",
       "      <td>NaN</td>\n",
       "      <td>NaN</td>\n",
       "      <td>NaN</td>\n",
       "    </tr>\n",
       "    <tr>\n",
       "      <th>3</th>\n",
       "      <td>3</td>\n",
       "      <td>mntwy,</td>\n",
       "      <td>ngf</td>\n",
       "      <td>NaN</td>\n",
       "      <td>NaN</td>\n",
       "    </tr>\n",
       "    <tr>\n",
       "      <th>4</th>\n",
       "      <td>4</td>\n",
       "      <td>nrs</td>\n",
       "      <td>NaN</td>\n",
       "      <td>ngfn</td>\n",
       "      <td>NaN</td>\n",
       "    </tr>\n",
       "    <tr>\n",
       "      <th>5</th>\n",
       "      <td>5</td>\n",
       "      <td>NaN</td>\n",
       "      <td>NaN</td>\n",
       "      <td>NaN</td>\n",
       "      <td>ngdnj</td>\n",
       "    </tr>\n",
       "    <tr>\n",
       "      <th>6</th>\n",
       "      <td>6</td>\n",
       "      <td>n</td>\n",
       "      <td>nsryj</td>\n",
       "      <td>NaN</td>\n",
       "      <td>badgn</td>\n",
       "    </tr>\n",
       "  </tbody>\n",
       "</table>\n",
       "</div>"
      ],
      "text/plain": [
       "   Unnamed: 0   vdagn    yrk  ngff    dngd\n",
       "0           0  nhrymw    NaN    NaN    NaN\n",
       "1           1     NaN   jryk  ngfsf    NaN\n",
       "2           2     NaN    NaN    NaN    NaN\n",
       "3           3  mntwy,    ngf    NaN    NaN\n",
       "4           4     nrs    NaN   ngfn    NaN\n",
       "5           5     NaN    NaN    NaN  ngdnj\n",
       "6           6       n  nsryj    NaN  badgn"
      ]
     },
     "execution_count": 7,
     "metadata": {},
     "output_type": "execute_result"
    }
   ],
   "source": [
    "df=pd.read_csv(\"test5.csv\")\n",
    "df"
   ]
  },
  {
   "cell_type": "code",
   "execution_count": 8,
   "id": "ae7f0e5f",
   "metadata": {},
   "outputs": [
    {
     "data": {
      "text/html": [
       "<div>\n",
       "<style scoped>\n",
       "    .dataframe tbody tr th:only-of-type {\n",
       "        vertical-align: middle;\n",
       "    }\n",
       "\n",
       "    .dataframe tbody tr th {\n",
       "        vertical-align: top;\n",
       "    }\n",
       "\n",
       "    .dataframe thead th {\n",
       "        text-align: right;\n",
       "    }\n",
       "</style>\n",
       "<table border=\"1\" class=\"dataframe\">\n",
       "  <thead>\n",
       "    <tr style=\"text-align: right;\">\n",
       "      <th></th>\n",
       "      <th>Unnamed: 0</th>\n",
       "      <th>vdagn</th>\n",
       "      <th>yrk</th>\n",
       "      <th>ngff</th>\n",
       "      <th>dngd</th>\n",
       "    </tr>\n",
       "  </thead>\n",
       "  <tbody>\n",
       "    <tr>\n",
       "      <th>0</th>\n",
       "      <td>0</td>\n",
       "      <td>nhrymw</td>\n",
       "      <td>NaN</td>\n",
       "      <td>NaN</td>\n",
       "      <td>NaN</td>\n",
       "    </tr>\n",
       "    <tr>\n",
       "      <th>1</th>\n",
       "      <td>1</td>\n",
       "      <td>NaN</td>\n",
       "      <td>jryk</td>\n",
       "      <td>ngfsf</td>\n",
       "      <td>NaN</td>\n",
       "    </tr>\n",
       "    <tr>\n",
       "      <th>2</th>\n",
       "      <td>2</td>\n",
       "      <td>NaN</td>\n",
       "      <td>NaN</td>\n",
       "      <td>NaN</td>\n",
       "      <td>NaN</td>\n",
       "    </tr>\n",
       "    <tr>\n",
       "      <th>3</th>\n",
       "      <td>3</td>\n",
       "      <td>mntwy,</td>\n",
       "      <td>ngf</td>\n",
       "      <td>NaN</td>\n",
       "      <td>NaN</td>\n",
       "    </tr>\n",
       "    <tr>\n",
       "      <th>4</th>\n",
       "      <td>4</td>\n",
       "      <td>nrs</td>\n",
       "      <td>NaN</td>\n",
       "      <td>ngfn</td>\n",
       "      <td>NaN</td>\n",
       "    </tr>\n",
       "  </tbody>\n",
       "</table>\n",
       "</div>"
      ],
      "text/plain": [
       "   Unnamed: 0   vdagn   yrk  ngff  dngd\n",
       "0           0  nhrymw   NaN    NaN  NaN\n",
       "1           1     NaN  jryk  ngfsf  NaN\n",
       "2           2     NaN   NaN    NaN  NaN\n",
       "3           3  mntwy,   ngf    NaN  NaN\n",
       "4           4     nrs   NaN   ngfn  NaN"
      ]
     },
     "execution_count": 8,
     "metadata": {},
     "output_type": "execute_result"
    }
   ],
   "source": [
    "df.head()"
   ]
  },
  {
   "cell_type": "code",
   "execution_count": 9,
   "id": "51bdb1a0",
   "metadata": {},
   "outputs": [
    {
     "data": {
      "text/html": [
       "<div>\n",
       "<style scoped>\n",
       "    .dataframe tbody tr th:only-of-type {\n",
       "        vertical-align: middle;\n",
       "    }\n",
       "\n",
       "    .dataframe tbody tr th {\n",
       "        vertical-align: top;\n",
       "    }\n",
       "\n",
       "    .dataframe thead th {\n",
       "        text-align: right;\n",
       "    }\n",
       "</style>\n",
       "<table border=\"1\" class=\"dataframe\">\n",
       "  <thead>\n",
       "    <tr style=\"text-align: right;\">\n",
       "      <th></th>\n",
       "      <th>Unnamed: 0</th>\n",
       "      <th>vdagn</th>\n",
       "      <th>yrk</th>\n",
       "      <th>ngff</th>\n",
       "      <th>dngd</th>\n",
       "    </tr>\n",
       "  </thead>\n",
       "  <tbody>\n",
       "    <tr>\n",
       "      <th>0</th>\n",
       "      <td>0</td>\n",
       "      <td>nhrymw</td>\n",
       "      <td>NaN</td>\n",
       "      <td>NaN</td>\n",
       "      <td>NaN</td>\n",
       "    </tr>\n",
       "    <tr>\n",
       "      <th>1</th>\n",
       "      <td>1</td>\n",
       "      <td>NaN</td>\n",
       "      <td>jryk</td>\n",
       "      <td>ngfsf</td>\n",
       "      <td>NaN</td>\n",
       "    </tr>\n",
       "    <tr>\n",
       "      <th>2</th>\n",
       "      <td>2</td>\n",
       "      <td>NaN</td>\n",
       "      <td>NaN</td>\n",
       "      <td>NaN</td>\n",
       "      <td>NaN</td>\n",
       "    </tr>\n",
       "  </tbody>\n",
       "</table>\n",
       "</div>"
      ],
      "text/plain": [
       "   Unnamed: 0   vdagn   yrk  ngff   dngd\n",
       "0           0  nhrymw   NaN    NaN   NaN\n",
       "1           1     NaN  jryk  ngfsf   NaN\n",
       "2           2     NaN   NaN    NaN   NaN"
      ]
     },
     "execution_count": 9,
     "metadata": {},
     "output_type": "execute_result"
    }
   ],
   "source": [
    "df= pd.read_csv(\"test5.csv\",nrows=3)\n",
    "df"
   ]
  },
  {
   "cell_type": "code",
   "execution_count": 10,
   "id": "cd839a3d",
   "metadata": {},
   "outputs": [
    {
     "data": {
      "text/html": [
       "<div>\n",
       "<style scoped>\n",
       "    .dataframe tbody tr th:only-of-type {\n",
       "        vertical-align: middle;\n",
       "    }\n",
       "\n",
       "    .dataframe tbody tr th {\n",
       "        vertical-align: top;\n",
       "    }\n",
       "\n",
       "    .dataframe thead th {\n",
       "        text-align: right;\n",
       "    }\n",
       "</style>\n",
       "<table border=\"1\" class=\"dataframe\">\n",
       "  <thead>\n",
       "    <tr style=\"text-align: right;\">\n",
       "      <th></th>\n",
       "      <th>Unnamed: 0</th>\n",
       "      <th>vdagn</th>\n",
       "      <th>yrk</th>\n",
       "      <th>ngff</th>\n",
       "      <th>dngd</th>\n",
       "    </tr>\n",
       "  </thead>\n",
       "  <tbody>\n",
       "    <tr>\n",
       "      <th>0</th>\n",
       "      <td>0</td>\n",
       "      <td>nhrymw</td>\n",
       "      <td>NaN</td>\n",
       "      <td>NaN</td>\n",
       "      <td>NaN</td>\n",
       "    </tr>\n",
       "    <tr>\n",
       "      <th>1</th>\n",
       "      <td>1</td>\n",
       "      <td>NaN</td>\n",
       "      <td>jryk</td>\n",
       "      <td>ngfsf</td>\n",
       "      <td>NaN</td>\n",
       "    </tr>\n",
       "    <tr>\n",
       "      <th>2</th>\n",
       "      <td>2</td>\n",
       "      <td>NaN</td>\n",
       "      <td>NaN</td>\n",
       "      <td>NaN</td>\n",
       "      <td>NaN</td>\n",
       "    </tr>\n",
       "  </tbody>\n",
       "</table>\n",
       "</div>"
      ],
      "text/plain": [
       "   Unnamed: 0   vdagn   yrk  ngff   dngd\n",
       "0           0  nhrymw   NaN    NaN   NaN\n",
       "1           1     NaN  jryk  ngfsf   NaN\n",
       "2           2     NaN   NaN    NaN   NaN"
      ]
     },
     "execution_count": 10,
     "metadata": {},
     "output_type": "execute_result"
    }
   ],
   "source": [
    "df.head()"
   ]
  },
  {
   "cell_type": "markdown",
   "id": "bafe0f9c",
   "metadata": {},
   "source": [
    "* As shown above, I assigned dataframe to var df. when df is displayed, all the data is displayed. \n",
    "* then I used read_csv with nrows as 3. only 3 rows are loaded in same var df\n",
    "* Later, I used df.head() only 3 rows are shown not 5 as head() shows usually. \n",
    "\n",
    "\n",
    "Summarizing, nrows will just loads that number of row data whereas, head loads all data to memory and then shows just 5. \n",
    "\n",
    "This is helpful when I have huge data\n"
   ]
  },
  {
   "cell_type": "code",
   "execution_count": 5,
   "id": "8ad43224",
   "metadata": {},
   "outputs": [
    {
     "data": {
      "text/html": [
       "<div>\n",
       "<style scoped>\n",
       "    .dataframe tbody tr th:only-of-type {\n",
       "        vertical-align: middle;\n",
       "    }\n",
       "\n",
       "    .dataframe tbody tr th {\n",
       "        vertical-align: top;\n",
       "    }\n",
       "\n",
       "    .dataframe thead th {\n",
       "        text-align: right;\n",
       "    }\n",
       "</style>\n",
       "<table border=\"1\" class=\"dataframe\">\n",
       "  <thead>\n",
       "    <tr style=\"text-align: right;\">\n",
       "      <th></th>\n",
       "      <th>Unnamed: 0</th>\n",
       "      <th>vdagn</th>\n",
       "      <th>yrk</th>\n",
       "      <th>ngff</th>\n",
       "      <th>dngd</th>\n",
       "    </tr>\n",
       "  </thead>\n",
       "  <tbody>\n",
       "    <tr>\n",
       "      <th>0</th>\n",
       "      <td>0</td>\n",
       "      <td>nhrymw</td>\n",
       "      <td>NaN</td>\n",
       "      <td>NaN</td>\n",
       "      <td>NaN</td>\n",
       "    </tr>\n",
       "    <tr>\n",
       "      <th>1</th>\n",
       "      <td>1</td>\n",
       "      <td>NaN</td>\n",
       "      <td>jryk</td>\n",
       "      <td>ngfsf</td>\n",
       "      <td>NaN</td>\n",
       "    </tr>\n",
       "    <tr>\n",
       "      <th>2</th>\n",
       "      <td>2</td>\n",
       "      <td>NaN</td>\n",
       "      <td>NaN</td>\n",
       "      <td>NaN</td>\n",
       "      <td>NaN</td>\n",
       "    </tr>\n",
       "  </tbody>\n",
       "</table>\n",
       "</div>"
      ],
      "text/plain": [
       "   Unnamed: 0   vdagn   yrk  ngff   dngd\n",
       "0           0  nhrymw   NaN    NaN   NaN\n",
       "1           1     NaN  jryk  ngfsf   NaN\n",
       "2           2     NaN   NaN    NaN   NaN"
      ]
     },
     "execution_count": 5,
     "metadata": {},
     "output_type": "execute_result"
    }
   ],
   "source": [
    "df1= pd.read_csv(\"test5.csv\",nrows=3)\n",
    "df1"
   ]
  },
  {
   "cell_type": "code",
   "execution_count": 6,
   "id": "5d5d7a93",
   "metadata": {},
   "outputs": [
    {
     "data": {
      "text/html": [
       "<div>\n",
       "<style scoped>\n",
       "    .dataframe tbody tr th:only-of-type {\n",
       "        vertical-align: middle;\n",
       "    }\n",
       "\n",
       "    .dataframe tbody tr th {\n",
       "        vertical-align: top;\n",
       "    }\n",
       "\n",
       "    .dataframe thead th {\n",
       "        text-align: right;\n",
       "    }\n",
       "</style>\n",
       "<table border=\"1\" class=\"dataframe\">\n",
       "  <thead>\n",
       "    <tr style=\"text-align: right;\">\n",
       "      <th></th>\n",
       "      <th>Unnamed: 0</th>\n",
       "      <th>vdagn</th>\n",
       "      <th>yrk</th>\n",
       "      <th>ngff</th>\n",
       "      <th>dngd</th>\n",
       "    </tr>\n",
       "  </thead>\n",
       "  <tbody>\n",
       "    <tr>\n",
       "      <th>0</th>\n",
       "      <td>0</td>\n",
       "      <td>nhrymw</td>\n",
       "      <td>NaN</td>\n",
       "      <td>NaN</td>\n",
       "      <td>NaN</td>\n",
       "    </tr>\n",
       "    <tr>\n",
       "      <th>1</th>\n",
       "      <td>1</td>\n",
       "      <td>NaN</td>\n",
       "      <td>jryk</td>\n",
       "      <td>ngfsf</td>\n",
       "      <td>NaN</td>\n",
       "    </tr>\n",
       "    <tr>\n",
       "      <th>2</th>\n",
       "      <td>2</td>\n",
       "      <td>NaN</td>\n",
       "      <td>NaN</td>\n",
       "      <td>NaN</td>\n",
       "      <td>NaN</td>\n",
       "    </tr>\n",
       "  </tbody>\n",
       "</table>\n",
       "</div>"
      ],
      "text/plain": [
       "   Unnamed: 0   vdagn   yrk  ngff   dngd\n",
       "0           0  nhrymw   NaN    NaN   NaN\n",
       "1           1     NaN  jryk  ngfsf   NaN\n",
       "2           2     NaN   NaN    NaN   NaN"
      ]
     },
     "execution_count": 6,
     "metadata": {},
     "output_type": "execute_result"
    }
   ],
   "source": [
    "df1.head()"
   ]
  },
  {
   "cell_type": "code",
   "execution_count": 12,
   "id": "5b4f6ef8",
   "metadata": {},
   "outputs": [
    {
     "data": {
      "text/html": [
       "<div>\n",
       "<style scoped>\n",
       "    .dataframe tbody tr th:only-of-type {\n",
       "        vertical-align: middle;\n",
       "    }\n",
       "\n",
       "    .dataframe tbody tr th {\n",
       "        vertical-align: top;\n",
       "    }\n",
       "\n",
       "    .dataframe thead th {\n",
       "        text-align: right;\n",
       "    }\n",
       "</style>\n",
       "<table border=\"1\" class=\"dataframe\">\n",
       "  <thead>\n",
       "    <tr style=\"text-align: right;\">\n",
       "      <th></th>\n",
       "      <th>Unnamed: 0</th>\n",
       "      <th>vdagn</th>\n",
       "      <th>yrk</th>\n",
       "      <th>ngff</th>\n",
       "      <th>dngd</th>\n",
       "    </tr>\n",
       "  </thead>\n",
       "  <tbody>\n",
       "    <tr>\n",
       "      <th>0</th>\n",
       "      <td>0</td>\n",
       "      <td>nhrymw</td>\n",
       "      <td>NaN</td>\n",
       "      <td>NaN</td>\n",
       "      <td>NaN</td>\n",
       "    </tr>\n",
       "    <tr>\n",
       "      <th>1</th>\n",
       "      <td>1</td>\n",
       "      <td>NaN</td>\n",
       "      <td>jryk</td>\n",
       "      <td>ngfsf</td>\n",
       "      <td>NaN</td>\n",
       "    </tr>\n",
       "    <tr>\n",
       "      <th>2</th>\n",
       "      <td>2</td>\n",
       "      <td>NaN</td>\n",
       "      <td>NaN</td>\n",
       "      <td>NaN</td>\n",
       "      <td>NaN</td>\n",
       "    </tr>\n",
       "    <tr>\n",
       "      <th>3</th>\n",
       "      <td>3</td>\n",
       "      <td>mntwy,</td>\n",
       "      <td>ngf</td>\n",
       "      <td>NaN</td>\n",
       "      <td>NaN</td>\n",
       "    </tr>\n",
       "    <tr>\n",
       "      <th>4</th>\n",
       "      <td>4</td>\n",
       "      <td>nrs</td>\n",
       "      <td>NaN</td>\n",
       "      <td>ngfn</td>\n",
       "      <td>NaN</td>\n",
       "    </tr>\n",
       "    <tr>\n",
       "      <th>5</th>\n",
       "      <td>5</td>\n",
       "      <td>NaN</td>\n",
       "      <td>NaN</td>\n",
       "      <td>NaN</td>\n",
       "      <td>ngdnj</td>\n",
       "    </tr>\n",
       "    <tr>\n",
       "      <th>6</th>\n",
       "      <td>6</td>\n",
       "      <td>n</td>\n",
       "      <td>nsryj</td>\n",
       "      <td>NaN</td>\n",
       "      <td>badgn</td>\n",
       "    </tr>\n",
       "  </tbody>\n",
       "</table>\n",
       "</div>"
      ],
      "text/plain": [
       "   Unnamed: 0   vdagn    yrk  ngff    dngd\n",
       "0           0  nhrymw    NaN    NaN    NaN\n",
       "1           1     NaN   jryk  ngfsf    NaN\n",
       "2           2     NaN    NaN    NaN    NaN\n",
       "3           3  mntwy,    ngf    NaN    NaN\n",
       "4           4     nrs    NaN   ngfn    NaN\n",
       "5           5     NaN    NaN    NaN  ngdnj\n",
       "6           6       n  nsryj    NaN  badgn"
      ]
     },
     "execution_count": 12,
     "metadata": {},
     "output_type": "execute_result"
    }
   ],
   "source": [
    "#RAM is not permanent memory and once i restart jupyter, all operations have to be done all over again \n",
    "# to store processed data we can use write_csv\n",
    "df2= pd.read_csv(\"test5.csv\")\n",
    "df2.to_csv('neww.csv')\n",
    "df2"
   ]
  },
  {
   "cell_type": "code",
   "execution_count": 13,
   "id": "ef9e0239",
   "metadata": {},
   "outputs": [],
   "source": [
    "#to store in different directory.\n",
    "\n",
    "df2.to_csv('/Users/melissavidiera/Desktop/neww1.csv')"
   ]
  },
  {
   "cell_type": "code",
   "execution_count": 15,
   "id": "783d8737",
   "metadata": {},
   "outputs": [],
   "source": [
    "#to change the sepearator\n",
    "import sys\n",
    "df2.to_csv('/Users/melissavidiera/Desktop/neww2.csv',sep='%')"
   ]
  },
  {
   "cell_type": "code",
   "execution_count": 24,
   "id": "0e469235",
   "metadata": {},
   "outputs": [
    {
     "name": "stdout",
     "output_type": "stream",
     "text": [
      ",Unnamed: 0,vdagn,yrk,ngff ,dngd\n",
      "0,0,nhrymw,Melissa,Melissa,Melissa\n",
      "1,1,Melissa,jryk,ngfsf,Melissa\n",
      "2,2,Melissa,Melissa,Melissa,Melissa\n",
      "3,3,\"mntwy,\",ngf,Melissa,Melissa\n",
      "4,4,nrs,Melissa,ngfn,Melissa\n",
      "5,5,Melissa,Melissa,Melissa,ngdnj\n",
      "6,6,n,nsryj,Melissa,badgn\n"
     ]
    }
   ],
   "source": [
    "#to store data in clipboard: in copy paste option, once copied it will be stored in clipboard. same as that\n",
    "# import sys \n",
    "\n",
    "import sys\n",
    "df2=df2.to_csv(sys.stdout, na_rep= 'Melissa') #replace na with NULL or any other data ex: Melissa\n",
    "\n",
    "#do not replace null vlues with this approach. \n"
   ]
  },
  {
   "cell_type": "code",
   "execution_count": 25,
   "id": "642714cb",
   "metadata": {},
   "outputs": [],
   "source": [
    "df2"
   ]
  },
  {
   "cell_type": "code",
   "execution_count": 33,
   "id": "ff3b8a5a",
   "metadata": {},
   "outputs": [
    {
     "ename": "AttributeError",
     "evalue": "module 'pandas' has no attribute 'to_csv'",
     "output_type": "error",
     "traceback": [
      "\u001b[0;31m---------------------------------------------------------------------------\u001b[0m",
      "\u001b[0;31mAttributeError\u001b[0m                            Traceback (most recent call last)",
      "\u001b[0;32m/var/folders/pz/8fj7_jqs1_lglvwks1ym9jl40000gn/T/ipykernel_5671/856725112.py\u001b[0m in \u001b[0;36m<module>\u001b[0;34m\u001b[0m\n\u001b[1;32m      1\u001b[0m \u001b[0;31m#by default index= true and header= false. that means there will be indices for my dataframe and header will not be there\u001b[0m\u001b[0;34m\u001b[0m\u001b[0;34m\u001b[0m\u001b[0;34m\u001b[0m\u001b[0m\n\u001b[1;32m      2\u001b[0m \u001b[0;32mimport\u001b[0m \u001b[0mpandas\u001b[0m \u001b[0;32mas\u001b[0m \u001b[0mpd\u001b[0m\u001b[0;34m\u001b[0m\u001b[0;34m\u001b[0m\u001b[0m\n\u001b[0;32m----> 3\u001b[0;31m \u001b[0mdf3\u001b[0m\u001b[0;34m=\u001b[0m\u001b[0mpd\u001b[0m\u001b[0;34m.\u001b[0m\u001b[0mto_csv\u001b[0m\u001b[0;34m(\u001b[0m\u001b[0;34m'xyzz1.csv'\u001b[0m\u001b[0;34m,\u001b[0m\u001b[0mindex\u001b[0m\u001b[0;34m=\u001b[0m \u001b[0;32mFalse\u001b[0m\u001b[0;34m,\u001b[0m \u001b[0mheader\u001b[0m\u001b[0;34m=\u001b[0m \u001b[0;32mFalse\u001b[0m\u001b[0;34m)\u001b[0m\u001b[0;34m\u001b[0m\u001b[0;34m\u001b[0m\u001b[0m\n\u001b[0m",
      "\u001b[0;32m~/opt/anaconda3/lib/python3.8/site-packages/pandas/__init__.py\u001b[0m in \u001b[0;36m__getattr__\u001b[0;34m(name)\u001b[0m\n\u001b[1;32m    242\u001b[0m         \u001b[0;32mreturn\u001b[0m \u001b[0m_SparseArray\u001b[0m\u001b[0;34m\u001b[0m\u001b[0;34m\u001b[0m\u001b[0m\n\u001b[1;32m    243\u001b[0m \u001b[0;34m\u001b[0m\u001b[0m\n\u001b[0;32m--> 244\u001b[0;31m     \u001b[0;32mraise\u001b[0m \u001b[0mAttributeError\u001b[0m\u001b[0;34m(\u001b[0m\u001b[0;34mf\"module 'pandas' has no attribute '{name}'\"\u001b[0m\u001b[0;34m)\u001b[0m\u001b[0;34m\u001b[0m\u001b[0;34m\u001b[0m\u001b[0m\n\u001b[0m\u001b[1;32m    245\u001b[0m \u001b[0;34m\u001b[0m\u001b[0m\n\u001b[1;32m    246\u001b[0m \u001b[0;34m\u001b[0m\u001b[0m\n",
      "\u001b[0;31mAttributeError\u001b[0m: module 'pandas' has no attribute 'to_csv'"
     ]
    }
   ],
   "source": [
    "#by default index= true and header= false. that means there will be indices for my dataframe and header will not be there\n",
    "import pandas as pd\n",
    "df3=pd.to_csv('xyzz1.csv',index= False, header= False)"
   ]
  },
  {
   "cell_type": "code",
   "execution_count": 37,
   "id": "16c57518",
   "metadata": {},
   "outputs": [],
   "source": [
    "#df2= pd.read_csv(\"test5.csv\")\n",
    "#df2.to_csv('neww.csv')\n",
    "\n",
    "\n",
    "df3= pd.read_csv(\"test5.csv\")\n",
    "df3.to_csv(\"new2.csv\",index= False, header= True)\n"
   ]
  },
  {
   "cell_type": "code",
   "execution_count": null,
   "id": "20344f18",
   "metadata": {},
   "outputs": [],
   "source": []
  },
  {
   "cell_type": "markdown",
   "id": "f794b37f",
   "metadata": {},
   "source": [
    "With default view, it looks like this\n",
    "\n",
    ",Unnamed: 0,vdagn,yrk,ngff ,dngd\n",
    "\n",
    "0,0,nhrymw,,,\n",
    "\n",
    "1,1,,jryk,ngfsf,\n",
    "\n",
    "2,2,,,,\n",
    "\n",
    "3,3,\"mntwy,\",ngf,,\n",
    "\n",
    "4,4,nrs,,ngfn,\n",
    "\n",
    "5,5,,,,ngdnj\n",
    "\n",
    "6,6,n,nsryj,,badgn\n",
    "\n",
    "\n",
    "Without index and header it looks like this \n",
    "\n",
    "0,nhrymw,,,\n",
    "\n",
    "1,,jryk,ngfsf,\n",
    "\n",
    "2,,,,\n",
    "\n",
    "3,\"mntwy,\",ngf,,\n",
    "\n",
    "4,nrs,,ngfn,\n",
    "\n",
    "5,,,,ngdnj\n",
    "\n",
    "6,n,nsryj,,badgn\n"
   ]
  },
  {
   "cell_type": "code",
   "execution_count": 39,
   "id": "2f6fb43f",
   "metadata": {},
   "outputs": [
    {
     "data": {
      "text/html": [
       "<div>\n",
       "<style scoped>\n",
       "    .dataframe tbody tr th:only-of-type {\n",
       "        vertical-align: middle;\n",
       "    }\n",
       "\n",
       "    .dataframe tbody tr th {\n",
       "        vertical-align: top;\n",
       "    }\n",
       "\n",
       "    .dataframe thead th {\n",
       "        text-align: right;\n",
       "    }\n",
       "</style>\n",
       "<table border=\"1\" class=\"dataframe\">\n",
       "  <thead>\n",
       "    <tr style=\"text-align: right;\">\n",
       "      <th></th>\n",
       "      <th>Unnamed: 0</th>\n",
       "      <th>vdagn</th>\n",
       "      <th>yrk</th>\n",
       "      <th>ngff</th>\n",
       "      <th>dngd</th>\n",
       "    </tr>\n",
       "  </thead>\n",
       "  <tbody>\n",
       "    <tr>\n",
       "      <th>0</th>\n",
       "      <td>0</td>\n",
       "      <td>nhrymw</td>\n",
       "      <td>NaN</td>\n",
       "      <td>NaN</td>\n",
       "      <td>NaN</td>\n",
       "    </tr>\n",
       "    <tr>\n",
       "      <th>1</th>\n",
       "      <td>1</td>\n",
       "      <td>NaN</td>\n",
       "      <td>jryk</td>\n",
       "      <td>ngfsf</td>\n",
       "      <td>NaN</td>\n",
       "    </tr>\n",
       "    <tr>\n",
       "      <th>2</th>\n",
       "      <td>2</td>\n",
       "      <td>NaN</td>\n",
       "      <td>NaN</td>\n",
       "      <td>NaN</td>\n",
       "      <td>NaN</td>\n",
       "    </tr>\n",
       "    <tr>\n",
       "      <th>3</th>\n",
       "      <td>3</td>\n",
       "      <td>mntwy,</td>\n",
       "      <td>ngf</td>\n",
       "      <td>NaN</td>\n",
       "      <td>NaN</td>\n",
       "    </tr>\n",
       "    <tr>\n",
       "      <th>4</th>\n",
       "      <td>4</td>\n",
       "      <td>nrs</td>\n",
       "      <td>NaN</td>\n",
       "      <td>ngfn</td>\n",
       "      <td>NaN</td>\n",
       "    </tr>\n",
       "    <tr>\n",
       "      <th>5</th>\n",
       "      <td>5</td>\n",
       "      <td>NaN</td>\n",
       "      <td>NaN</td>\n",
       "      <td>NaN</td>\n",
       "      <td>ngdnj</td>\n",
       "    </tr>\n",
       "    <tr>\n",
       "      <th>6</th>\n",
       "      <td>6</td>\n",
       "      <td>n</td>\n",
       "      <td>nsryj</td>\n",
       "      <td>NaN</td>\n",
       "      <td>badgn</td>\n",
       "    </tr>\n",
       "  </tbody>\n",
       "</table>\n",
       "</div>"
      ],
      "text/plain": [
       "   Unnamed: 0   vdagn    yrk  ngff    dngd\n",
       "0           0  nhrymw    NaN    NaN    NaN\n",
       "1           1     NaN   jryk  ngfsf    NaN\n",
       "2           2     NaN    NaN    NaN    NaN\n",
       "3           3  mntwy,    ngf    NaN    NaN\n",
       "4           4     nrs    NaN   ngfn    NaN\n",
       "5           5     NaN    NaN    NaN  ngdnj\n",
       "6           6       n  nsryj    NaN  badgn"
      ]
     },
     "execution_count": 39,
     "metadata": {},
     "output_type": "execute_result"
    }
   ],
   "source": [
    "df3"
   ]
  },
  {
   "cell_type": "code",
   "execution_count": 43,
   "id": "e68f2311",
   "metadata": {},
   "outputs": [
    {
     "ename": "KeyError",
     "evalue": "\"None of [Index(['a', 'b', 'c'], dtype='object')] are in the [columns]\"",
     "output_type": "error",
     "traceback": [
      "\u001b[0;31m---------------------------------------------------------------------------\u001b[0m",
      "\u001b[0;31mKeyError\u001b[0m                                  Traceback (most recent call last)",
      "\u001b[0;32m/var/folders/pz/8fj7_jqs1_lglvwks1ym9jl40000gn/T/ipykernel_5671/3729785050.py\u001b[0m in \u001b[0;36m<module>\u001b[0;34m\u001b[0m\n\u001b[1;32m      1\u001b[0m \u001b[0;31m#df3= pd.read_csv(\"test5.csv\")\u001b[0m\u001b[0;34m\u001b[0m\u001b[0;34m\u001b[0m\u001b[0;34m\u001b[0m\u001b[0m\n\u001b[0;32m----> 2\u001b[0;31m \u001b[0mdf3\u001b[0m\u001b[0;34m.\u001b[0m\u001b[0mto_csv\u001b[0m\u001b[0;34m(\u001b[0m\u001b[0;34m\"new2.csv\"\u001b[0m\u001b[0;34m,\u001b[0m \u001b[0mcolumns\u001b[0m\u001b[0;34m=\u001b[0m \u001b[0;34m[\u001b[0m\u001b[0;34m'a'\u001b[0m\u001b[0;34m,\u001b[0m \u001b[0;34m'b'\u001b[0m\u001b[0;34m,\u001b[0m \u001b[0;34m'c'\u001b[0m\u001b[0;34m]\u001b[0m\u001b[0;34m)\u001b[0m\u001b[0;34m\u001b[0m\u001b[0;34m\u001b[0m\u001b[0m\n\u001b[0m",
      "\u001b[0;32m~/opt/anaconda3/lib/python3.8/site-packages/pandas/core/generic.py\u001b[0m in \u001b[0;36mto_csv\u001b[0;34m(self, path_or_buf, sep, na_rep, float_format, columns, header, index, index_label, mode, encoding, compression, quoting, quotechar, line_terminator, chunksize, date_format, doublequote, escapechar, decimal, errors, storage_options)\u001b[0m\n\u001b[1;32m   3464\u001b[0m         )\n\u001b[1;32m   3465\u001b[0m \u001b[0;34m\u001b[0m\u001b[0m\n\u001b[0;32m-> 3466\u001b[0;31m         return DataFrameRenderer(formatter).to_csv(\n\u001b[0m\u001b[1;32m   3467\u001b[0m             \u001b[0mpath_or_buf\u001b[0m\u001b[0;34m,\u001b[0m\u001b[0;34m\u001b[0m\u001b[0;34m\u001b[0m\u001b[0m\n\u001b[1;32m   3468\u001b[0m             \u001b[0mline_terminator\u001b[0m\u001b[0;34m=\u001b[0m\u001b[0mline_terminator\u001b[0m\u001b[0;34m,\u001b[0m\u001b[0;34m\u001b[0m\u001b[0;34m\u001b[0m\u001b[0m\n",
      "\u001b[0;32m~/opt/anaconda3/lib/python3.8/site-packages/pandas/io/formats/format.py\u001b[0m in \u001b[0;36mto_csv\u001b[0;34m(self, path_or_buf, encoding, sep, columns, index_label, mode, compression, quoting, quotechar, line_terminator, chunksize, date_format, doublequote, escapechar, errors, storage_options)\u001b[0m\n\u001b[1;32m   1084\u001b[0m             \u001b[0mcreated_buffer\u001b[0m \u001b[0;34m=\u001b[0m \u001b[0;32mFalse\u001b[0m\u001b[0;34m\u001b[0m\u001b[0;34m\u001b[0m\u001b[0m\n\u001b[1;32m   1085\u001b[0m \u001b[0;34m\u001b[0m\u001b[0m\n\u001b[0;32m-> 1086\u001b[0;31m         csv_formatter = CSVFormatter(\n\u001b[0m\u001b[1;32m   1087\u001b[0m             \u001b[0mpath_or_buf\u001b[0m\u001b[0;34m=\u001b[0m\u001b[0mpath_or_buf\u001b[0m\u001b[0;34m,\u001b[0m\u001b[0;34m\u001b[0m\u001b[0;34m\u001b[0m\u001b[0m\n\u001b[1;32m   1088\u001b[0m             \u001b[0mline_terminator\u001b[0m\u001b[0;34m=\u001b[0m\u001b[0mline_terminator\u001b[0m\u001b[0;34m,\u001b[0m\u001b[0;34m\u001b[0m\u001b[0;34m\u001b[0m\u001b[0m\n",
      "\u001b[0;32m~/opt/anaconda3/lib/python3.8/site-packages/pandas/io/formats/csvs.py\u001b[0m in \u001b[0;36m__init__\u001b[0;34m(self, formatter, path_or_buf, sep, cols, index_label, mode, encoding, errors, compression, quoting, line_terminator, chunksize, quotechar, date_format, doublequote, escapechar, storage_options)\u001b[0m\n\u001b[1;32m     85\u001b[0m         \u001b[0mself\u001b[0m\u001b[0;34m.\u001b[0m\u001b[0mline_terminator\u001b[0m \u001b[0;34m=\u001b[0m \u001b[0mline_terminator\u001b[0m \u001b[0;32mor\u001b[0m \u001b[0mos\u001b[0m\u001b[0;34m.\u001b[0m\u001b[0mlinesep\u001b[0m\u001b[0;34m\u001b[0m\u001b[0;34m\u001b[0m\u001b[0m\n\u001b[1;32m     86\u001b[0m         \u001b[0mself\u001b[0m\u001b[0;34m.\u001b[0m\u001b[0mdate_format\u001b[0m \u001b[0;34m=\u001b[0m \u001b[0mdate_format\u001b[0m\u001b[0;34m\u001b[0m\u001b[0;34m\u001b[0m\u001b[0m\n\u001b[0;32m---> 87\u001b[0;31m         \u001b[0mself\u001b[0m\u001b[0;34m.\u001b[0m\u001b[0mcols\u001b[0m \u001b[0;34m=\u001b[0m \u001b[0mself\u001b[0m\u001b[0;34m.\u001b[0m\u001b[0m_initialize_columns\u001b[0m\u001b[0;34m(\u001b[0m\u001b[0mcols\u001b[0m\u001b[0;34m)\u001b[0m\u001b[0;34m\u001b[0m\u001b[0;34m\u001b[0m\u001b[0m\n\u001b[0m\u001b[1;32m     88\u001b[0m         \u001b[0mself\u001b[0m\u001b[0;34m.\u001b[0m\u001b[0mchunksize\u001b[0m \u001b[0;34m=\u001b[0m \u001b[0mself\u001b[0m\u001b[0;34m.\u001b[0m\u001b[0m_initialize_chunksize\u001b[0m\u001b[0;34m(\u001b[0m\u001b[0mchunksize\u001b[0m\u001b[0;34m)\u001b[0m\u001b[0;34m\u001b[0m\u001b[0;34m\u001b[0m\u001b[0m\n\u001b[1;32m     89\u001b[0m \u001b[0;34m\u001b[0m\u001b[0m\n",
      "\u001b[0;32m~/opt/anaconda3/lib/python3.8/site-packages/pandas/io/formats/csvs.py\u001b[0m in \u001b[0;36m_initialize_columns\u001b[0;34m(self, cols)\u001b[0m\n\u001b[1;32m    152\u001b[0m             \u001b[0;32melse\u001b[0m\u001b[0;34m:\u001b[0m\u001b[0;34m\u001b[0m\u001b[0;34m\u001b[0m\u001b[0m\n\u001b[1;32m    153\u001b[0m                 \u001b[0mcols\u001b[0m \u001b[0;34m=\u001b[0m \u001b[0mlist\u001b[0m\u001b[0;34m(\u001b[0m\u001b[0mcols\u001b[0m\u001b[0;34m)\u001b[0m\u001b[0;34m\u001b[0m\u001b[0;34m\u001b[0m\u001b[0m\n\u001b[0;32m--> 154\u001b[0;31m             \u001b[0mself\u001b[0m\u001b[0;34m.\u001b[0m\u001b[0mobj\u001b[0m \u001b[0;34m=\u001b[0m \u001b[0mself\u001b[0m\u001b[0;34m.\u001b[0m\u001b[0mobj\u001b[0m\u001b[0;34m.\u001b[0m\u001b[0mloc\u001b[0m\u001b[0;34m[\u001b[0m\u001b[0;34m:\u001b[0m\u001b[0;34m,\u001b[0m \u001b[0mcols\u001b[0m\u001b[0;34m]\u001b[0m\u001b[0;34m\u001b[0m\u001b[0;34m\u001b[0m\u001b[0m\n\u001b[0m\u001b[1;32m    155\u001b[0m \u001b[0;34m\u001b[0m\u001b[0m\n\u001b[1;32m    156\u001b[0m         \u001b[0;31m# update columns to include possible multiplicity of dupes\u001b[0m\u001b[0;34m\u001b[0m\u001b[0;34m\u001b[0m\u001b[0;34m\u001b[0m\u001b[0m\n",
      "\u001b[0;32m~/opt/anaconda3/lib/python3.8/site-packages/pandas/core/indexing.py\u001b[0m in \u001b[0;36m__getitem__\u001b[0;34m(self, key)\u001b[0m\n\u001b[1;32m    923\u001b[0m                 \u001b[0;32mwith\u001b[0m \u001b[0msuppress\u001b[0m\u001b[0;34m(\u001b[0m\u001b[0mKeyError\u001b[0m\u001b[0;34m,\u001b[0m \u001b[0mIndexError\u001b[0m\u001b[0;34m)\u001b[0m\u001b[0;34m:\u001b[0m\u001b[0;34m\u001b[0m\u001b[0;34m\u001b[0m\u001b[0m\n\u001b[1;32m    924\u001b[0m                     \u001b[0;32mreturn\u001b[0m \u001b[0mself\u001b[0m\u001b[0;34m.\u001b[0m\u001b[0mobj\u001b[0m\u001b[0;34m.\u001b[0m\u001b[0m_get_value\u001b[0m\u001b[0;34m(\u001b[0m\u001b[0;34m*\u001b[0m\u001b[0mkey\u001b[0m\u001b[0;34m,\u001b[0m \u001b[0mtakeable\u001b[0m\u001b[0;34m=\u001b[0m\u001b[0mself\u001b[0m\u001b[0;34m.\u001b[0m\u001b[0m_takeable\u001b[0m\u001b[0;34m)\u001b[0m\u001b[0;34m\u001b[0m\u001b[0;34m\u001b[0m\u001b[0m\n\u001b[0;32m--> 925\u001b[0;31m             \u001b[0;32mreturn\u001b[0m \u001b[0mself\u001b[0m\u001b[0;34m.\u001b[0m\u001b[0m_getitem_tuple\u001b[0m\u001b[0;34m(\u001b[0m\u001b[0mkey\u001b[0m\u001b[0;34m)\u001b[0m\u001b[0;34m\u001b[0m\u001b[0;34m\u001b[0m\u001b[0m\n\u001b[0m\u001b[1;32m    926\u001b[0m         \u001b[0;32melse\u001b[0m\u001b[0;34m:\u001b[0m\u001b[0;34m\u001b[0m\u001b[0;34m\u001b[0m\u001b[0m\n\u001b[1;32m    927\u001b[0m             \u001b[0;31m# we by definition only have the 0th axis\u001b[0m\u001b[0;34m\u001b[0m\u001b[0;34m\u001b[0m\u001b[0;34m\u001b[0m\u001b[0m\n",
      "\u001b[0;32m~/opt/anaconda3/lib/python3.8/site-packages/pandas/core/indexing.py\u001b[0m in \u001b[0;36m_getitem_tuple\u001b[0;34m(self, tup)\u001b[0m\n\u001b[1;32m   1107\u001b[0m             \u001b[0;32mreturn\u001b[0m \u001b[0mself\u001b[0m\u001b[0;34m.\u001b[0m\u001b[0m_multi_take\u001b[0m\u001b[0;34m(\u001b[0m\u001b[0mtup\u001b[0m\u001b[0;34m)\u001b[0m\u001b[0;34m\u001b[0m\u001b[0;34m\u001b[0m\u001b[0m\n\u001b[1;32m   1108\u001b[0m \u001b[0;34m\u001b[0m\u001b[0m\n\u001b[0;32m-> 1109\u001b[0;31m         \u001b[0;32mreturn\u001b[0m \u001b[0mself\u001b[0m\u001b[0;34m.\u001b[0m\u001b[0m_getitem_tuple_same_dim\u001b[0m\u001b[0;34m(\u001b[0m\u001b[0mtup\u001b[0m\u001b[0;34m)\u001b[0m\u001b[0;34m\u001b[0m\u001b[0;34m\u001b[0m\u001b[0m\n\u001b[0m\u001b[1;32m   1110\u001b[0m \u001b[0;34m\u001b[0m\u001b[0m\n\u001b[1;32m   1111\u001b[0m     \u001b[0;32mdef\u001b[0m \u001b[0m_get_label\u001b[0m\u001b[0;34m(\u001b[0m\u001b[0mself\u001b[0m\u001b[0;34m,\u001b[0m \u001b[0mlabel\u001b[0m\u001b[0;34m,\u001b[0m \u001b[0maxis\u001b[0m\u001b[0;34m:\u001b[0m \u001b[0mint\u001b[0m\u001b[0;34m)\u001b[0m\u001b[0;34m:\u001b[0m\u001b[0;34m\u001b[0m\u001b[0;34m\u001b[0m\u001b[0m\n",
      "\u001b[0;32m~/opt/anaconda3/lib/python3.8/site-packages/pandas/core/indexing.py\u001b[0m in \u001b[0;36m_getitem_tuple_same_dim\u001b[0;34m(self, tup)\u001b[0m\n\u001b[1;32m    804\u001b[0m                 \u001b[0;32mcontinue\u001b[0m\u001b[0;34m\u001b[0m\u001b[0;34m\u001b[0m\u001b[0m\n\u001b[1;32m    805\u001b[0m \u001b[0;34m\u001b[0m\u001b[0m\n\u001b[0;32m--> 806\u001b[0;31m             \u001b[0mretval\u001b[0m \u001b[0;34m=\u001b[0m \u001b[0mgetattr\u001b[0m\u001b[0;34m(\u001b[0m\u001b[0mretval\u001b[0m\u001b[0;34m,\u001b[0m \u001b[0mself\u001b[0m\u001b[0;34m.\u001b[0m\u001b[0mname\u001b[0m\u001b[0;34m)\u001b[0m\u001b[0;34m.\u001b[0m\u001b[0m_getitem_axis\u001b[0m\u001b[0;34m(\u001b[0m\u001b[0mkey\u001b[0m\u001b[0;34m,\u001b[0m \u001b[0maxis\u001b[0m\u001b[0;34m=\u001b[0m\u001b[0mi\u001b[0m\u001b[0;34m)\u001b[0m\u001b[0;34m\u001b[0m\u001b[0;34m\u001b[0m\u001b[0m\n\u001b[0m\u001b[1;32m    807\u001b[0m             \u001b[0;31m# We should never have retval.ndim < self.ndim, as that should\u001b[0m\u001b[0;34m\u001b[0m\u001b[0;34m\u001b[0m\u001b[0;34m\u001b[0m\u001b[0m\n\u001b[1;32m    808\u001b[0m             \u001b[0;31m#  be handled by the _getitem_lowerdim call above.\u001b[0m\u001b[0;34m\u001b[0m\u001b[0;34m\u001b[0m\u001b[0;34m\u001b[0m\u001b[0m\n",
      "\u001b[0;32m~/opt/anaconda3/lib/python3.8/site-packages/pandas/core/indexing.py\u001b[0m in \u001b[0;36m_getitem_axis\u001b[0;34m(self, key, axis)\u001b[0m\n\u001b[1;32m   1151\u001b[0m                     \u001b[0;32mraise\u001b[0m \u001b[0mValueError\u001b[0m\u001b[0;34m(\u001b[0m\u001b[0;34m\"Cannot index with multidimensional key\"\u001b[0m\u001b[0;34m)\u001b[0m\u001b[0;34m\u001b[0m\u001b[0;34m\u001b[0m\u001b[0m\n\u001b[1;32m   1152\u001b[0m \u001b[0;34m\u001b[0m\u001b[0m\n\u001b[0;32m-> 1153\u001b[0;31m                 \u001b[0;32mreturn\u001b[0m \u001b[0mself\u001b[0m\u001b[0;34m.\u001b[0m\u001b[0m_getitem_iterable\u001b[0m\u001b[0;34m(\u001b[0m\u001b[0mkey\u001b[0m\u001b[0;34m,\u001b[0m \u001b[0maxis\u001b[0m\u001b[0;34m=\u001b[0m\u001b[0maxis\u001b[0m\u001b[0;34m)\u001b[0m\u001b[0;34m\u001b[0m\u001b[0;34m\u001b[0m\u001b[0m\n\u001b[0m\u001b[1;32m   1154\u001b[0m \u001b[0;34m\u001b[0m\u001b[0m\n\u001b[1;32m   1155\u001b[0m             \u001b[0;31m# nested tuple slicing\u001b[0m\u001b[0;34m\u001b[0m\u001b[0;34m\u001b[0m\u001b[0;34m\u001b[0m\u001b[0m\n",
      "\u001b[0;32m~/opt/anaconda3/lib/python3.8/site-packages/pandas/core/indexing.py\u001b[0m in \u001b[0;36m_getitem_iterable\u001b[0;34m(self, key, axis)\u001b[0m\n\u001b[1;32m   1091\u001b[0m \u001b[0;34m\u001b[0m\u001b[0m\n\u001b[1;32m   1092\u001b[0m         \u001b[0;31m# A collection of keys\u001b[0m\u001b[0;34m\u001b[0m\u001b[0;34m\u001b[0m\u001b[0;34m\u001b[0m\u001b[0m\n\u001b[0;32m-> 1093\u001b[0;31m         \u001b[0mkeyarr\u001b[0m\u001b[0;34m,\u001b[0m \u001b[0mindexer\u001b[0m \u001b[0;34m=\u001b[0m \u001b[0mself\u001b[0m\u001b[0;34m.\u001b[0m\u001b[0m_get_listlike_indexer\u001b[0m\u001b[0;34m(\u001b[0m\u001b[0mkey\u001b[0m\u001b[0;34m,\u001b[0m \u001b[0maxis\u001b[0m\u001b[0;34m)\u001b[0m\u001b[0;34m\u001b[0m\u001b[0;34m\u001b[0m\u001b[0m\n\u001b[0m\u001b[1;32m   1094\u001b[0m         return self.obj._reindex_with_indexers(\n\u001b[1;32m   1095\u001b[0m             \u001b[0;34m{\u001b[0m\u001b[0maxis\u001b[0m\u001b[0;34m:\u001b[0m \u001b[0;34m[\u001b[0m\u001b[0mkeyarr\u001b[0m\u001b[0;34m,\u001b[0m \u001b[0mindexer\u001b[0m\u001b[0;34m]\u001b[0m\u001b[0;34m}\u001b[0m\u001b[0;34m,\u001b[0m \u001b[0mcopy\u001b[0m\u001b[0;34m=\u001b[0m\u001b[0;32mTrue\u001b[0m\u001b[0;34m,\u001b[0m \u001b[0mallow_dups\u001b[0m\u001b[0;34m=\u001b[0m\u001b[0;32mTrue\u001b[0m\u001b[0;34m\u001b[0m\u001b[0;34m\u001b[0m\u001b[0m\n",
      "\u001b[0;32m~/opt/anaconda3/lib/python3.8/site-packages/pandas/core/indexing.py\u001b[0m in \u001b[0;36m_get_listlike_indexer\u001b[0;34m(self, key, axis)\u001b[0m\n\u001b[1;32m   1312\u001b[0m             \u001b[0mkeyarr\u001b[0m\u001b[0;34m,\u001b[0m \u001b[0mindexer\u001b[0m\u001b[0;34m,\u001b[0m \u001b[0mnew_indexer\u001b[0m \u001b[0;34m=\u001b[0m \u001b[0max\u001b[0m\u001b[0;34m.\u001b[0m\u001b[0m_reindex_non_unique\u001b[0m\u001b[0;34m(\u001b[0m\u001b[0mkeyarr\u001b[0m\u001b[0;34m)\u001b[0m\u001b[0;34m\u001b[0m\u001b[0;34m\u001b[0m\u001b[0m\n\u001b[1;32m   1313\u001b[0m \u001b[0;34m\u001b[0m\u001b[0m\n\u001b[0;32m-> 1314\u001b[0;31m         \u001b[0mself\u001b[0m\u001b[0;34m.\u001b[0m\u001b[0m_validate_read_indexer\u001b[0m\u001b[0;34m(\u001b[0m\u001b[0mkeyarr\u001b[0m\u001b[0;34m,\u001b[0m \u001b[0mindexer\u001b[0m\u001b[0;34m,\u001b[0m \u001b[0maxis\u001b[0m\u001b[0;34m)\u001b[0m\u001b[0;34m\u001b[0m\u001b[0;34m\u001b[0m\u001b[0m\n\u001b[0m\u001b[1;32m   1315\u001b[0m \u001b[0;34m\u001b[0m\u001b[0m\n\u001b[1;32m   1316\u001b[0m         if needs_i8_conversion(ax.dtype) or isinstance(\n",
      "\u001b[0;32m~/opt/anaconda3/lib/python3.8/site-packages/pandas/core/indexing.py\u001b[0m in \u001b[0;36m_validate_read_indexer\u001b[0;34m(self, key, indexer, axis)\u001b[0m\n\u001b[1;32m   1372\u001b[0m                 \u001b[0;32mif\u001b[0m \u001b[0muse_interval_msg\u001b[0m\u001b[0;34m:\u001b[0m\u001b[0;34m\u001b[0m\u001b[0;34m\u001b[0m\u001b[0m\n\u001b[1;32m   1373\u001b[0m                     \u001b[0mkey\u001b[0m \u001b[0;34m=\u001b[0m \u001b[0mlist\u001b[0m\u001b[0;34m(\u001b[0m\u001b[0mkey\u001b[0m\u001b[0;34m)\u001b[0m\u001b[0;34m\u001b[0m\u001b[0;34m\u001b[0m\u001b[0m\n\u001b[0;32m-> 1374\u001b[0;31m                 \u001b[0;32mraise\u001b[0m \u001b[0mKeyError\u001b[0m\u001b[0;34m(\u001b[0m\u001b[0;34mf\"None of [{key}] are in the [{axis_name}]\"\u001b[0m\u001b[0;34m)\u001b[0m\u001b[0;34m\u001b[0m\u001b[0;34m\u001b[0m\u001b[0m\n\u001b[0m\u001b[1;32m   1375\u001b[0m \u001b[0;34m\u001b[0m\u001b[0m\n\u001b[1;32m   1376\u001b[0m             \u001b[0mnot_found\u001b[0m \u001b[0;34m=\u001b[0m \u001b[0mlist\u001b[0m\u001b[0;34m(\u001b[0m\u001b[0mensure_index\u001b[0m\u001b[0;34m(\u001b[0m\u001b[0mkey\u001b[0m\u001b[0;34m)\u001b[0m\u001b[0;34m[\u001b[0m\u001b[0mmissing_mask\u001b[0m\u001b[0;34m.\u001b[0m\u001b[0mnonzero\u001b[0m\u001b[0;34m(\u001b[0m\u001b[0;34m)\u001b[0m\u001b[0;34m[\u001b[0m\u001b[0;36m0\u001b[0m\u001b[0;34m]\u001b[0m\u001b[0;34m]\u001b[0m\u001b[0;34m.\u001b[0m\u001b[0munique\u001b[0m\u001b[0;34m(\u001b[0m\u001b[0;34m)\u001b[0m\u001b[0;34m)\u001b[0m\u001b[0;34m\u001b[0m\u001b[0;34m\u001b[0m\u001b[0m\n",
      "\u001b[0;31mKeyError\u001b[0m: \"None of [Index(['a', 'b', 'c'], dtype='object')] are in the [columns]\""
     ]
    }
   ],
   "source": [
    "#df3= pd.read_csv(\"test5.csv\")\n",
    "df3.to_csv(\"new2.csv\", columns= ['a', 'b', 'c'])"
   ]
  },
  {
   "cell_type": "code",
   "execution_count": 52,
   "id": "b184ab15",
   "metadata": {},
   "outputs": [
    {
     "data": {
      "text/plain": [
       "DatetimeIndex(['2020-02-08', '2020-02-09', '2020-02-10', '2020-02-11',\n",
       "               '2020-02-12', '2020-02-13', '2020-02-14', '2020-02-15',\n",
       "               '2020-02-16', '2020-02-17', '2020-02-18', '2020-02-19',\n",
       "               '2020-02-20', '2020-02-21', '2020-02-22', '2020-02-23',\n",
       "               '2020-02-24', '2020-02-25', '2020-02-26', '2020-02-27',\n",
       "               '2020-02-28', '2020-02-29', '2020-03-01', '2020-03-02',\n",
       "               '2020-03-03', '2020-03-04', '2020-03-05', '2020-03-06',\n",
       "               '2020-03-07', '2020-03-08', '2020-03-09', '2020-03-10',\n",
       "               '2020-03-11', '2020-03-12', '2020-03-13', '2020-03-14',\n",
       "               '2020-03-15', '2020-03-16', '2020-03-17', '2020-03-18',\n",
       "               '2020-03-19', '2020-03-20', '2020-03-21', '2020-03-22',\n",
       "               '2020-03-23', '2020-03-24', '2020-03-25', '2020-03-26',\n",
       "               '2020-03-27', '2020-03-28'],\n",
       "              dtype='datetime64[ns]', freq='D')"
      ]
     },
     "execution_count": 52,
     "metadata": {},
     "output_type": "execute_result"
    }
   ],
   "source": [
    "#create new dataset of dates\n",
    "#in american date format\n",
    "\n",
    "dates= pd.date_range('2/8/2020',periods=50) #arg- start date, end date, period:how many dates from start\n",
    "dates"
   ]
  },
  {
   "cell_type": "code",
   "execution_count": 53,
   "id": "546762cc",
   "metadata": {},
   "outputs": [
    {
     "data": {
      "text/plain": [
       "pandas.core.indexes.datetimes.DatetimeIndex"
      ]
     },
     "execution_count": 53,
     "metadata": {},
     "output_type": "execute_result"
    }
   ],
   "source": [
    "type(dates)"
   ]
  },
  {
   "cell_type": "code",
   "execution_count": 50,
   "id": "4387cf44",
   "metadata": {},
   "outputs": [
    {
     "data": {
      "text/plain": [
       "DatetimeIndex(['2020-02-08 00:00:00', '2020-02-08 08:00:00',\n",
       "               '2020-02-08 16:00:00', '2020-02-09 00:00:00',\n",
       "               '2020-02-09 08:00:00', '2020-02-09 16:00:00',\n",
       "               '2020-02-10 00:00:00'],\n",
       "              dtype='datetime64[ns]', freq=None)"
      ]
     },
     "execution_count": 50,
     "metadata": {},
     "output_type": "execute_result"
    }
   ],
   "source": [
    "date1= pd.date_range('2/8/2020','2/10/2020' ,periods=7)\n",
    "date1"
   ]
  },
  {
   "cell_type": "code",
   "execution_count": 60,
   "id": "44452cd0",
   "metadata": {},
   "outputs": [],
   "source": [
    "date2= pd.date_range('2/8/2020',periods=7) "
   ]
  },
  {
   "cell_type": "markdown",
   "id": "8d723b3f",
   "metadata": {},
   "source": [
    "## range vs arange\n",
    "\n",
    "* range is available in python core. arange is available in numpy\n",
    "* range returns int series\n",
    "* arange returns float series\n"
   ]
  },
  {
   "cell_type": "code",
   "execution_count": 55,
   "id": "fbdcccd9",
   "metadata": {},
   "outputs": [
    {
     "data": {
      "text/plain": [
       "0      0\n",
       "1      1\n",
       "2      2\n",
       "3      3\n",
       "4      4\n",
       "      ..\n",
       "65    65\n",
       "66    66\n",
       "67    67\n",
       "68    68\n",
       "69    69\n",
       "Length: 70, dtype: int64"
      ]
     },
     "execution_count": 55,
     "metadata": {},
     "output_type": "execute_result"
    }
   ],
   "source": [
    "import numpy as np\n",
    "\n",
    "ts= pd.Series(np.arange(70))\n",
    "ts"
   ]
  },
  {
   "cell_type": "code",
   "execution_count": 61,
   "id": "cbfe2f33",
   "metadata": {},
   "outputs": [
    {
     "data": {
      "text/plain": [
       "2020-02-08    0\n",
       "2020-02-09    1\n",
       "2020-02-10    2\n",
       "2020-02-11    3\n",
       "2020-02-12    4\n",
       "2020-02-13    5\n",
       "2020-02-14    6\n",
       "Freq: D, dtype: int64"
      ]
     },
     "execution_count": 61,
     "metadata": {},
     "output_type": "execute_result"
    }
   ],
   "source": [
    "#to change the index of this range\n",
    "\n",
    "ts1= pd.Series(np.arange(7), index= date2)\n",
    "ts1"
   ]
  },
  {
   "cell_type": "code",
   "execution_count": 62,
   "id": "d826fcd0",
   "metadata": {},
   "outputs": [
    {
     "data": {
      "text/plain": [
       "Melissa    0\n",
       "Whisky     1\n",
       "Coco       2\n",
       "Picu       3\n",
       "dtype: int64"
      ]
     },
     "execution_count": 62,
     "metadata": {},
     "output_type": "execute_result"
    }
   ],
   "source": [
    "ts2= pd.Series(np.arange(4), index= [\"Melissa\",\"Whisky\",\"Coco\",\"Picu\"])\n",
    "ts2"
   ]
  },
  {
   "cell_type": "code",
   "execution_count": 64,
   "id": "57b0529c",
   "metadata": {},
   "outputs": [
    {
     "data": {
      "text/plain": [
       "2020-02-08    0\n",
       "2020-02-09    1\n",
       "2020-02-10    2\n",
       "2020-02-11    3\n",
       "2020-02-12    4\n",
       "2020-02-13    5\n",
       "2020-02-14    6\n",
       "2020-02-15    7\n",
       "2020-02-16    8\n",
       "2020-02-17    9\n",
       "Freq: D, dtype: int64"
      ]
     },
     "execution_count": 64,
     "metadata": {},
     "output_type": "execute_result"
    }
   ],
   "source": [
    "#to write data: use to_csv\n",
    "\n",
    "date3= pd.date_range('2/8/2020',periods=10) \n",
    "ts3= pd.Series(np.arange(10), index= date3)\n",
    "ts3.to_csv('timeseries.csv')\n",
    "ts3"
   ]
  },
  {
   "cell_type": "code",
   "execution_count": 11,
   "id": "76cee858",
   "metadata": {},
   "outputs": [
    {
     "data": {
      "text/plain": [
       "[['', 'vdagn', 'yrk', 'ngff ', 'dngd'],\n",
       " ['0', 'nhrymw', '', '', ''],\n",
       " ['1', '', 'jryk', 'ngfsf', ''],\n",
       " ['2', '', '', '', ''],\n",
       " ['3', 'mntwy,', 'ngf', '', ''],\n",
       " ['4', 'nrs', '', 'ngfn', ''],\n",
       " ['5', '', '', '', 'ngdnj'],\n",
       " ['6', 'n', 'nsryj', '', 'badgn']]"
      ]
     },
     "execution_count": 11,
     "metadata": {},
     "output_type": "execute_result"
    }
   ],
   "source": [
    "import csv\n",
    "\n",
    "f1= open('xyzz.csv')\n",
    "\n",
    "reader1= csv.reader(f1)#The returned object is an iterator.  Each iteration returns a row\n",
    "#of the CSV file \n",
    "list(reader1)"
   ]
  },
  {
   "cell_type": "code",
   "execution_count": 12,
   "id": "a8a38c4b",
   "metadata": {},
   "outputs": [
    {
     "data": {
      "text/plain": [
       "_csv.reader"
      ]
     },
     "execution_count": 12,
     "metadata": {},
     "output_type": "execute_result"
    }
   ],
   "source": [
    "type(reader)"
   ]
  },
  {
   "cell_type": "code",
   "execution_count": 14,
   "id": "e2690508",
   "metadata": {},
   "outputs": [],
   "source": [
    "for line in reader1:\n",
    "    print(line)"
   ]
  },
  {
   "cell_type": "code",
   "execution_count": 15,
   "id": "e764eb2c",
   "metadata": {},
   "outputs": [
    {
     "data": {
      "text/plain": [
       "[['', 'vdagn', 'yrk', 'ngff ', 'dngd'],\n",
       " ['0', 'nhrymw', '', '', ''],\n",
       " ['1', '', 'jryk', 'ngfsf', ''],\n",
       " ['2', '', '', '', ''],\n",
       " ['3', 'mntwy,', 'ngf', '', ''],\n",
       " ['4', 'nrs', '', 'ngfn', ''],\n",
       " ['5', '', '', '', 'ngdnj'],\n",
       " ['6', 'n', 'nsryj', '', 'badgn']]"
      ]
     },
     "execution_count": 15,
     "metadata": {},
     "output_type": "execute_result"
    }
   ],
   "source": [
    "with open('xyzz.csv') as f1:\n",
    "    lines= list(csv.reader(f1))\n",
    "lines"
   ]
  },
  {
   "cell_type": "code",
   "execution_count": 17,
   "id": "2127a7ca",
   "metadata": {},
   "outputs": [
    {
     "name": "stdout",
     "output_type": "stream",
     "text": [
      "1 Melissa 45\n"
     ]
    }
   ],
   "source": [
    "#creating value in multiple lines\n",
    "a=1\n",
    "b= \"Melissa\"\n",
    "c=45\n",
    "\n",
    "print(a,b,c)"
   ]
  },
  {
   "cell_type": "code",
   "execution_count": 19,
   "id": "9d27d613",
   "metadata": {},
   "outputs": [
    {
     "name": "stdout",
     "output_type": "stream",
     "text": [
      "1 2 3\n"
     ]
    }
   ],
   "source": [
    "#creating values in single line\n",
    "a,b,c= 1,2,3\n",
    "print(a,b,c)"
   ]
  },
  {
   "cell_type": "code",
   "execution_count": 21,
   "id": "3783ccc2",
   "metadata": {},
   "outputs": [
    {
     "data": {
      "text/plain": [
       "['', 'vdagn', 'yrk', 'ngff ', 'dngd']"
      ]
     },
     "execution_count": 21,
     "metadata": {},
     "output_type": "execute_result"
    }
   ],
   "source": [
    "#similarly for line dataset\n",
    "\n",
    "lines[0]"
   ]
  },
  {
   "cell_type": "code",
   "execution_count": 25,
   "id": "bde47db8",
   "metadata": {},
   "outputs": [
    {
     "data": {
      "text/plain": [
       "['', 'vdagn', 'yrk', 'ngff ', 'dngd']"
      ]
     },
     "execution_count": 25,
     "metadata": {},
     "output_type": "execute_result"
    }
   ],
   "source": [
    "header, values= lines[0], lines[1:] #assign 1st row as header and rest of rows as lines\n",
    "\n",
    "header"
   ]
  },
  {
   "cell_type": "code",
   "execution_count": 26,
   "id": "f0eb3e23",
   "metadata": {},
   "outputs": [
    {
     "data": {
      "text/plain": [
       "[['0', 'nhrymw', '', '', ''],\n",
       " ['1', '', 'jryk', 'ngfsf', ''],\n",
       " ['2', '', '', '', ''],\n",
       " ['3', 'mntwy,', 'ngf', '', ''],\n",
       " ['4', 'nrs', '', 'ngfn', ''],\n",
       " ['5', '', '', '', 'ngdnj'],\n",
       " ['6', 'n', 'nsryj', '', 'badgn']]"
      ]
     },
     "execution_count": 26,
     "metadata": {},
     "output_type": "execute_result"
    }
   ],
   "source": [
    "values"
   ]
  },
  {
   "cell_type": "code",
   "execution_count": 27,
   "id": "a9f641da",
   "metadata": {},
   "outputs": [
    {
     "ename": "TypeError",
     "evalue": "'int' object is not iterable",
     "output_type": "error",
     "traceback": [
      "\u001b[0;31m---------------------------------------------------------------------------\u001b[0m",
      "\u001b[0;31mTypeError\u001b[0m                                 Traceback (most recent call last)",
      "\u001b[0;32m/var/folders/pz/8fj7_jqs1_lglvwks1ym9jl40000gn/T/ipykernel_14404/1096613612.py\u001b[0m in \u001b[0;36m<module>\u001b[0;34m\u001b[0m\n\u001b[0;32m----> 1\u001b[0;31m \u001b[0mzip\u001b[0m\u001b[0;34m(\u001b[0m\u001b[0ma\u001b[0m\u001b[0;34m,\u001b[0m\u001b[0mb\u001b[0m\u001b[0;34m)\u001b[0m\u001b[0;34m\u001b[0m\u001b[0;34m\u001b[0m\u001b[0m\n\u001b[0m",
      "\u001b[0;31mTypeError\u001b[0m: 'int' object is not iterable"
     ]
    }
   ],
   "source": [
    "zip(a,b) # we need to pass iterabe objects\n"
   ]
  },
  {
   "cell_type": "code",
   "execution_count": 28,
   "id": "9bcb5ea8",
   "metadata": {},
   "outputs": [
    {
     "data": {
      "text/plain": [
       "<zip at 0x7fa84d66c200>"
      ]
     },
     "execution_count": 28,
     "metadata": {},
     "output_type": "execute_result"
    }
   ],
   "source": [
    "zip(values)"
   ]
  },
  {
   "cell_type": "code",
   "execution_count": 29,
   "id": "5e750845",
   "metadata": {},
   "outputs": [
    {
     "data": {
      "text/plain": [
       "[(['0', 'nhrymw', '', '', ''],),\n",
       " (['1', '', 'jryk', 'ngfsf', ''],),\n",
       " (['2', '', '', '', ''],),\n",
       " (['3', 'mntwy,', 'ngf', '', ''],),\n",
       " (['4', 'nrs', '', 'ngfn', ''],),\n",
       " (['5', '', '', '', 'ngdnj'],),\n",
       " (['6', 'n', 'nsryj', '', 'badgn'],)]"
      ]
     },
     "execution_count": 29,
     "metadata": {},
     "output_type": "execute_result"
    }
   ],
   "source": [
    "list(zip(values))\n",
    "#values had\n",
    "#zip combines based on indices"
   ]
  },
  {
   "cell_type": "code",
   "execution_count": 32,
   "id": "e5837f11",
   "metadata": {},
   "outputs": [
    {
     "data": {
      "text/plain": [
       "[['a', 'b', 'c'], ['1', '2', '3'], ['4', '5', '6']]"
      ]
     },
     "execution_count": 32,
     "metadata": {},
     "output_type": "execute_result"
    }
   ],
   "source": [
    "import csv\n",
    "\n",
    "f2= open('/Users/melissavidiera/Downloads/test6.csv')\n",
    "reader2= csv.reader(f2)\n",
    "list(reader2)"
   ]
  },
  {
   "cell_type": "code",
   "execution_count": 34,
   "id": "a7cce24d",
   "metadata": {},
   "outputs": [],
   "source": [
    "for l in reader2:\n",
    "    print(l)"
   ]
  },
  {
   "cell_type": "code",
   "execution_count": 37,
   "id": "d51b536e",
   "metadata": {},
   "outputs": [
    {
     "data": {
      "text/plain": [
       "[['a', 'b', 'c'], ['1', '2', '3'], ['4', '5', '6']]"
      ]
     },
     "execution_count": 37,
     "metadata": {},
     "output_type": "execute_result"
    }
   ],
   "source": [
    "with open('/Users/melissavidiera/Downloads/test6.csv') as f2:\n",
    "    lines2= list(csv.reader(f2))\n",
    "lines2"
   ]
  },
  {
   "cell_type": "code",
   "execution_count": 40,
   "id": "953a67a1",
   "metadata": {},
   "outputs": [
    {
     "data": {
      "text/plain": [
       "['a', 'b', 'c']"
      ]
     },
     "execution_count": 40,
     "metadata": {},
     "output_type": "execute_result"
    }
   ],
   "source": [
    "header1, values1= lines2[0], lines2[1:]\n",
    "header1"
   ]
  },
  {
   "cell_type": "code",
   "execution_count": 41,
   "id": "a7c6c66a",
   "metadata": {},
   "outputs": [
    {
     "data": {
      "text/plain": [
       "[['1', '2', '3'], ['4', '5', '6']]"
      ]
     },
     "execution_count": 41,
     "metadata": {},
     "output_type": "execute_result"
    }
   ],
   "source": [
    "values1"
   ]
  },
  {
   "cell_type": "code",
   "execution_count": 42,
   "id": "22954500",
   "metadata": {},
   "outputs": [
    {
     "data": {
      "text/plain": [
       "<zip at 0x7fa84d85dd40>"
      ]
     },
     "execution_count": 42,
     "metadata": {},
     "output_type": "execute_result"
    }
   ],
   "source": [
    "zip(values1)"
   ]
  },
  {
   "cell_type": "code",
   "execution_count": 43,
   "id": "49ff019d",
   "metadata": {},
   "outputs": [
    {
     "data": {
      "text/plain": [
       "[(['1', '2', '3'],), (['4', '5', '6'],)]"
      ]
     },
     "execution_count": 43,
     "metadata": {},
     "output_type": "execute_result"
    }
   ],
   "source": [
    "list(zip(values1))\n",
    "#concatenation: return tuple"
   ]
  },
  {
   "cell_type": "code",
   "execution_count": 47,
   "id": "d315f3d8",
   "metadata": {},
   "outputs": [
    {
     "data": {
      "text/plain": [
       "[('1', '4'), ('2', '5'), ('3', '6')]"
      ]
     },
     "execution_count": 47,
     "metadata": {},
     "output_type": "execute_result"
    }
   ],
   "source": [
    "list(zip(*values1)) #index wise zipping"
   ]
  },
  {
   "cell_type": "code",
   "execution_count": 50,
   "id": "4bbb7e53",
   "metadata": {},
   "outputs": [
    {
     "data": {
      "text/plain": [
       "[('a', ('1', '4')), ('b', ('2', '5')), ('c', ('3', '6'))]"
      ]
     },
     "execution_count": 50,
     "metadata": {},
     "output_type": "execute_result"
    }
   ],
   "source": [
    "#index wise zipping: first zip values index wise then zip those values with header1 contents\n",
    "\n",
    "list(zip(header1, zip(*values1))) "
   ]
  },
  {
   "cell_type": "code",
   "execution_count": 53,
   "id": "198d3878",
   "metadata": {},
   "outputs": [
    {
     "data": {
      "text/plain": [
       "<zip at 0x7fa84d78e540>"
      ]
     },
     "execution_count": 53,
     "metadata": {},
     "output_type": "execute_result"
    }
   ],
   "source": [
    "l1= [1,2,3,4,5]\n",
    "l2=[5,6,7,8]\n",
    "zip(l1,l2)"
   ]
  },
  {
   "cell_type": "code",
   "execution_count": 54,
   "id": "1b4c3f70",
   "metadata": {},
   "outputs": [
    {
     "data": {
      "text/plain": [
       "[(1, 5), (2, 6), (3, 7), (4, 8)]"
      ]
     },
     "execution_count": 54,
     "metadata": {},
     "output_type": "execute_result"
    }
   ],
   "source": [
    "list(zip(l1,l2))"
   ]
  },
  {
   "cell_type": "markdown",
   "id": "9a41e5f9",
   "metadata": {},
   "source": [
    "# JSON data\n",
    "\n",
    "* Javascript object notation\n",
    "* transfer data between servers\n",
    "* format is like dictionary\n",
    "\n"
   ]
  },
  {
   "cell_type": "code",
   "execution_count": 55,
   "id": "d5fd00aa",
   "metadata": {},
   "outputs": [],
   "source": [
    "obj= \"\"\"\n",
    "\n",
    "{ \"name\": \"Melissa\",\n",
    "   \"places_lived\" : [\"Mangalore\", \"Mandya\", \"Bangalore\"],\n",
    "   \"pet\": [\"Ken\",\"Picu\", \"Whisky\",\"Coco\"],\n",
    "   \"siblings\": [{\"name\": \"Prennie\", \"age\": 35, \"pets\": \"Ken\"},\n",
    "               {\"name\":\"Vinu\", \"age\": 28, \"pets\": null}]\n",
    "}\n",
    "\"\"\"\n",
    "\n",
    "#copy this one except 1st and last line. paste in json viewer google result 1st link to view jason file\n",
    "#this viewer will help us viewing structure of data\n"
   ]
  },
  {
   "cell_type": "code",
   "execution_count": 56,
   "id": "a73a53c3",
   "metadata": {},
   "outputs": [
    {
     "data": {
      "text/plain": [
       "str"
      ]
     },
     "execution_count": 56,
     "metadata": {},
     "output_type": "execute_result"
    }
   ],
   "source": [
    "type(obj) #entire thing is enclsed in triple quote that's why the type is string"
   ]
  },
  {
   "cell_type": "code",
   "execution_count": 59,
   "id": "4041f368",
   "metadata": {},
   "outputs": [
    {
     "data": {
      "text/plain": [
       "{'name': 'Melissa',\n",
       " 'places_lived': ['Mangalore', 'Mandya', 'Bangalore'],\n",
       " 'pet': ['Ken', 'Picu', 'Whisky', 'Coco'],\n",
       " 'siblings': [{'name': 'Prennie', 'age': 35, 'pets': 'Ken'},\n",
       "  {'name': 'Vinu', 'age': 28, 'pets': None}]}"
      ]
     },
     "execution_count": 59,
     "metadata": {},
     "output_type": "execute_result"
    }
   ],
   "source": [
    "import json\n",
    "result= json.loads(obj) # loads convert string into dict\n",
    "result"
   ]
  },
  {
   "cell_type": "code",
   "execution_count": 60,
   "id": "4f033e1e",
   "metadata": {},
   "outputs": [
    {
     "data": {
      "text/plain": [
       "dict"
      ]
     },
     "execution_count": 60,
     "metadata": {},
     "output_type": "execute_result"
    }
   ],
   "source": [
    "type(result) #now I have loaded obj which was string usong json and now it's type is dictionary"
   ]
  },
  {
   "cell_type": "code",
   "execution_count": 61,
   "id": "ba81606d",
   "metadata": {},
   "outputs": [
    {
     "data": {
      "text/plain": [
       "'\\n\\n{ \"name\": \"Melissa\",\\n   \"places_lived\" : [\"Mangalore\", \"Mandya\", \"Bangalore\"],\\n   \"pet\": [\"Ken\",\"Picu\", \"Whisky\",\"Coco\"],\\n   \"siblings\": [{\"name\": \"Prennie\", \"age\": 35, \"pets\": \"Ken\"},\\n               {\"name\":\"Vinu\", \"age\": 28, \"pets\": null}]\\n}\\n'"
      ]
     },
     "execution_count": 61,
     "metadata": {},
     "output_type": "execute_result"
    }
   ],
   "source": [
    "asjson= json.dumps(obj) #dumps converts dict back to string\n",
    "obj"
   ]
  },
  {
   "cell_type": "code",
   "execution_count": 62,
   "id": "7b0ffa85",
   "metadata": {},
   "outputs": [
    {
     "data": {
      "text/plain": [
       "str"
      ]
     },
     "execution_count": 62,
     "metadata": {},
     "output_type": "execute_result"
    }
   ],
   "source": [
    "type(obj)"
   ]
  },
  {
   "cell_type": "code",
   "execution_count": 63,
   "id": "091b1540",
   "metadata": {},
   "outputs": [
    {
     "data": {
      "text/plain": [
       "[{'name': 'Prennie', 'age': 35, 'pets': 'Ken'},\n",
       " {'name': 'Vinu', 'age': 28, 'pets': None}]"
      ]
     },
     "execution_count": 63,
     "metadata": {},
     "output_type": "execute_result"
    }
   ],
   "source": [
    "#read a chunk of data from dict and load into dataframe\n",
    "#convert into dataframe using pandas\n",
    "\n",
    "result['siblings'] #take a chunk of data from dict"
   ]
  },
  {
   "cell_type": "code",
   "execution_count": 67,
   "id": "d5d5c29d",
   "metadata": {},
   "outputs": [
    {
     "data": {
      "text/html": [
       "<div>\n",
       "<style scoped>\n",
       "    .dataframe tbody tr th:only-of-type {\n",
       "        vertical-align: middle;\n",
       "    }\n",
       "\n",
       "    .dataframe tbody tr th {\n",
       "        vertical-align: top;\n",
       "    }\n",
       "\n",
       "    .dataframe thead th {\n",
       "        text-align: right;\n",
       "    }\n",
       "</style>\n",
       "<table border=\"1\" class=\"dataframe\">\n",
       "  <thead>\n",
       "    <tr style=\"text-align: right;\">\n",
       "      <th></th>\n",
       "      <th>name</th>\n",
       "      <th>age</th>\n",
       "      <th>pets</th>\n",
       "    </tr>\n",
       "  </thead>\n",
       "  <tbody>\n",
       "    <tr>\n",
       "      <th>0</th>\n",
       "      <td>Prennie</td>\n",
       "      <td>35</td>\n",
       "      <td>Ken</td>\n",
       "    </tr>\n",
       "    <tr>\n",
       "      <th>1</th>\n",
       "      <td>Vinu</td>\n",
       "      <td>28</td>\n",
       "      <td>None</td>\n",
       "    </tr>\n",
       "  </tbody>\n",
       "</table>\n",
       "</div>"
      ],
      "text/plain": [
       "      name  age  pets\n",
       "0  Prennie   35   Ken\n",
       "1     Vinu   28  None"
      ]
     },
     "execution_count": 67,
     "metadata": {},
     "output_type": "execute_result"
    }
   ],
   "source": [
    "#convert this data into df\n",
    "\n",
    "siblings= pd.DataFrame(result['siblings'])\n",
    "siblings"
   ]
  },
  {
   "cell_type": "code",
   "execution_count": 74,
   "id": "a99a9d18",
   "metadata": {},
   "outputs": [
    {
     "data": {
      "text/html": [
       "<div>\n",
       "<style scoped>\n",
       "    .dataframe tbody tr th:only-of-type {\n",
       "        vertical-align: middle;\n",
       "    }\n",
       "\n",
       "    .dataframe tbody tr th {\n",
       "        vertical-align: top;\n",
       "    }\n",
       "\n",
       "    .dataframe thead th {\n",
       "        text-align: right;\n",
       "    }\n",
       "</style>\n",
       "<table border=\"1\" class=\"dataframe\">\n",
       "  <thead>\n",
       "    <tr style=\"text-align: right;\">\n",
       "      <th></th>\n",
       "      <th>NAME</th>\n",
       "      <th>AGE</th>\n",
       "      <th>PETS</th>\n",
       "    </tr>\n",
       "  </thead>\n",
       "  <tbody>\n",
       "    <tr>\n",
       "      <th>0</th>\n",
       "      <td>NaN</td>\n",
       "      <td>NaN</td>\n",
       "      <td>NaN</td>\n",
       "    </tr>\n",
       "    <tr>\n",
       "      <th>1</th>\n",
       "      <td>NaN</td>\n",
       "      <td>NaN</td>\n",
       "      <td>NaN</td>\n",
       "    </tr>\n",
       "  </tbody>\n",
       "</table>\n",
       "</div>"
      ],
      "text/plain": [
       "   NAME  AGE  PETS\n",
       "0   NaN  NaN   NaN\n",
       "1   NaN  NaN   NaN"
      ]
     },
     "execution_count": 74,
     "metadata": {},
     "output_type": "execute_result"
    }
   ],
   "source": [
    "\n",
    "siblings1= pd.DataFrame(result['siblings'], columns=[\"NAME\",\"AGE\",\"PETS\"])\n",
    "siblings1"
   ]
  },
  {
   "cell_type": "code",
   "execution_count": 71,
   "id": "a7bf17da",
   "metadata": {},
   "outputs": [
    {
     "data": {
      "text/html": [
       "<div>\n",
       "<style scoped>\n",
       "    .dataframe tbody tr th:only-of-type {\n",
       "        vertical-align: middle;\n",
       "    }\n",
       "\n",
       "    .dataframe tbody tr th {\n",
       "        vertical-align: top;\n",
       "    }\n",
       "\n",
       "    .dataframe thead th {\n",
       "        text-align: right;\n",
       "    }\n",
       "</style>\n",
       "<table border=\"1\" class=\"dataframe\">\n",
       "  <thead>\n",
       "    <tr style=\"text-align: right;\">\n",
       "      <th></th>\n",
       "      <th>a</th>\n",
       "      <th>b</th>\n",
       "      <th>c</th>\n",
       "    </tr>\n",
       "  </thead>\n",
       "  <tbody>\n",
       "    <tr>\n",
       "      <th>0</th>\n",
       "      <td>1</td>\n",
       "      <td>2</td>\n",
       "      <td>3</td>\n",
       "    </tr>\n",
       "    <tr>\n",
       "      <th>1</th>\n",
       "      <td>4</td>\n",
       "      <td>5</td>\n",
       "      <td>6</td>\n",
       "    </tr>\n",
       "    <tr>\n",
       "      <th>2</th>\n",
       "      <td>7</td>\n",
       "      <td>8</td>\n",
       "      <td>9</td>\n",
       "    </tr>\n",
       "  </tbody>\n",
       "</table>\n",
       "</div>"
      ],
      "text/plain": [
       "   a  b  c\n",
       "0  1  2  3\n",
       "1  4  5  6\n",
       "2  7  8  9"
      ]
     },
     "execution_count": 71,
     "metadata": {},
     "output_type": "execute_result"
    }
   ],
   "source": [
    "data1= pd.read_json(\"json1.json\")\n",
    "data1"
   ]
  },
  {
   "cell_type": "code",
   "execution_count": null,
   "id": "f67a7bc4",
   "metadata": {},
   "outputs": [],
   "source": []
  },
  {
   "cell_type": "code",
   "execution_count": 76,
   "id": "933fac9f",
   "metadata": {},
   "outputs": [
    {
     "name": "stdout",
     "output_type": "stream",
     "text": [
      "{\"a\":{\"0\":1,\"1\":4,\"2\":7},\"b\":{\"0\":2,\"1\":5,\"2\":8},\"c\":{\"0\":3,\"1\":6,\"2\":9}}\n"
     ]
    }
   ],
   "source": [
    "#store data in json format/write json data format\n",
    "\n",
    "print(data1.to_json())\n",
    "#but this is different from actual data file"
   ]
  },
  {
   "cell_type": "code",
   "execution_count": 77,
   "id": "52fde42e",
   "metadata": {},
   "outputs": [
    {
     "name": "stdout",
     "output_type": "stream",
     "text": [
      "{\"a\":{\"0\":1,\"1\":4,\"2\":7},\"b\":{\"0\":2,\"1\":5,\"2\":8},\"c\":{\"0\":3,\"1\":6,\"2\":9}}\n",
      "[{\"a\":1,\"b\":2,\"c\":3},{\"a\":4,\"b\":5,\"c\":6},{\"a\":7,\"b\":8,\"c\":9}]\n"
     ]
    }
   ],
   "source": [
    "# to store the data as in json file we need to use arg called orient=records\n",
    "print(data1.to_json())\n",
    "print(data1.to_json(orient='records'))"
   ]
  },
  {
   "cell_type": "code",
   "execution_count": 81,
   "id": "c3cb0a4c",
   "metadata": {},
   "outputs": [
    {
     "data": {
      "text/plain": [
       "[                                        Bank NameBank           CityCity  \\\n",
       " 0                                   Almena State Bank             Almena   \n",
       " 1                          First City Bank of Florida  Fort Walton Beach   \n",
       " 2                                The First State Bank      Barboursville   \n",
       " 3                                  Ericson State Bank            Ericson   \n",
       " 4                    City National Bank of New Jersey             Newark   \n",
       " 5                                       Resolute Bank             Maumee   \n",
       " 6                               Louisa Community Bank             Louisa   \n",
       " 7                                The Enloe State Bank             Cooper   \n",
       " 8                 Washington Federal Bank for Savings            Chicago   \n",
       " 9     The Farmers and Merchants State Bank of Argonia            Argonia   \n",
       " 10                                Fayette County Bank         Saint Elmo   \n",
       " 11  Guaranty Bank, (d/b/a BestBank in Georgia & Mi...          Milwaukee   \n",
       " \n",
       "    StateSt  CertCert              Acquiring InstitutionAI Closing DateClosing  \\\n",
       " 0       KS     15426                          Equity Bank    October 23, 2020   \n",
       " 1       FL     16748            United Fidelity Bank, fsb    October 16, 2020   \n",
       " 2       WV     14361                       MVB Bank, Inc.       April 3, 2020   \n",
       " 3       NE     18265           Farmers and Merchants Bank   February 14, 2020   \n",
       " 4       NJ     21111                      Industrial Bank    November 1, 2019   \n",
       " 5       OH     58317                   Buckeye State Bank    October 25, 2019   \n",
       " 6       KY     58112    Kentucky Farmers Bank Corporation    October 25, 2019   \n",
       " 7       TX     10716                   Legend Bank, N. A.        May 31, 2019   \n",
       " 8       IL     30570                   Royal Savings Bank   December 15, 2017   \n",
       " 9       KS     17719                          Conway Bank    October 13, 2017   \n",
       " 10      IL      1802            United Fidelity Bank, fsb        May 26, 2017   \n",
       " 11      WI     30003  First-Citizens Bank & Trust Company         May 5, 2017   \n",
       " \n",
       "     FundFund  \n",
       " 0      10538  \n",
       " 1      10537  \n",
       " 2      10536  \n",
       " 3      10535  \n",
       " 4      10534  \n",
       " 5      10533  \n",
       " 6      10532  \n",
       " 7      10531  \n",
       " 8      10530  \n",
       " 9      10529  \n",
       " 10     10528  \n",
       " 11     10527  ]"
      ]
     },
     "execution_count": 81,
     "metadata": {},
     "output_type": "execute_result"
    }
   ],
   "source": [
    "tables=pd.read_html('failed_bank_list.html')\n",
    "#I googled failed bank list, saved google page.html and imported here\n",
    "#tables=pd.read_html('https://www.fdic.gov/resources/resolutions/bank-failures/failed-bank-list.html')\n",
    "tables"
   ]
  },
  {
   "cell_type": "code",
   "execution_count": null,
   "id": "1d14d93c",
   "metadata": {},
   "outputs": [],
   "source": [
    "# XMLand HTML web scrapping\n",
    "#to read from html page\n",
    "#by default we can extract tabular data\n",
    "\n",
    "tables=pd.read_html('failed_bank_list.html')\n",
    "len(tables)\n",
    "failures=tables[0]\n",
    "failures.head()\n"
   ]
  }
 ],
 "metadata": {
  "kernelspec": {
   "display_name": "Python 3 (ipykernel)",
   "language": "python",
   "name": "python3"
  },
  "language_info": {
   "codemirror_mode": {
    "name": "ipython",
    "version": 3
   },
   "file_extension": ".py",
   "mimetype": "text/x-python",
   "name": "python",
   "nbconvert_exporter": "python",
   "pygments_lexer": "ipython3",
   "version": "3.8.8"
  }
 },
 "nbformat": 4,
 "nbformat_minor": 5
}
