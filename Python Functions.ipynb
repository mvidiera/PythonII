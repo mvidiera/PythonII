{
 "cells": [
  {
   "cell_type": "markdown",
   "id": "89d06900",
   "metadata": {},
   "source": [
    "# Creating python function\n",
    "\n",
    "It is used to increase range \n",
    "we can use my own function and another person can use my function to make use of same task\n",
    "Python is OOP and functional programming language\n",
    "\n",
    "In other languages we use: return type(or void) function name(arguments) int square(i)\n",
    "these doesnt exist in python\n",
    "Def is used because python understands the datatypes\n",
    "Def means definition \n"
   ]
  },
  {
   "cell_type": "code",
   "execution_count": 1,
   "id": "61d2bfa3",
   "metadata": {},
   "outputs": [
    {
     "ename": "SyntaxError",
     "evalue": "unexpected EOF while parsing (3861551224.py, line 1)",
     "output_type": "error",
     "traceback": [
      "\u001b[0;36m  File \u001b[0;32m\"/var/folders/pz/8fj7_jqs1_lglvwks1ym9jl40000gn/T/ipykernel_6463/3861551224.py\"\u001b[0;36m, line \u001b[0;32m1\u001b[0m\n\u001b[0;31m    def test():\u001b[0m\n\u001b[0m               ^\u001b[0m\n\u001b[0;31mSyntaxError\u001b[0m\u001b[0;31m:\u001b[0m unexpected EOF while parsing\n"
     ]
    }
   ],
   "source": [
    "def test(): # no body. so we get error"
   ]
  },
  {
   "cell_type": "code",
   "execution_count": 2,
   "id": "1ad9ad26",
   "metadata": {},
   "outputs": [],
   "source": [
    "def test():\n",
    "    pass\n",
    "#if I have no body just use \"pass\""
   ]
  },
  {
   "cell_type": "code",
   "execution_count": 5,
   "id": "5c1fde14",
   "metadata": {},
   "outputs": [],
   "source": [
    "test() # calling my function"
   ]
  },
  {
   "cell_type": "code",
   "execution_count": 4,
   "id": "b2a0e294",
   "metadata": {},
   "outputs": [
    {
     "data": {
      "text/plain": [
       "range(0, 8)"
      ]
     },
     "execution_count": 4,
     "metadata": {},
     "output_type": "execute_result"
    }
   ],
   "source": [
    "range(8) #someone has created range function and we are using that. this will return somethin"
   ]
  },
  {
   "cell_type": "code",
   "execution_count": 6,
   "id": "cd19ce75",
   "metadata": {},
   "outputs": [
    {
     "data": {
      "text/plain": [
       "NoneType"
      ]
     },
     "execution_count": 6,
     "metadata": {},
     "output_type": "execute_result"
    }
   ],
   "source": [
    "#I passed no arg, so I dint get any error. \n",
    "#check type. As I have no body no arg nothing, it returns None type\n",
    "\n",
    "type(test())"
   ]
  },
  {
   "cell_type": "code",
   "execution_count": 7,
   "id": "63ce17ef",
   "metadata": {},
   "outputs": [
    {
     "ename": "SyntaxError",
     "evalue": "unexpected EOF while parsing (1788322380.py, line 2)",
     "output_type": "error",
     "traceback": [
      "\u001b[0;36m  File \u001b[0;32m\"/var/folders/pz/8fj7_jqs1_lglvwks1ym9jl40000gn/T/ipykernel_6463/1788322380.py\"\u001b[0;36m, line \u001b[0;32m2\u001b[0m\n\u001b[0;31m    #returns error as I have given no body\u001b[0m\n\u001b[0m                                          ^\u001b[0m\n\u001b[0;31mSyntaxError\u001b[0m\u001b[0;31m:\u001b[0m unexpected EOF while parsing\n"
     ]
    }
   ],
   "source": [
    "for i in range(8):\n",
    "    #returns error as I have given no body"
   ]
  },
  {
   "cell_type": "code",
   "execution_count": 8,
   "id": "f11a7a1b",
   "metadata": {},
   "outputs": [],
   "source": [
    "for i in range(8):\n",
    "    pass"
   ]
  },
  {
   "cell_type": "code",
   "execution_count": 9,
   "id": "28021e24",
   "metadata": {},
   "outputs": [],
   "source": [
    "def test():\n",
    "    print(\"This is my first function\")\n"
   ]
  },
  {
   "cell_type": "code",
   "execution_count": 10,
   "id": "e0b3d9dd",
   "metadata": {},
   "outputs": [
    {
     "name": "stdout",
     "output_type": "stream",
     "text": [
      "This is my first function\n"
     ]
    }
   ],
   "source": [
    "test()"
   ]
  },
  {
   "cell_type": "code",
   "execution_count": 66,
   "id": "6cf4d764",
   "metadata": {},
   "outputs": [
    {
     "name": "stdout",
     "output_type": "stream",
     "text": [
      "This is my first functionthe sum is \n",
      " 7\n"
     ]
    }
   ],
   "source": [
    "def test1():\n",
    "    a=2\n",
    "    b=5\n",
    "    print(\"This is my first function\" \"the sum is \\n\",a+b)\n",
    "\n",
    "test1()"
   ]
  },
  {
   "cell_type": "code",
   "execution_count": 15,
   "id": "7d0f8af0",
   "metadata": {},
   "outputs": [
    {
     "name": "stdout",
     "output_type": "stream",
     "text": [
      "This is my first functionthe sum is: 7\n"
     ]
    },
    {
     "data": {
      "text/plain": [
       "NoneType"
      ]
     },
     "execution_count": 15,
     "metadata": {},
     "output_type": "execute_result"
    }
   ],
   "source": [
    "type(test1())"
   ]
  },
  {
   "cell_type": "code",
   "execution_count": 16,
   "id": "6b54238c",
   "metadata": {},
   "outputs": [
    {
     "name": "stdout",
     "output_type": "stream",
     "text": [
      "Melissa\n",
      "\n"
     ]
    },
    {
     "data": {
      "text/plain": [
       "NoneType"
      ]
     },
     "execution_count": 16,
     "metadata": {},
     "output_type": "execute_result"
    }
   ],
   "source": [
    "#print always return nonetype\n",
    "print(\"Melissa\")\n",
    "type(print())"
   ]
  },
  {
   "cell_type": "code",
   "execution_count": 17,
   "id": "84f05ec6",
   "metadata": {},
   "outputs": [
    {
     "name": "stdout",
     "output_type": "stream",
     "text": [
      "This is my first functionthe sum is: 7\n"
     ]
    },
    {
     "ename": "TypeError",
     "evalue": "unsupported operand type(s) for +: 'NoneType' and 'int'",
     "output_type": "error",
     "traceback": [
      "\u001b[0;31m---------------------------------------------------------------------------\u001b[0m",
      "\u001b[0;31mTypeError\u001b[0m                                 Traceback (most recent call last)",
      "\u001b[0;32m/var/folders/pz/8fj7_jqs1_lglvwks1ym9jl40000gn/T/ipykernel_6463/2526160214.py\u001b[0m in \u001b[0;36m<module>\u001b[0;34m\u001b[0m\n\u001b[1;32m      1\u001b[0m \u001b[0;31m#performing further operation like addition over the result of function\u001b[0m\u001b[0;34m\u001b[0m\u001b[0;34m\u001b[0m\u001b[0;34m\u001b[0m\u001b[0m\n\u001b[1;32m      2\u001b[0m \u001b[0;34m\u001b[0m\u001b[0m\n\u001b[0;32m----> 3\u001b[0;31m \u001b[0mtest1\u001b[0m\u001b[0;34m(\u001b[0m\u001b[0;34m)\u001b[0m\u001b[0;34m+\u001b[0m\u001b[0;36m5\u001b[0m\u001b[0;34m\u001b[0m\u001b[0;34m\u001b[0m\u001b[0m\n\u001b[0m",
      "\u001b[0;31mTypeError\u001b[0m: unsupported operand type(s) for +: 'NoneType' and 'int'"
     ]
    }
   ],
   "source": [
    "#performing further operation like addition over the result of function\n",
    "# we will get an error because the test returns none type and I am trying to add\n",
    "\n",
    "test1()+5"
   ]
  },
  {
   "cell_type": "code",
   "execution_count": 20,
   "id": "901a012a",
   "metadata": {},
   "outputs": [
    {
     "name": "stdout",
     "output_type": "stream",
     "text": [
      "This is my first functionthe sum is: 7\n"
     ]
    },
    {
     "ename": "TypeError",
     "evalue": "unsupported operand type(s) for +: 'NoneType' and 'int'",
     "output_type": "error",
     "traceback": [
      "\u001b[0;31m---------------------------------------------------------------------------\u001b[0m",
      "\u001b[0;31mTypeError\u001b[0m                                 Traceback (most recent call last)",
      "\u001b[0;32m/var/folders/pz/8fj7_jqs1_lglvwks1ym9jl40000gn/T/ipykernel_6463/1014906295.py\u001b[0m in \u001b[0;36m<module>\u001b[0;34m\u001b[0m\n\u001b[1;32m      2\u001b[0m \u001b[0mb\u001b[0m\u001b[0;34m\u001b[0m\u001b[0;34m\u001b[0m\u001b[0m\n\u001b[1;32m      3\u001b[0m \u001b[0;31m#if I am storing the o/p of test1() in b and then perform operations, it again will show error\u001b[0m\u001b[0;34m\u001b[0m\u001b[0;34m\u001b[0m\u001b[0;34m\u001b[0m\u001b[0m\n\u001b[0;32m----> 4\u001b[0;31m \u001b[0mb\u001b[0m\u001b[0;34m+\u001b[0m\u001b[0;36m1\u001b[0m\u001b[0;34m\u001b[0m\u001b[0;34m\u001b[0m\u001b[0m\n\u001b[0m",
      "\u001b[0;31mTypeError\u001b[0m: unsupported operand type(s) for +: 'NoneType' and 'int'"
     ]
    }
   ],
   "source": [
    "b=test1()\n",
    "b\n",
    "\n",
    "#if I am storing the o/p of test1() in b and then perform operations, it again will show error\n",
    "b+1\n",
    "\n"
   ]
  },
  {
   "cell_type": "code",
   "execution_count": 21,
   "id": "94753d46",
   "metadata": {},
   "outputs": [
    {
     "data": {
      "text/plain": [
       "NoneType"
      ]
     },
     "execution_count": 21,
     "metadata": {},
     "output_type": "execute_result"
    }
   ],
   "source": [
    "type(b)\n",
    "\n",
    "#test1() has print() whose type is none, when I assigned test1() to b, b's type turned none as well\n",
    "#this is why I was getting an error while performing primitive operation or data manipulation like addition on b"
   ]
  },
  {
   "cell_type": "code",
   "execution_count": 23,
   "id": "14a00929",
   "metadata": {},
   "outputs": [
    {
     "name": "stdout",
     "output_type": "stream",
     "text": [
      "This is my first functionthe sum is: 7\n"
     ]
    },
    {
     "ename": "TypeError",
     "evalue": "int() argument must be a string, a bytes-like object or a number, not 'NoneType'",
     "output_type": "error",
     "traceback": [
      "\u001b[0;31m---------------------------------------------------------------------------\u001b[0m",
      "\u001b[0;31mTypeError\u001b[0m                                 Traceback (most recent call last)",
      "\u001b[0;32m/var/folders/pz/8fj7_jqs1_lglvwks1ym9jl40000gn/T/ipykernel_6463/4199855722.py\u001b[0m in \u001b[0;36m<module>\u001b[0;34m\u001b[0m\n\u001b[1;32m      1\u001b[0m \u001b[0mb\u001b[0m\u001b[0;34m=\u001b[0m\u001b[0mtest1\u001b[0m\u001b[0;34m(\u001b[0m\u001b[0;34m)\u001b[0m\u001b[0;34m\u001b[0m\u001b[0;34m\u001b[0m\u001b[0m\n\u001b[1;32m      2\u001b[0m \u001b[0;34m\u001b[0m\u001b[0m\n\u001b[0;32m----> 3\u001b[0;31m \u001b[0mint\u001b[0m\u001b[0;34m(\u001b[0m\u001b[0mb\u001b[0m\u001b[0;34m)\u001b[0m\u001b[0;34m\u001b[0m\u001b[0;34m\u001b[0m\u001b[0m\n\u001b[0m\u001b[1;32m      4\u001b[0m \u001b[0mb\u001b[0m\u001b[0;34m+\u001b[0m\u001b[0;36m1\u001b[0m\u001b[0;34m\u001b[0m\u001b[0;34m\u001b[0m\u001b[0m\n",
      "\u001b[0;31mTypeError\u001b[0m: int() argument must be a string, a bytes-like object or a number, not 'NoneType'"
     ]
    }
   ],
   "source": [
    "#typecasting is also not allowed\n",
    "\n",
    "b=test1()\n",
    "int(b)\n",
    "b+1"
   ]
  },
  {
   "cell_type": "code",
   "execution_count": 25,
   "id": "42e33916",
   "metadata": {},
   "outputs": [
    {
     "name": "stdout",
     "output_type": "stream",
     "text": [
      "Melissa Vidiera\n",
      "Melissa Vidiera\n"
     ]
    },
    {
     "data": {
      "text/plain": [
       "NoneType"
      ]
     },
     "execution_count": 25,
     "metadata": {},
     "output_type": "execute_result"
    }
   ],
   "source": [
    "#Checking for string data type\n",
    "\n",
    "def test2():\n",
    "    print(\"Melissa Vidiera\")\n",
    "    \n",
    "test2()\n",
    "\n",
    "type(test2())"
   ]
  },
  {
   "cell_type": "code",
   "execution_count": 26,
   "id": "b60e6d2a",
   "metadata": {},
   "outputs": [
    {
     "name": "stdout",
     "output_type": "stream",
     "text": [
      "Melissa Vidiera\n"
     ]
    },
    {
     "ename": "AttributeError",
     "evalue": "'NoneType' object has no attribute 'isupper'",
     "output_type": "error",
     "traceback": [
      "\u001b[0;31m---------------------------------------------------------------------------\u001b[0m",
      "\u001b[0;31mAttributeError\u001b[0m                            Traceback (most recent call last)",
      "\u001b[0;32m/var/folders/pz/8fj7_jqs1_lglvwks1ym9jl40000gn/T/ipykernel_6463/2169142082.py\u001b[0m in \u001b[0;36m<module>\u001b[0;34m\u001b[0m\n\u001b[0;32m----> 1\u001b[0;31m \u001b[0mtest2\u001b[0m\u001b[0;34m(\u001b[0m\u001b[0;34m)\u001b[0m\u001b[0;34m.\u001b[0m\u001b[0misupper\u001b[0m\u001b[0;34m(\u001b[0m\u001b[0;34m)\u001b[0m\u001b[0;34m\u001b[0m\u001b[0;34m\u001b[0m\u001b[0m\n\u001b[0m",
      "\u001b[0;31mAttributeError\u001b[0m: 'NoneType' object has no attribute 'isupper'"
     ]
    }
   ],
   "source": [
    "test2().isupper() # can not perform any string operation as the datatype of print is not string"
   ]
  },
  {
   "cell_type": "code",
   "execution_count": 27,
   "id": "2f0f41be",
   "metadata": {},
   "outputs": [
    {
     "data": {
      "text/plain": [
       "8"
      ]
     },
     "execution_count": 27,
     "metadata": {},
     "output_type": "execute_result"
    }
   ],
   "source": [
    "#create functiion which perform operation and over the output I can perform primitive operation\n",
    "#instead of using print use return: return uses the datatype of the operation. return uses by default data type acc to operation\n",
    "\n",
    "def test3():\n",
    "    a=3\n",
    "    b=5\n",
    "    return a+b\n",
    "test3()"
   ]
  },
  {
   "cell_type": "code",
   "execution_count": 28,
   "id": "ce69f182",
   "metadata": {},
   "outputs": [
    {
     "data": {
      "text/plain": [
       "int"
      ]
     },
     "execution_count": 28,
     "metadata": {},
     "output_type": "execute_result"
    }
   ],
   "source": [
    "type(test3())"
   ]
  },
  {
   "cell_type": "code",
   "execution_count": 29,
   "id": "4ebf8fe2",
   "metadata": {},
   "outputs": [
    {
     "data": {
      "text/plain": [
       "15"
      ]
     },
     "execution_count": 29,
     "metadata": {},
     "output_type": "execute_result"
    }
   ],
   "source": [
    "test3()+7"
   ]
  },
  {
   "cell_type": "code",
   "execution_count": 30,
   "id": "a1e7798b",
   "metadata": {},
   "outputs": [
    {
     "data": {
      "text/plain": [
       "27"
      ]
     },
     "execution_count": 30,
     "metadata": {},
     "output_type": "execute_result"
    }
   ],
   "source": [
    "n=test3()\n",
    "n+19"
   ]
  },
  {
   "cell_type": "code",
   "execution_count": 31,
   "id": "03a7ac52",
   "metadata": {},
   "outputs": [
    {
     "data": {
      "text/plain": [
       "'My name is Melissa '"
      ]
     },
     "execution_count": 31,
     "metadata": {},
     "output_type": "execute_result"
    }
   ],
   "source": [
    "#string operations\n",
    "\n",
    "def test4():\n",
    "    return \"My name is Melissa \"\n",
    "\n",
    "test4()"
   ]
  },
  {
   "cell_type": "code",
   "execution_count": 32,
   "id": "95d76a58",
   "metadata": {},
   "outputs": [
    {
     "data": {
      "text/plain": [
       "'My name is Melissa Vidiera'"
      ]
     },
     "execution_count": 32,
     "metadata": {},
     "output_type": "execute_result"
    }
   ],
   "source": [
    "test4()+ \"Vidiera\""
   ]
  },
  {
   "cell_type": "code",
   "execution_count": 33,
   "id": "0109d8c8",
   "metadata": {},
   "outputs": [
    {
     "data": {
      "text/plain": [
       "str"
      ]
     },
     "execution_count": 33,
     "metadata": {},
     "output_type": "execute_result"
    }
   ],
   "source": [
    "type(test4())"
   ]
  },
  {
   "cell_type": "code",
   "execution_count": 36,
   "id": "8800a1f5",
   "metadata": {},
   "outputs": [
    {
     "ename": "TypeError",
     "evalue": "can only concatenate str (not \"int\") to str",
     "output_type": "error",
     "traceback": [
      "\u001b[0;31m---------------------------------------------------------------------------\u001b[0m",
      "\u001b[0;31mTypeError\u001b[0m                                 Traceback (most recent call last)",
      "\u001b[0;32m/var/folders/pz/8fj7_jqs1_lglvwks1ym9jl40000gn/T/ipykernel_6463/447920338.py\u001b[0m in \u001b[0;36m<module>\u001b[0;34m\u001b[0m\n\u001b[0;32m----> 1\u001b[0;31m \u001b[0mtest4\u001b[0m\u001b[0;34m(\u001b[0m\u001b[0;34m)\u001b[0m\u001b[0;34m+\u001b[0m\u001b[0;36m7\u001b[0m\u001b[0;34m\u001b[0m\u001b[0;34m\u001b[0m\u001b[0m\n\u001b[0m",
      "\u001b[0;31mTypeError\u001b[0m: can only concatenate str (not \"int\") to str"
     ]
    }
   ],
   "source": [
    "test4()+7"
   ]
  },
  {
   "cell_type": "code",
   "execution_count": 40,
   "id": "4b2d50ae",
   "metadata": {},
   "outputs": [],
   "source": [
    "#passing argument in function\n",
    "\n",
    "def test5(a,b):\n",
    "    a+b\n",
    "    \n",
    "test5(3,4)\n",
    "\n",
    "#doesnt show any output because there is no print or return \n"
   ]
  },
  {
   "cell_type": "code",
   "execution_count": 42,
   "id": "58068cbe",
   "metadata": {},
   "outputs": [
    {
     "ename": "TypeError",
     "evalue": "test5() missing 2 required positional arguments: 'a' and 'b'",
     "output_type": "error",
     "traceback": [
      "\u001b[0;31m---------------------------------------------------------------------------\u001b[0m",
      "\u001b[0;31mTypeError\u001b[0m                                 Traceback (most recent call last)",
      "\u001b[0;32m/var/folders/pz/8fj7_jqs1_lglvwks1ym9jl40000gn/T/ipykernel_6463/2813944048.py\u001b[0m in \u001b[0;36m<module>\u001b[0;34m\u001b[0m\n\u001b[1;32m      2\u001b[0m     \u001b[0;32mreturn\u001b[0m \u001b[0ma\u001b[0m\u001b[0;34m+\u001b[0m\u001b[0mb\u001b[0m\u001b[0;34m\u001b[0m\u001b[0;34m\u001b[0m\u001b[0m\n\u001b[1;32m      3\u001b[0m \u001b[0;34m\u001b[0m\u001b[0m\n\u001b[0;32m----> 4\u001b[0;31m \u001b[0mtest5\u001b[0m\u001b[0;34m(\u001b[0m\u001b[0;34m)\u001b[0m\u001b[0;34m\u001b[0m\u001b[0;34m\u001b[0m\u001b[0m\n\u001b[0m",
      "\u001b[0;31mTypeError\u001b[0m: test5() missing 2 required positional arguments: 'a' and 'b'"
     ]
    }
   ],
   "source": [
    "def test5(a,b):\n",
    "    return a+ b\n",
    "\n",
    "test5() #if no or 1 arguement is passed"
   ]
  },
  {
   "cell_type": "code",
   "execution_count": 43,
   "id": "2033b997",
   "metadata": {},
   "outputs": [
    {
     "data": {
      "text/plain": [
       "8"
      ]
     },
     "execution_count": 43,
     "metadata": {},
     "output_type": "execute_result"
    }
   ],
   "source": [
    "test5(3,5)"
   ]
  },
  {
   "cell_type": "code",
   "execution_count": 46,
   "id": "7a5a852d",
   "metadata": {},
   "outputs": [
    {
     "data": {
      "text/plain": [
       "'MelissaVidiera'"
      ]
     },
     "execution_count": 46,
     "metadata": {},
     "output_type": "execute_result"
    }
   ],
   "source": [
    "test5(\"Melissa\", \"Vidiera\")"
   ]
  },
  {
   "cell_type": "code",
   "execution_count": 47,
   "id": "418c9207",
   "metadata": {},
   "outputs": [
    {
     "ename": "TypeError",
     "evalue": "test5() missing 2 required positional arguments: 'a' and 'b'",
     "output_type": "error",
     "traceback": [
      "\u001b[0;31m---------------------------------------------------------------------------\u001b[0m",
      "\u001b[0;31mTypeError\u001b[0m                                 Traceback (most recent call last)",
      "\u001b[0;32m/var/folders/pz/8fj7_jqs1_lglvwks1ym9jl40000gn/T/ipykernel_6463/2838536864.py\u001b[0m in \u001b[0;36m<module>\u001b[0;34m\u001b[0m\n\u001b[0;32m----> 1\u001b[0;31m \u001b[0mtype\u001b[0m\u001b[0;34m(\u001b[0m\u001b[0mtest5\u001b[0m\u001b[0;34m(\u001b[0m\u001b[0;34m)\u001b[0m\u001b[0;34m)\u001b[0m\u001b[0;34m\u001b[0m\u001b[0;34m\u001b[0m\u001b[0m\n\u001b[0m",
      "\u001b[0;31mTypeError\u001b[0m: test5() missing 2 required positional arguments: 'a' and 'b'"
     ]
    }
   ],
   "source": [
    "type(test5()) # we can not get the type as it has arguments. "
   ]
  },
  {
   "cell_type": "code",
   "execution_count": 48,
   "id": "271ac99f",
   "metadata": {},
   "outputs": [
    {
     "data": {
      "text/plain": [
       "str"
      ]
     },
     "execution_count": 48,
     "metadata": {},
     "output_type": "execute_result"
    }
   ],
   "source": [
    "# to get the type first we need to assign the o/p of function to a var\n",
    "\n",
    "m= test5(\"Melissa\", \"Vidiera\")\n",
    "type(m)"
   ]
  },
  {
   "cell_type": "code",
   "execution_count": 49,
   "id": "07fb2c99",
   "metadata": {},
   "outputs": [
    {
     "data": {
      "text/plain": [
       "(13, 40)"
      ]
     },
     "execution_count": 49,
     "metadata": {},
     "output_type": "execute_result"
    }
   ],
   "source": [
    "# return multiple operation\n",
    "\n",
    "def test6(a,b):\n",
    "    return a+b, a*b\n",
    "\n",
    "test6(5,8)"
   ]
  },
  {
   "cell_type": "code",
   "execution_count": 51,
   "id": "4fc182d0",
   "metadata": {},
   "outputs": [
    {
     "data": {
      "text/plain": [
       "tuple"
      ]
     },
     "execution_count": 51,
     "metadata": {},
     "output_type": "execute_result"
    }
   ],
   "source": [
    "#overall result is tuple not int\n",
    "x=test6(5,8)\n",
    "x\n",
    "type(x)"
   ]
  },
  {
   "cell_type": "code",
   "execution_count": 52,
   "id": "20c52425",
   "metadata": {},
   "outputs": [
    {
     "data": {
      "text/plain": [
       "9"
      ]
     },
     "execution_count": 52,
     "metadata": {},
     "output_type": "execute_result"
    }
   ],
   "source": [
    "#I am assigning each result of operation to separate variable. now each var is int.\n",
    "a, b= test6(4,5)\n",
    "a"
   ]
  },
  {
   "cell_type": "code",
   "execution_count": 53,
   "id": "7fb834c6",
   "metadata": {},
   "outputs": [
    {
     "data": {
      "text/plain": [
       "20"
      ]
     },
     "execution_count": 53,
     "metadata": {},
     "output_type": "execute_result"
    }
   ],
   "source": [
    "b\n"
   ]
  },
  {
   "cell_type": "code",
   "execution_count": 54,
   "id": "568941ff",
   "metadata": {},
   "outputs": [
    {
     "data": {
      "text/plain": [
       "int"
      ]
     },
     "execution_count": 54,
     "metadata": {},
     "output_type": "execute_result"
    }
   ],
   "source": [
    "type(a)"
   ]
  },
  {
   "cell_type": "code",
   "execution_count": 55,
   "id": "46b4fd25",
   "metadata": {},
   "outputs": [
    {
     "data": {
      "text/plain": [
       "int"
      ]
     },
     "execution_count": 55,
     "metadata": {},
     "output_type": "execute_result"
    }
   ],
   "source": [
    "type(b)"
   ]
  },
  {
   "cell_type": "code",
   "execution_count": 56,
   "id": "016345e7",
   "metadata": {},
   "outputs": [],
   "source": [
    "# one to one mapping. \n",
    "# rather than assigning the value to each var like this\n",
    "\n",
    "a=1\n",
    "b=2\n",
    "c=\"Melissa\"\n",
    "\n",
    "#we can use as follows"
   ]
  },
  {
   "cell_type": "code",
   "execution_count": 57,
   "id": "85df7899",
   "metadata": {},
   "outputs": [],
   "source": [
    "a,b,c= 1,2,\"Melissa\""
   ]
  },
  {
   "cell_type": "code",
   "execution_count": 58,
   "id": "32a8c3fe",
   "metadata": {},
   "outputs": [
    {
     "data": {
      "text/plain": [
       "1"
      ]
     },
     "execution_count": 58,
     "metadata": {},
     "output_type": "execute_result"
    }
   ],
   "source": [
    "a"
   ]
  },
  {
   "cell_type": "code",
   "execution_count": 59,
   "id": "a05ed882",
   "metadata": {},
   "outputs": [
    {
     "data": {
      "text/plain": [
       "2"
      ]
     },
     "execution_count": 59,
     "metadata": {},
     "output_type": "execute_result"
    }
   ],
   "source": [
    "b"
   ]
  },
  {
   "cell_type": "code",
   "execution_count": 60,
   "id": "3d5dd125",
   "metadata": {},
   "outputs": [
    {
     "data": {
      "text/plain": [
       "'Melissa'"
      ]
     },
     "execution_count": 60,
     "metadata": {},
     "output_type": "execute_result"
    }
   ],
   "source": [
    "c\n"
   ]
  },
  {
   "cell_type": "code",
   "execution_count": 62,
   "id": "70d570fb",
   "metadata": {},
   "outputs": [
    {
     "data": {
      "text/plain": [
       "(13, 42)"
      ]
     },
     "execution_count": 62,
     "metadata": {},
     "output_type": "execute_result"
    }
   ],
   "source": [
    "# if I give 1 var, then it contains both addition and multiplication result in form of tuple. \n",
    "d=test6(6,7)\n",
    "d"
   ]
  },
  {
   "cell_type": "code",
   "execution_count": 64,
   "id": "6ba47d83",
   "metadata": {},
   "outputs": [
    {
     "data": {
      "text/plain": [
       "13"
      ]
     },
     "execution_count": 64,
     "metadata": {},
     "output_type": "execute_result"
    }
   ],
   "source": [
    "#if Im just passing 1 var and I give a placeholder _\n",
    "\n",
    "e, _=test6(6,7)\n",
    "e # now 'e' has result of addition.not tuple. just int"
   ]
  },
  {
   "cell_type": "code",
   "execution_count": 65,
   "id": "bff448ea",
   "metadata": {},
   "outputs": [
    {
     "data": {
      "text/plain": [
       "int"
      ]
     },
     "execution_count": 65,
     "metadata": {},
     "output_type": "execute_result"
    }
   ],
   "source": [
    "type(e)"
   ]
  },
  {
   "cell_type": "code",
   "execution_count": 67,
   "id": "b02cbd5d",
   "metadata": {},
   "outputs": [
    {
     "data": {
      "text/plain": [
       "'Melissa Vidiera'"
      ]
     },
     "execution_count": 67,
     "metadata": {},
     "output_type": "execute_result"
    }
   ],
   "source": [
    "#default value passing to argument\n",
    "\n",
    "def test7(a, b=\"Vidiera\"):\n",
    "    return a+b\n",
    "\n",
    "test7(\"Melissa \")"
   ]
  },
  {
   "cell_type": "code",
   "execution_count": 69,
   "id": "4eb3cd12",
   "metadata": {},
   "outputs": [
    {
     "data": {
      "text/plain": [
       "'Melissa Whisky'"
      ]
     },
     "execution_count": 69,
     "metadata": {},
     "output_type": "execute_result"
    }
   ],
   "source": [
    "#overriding the arguments\n",
    "\n",
    "test7(\"Melissa \", \"Whisky\")"
   ]
  },
  {
   "cell_type": "code",
   "execution_count": 71,
   "id": "4e0eeb5b",
   "metadata": {},
   "outputs": [
    {
     "data": {
      "text/plain": [
       "5"
      ]
     },
     "execution_count": 71,
     "metadata": {},
     "output_type": "execute_result"
    }
   ],
   "source": [
    "#passing variables outside function\n",
    "\n",
    "a=2\n",
    "\n",
    "def test8():\n",
    "    j=3\n",
    "    return a+b\n",
    "    \n",
    "test8()"
   ]
  },
  {
   "cell_type": "code",
   "execution_count": 72,
   "id": "12774e81",
   "metadata": {},
   "outputs": [
    {
     "data": {
      "text/plain": [
       "2"
      ]
     },
     "execution_count": 72,
     "metadata": {},
     "output_type": "execute_result"
    }
   ],
   "source": [
    "#if I try to call a, a's value is displayed. b's value isn't displayed\n",
    "# a is defined outside function and it is global var, b is defined inside function so it is local var\n",
    "\n",
    "a"
   ]
  },
  {
   "cell_type": "code",
   "execution_count": 74,
   "id": "dbcc9d15",
   "metadata": {},
   "outputs": [
    {
     "ename": "NameError",
     "evalue": "name 'j' is not defined",
     "output_type": "error",
     "traceback": [
      "\u001b[0;31m---------------------------------------------------------------------------\u001b[0m",
      "\u001b[0;31mNameError\u001b[0m                                 Traceback (most recent call last)",
      "\u001b[0;32m/var/folders/pz/8fj7_jqs1_lglvwks1ym9jl40000gn/T/ipykernel_6463/2696688911.py\u001b[0m in \u001b[0;36m<module>\u001b[0;34m\u001b[0m\n\u001b[0;32m----> 1\u001b[0;31m \u001b[0mj\u001b[0m\u001b[0;34m\u001b[0m\u001b[0;34m\u001b[0m\u001b[0m\n\u001b[0m",
      "\u001b[0;31mNameError\u001b[0m: name 'j' is not defined"
     ]
    }
   ],
   "source": [
    "j # will not work if test8 is made to run once"
   ]
  },
  {
   "cell_type": "code",
   "execution_count": 75,
   "id": "3e1fa2d8",
   "metadata": {},
   "outputs": [
    {
     "data": {
      "text/plain": [
       "(1, 'M', [1, 2, 3], {'k1': 5, 'k2': 6, 'k3': 7})"
      ]
     },
     "execution_count": 75,
     "metadata": {},
     "output_type": "execute_result"
    }
   ],
   "source": [
    "#returning data with different data type\n",
    "def test9():\n",
    "    return 1, \"M\", [1,2,3],{'k1':5, 'k2':6, 'k3':7}\n",
    "\n",
    "test9()"
   ]
  },
  {
   "cell_type": "code",
   "execution_count": 76,
   "id": "b3602e5a",
   "metadata": {},
   "outputs": [
    {
     "data": {
      "text/plain": [
       "tuple"
      ]
     },
     "execution_count": 76,
     "metadata": {},
     "output_type": "execute_result"
    }
   ],
   "source": [
    "type(test9())"
   ]
  },
  {
   "cell_type": "code",
   "execution_count": 81,
   "id": "67d13c6e",
   "metadata": {},
   "outputs": [
    {
     "data": {
      "text/plain": [
       "{'k1': 5, 'k2': 6, 'k3': 7}"
      ]
     },
     "execution_count": 81,
     "metadata": {},
     "output_type": "execute_result"
    }
   ],
   "source": [
    "#if I just want any one of the data type as result use placeholder\n",
    "\n",
    "_,_ ,_,u = test9()\n",
    "u"
   ]
  },
  {
   "cell_type": "code",
   "execution_count": 83,
   "id": "987bf2bf",
   "metadata": {},
   "outputs": [
    {
     "data": {
      "text/plain": [
       "[1, 2, 3]"
      ]
     },
     "execution_count": 83,
     "metadata": {},
     "output_type": "execute_result"
    }
   ],
   "source": [
    "_ # fisrt placeholder _ is assigned to first element, 2nd etc. But while calling placeholder _, latest element \n",
    "#assigned is returned"
   ]
  },
  {
   "cell_type": "code",
   "execution_count": 96,
   "id": "8190deb7",
   "metadata": {},
   "outputs": [
    {
     "name": "stdout",
     "output_type": "stream",
     "text": [
      "This is prime number\n"
     ]
    }
   ],
   "source": [
    "#function to check input is prime or not\n",
    "#prime is number that is divisible by itself or 1\n",
    "\n",
    "def is_prime(num):\n",
    "    for i in range(2, num): #lower bound from 2, because all numbers are divisible by 1. upper bound itself\n",
    "        if num%i==0:\n",
    "            print(\"This number is not prime number\")\n",
    "            break # do not check any further. come out of loop. if it is divisible by even any of the number it is not prime\n",
    "    else:\n",
    "        print(\"This is prime number\")\n",
    "            \n",
    "            \n",
    "is_prime(719)      \n",
    "    "
   ]
  },
  {
   "cell_type": "code",
   "execution_count": 97,
   "id": "e724e921",
   "metadata": {},
   "outputs": [
    {
     "name": "stdout",
     "output_type": "stream",
     "text": [
      "This number is not prime number\n"
     ]
    }
   ],
   "source": [
    "is_prime(88)"
   ]
  },
  {
   "cell_type": "code",
   "execution_count": 98,
   "id": "394499e5",
   "metadata": {},
   "outputs": [],
   "source": [
    "def isprime(num):\n",
    "    for i in range(2, num): \n",
    "        if num%i==0:\n",
    "            return False\n",
    "            break \n",
    "    else:\n",
    "        return True\n",
    "            "
   ]
  },
  {
   "cell_type": "code",
   "execution_count": 99,
   "id": "95d77a76",
   "metadata": {},
   "outputs": [
    {
     "data": {
      "text/plain": [
       "False"
      ]
     },
     "execution_count": 99,
     "metadata": {},
     "output_type": "execute_result"
    }
   ],
   "source": [
    "isprime(99)"
   ]
  },
  {
   "cell_type": "code",
   "execution_count": 100,
   "id": "196b77b4",
   "metadata": {},
   "outputs": [
    {
     "data": {
      "text/plain": [
       "bool"
      ]
     },
     "execution_count": 100,
     "metadata": {},
     "output_type": "execute_result"
    }
   ],
   "source": [
    "type(isprime(99))"
   ]
  },
  {
   "cell_type": "code",
   "execution_count": 101,
   "id": "a704a1af",
   "metadata": {},
   "outputs": [
    {
     "name": "stdout",
     "output_type": "stream",
     "text": [
      "This number is not prime number\n"
     ]
    },
    {
     "data": {
      "text/plain": [
       "NoneType"
      ]
     },
     "execution_count": 101,
     "metadata": {},
     "output_type": "execute_result"
    }
   ],
   "source": [
    "type(is_prime(88))#it returns print stmt that is why, type is none type"
   ]
  },
  {
   "cell_type": "markdown",
   "id": "cce77aa5",
   "metadata": {},
   "source": [
    "## Iterate\n",
    "Kind of object which I can iterate using function and extract data out of it\n",
    "\n",
    "Kind of object which I can make as iterator\n",
    "\n",
    "Any loop which is tryin to iterate through dataset only if the dataset is iterable\n",
    "*Iterator: string, list can be iterable (not iterator)\n",
    "\n",
    "Next function extracts \"next\" data and\n",
    "\n",
    "\n",
    "##Iterable vs Iterator\n",
    "\n",
    "*String, tuple and list are iterable: possibility of iterating over the dataset and extract data using indices\n",
    "These are iterable.\n",
    "*These can be iterable only using for loop. \n",
    "*for loop can convert iterable object into iterator and then generate data\n",
    "* to convert into iterator, data must be iterable. \n",
    "\n",
    "To check this we can use next function, we will get an error\n",
    "\n",
    "*iter() is used to convert iterable object (str, list, range) into iterator\n",
    "\n",
    "* to make any generator: convert iterable object into iterator using iter() then use next()"
   ]
  },
  {
   "cell_type": "code",
   "execution_count": 102,
   "id": "5f931460",
   "metadata": {},
   "outputs": [
    {
     "ename": "TypeError",
     "evalue": "'int' object is not iterable",
     "output_type": "error",
     "traceback": [
      "\u001b[0;31m---------------------------------------------------------------------------\u001b[0m",
      "\u001b[0;31mTypeError\u001b[0m                                 Traceback (most recent call last)",
      "\u001b[0;32m/var/folders/pz/8fj7_jqs1_lglvwks1ym9jl40000gn/T/ipykernel_6463/3656031508.py\u001b[0m in \u001b[0;36m<module>\u001b[0;34m\u001b[0m\n\u001b[0;32m----> 1\u001b[0;31m \u001b[0;32mfor\u001b[0m \u001b[0mi\u001b[0m \u001b[0;32min\u001b[0m \u001b[0;36m7\u001b[0m\u001b[0;34m:\u001b[0m\u001b[0;34m\u001b[0m\u001b[0;34m\u001b[0m\u001b[0m\n\u001b[0m\u001b[1;32m      2\u001b[0m     \u001b[0;32mpass\u001b[0m\u001b[0;34m\u001b[0m\u001b[0;34m\u001b[0m\u001b[0m\n",
      "\u001b[0;31mTypeError\u001b[0m: 'int' object is not iterable"
     ]
    }
   ],
   "source": [
    "for i in 7:\n",
    "    pass\n",
    "\n",
    "#'int' object is not iterable"
   ]
  },
  {
   "cell_type": "code",
   "execution_count": 104,
   "id": "c460f533",
   "metadata": {},
   "outputs": [
    {
     "name": "stdout",
     "output_type": "stream",
     "text": [
      "m\n",
      "e\n",
      "l\n",
      "i\n",
      "s\n",
      "s\n",
      "a\n"
     ]
    }
   ],
   "source": [
    "for i in \"melissa\":\n",
    "    print(i)"
   ]
  },
  {
   "cell_type": "code",
   "execution_count": 105,
   "id": "5a408558",
   "metadata": {},
   "outputs": [
    {
     "ename": "TypeError",
     "evalue": "'str' object is not an iterator",
     "output_type": "error",
     "traceback": [
      "\u001b[0;31m---------------------------------------------------------------------------\u001b[0m",
      "\u001b[0;31mTypeError\u001b[0m                                 Traceback (most recent call last)",
      "\u001b[0;32m/var/folders/pz/8fj7_jqs1_lglvwks1ym9jl40000gn/T/ipykernel_6463/771073321.py\u001b[0m in \u001b[0;36m<module>\u001b[0;34m\u001b[0m\n\u001b[1;32m      4\u001b[0m \u001b[0ml\u001b[0m\u001b[0;34m=\u001b[0m\u001b[0;34m[\u001b[0m\u001b[0;36m1\u001b[0m\u001b[0;34m,\u001b[0m\u001b[0;36m2\u001b[0m\u001b[0;34m,\u001b[0m\u001b[0;34m\"Melissa\"\u001b[0m\u001b[0;34m]\u001b[0m\u001b[0;34m\u001b[0m\u001b[0;34m\u001b[0m\u001b[0m\n\u001b[1;32m      5\u001b[0m \u001b[0;34m\u001b[0m\u001b[0m\n\u001b[0;32m----> 6\u001b[0;31m \u001b[0mnext\u001b[0m\u001b[0;34m(\u001b[0m\u001b[0ms\u001b[0m\u001b[0;34m)\u001b[0m\u001b[0;34m\u001b[0m\u001b[0;34m\u001b[0m\u001b[0m\n\u001b[0m\u001b[1;32m      7\u001b[0m \u001b[0mnext\u001b[0m\u001b[0;34m(\u001b[0m\u001b[0ml\u001b[0m\u001b[0;34m)\u001b[0m\u001b[0;34m\u001b[0m\u001b[0;34m\u001b[0m\u001b[0m\n",
      "\u001b[0;31mTypeError\u001b[0m: 'str' object is not an iterator"
     ]
    }
   ],
   "source": [
    "#String and list are iterable not iterator\n",
    "\n",
    "s=(\"Melissa\")\n",
    "l=[1,2,\"Melissa\"]\n",
    "\n",
    "next(s)\n"
   ]
  },
  {
   "cell_type": "code",
   "execution_count": 106,
   "id": "38080f7b",
   "metadata": {},
   "outputs": [
    {
     "ename": "TypeError",
     "evalue": "'list' object is not an iterator",
     "output_type": "error",
     "traceback": [
      "\u001b[0;31m---------------------------------------------------------------------------\u001b[0m",
      "\u001b[0;31mTypeError\u001b[0m                                 Traceback (most recent call last)",
      "\u001b[0;32m/var/folders/pz/8fj7_jqs1_lglvwks1ym9jl40000gn/T/ipykernel_6463/2016234150.py\u001b[0m in \u001b[0;36m<module>\u001b[0;34m\u001b[0m\n\u001b[0;32m----> 1\u001b[0;31m \u001b[0mnext\u001b[0m\u001b[0;34m(\u001b[0m\u001b[0ml\u001b[0m\u001b[0;34m)\u001b[0m\u001b[0;34m\u001b[0m\u001b[0;34m\u001b[0m\u001b[0m\n\u001b[0m",
      "\u001b[0;31mTypeError\u001b[0m: 'list' object is not an iterator"
     ]
    }
   ],
   "source": [
    "next(l)"
   ]
  },
  {
   "cell_type": "code",
   "execution_count": 111,
   "id": "0b2d736e",
   "metadata": {},
   "outputs": [
    {
     "data": {
      "text/plain": [
       "str_iterator"
      ]
     },
     "execution_count": 111,
     "metadata": {},
     "output_type": "execute_result"
    }
   ],
   "source": [
    "#iter() used to convert data into iterator\n",
    "\n",
    "a=iter(\"Melissa\")\n",
    "type(a)"
   ]
  },
  {
   "cell_type": "code",
   "execution_count": 119,
   "id": "86399f19",
   "metadata": {},
   "outputs": [
    {
     "ename": "StopIteration",
     "evalue": "",
     "output_type": "error",
     "traceback": [
      "\u001b[0;31m---------------------------------------------------------------------------\u001b[0m",
      "\u001b[0;31mStopIteration\u001b[0m                             Traceback (most recent call last)",
      "\u001b[0;32m/var/folders/pz/8fj7_jqs1_lglvwks1ym9jl40000gn/T/ipykernel_6463/2881590388.py\u001b[0m in \u001b[0;36m<module>\u001b[0;34m\u001b[0m\n\u001b[0;32m----> 1\u001b[0;31m \u001b[0mnext\u001b[0m\u001b[0;34m(\u001b[0m\u001b[0ma\u001b[0m\u001b[0;34m)\u001b[0m \u001b[0;31m#one by one the element within dataset(str) is extracted\u001b[0m\u001b[0;34m\u001b[0m\u001b[0;34m\u001b[0m\u001b[0m\n\u001b[0m",
      "\u001b[0;31mStopIteration\u001b[0m: "
     ]
    }
   ],
   "source": [
    "next(a) #one by one the element within dataset(str) is extracted\n",
    "#at last time after last 'a' in Melissa, it returns exception as next() doesnt know when to stop or upperbound\n",
    "#next() doesn't know the last index\n",
    "#but for loop knows the last index that is why it stops iteration"
   ]
  },
  {
   "cell_type": "code",
   "execution_count": 120,
   "id": "f4a96cb6",
   "metadata": {},
   "outputs": [
    {
     "ename": "TypeError",
     "evalue": "'int' object is not an iterator",
     "output_type": "error",
     "traceback": [
      "\u001b[0;31m---------------------------------------------------------------------------\u001b[0m",
      "\u001b[0;31mTypeError\u001b[0m                                 Traceback (most recent call last)",
      "\u001b[0;32m/var/folders/pz/8fj7_jqs1_lglvwks1ym9jl40000gn/T/ipykernel_6463/3132594286.py\u001b[0m in \u001b[0;36m<module>\u001b[0;34m\u001b[0m\n\u001b[0;32m----> 1\u001b[0;31m \u001b[0mnext\u001b[0m\u001b[0;34m(\u001b[0m\u001b[0;36m12\u001b[0m\u001b[0;34m)\u001b[0m\u001b[0;34m\u001b[0m\u001b[0;34m\u001b[0m\u001b[0m\n\u001b[0m",
      "\u001b[0;31mTypeError\u001b[0m: 'int' object is not an iterator"
     ]
    }
   ],
   "source": [
    "#int is neither iterable nor iterable\n",
    "next(12)"
   ]
  },
  {
   "cell_type": "code",
   "execution_count": 121,
   "id": "c5ffc9d8",
   "metadata": {},
   "outputs": [
    {
     "ename": "TypeError",
     "evalue": "'int' object is not iterable",
     "output_type": "error",
     "traceback": [
      "\u001b[0;31m---------------------------------------------------------------------------\u001b[0m",
      "\u001b[0;31mTypeError\u001b[0m                                 Traceback (most recent call last)",
      "\u001b[0;32m/var/folders/pz/8fj7_jqs1_lglvwks1ym9jl40000gn/T/ipykernel_6463/4274039962.py\u001b[0m in \u001b[0;36m<module>\u001b[0;34m\u001b[0m\n\u001b[0;32m----> 1\u001b[0;31m \u001b[0miter\u001b[0m\u001b[0;34m(\u001b[0m\u001b[0;36m12\u001b[0m\u001b[0;34m)\u001b[0m\u001b[0;34m\u001b[0m\u001b[0;34m\u001b[0m\u001b[0m\n\u001b[0m",
      "\u001b[0;31mTypeError\u001b[0m: 'int' object is not iterable"
     ]
    }
   ],
   "source": [
    "iter(12)"
   ]
  },
  {
   "cell_type": "markdown",
   "id": "369f7f04",
   "metadata": {},
   "source": [
    "## Generator"
   ]
  },
  {
   "cell_type": "markdown",
   "id": "71eb970f",
   "metadata": {},
   "source": [
    "Kind of ibject which keeps of generating new data set by remembering the index and the last data element generated\n",
    "\n",
    "*range wont give output"
   ]
  },
  {
   "cell_type": "code",
   "execution_count": 126,
   "id": "a44a0d5d",
   "metadata": {},
   "outputs": [
    {
     "data": {
      "text/plain": [
       "range(0, 10)"
      ]
     },
     "execution_count": 126,
     "metadata": {},
     "output_type": "execute_result"
    }
   ],
   "source": [
    "range(0,10)"
   ]
  },
  {
   "cell_type": "code",
   "execution_count": 127,
   "id": "cbf8f29c",
   "metadata": {},
   "outputs": [
    {
     "data": {
      "text/plain": [
       "range"
      ]
     },
     "execution_count": 127,
     "metadata": {},
     "output_type": "execute_result"
    }
   ],
   "source": [
    "type(range(0,10))"
   ]
  },
  {
   "cell_type": "code",
   "execution_count": 124,
   "id": "6b50d617",
   "metadata": {},
   "outputs": [
    {
     "name": "stdout",
     "output_type": "stream",
     "text": [
      "0\n",
      "1\n",
      "2\n",
      "3\n",
      "4\n",
      "5\n",
      "6\n",
      "7\n",
      "8\n",
      "9\n"
     ]
    }
   ],
   "source": [
    "for i in range(10): # for loop is making range as iterable\n",
    "    print(i)"
   ]
  },
  {
   "cell_type": "code",
   "execution_count": 128,
   "id": "539c7829",
   "metadata": {},
   "outputs": [
    {
     "ename": "TypeError",
     "evalue": "'range' object is not an iterator",
     "output_type": "error",
     "traceback": [
      "\u001b[0;31m---------------------------------------------------------------------------\u001b[0m",
      "\u001b[0;31mTypeError\u001b[0m                                 Traceback (most recent call last)",
      "\u001b[0;32m/var/folders/pz/8fj7_jqs1_lglvwks1ym9jl40000gn/T/ipykernel_6463/1066684221.py\u001b[0m in \u001b[0;36m<module>\u001b[0;34m\u001b[0m\n\u001b[0;32m----> 1\u001b[0;31m \u001b[0mnext\u001b[0m\u001b[0;34m(\u001b[0m\u001b[0mrange\u001b[0m\u001b[0;34m(\u001b[0m\u001b[0;36m10\u001b[0m\u001b[0;34m)\u001b[0m\u001b[0;34m)\u001b[0m\u001b[0;34m\u001b[0m\u001b[0;34m\u001b[0m\u001b[0m\n\u001b[0m",
      "\u001b[0;31mTypeError\u001b[0m: 'range' object is not an iterator"
     ]
    }
   ],
   "source": [
    "next(range(10))"
   ]
  },
  {
   "cell_type": "code",
   "execution_count": 129,
   "id": "029fbfa7",
   "metadata": {},
   "outputs": [
    {
     "data": {
      "text/plain": [
       "<range_iterator at 0x7f91a5ec7db0>"
      ]
     },
     "execution_count": 129,
     "metadata": {},
     "output_type": "execute_result"
    }
   ],
   "source": [
    "iter(range(10)) #doesnt work like this"
   ]
  },
  {
   "cell_type": "code",
   "execution_count": 138,
   "id": "56bc66f4",
   "metadata": {},
   "outputs": [],
   "source": [
    "#iter function will convert any iterable obj into iterator\n",
    "d=iter(range(10))\n",
    "#next(d) if I give this line it doesnt work. even if I run many times, it will give 0. "
   ]
  },
  {
   "cell_type": "code",
   "execution_count": 139,
   "id": "9b01f95d",
   "metadata": {},
   "outputs": [
    {
     "data": {
      "text/plain": [
       "0"
      ]
     },
     "execution_count": 139,
     "metadata": {},
     "output_type": "execute_result"
    }
   ],
   "source": [
    "next(d)"
   ]
  },
  {
   "cell_type": "code",
   "execution_count": 140,
   "id": "949c9c92",
   "metadata": {},
   "outputs": [
    {
     "name": "stdout",
     "output_type": "stream",
     "text": [
      "0\n",
      "1\n",
      "2\n",
      "3\n",
      "4\n"
     ]
    }
   ],
   "source": [
    "#Range() wont give me data directly. we need to use it wit for or iter() & next()\n",
    "#function to generate function\n",
    "\n",
    "def test(n):\n",
    "    for i in range(n):\n",
    "        print(i)\n",
    "\n",
    "test(5)"
   ]
  },
  {
   "cell_type": "code",
   "execution_count": 153,
   "id": "42a02ce3",
   "metadata": {},
   "outputs": [
    {
     "name": "stdout",
     "output_type": "stream",
     "text": [
      "0\n",
      "1\n",
      "8\n",
      "27\n",
      "64\n",
      "125\n",
      "216\n",
      "343\n"
     ]
    }
   ],
   "source": [
    "def gen_cube(n):\n",
    "    for i in range(n):\n",
    "        print(i**3)\n",
    "        \n",
    "gen_cube(8)"
   ]
  },
  {
   "cell_type": "code",
   "execution_count": 155,
   "id": "f7fbf8e9",
   "metadata": {},
   "outputs": [],
   "source": [
    "#return statement should work but not working\n",
    "def gen_cube1(n):\n",
    "    for i in range(n):\n",
    "        return i**3"
   ]
  },
  {
   "cell_type": "code",
   "execution_count": 158,
   "id": "9b4b6b1c",
   "metadata": {},
   "outputs": [
    {
     "data": {
      "text/plain": [
       "0"
      ]
     },
     "execution_count": 158,
     "metadata": {},
     "output_type": "execute_result"
    }
   ],
   "source": [
    "gen_cube(3)"
   ]
  },
  {
   "cell_type": "markdown",
   "id": "09031348",
   "metadata": {},
   "source": [
    "## yield vs return()\n",
    "\n",
    "print or return statement do not remember the codes but generate data otherwise. \n",
    "to overcome this problem, we use yeild \n",
    "\n",
    "Yield is generally used to convert a regular Python function into a generator.\n",
    "Return is generally used for the end of the execution and “returns” the result to the caller statement.\n",
    "\n",
    "yield replace the return of a function to suspend its execution without destroying local variables.\n",
    "return exits from a function and handing back a value to its caller\n",
    "\n",
    "yield can run multiple times.\n",
    "return only runs single time\n",
    "\n",
    "yield statement function is executed from the last state from where the function get paused.\n",
    "return function calls run the function from the start.\n",
    "\n",
    "yield is used when the generator returns an intermediate result to the caller.\n",
    "return is used when a function is ready to send a value."
   ]
  },
  {
   "cell_type": "code",
   "execution_count": 163,
   "id": "2131fd40",
   "metadata": {},
   "outputs": [],
   "source": [
    "def gen_cube3(n):\n",
    "    for i in range(n):\n",
    "        yield i **3"
   ]
  },
  {
   "cell_type": "code",
   "execution_count": 164,
   "id": "467cac41",
   "metadata": {},
   "outputs": [
    {
     "data": {
      "text/plain": [
       "<generator object gen_cube3 at 0x7f91a60014a0>"
      ]
     },
     "execution_count": 164,
     "metadata": {},
     "output_type": "execute_result"
    }
   ],
   "source": [
    "gen_cube3(8) #it returns object"
   ]
  },
  {
   "cell_type": "code",
   "execution_count": 166,
   "id": "156a8230",
   "metadata": {},
   "outputs": [
    {
     "name": "stdout",
     "output_type": "stream",
     "text": [
      "0\n",
      "1\n",
      "8\n",
      "27\n",
      "64\n",
      "125\n",
      "216\n",
      "343\n"
     ]
    }
   ],
   "source": [
    "for i in gen_cube3(8):\n",
    "    print(i)"
   ]
  },
  {
   "cell_type": "code",
   "execution_count": 168,
   "id": "f9bf590f",
   "metadata": {},
   "outputs": [
    {
     "data": {
      "text/plain": [
       "0"
      ]
     },
     "execution_count": 168,
     "metadata": {},
     "output_type": "execute_result"
    }
   ],
   "source": [
    "next(gen_cube3(8)) #I'll not generate data apart from data, because it is not able to move to next indices\n",
    "#it is not iterable object \n",
    "#Now gen_cube is \"iterable\" and \"iterator object\" but NOT ITERATOR"
   ]
  },
  {
   "cell_type": "code",
   "execution_count": 175,
   "id": "9e3d8d67",
   "metadata": {},
   "outputs": [],
   "source": [
    "#again to make it iterator: use iter() then next()\n",
    "#doesnt work if I write next in same cell. Not sure why \n",
    "\n",
    "v= iter(gen_cube3(8))"
   ]
  },
  {
   "cell_type": "code",
   "execution_count": 177,
   "id": "bd3e13f4",
   "metadata": {},
   "outputs": [
    {
     "data": {
      "text/plain": [
       "1"
      ]
     },
     "execution_count": 177,
     "metadata": {},
     "output_type": "execute_result"
    }
   ],
   "source": [
    "next(v)\n"
   ]
  },
  {
   "cell_type": "markdown",
   "id": "14413903",
   "metadata": {},
   "source": [
    "To summarize: \n",
    "\n",
    "creating generator function\n",
    "1. Use foor loop and use yield. This returns genrator object\n",
    "2. To make it an iterator, use iter() and assign it to variable \n",
    "3. Pass that variable in next()\n"
   ]
  },
  {
   "cell_type": "code",
   "execution_count": 189,
   "id": "41eb26eb",
   "metadata": {},
   "outputs": [],
   "source": [
    "#GENERATOR FUNCTION.   *interview worth: generator, iterable, iterator\n",
    "#output shouldn't be generated in that function. \n",
    "\n",
    "def gen_cube4(n):\n",
    "    for i in range(n):\n",
    "        yield i **3\n",
    "        \n",
    "next(gen_cube4(5))\n",
    "\n",
    "v= iter(gen_cube4(5))\n",
    "\n",
    "#next(v)#doesnt work if next() is in same cell. "
   ]
  },
  {
   "cell_type": "code",
   "execution_count": 188,
   "id": "bb44eab9",
   "metadata": {},
   "outputs": [
    {
     "data": {
      "text/plain": [
       "64"
      ]
     },
     "execution_count": 188,
     "metadata": {},
     "output_type": "execute_result"
    }
   ],
   "source": [
    "next(v)"
   ]
  },
  {
   "cell_type": "markdown",
   "id": "9a6f9a7b",
   "metadata": {},
   "source": [
    "### Fibonacci series\n",
    "\n",
    "n=n+1-> 1,1,2,3,5,8.. etc\n"
   ]
  },
  {
   "cell_type": "code",
   "execution_count": 192,
   "id": "cf28e236",
   "metadata": {},
   "outputs": [
    {
     "name": "stdout",
     "output_type": "stream",
     "text": [
      "1\n",
      "1\n",
      "2\n",
      "3\n",
      "5\n",
      "8\n",
      "13\n",
      "21\n",
      "34\n",
      "55\n"
     ]
    }
   ],
   "source": [
    "#GENERATE FIBONACCI NUMBER USING GENERATOR\n",
    "#dont want output from that function \n",
    "\n",
    "#first without yield\n",
    "def gen_fibo(n):\n",
    "    a=1\n",
    "    b=1\n",
    "    for i in range(n):\n",
    "        print(a)\n",
    "        a,b = b,a+b\n",
    "\n",
    "gen_fibo(10)"
   ]
  },
  {
   "cell_type": "code",
   "execution_count": 193,
   "id": "56dd67c5",
   "metadata": {},
   "outputs": [],
   "source": [
    "#create generator function (using yield)\n",
    "\n",
    "def gen_fibo(n):\n",
    "    a=1\n",
    "    b=1\n",
    "    for i in range(n):\n",
    "        yield a\n",
    "        a,b = b,a+b"
   ]
  },
  {
   "cell_type": "code",
   "execution_count": 194,
   "id": "4e534257",
   "metadata": {},
   "outputs": [
    {
     "data": {
      "text/plain": [
       "<generator object gen_fibo at 0x7f91a6001cf0>"
      ]
     },
     "execution_count": 194,
     "metadata": {},
     "output_type": "execute_result"
    }
   ],
   "source": [
    "gen_fibo(10)"
   ]
  },
  {
   "cell_type": "code",
   "execution_count": 195,
   "id": "b33cc74e",
   "metadata": {},
   "outputs": [
    {
     "name": "stdout",
     "output_type": "stream",
     "text": [
      "1\n",
      "1\n",
      "2\n",
      "3\n",
      "5\n",
      "8\n",
      "13\n",
      "21\n",
      "34\n",
      "55\n"
     ]
    }
   ],
   "source": [
    "#call generator function inside for loop\n",
    "\n",
    "for i in gen_fibo(10):\n",
    "    print(i)"
   ]
  },
  {
   "cell_type": "code",
   "execution_count": 196,
   "id": "5ae35a32",
   "metadata": {},
   "outputs": [],
   "source": [
    "c= iter(gen_fibo(n))"
   ]
  },
  {
   "cell_type": "code",
   "execution_count": 205,
   "id": "2348fbd7",
   "metadata": {},
   "outputs": [
    {
     "ename": "StopIteration",
     "evalue": "",
     "output_type": "error",
     "traceback": [
      "\u001b[0;31m---------------------------------------------------------------------------\u001b[0m",
      "\u001b[0;31mStopIteration\u001b[0m                             Traceback (most recent call last)",
      "\u001b[0;32m/var/folders/pz/8fj7_jqs1_lglvwks1ym9jl40000gn/T/ipykernel_6463/1173204873.py\u001b[0m in \u001b[0;36m<module>\u001b[0;34m\u001b[0m\n\u001b[0;32m----> 1\u001b[0;31m \u001b[0mnext\u001b[0m\u001b[0;34m(\u001b[0m\u001b[0mc\u001b[0m\u001b[0;34m)\u001b[0m\u001b[0;34m\u001b[0m\u001b[0;34m\u001b[0m\u001b[0m\n\u001b[0m",
      "\u001b[0;31mStopIteration\u001b[0m: "
     ]
    }
   ],
   "source": [
    "next(c)"
   ]
  },
  {
   "cell_type": "code",
   "execution_count": 207,
   "id": "77390f43",
   "metadata": {},
   "outputs": [],
   "source": [
    "#putting it together\n",
    "\n",
    "def gen_fibo1(n):\n",
    "    a=1\n",
    "    b=1\n",
    "    for i in range(n):\n",
    "        yield a\n",
    "        a,b = b,a+b\n",
    "        \n",
    "c= iter(gen_fibo1(10))"
   ]
  },
  {
   "cell_type": "code",
   "execution_count": 216,
   "id": "e2cc3976",
   "metadata": {},
   "outputs": [
    {
     "data": {
      "text/plain": [
       "34"
      ]
     },
     "execution_count": 216,
     "metadata": {},
     "output_type": "execute_result"
    }
   ],
   "source": [
    "\n",
    "next(c)"
   ]
  },
  {
   "cell_type": "code",
   "execution_count": 219,
   "id": "81748b1c",
   "metadata": {},
   "outputs": [
    {
     "data": {
      "text/plain": [
       "16"
      ]
     },
     "execution_count": 219,
     "metadata": {},
     "output_type": "execute_result"
    }
   ],
   "source": [
    "#map function\n",
    "\n",
    "def square(n):\n",
    "    return n**2\n",
    "\n",
    "square(4)"
   ]
  },
  {
   "cell_type": "code",
   "execution_count": 220,
   "id": "fedd2d7c",
   "metadata": {},
   "outputs": [],
   "source": [
    "#generate square of all data inside list and return list\n",
    "\n",
    "l1=[1,2,3,4,5,6,7,8,9]\n",
    "n=[]\n",
    "\n",
    "for i in l1:\n",
    "    n.append(square(i))\n"
   ]
  },
  {
   "cell_type": "code",
   "execution_count": 221,
   "id": "b368bd79",
   "metadata": {},
   "outputs": [
    {
     "data": {
      "text/plain": [
       "[1, 4, 9, 16, 25, 36, 49, 64, 81]"
      ]
     },
     "execution_count": 221,
     "metadata": {},
     "output_type": "execute_result"
    }
   ],
   "source": [
    "n"
   ]
  },
  {
   "cell_type": "code",
   "execution_count": 223,
   "id": "a12c7775",
   "metadata": {},
   "outputs": [
    {
     "data": {
      "text/plain": [
       "[1, 4, 9, 16, 25, 36, 49, 64, 81]"
      ]
     },
     "execution_count": 223,
     "metadata": {},
     "output_type": "execute_result"
    }
   ],
   "source": [
    "#same operation in single line. \n",
    "\n",
    "#list comprehension\n",
    "\n",
    "[i**2 for i in l1]"
   ]
  },
  {
   "cell_type": "code",
   "execution_count": 225,
   "id": "8e02e549",
   "metadata": {},
   "outputs": [
    {
     "data": {
      "text/plain": [
       "<map at 0x7f91a5ec77f0>"
      ]
     },
     "execution_count": 225,
     "metadata": {},
     "output_type": "execute_result"
    }
   ],
   "source": [
    "#using map function \n",
    "#map() takes function without () as 1st arg and 2nd arg of iterable objects. map internally converts iterable\n",
    "#into iterator\n",
    "#maps every element in iterable into the function\n",
    "\n",
    "map(square,l1) #this returns object. But we want output list so typecast map() into list "
   ]
  },
  {
   "cell_type": "code",
   "execution_count": 226,
   "id": "b49e9027",
   "metadata": {},
   "outputs": [
    {
     "data": {
      "text/plain": [
       "[1, 4, 9, 16, 25, 36, 49, 64, 81]"
      ]
     },
     "execution_count": 226,
     "metadata": {},
     "output_type": "execute_result"
    }
   ],
   "source": [
    "list(map(square,l1))"
   ]
  },
  {
   "cell_type": "code",
   "execution_count": 228,
   "id": "9844bf07",
   "metadata": {},
   "outputs": [
    {
     "name": "stdout",
     "output_type": "stream",
     "text": [
      "1\n",
      "4\n",
      "9\n",
      "16\n",
      "25\n",
      "36\n",
      "49\n",
      "64\n",
      "81\n"
     ]
    }
   ],
   "source": [
    "#passing map into for: map acts like generator object\n",
    "\n",
    "for i in map(square, l1):\n",
    "    print(i)"
   ]
  },
  {
   "cell_type": "code",
   "execution_count": 230,
   "id": "03f2b58a",
   "metadata": {},
   "outputs": [
    {
     "data": {
      "text/plain": [
       "<map at 0x7f91a7273460>"
      ]
     },
     "execution_count": 230,
     "metadata": {},
     "output_type": "execute_result"
    }
   ],
   "source": [
    "#lambda function: without using external function. It is also called anonymous function because func has no name\n",
    "#lamba is keyword with which we can write entire function within itself in a single line\n",
    "#lamda takes1 arg, returns square of that arg, iterate \n",
    "# lambda is 1st arg, list l1 is 2nd arg for map()\n",
    "\n",
    "map(lambda x: x**2,l1 )"
   ]
  },
  {
   "cell_type": "code",
   "execution_count": 231,
   "id": "567d1014",
   "metadata": {},
   "outputs": [
    {
     "data": {
      "text/plain": [
       "[1, 4, 9, 16, 25, 36, 49, 64, 81]"
      ]
     },
     "execution_count": 231,
     "metadata": {},
     "output_type": "execute_result"
    }
   ],
   "source": [
    "list(map(lambda x: x**2,l1 ))"
   ]
  },
  {
   "cell_type": "code",
   "execution_count": 232,
   "id": "8b4fb4de",
   "metadata": {},
   "outputs": [],
   "source": [
    "#or we can write lambda in other line and assign it to a variable\n",
    "\n",
    "d= lambda x:x**2"
   ]
  },
  {
   "cell_type": "code",
   "execution_count": 233,
   "id": "0a1d8835",
   "metadata": {},
   "outputs": [
    {
     "data": {
      "text/plain": [
       "<map at 0x7f91a7475100>"
      ]
     },
     "execution_count": 233,
     "metadata": {},
     "output_type": "execute_result"
    }
   ],
   "source": [
    "#if not direct or lamda function, we can also pass the variable which does some sort of computation\n",
    "\n",
    "map(d,l1)"
   ]
  },
  {
   "cell_type": "code",
   "execution_count": 234,
   "id": "ff11bcad",
   "metadata": {},
   "outputs": [
    {
     "data": {
      "text/plain": [
       "[1, 4, 9, 16, 25, 36, 49, 64, 81]"
      ]
     },
     "execution_count": 234,
     "metadata": {},
     "output_type": "execute_result"
    }
   ],
   "source": [
    "list(map(d,l1))"
   ]
  },
  {
   "cell_type": "code",
   "execution_count": 241,
   "id": "02c0996b",
   "metadata": {},
   "outputs": [],
   "source": [
    "#one final list which should be index wise summation\n",
    "\n",
    "l2=[12,34,64,7,8,4]\n",
    "l3=[4,6,8,1,5,7]\n",
    "l4= [56,3,6,7,34,67,1,1,1,1]"
   ]
  },
  {
   "cell_type": "code",
   "execution_count": 242,
   "id": "4905d0ff",
   "metadata": {},
   "outputs": [],
   "source": [
    "#using map\n",
    "def summation(x,y,z):\n",
    "    return x+y+z\n",
    "#in l4 last 1s are ignored. it will take other index of l2 and l3 as null, not 0. if it took 0 then it would have added 1 from l4\n"
   ]
  },
  {
   "cell_type": "code",
   "execution_count": 243,
   "id": "c684873d",
   "metadata": {},
   "outputs": [
    {
     "data": {
      "text/plain": [
       "[72, 43, 78, 15, 47, 78]"
      ]
     },
     "execution_count": 243,
     "metadata": {},
     "output_type": "execute_result"
    }
   ],
   "source": [
    "list(map(summation,l2,l3,l4))"
   ]
  },
  {
   "cell_type": "code",
   "execution_count": 248,
   "id": "39afe704",
   "metadata": {},
   "outputs": [
    {
     "data": {
      "text/plain": [
       "[72, 43, 78, 15, 47, 78]"
      ]
     },
     "execution_count": 248,
     "metadata": {},
     "output_type": "execute_result"
    }
   ],
   "source": [
    "list(map(lambda x,y,z: x+y+z,l2,l3,l4))\n",
    "#I passes l1 as second arg in map() thanl2 l3 l4 got error: \n",
    "#<lambda>() missing 2 required positional arguments: 'y' and 'z' lambda lhs= 2nd arg objects of map()"
   ]
  },
  {
   "cell_type": "code",
   "execution_count": 251,
   "id": "f5f4cfe8",
   "metadata": {},
   "outputs": [],
   "source": [
    "#REDUCE FUNCTION\n",
    "\n",
    "#function is used to apply a particular function passed in its argument to all of the list elements \n",
    "#mentioned in the sequence passed along.\n",
    "\n",
    "# reduce() is not available bydefault. should be imported from functools\n",
    "\n",
    "#summation takes 2 arg and return sum of 2\n",
    "\n",
    "\n",
    "def summation1(a,b):\n",
    "    return a+b"
   ]
  },
  {
   "cell_type": "code",
   "execution_count": 252,
   "id": "eb98ef92",
   "metadata": {},
   "outputs": [
    {
     "data": {
      "text/plain": [
       "36"
      ]
     },
     "execution_count": 252,
     "metadata": {},
     "output_type": "execute_result"
    }
   ],
   "source": [
    "from functools import reduce\n",
    "\n",
    "l5=[1,2,3,4,5,6,7,8]\n",
    "\n",
    "reduce(summation1, l5) #1st arg func(external or lambda, 2nd is iterable dataset\n",
    "\n",
    "#1st seq\" a=1 b=2 =>3 a=3 b=3 =>6 a=6, b=4 etc"
   ]
  },
  {
   "cell_type": "code",
   "execution_count": 253,
   "id": "d7cfdbd7",
   "metadata": {},
   "outputs": [
    {
     "data": {
      "text/plain": [
       "36"
      ]
     },
     "execution_count": 253,
     "metadata": {},
     "output_type": "execute_result"
    }
   ],
   "source": [
    "#using lambda\n",
    "\n",
    "reduce(lambda x,y: x+y, l5)"
   ]
  },
  {
   "cell_type": "code",
   "execution_count": 254,
   "id": "6bfa3659",
   "metadata": {},
   "outputs": [
    {
     "data": {
      "text/plain": [
       "2.48015873015873e-05"
      ]
     },
     "execution_count": 254,
     "metadata": {},
     "output_type": "execute_result"
    }
   ],
   "source": [
    "reduce(lambda x,y: x/y, l5)"
   ]
  },
  {
   "cell_type": "code",
   "execution_count": 255,
   "id": "6db11cc9",
   "metadata": {},
   "outputs": [
    {
     "data": {
      "text/plain": [
       "40320"
      ]
     },
     "execution_count": 255,
     "metadata": {},
     "output_type": "execute_result"
    }
   ],
   "source": [
    "reduce(lambda x,y: x*y, l5)"
   ]
  },
  {
   "cell_type": "code",
   "execution_count": 256,
   "id": "ae46ee04",
   "metadata": {},
   "outputs": [
    {
     "ename": "TypeError",
     "evalue": "<lambda>() missing 1 required positional argument: 'z'",
     "output_type": "error",
     "traceback": [
      "\u001b[0;31m---------------------------------------------------------------------------\u001b[0m",
      "\u001b[0;31mTypeError\u001b[0m                                 Traceback (most recent call last)",
      "\u001b[0;32m/var/folders/pz/8fj7_jqs1_lglvwks1ym9jl40000gn/T/ipykernel_6463/1578121616.py\u001b[0m in \u001b[0;36m<module>\u001b[0;34m\u001b[0m\n\u001b[0;32m----> 1\u001b[0;31m \u001b[0mreduce\u001b[0m\u001b[0;34m(\u001b[0m\u001b[0;32mlambda\u001b[0m \u001b[0mx\u001b[0m\u001b[0;34m,\u001b[0m\u001b[0my\u001b[0m\u001b[0;34m,\u001b[0m\u001b[0mz\u001b[0m\u001b[0;34m:\u001b[0m \u001b[0mx\u001b[0m\u001b[0;34m+\u001b[0m\u001b[0my\u001b[0m\u001b[0;34m+\u001b[0m\u001b[0mz\u001b[0m\u001b[0;34m,\u001b[0m \u001b[0ml5\u001b[0m\u001b[0;34m)\u001b[0m\u001b[0;34m\u001b[0m\u001b[0;34m\u001b[0m\u001b[0m\n\u001b[0m",
      "\u001b[0;31mTypeError\u001b[0m: <lambda>() missing 1 required positional argument: 'z'"
     ]
    }
   ],
   "source": [
    "reduce(lambda x,y,z: x+y+z, l5)\n",
    "#if I do computation for each element in l5 that has even number or in this case 8 elements, at the last iteration\n",
    "#I'll be having a value for x and y but no z. so I'm getting an error\n",
    "#this explaination is wrong, shown in next example\n",
    "#reduce always takes 2values to compute, not even 1 or more than 2"
   ]
  },
  {
   "cell_type": "code",
   "execution_count": 257,
   "id": "0dd8806e",
   "metadata": {},
   "outputs": [
    {
     "ename": "TypeError",
     "evalue": "<lambda>() missing 1 required positional argument: 'z'",
     "output_type": "error",
     "traceback": [
      "\u001b[0;31m---------------------------------------------------------------------------\u001b[0m",
      "\u001b[0;31mTypeError\u001b[0m                                 Traceback (most recent call last)",
      "\u001b[0;32m/var/folders/pz/8fj7_jqs1_lglvwks1ym9jl40000gn/T/ipykernel_6463/1766222304.py\u001b[0m in \u001b[0;36m<module>\u001b[0;34m\u001b[0m\n\u001b[1;32m      1\u001b[0m \u001b[0ml6\u001b[0m\u001b[0;34m=\u001b[0m\u001b[0;34m[\u001b[0m\u001b[0;36m1\u001b[0m\u001b[0;34m,\u001b[0m\u001b[0;36m3\u001b[0m\u001b[0;34m,\u001b[0m\u001b[0;36m5\u001b[0m\u001b[0;34m,\u001b[0m\u001b[0;36m7\u001b[0m\u001b[0;34m,\u001b[0m\u001b[0;36m8\u001b[0m\u001b[0;34m]\u001b[0m\u001b[0;34m\u001b[0m\u001b[0;34m\u001b[0m\u001b[0m\n\u001b[0;32m----> 2\u001b[0;31m \u001b[0mreduce\u001b[0m\u001b[0;34m(\u001b[0m\u001b[0;32mlambda\u001b[0m \u001b[0mx\u001b[0m\u001b[0;34m,\u001b[0m\u001b[0my\u001b[0m\u001b[0;34m,\u001b[0m\u001b[0mz\u001b[0m\u001b[0;34m:\u001b[0m \u001b[0mx\u001b[0m\u001b[0;34m+\u001b[0m\u001b[0my\u001b[0m\u001b[0;34m+\u001b[0m\u001b[0mz\u001b[0m\u001b[0;34m,\u001b[0m \u001b[0ml6\u001b[0m\u001b[0;34m)\u001b[0m\u001b[0;34m\u001b[0m\u001b[0;34m\u001b[0m\u001b[0m\n\u001b[0m",
      "\u001b[0;31mTypeError\u001b[0m: <lambda>() missing 1 required positional argument: 'z'"
     ]
    }
   ],
   "source": [
    "#even this logic doesn't work. s reduce always takes 2values to compute\n",
    "l6=[1,3,5,7,8]\n",
    "reduce(lambda x,y,z: x+y+z, l6)"
   ]
  },
  {
   "cell_type": "markdown",
   "id": "06be16c6",
   "metadata": {},
   "source": [
    "MAP VS REDUCE\n",
    "\n",
    "* map creates a new array by transforming every element in an array individually. \n",
    "* filter creates a new array by removing elements that don't belong. \n",
    "* reduce , on the other hand, takes all of the elements in an array and reduces them into a single value."
   ]
  },
  {
   "cell_type": "code",
   "execution_count": 276,
   "id": "9a624cfc",
   "metadata": {},
   "outputs": [
    {
     "data": {
      "text/plain": [
       "<filter at 0x7f91a7bff280>"
      ]
     },
     "execution_count": 276,
     "metadata": {},
     "output_type": "execute_result"
    }
   ],
   "source": [
    "#FILTER\n",
    "#used to extract data set\n",
    "#signature is same as reduce n map\n",
    "\n",
    "#1st arg function, second iterable object\n",
    "\n",
    "l6=[3,5,1,6,7,99,2,4,8,66,24]\n",
    "#using lambda\n",
    "filter(lambda x : x%2==0, l6)"
   ]
  },
  {
   "cell_type": "code",
   "execution_count": 277,
   "id": "41eff11d",
   "metadata": {},
   "outputs": [
    {
     "data": {
      "text/plain": [
       "[6, 2, 4, 8, 66, 24]"
      ]
     },
     "execution_count": 277,
     "metadata": {},
     "output_type": "execute_result"
    }
   ],
   "source": [
    "list(filter(lambda x : x%2==0, l6))"
   ]
  },
  {
   "cell_type": "code",
   "execution_count": 287,
   "id": "1d0894cb",
   "metadata": {},
   "outputs": [],
   "source": [
    "# code isn't correct \n",
    "#l7=[3,5,1,6,7,99,2,4,8,66,24]\n",
    "#m=[]\n",
    "\n",
    "def evencheck(n):\n",
    "    if n%2==0:\n",
    "        return True"
   ]
  },
  {
   "cell_type": "code",
   "execution_count": 288,
   "id": "7bf96c4b",
   "metadata": {},
   "outputs": [
    {
     "data": {
      "text/plain": [
       "<filter at 0x7f91a7be25e0>"
      ]
     },
     "execution_count": 288,
     "metadata": {},
     "output_type": "execute_result"
    }
   ],
   "source": [
    "filter(evencheck, l6) #filter filters out the data whenever condition is true"
   ]
  },
  {
   "cell_type": "code",
   "execution_count": 289,
   "id": "661af48f",
   "metadata": {},
   "outputs": [
    {
     "data": {
      "text/plain": [
       "[6, 2, 4, 8, 66, 24]"
      ]
     },
     "execution_count": 289,
     "metadata": {},
     "output_type": "execute_result"
    }
   ],
   "source": [
    "list(filter(evencheck, l6))"
   ]
  },
  {
   "cell_type": "code",
   "execution_count": 290,
   "id": "4f82d21b",
   "metadata": {},
   "outputs": [
    {
     "data": {
      "text/plain": [
       "[3, 5, 1, 7, 99]"
      ]
     },
     "execution_count": 290,
     "metadata": {},
     "output_type": "execute_result"
    }
   ],
   "source": [
    "def oddcheck(n):\n",
    "    if n%2!=0:\n",
    "        return True\n",
    "list(filter(oddcheck, l6))"
   ]
  },
  {
   "cell_type": "code",
   "execution_count": null,
   "id": "9976c6c6",
   "metadata": {},
   "outputs": [],
   "source": []
  }
 ],
 "metadata": {
  "kernelspec": {
   "display_name": "Python 3 (ipykernel)",
   "language": "python",
   "name": "python3"
  },
  "language_info": {
   "codemirror_mode": {
    "name": "ipython",
    "version": 3
   },
   "file_extension": ".py",
   "mimetype": "text/x-python",
   "name": "python",
   "nbconvert_exporter": "python",
   "pygments_lexer": "ipython3",
   "version": "3.8.8"
  }
 },
 "nbformat": 4,
 "nbformat_minor": 5
}
