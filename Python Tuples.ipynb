{
 "cells": [
  {
   "cell_type": "markdown",
   "id": "b5ef45f4",
   "metadata": {},
   "source": [
    "Tuples are used to store multile items in single variable. Entries in tuple can be of different data type, But it has to mentioned properly. i.e., strings in \" \"\n",
    "Tuples are denoted by (). Tuple can also store homogenenous data type\n",
    "\n",
    "List has the set of elements, whose datatypes are similar\n",
    "List is denoted by []\n",
    "\n",
    "Tuples can be used to hold the data which are not supposed to be changed. Ex: password\n",
    "where we can not change the value of password entity, password should be same so that I can access system"
   ]
  },
  {
   "cell_type": "code",
   "execution_count": 3,
   "id": "867fbd3e",
   "metadata": {},
   "outputs": [
    {
     "data": {
      "text/plain": [
       "(1, 2, 'melissa')"
      ]
     },
     "execution_count": 3,
     "metadata": {},
     "output_type": "execute_result"
    }
   ],
   "source": [
    "t= (1,2, \"melissa\")\n",
    "t\n"
   ]
  },
  {
   "cell_type": "code",
   "execution_count": 4,
   "id": "3ad2680f",
   "metadata": {},
   "outputs": [
    {
     "data": {
      "text/plain": [
       "tuple"
      ]
     },
     "execution_count": 4,
     "metadata": {},
     "output_type": "execute_result"
    }
   ],
   "source": [
    "type(t)"
   ]
  },
  {
   "cell_type": "code",
   "execution_count": 5,
   "id": "8c73541d",
   "metadata": {},
   "outputs": [
    {
     "data": {
      "text/plain": [
       "['melissa', 1, 2, 3]"
      ]
     },
     "execution_count": 5,
     "metadata": {},
     "output_type": "execute_result"
    }
   ],
   "source": [
    "l= [\"melissa\", 1, 2, 3]\n",
    "l"
   ]
  },
  {
   "cell_type": "code",
   "execution_count": 6,
   "id": "08f5becc",
   "metadata": {},
   "outputs": [
    {
     "data": {
      "text/plain": [
       "list"
      ]
     },
     "execution_count": 6,
     "metadata": {},
     "output_type": "execute_result"
    }
   ],
   "source": [
    "type(l)"
   ]
  },
  {
   "cell_type": "markdown",
   "id": "fc458f0d",
   "metadata": {},
   "source": [
    "Even list can hold hetergeneous data. Why do we need tuples? \n",
    "\n",
    "*Data slicing: no difference\n",
    "*We can use similar functions for both tuples and list \n",
    "* can not reassign in tuple directly like we can in list\n",
    "\n",
    "Mutable vs Immutable element\n",
    "Mutable is kind of element where we can manipulate using index. Item can be reassigned. ex: list\n",
    "Immutable is kind of element where we can not maniplulate using index. Item can not be reassigned.ex: Tuples\n"
   ]
  },
  {
   "cell_type": "code",
   "execution_count": 7,
   "id": "5da49c60",
   "metadata": {},
   "outputs": [
    {
     "data": {
      "text/plain": [
       "3"
      ]
     },
     "execution_count": 7,
     "metadata": {},
     "output_type": "execute_result"
    }
   ],
   "source": [
    "len(t)"
   ]
  },
  {
   "cell_type": "code",
   "execution_count": 8,
   "id": "6af49457",
   "metadata": {},
   "outputs": [
    {
     "data": {
      "text/plain": [
       "('melissa', 2, 1)"
      ]
     },
     "execution_count": 8,
     "metadata": {},
     "output_type": "execute_result"
    }
   ],
   "source": [
    "t[::-1]"
   ]
  },
  {
   "cell_type": "code",
   "execution_count": 9,
   "id": "f19150df",
   "metadata": {},
   "outputs": [
    {
     "data": {
      "text/plain": [
       "['Vidiera', 1, 2, 3]"
      ]
     },
     "execution_count": 9,
     "metadata": {},
     "output_type": "execute_result"
    }
   ],
   "source": [
    "l[0]= \"Vidiera\" #this function will not add Vidiera as 1st element. it reassign/replaces 1st ele instead\n",
    "l"
   ]
  },
  {
   "cell_type": "code",
   "execution_count": 10,
   "id": "88ce20d3",
   "metadata": {},
   "outputs": [
    {
     "ename": "SyntaxError",
     "evalue": "cannot assign to literal (3261173547.py, line 3)",
     "output_type": "error",
     "traceback": [
      "\u001b[0;36m  File \u001b[0;32m\"/var/folders/pz/8fj7_jqs1_lglvwks1ym9jl40000gn/T/ipykernel_9103/3261173547.py\"\u001b[0;36m, line \u001b[0;32m3\u001b[0m\n\u001b[0;31m    t=[0]=\"Whisky\"\u001b[0m\n\u001b[0m      ^\u001b[0m\n\u001b[0;31mSyntaxError\u001b[0m\u001b[0;31m:\u001b[0m cannot assign to literal\n"
     ]
    }
   ],
   "source": [
    "#Difference: we can not reassign the element just using index in tuples\n",
    "\n",
    "t=[0]=\"Whisky\"\n",
    "t\n"
   ]
  },
  {
   "cell_type": "code",
   "execution_count": 11,
   "id": "e54493ce",
   "metadata": {},
   "outputs": [
    {
     "data": {
      "text/plain": [
       "'M'"
      ]
     },
     "execution_count": 11,
     "metadata": {},
     "output_type": "execute_result"
    }
   ],
   "source": [
    "s=\"Melissa\" #string will store in indices. 0=M, 1=e etc. mutating is not allowed.\n",
    "s[0]\n",
    "\n"
   ]
  },
  {
   "cell_type": "code",
   "execution_count": 12,
   "id": "f23c6f08",
   "metadata": {},
   "outputs": [
    {
     "ename": "TypeError",
     "evalue": "'str' object does not support item assignment",
     "output_type": "error",
     "traceback": [
      "\u001b[0;31m---------------------------------------------------------------------------\u001b[0m",
      "\u001b[0;31mTypeError\u001b[0m                                 Traceback (most recent call last)",
      "\u001b[0;32m/var/folders/pz/8fj7_jqs1_lglvwks1ym9jl40000gn/T/ipykernel_9103/1425786994.py\u001b[0m in \u001b[0;36m<module>\u001b[0;34m\u001b[0m\n\u001b[0;32m----> 1\u001b[0;31m \u001b[0ms\u001b[0m\u001b[0;34m[\u001b[0m\u001b[0;36m0\u001b[0m\u001b[0;34m]\u001b[0m\u001b[0;34m=\u001b[0m \u001b[0;34m\"V\"\u001b[0m \u001b[0;31m#string is immutable entity\u001b[0m\u001b[0;34m\u001b[0m\u001b[0;34m\u001b[0m\u001b[0m\n\u001b[0m",
      "\u001b[0;31mTypeError\u001b[0m: 'str' object does not support item assignment"
     ]
    }
   ],
   "source": [
    "s[0]= \"V\" #string is immutable entity"
   ]
  },
  {
   "cell_type": "code",
   "execution_count": 13,
   "id": "53c8531e",
   "metadata": {},
   "outputs": [
    {
     "name": "stdout",
     "output_type": "stream",
     "text": [
      "1\n",
      "2\n",
      "melissa\n"
     ]
    }
   ],
   "source": [
    "#Iteration in tuples\n",
    "t= (1,2, \"melissa\")\n",
    "for i in t:\n",
    "    print(i)"
   ]
  },
  {
   "cell_type": "code",
   "execution_count": 14,
   "id": "16775b1b",
   "metadata": {},
   "outputs": [
    {
     "name": "stdout",
     "output_type": "stream",
     "text": [
      "1\n",
      "2\n",
      "melissa\n"
     ]
    }
   ],
   "source": [
    "#not applicable\n",
    "l1= [1,2, \"melissa\"]\n",
    "for i in l1:\n",
    "    print(i)"
   ]
  },
  {
   "cell_type": "code",
   "execution_count": 15,
   "id": "383618aa",
   "metadata": {},
   "outputs": [],
   "source": [
    "#Tuples has just 2 inbuilt function. Index and count. This is because tuple id immutable"
   ]
  },
  {
   "cell_type": "code",
   "execution_count": 21,
   "id": "19b9b028",
   "metadata": {},
   "outputs": [
    {
     "data": {
      "text/plain": [
       "3"
      ]
     },
     "execution_count": 21,
     "metadata": {},
     "output_type": "execute_result"
    }
   ],
   "source": [
    "t1= (1,1,1,2,3,4,5, 10)\n",
    "t1.count(1)"
   ]
  },
  {
   "cell_type": "code",
   "execution_count": 22,
   "id": "9dca8bcb",
   "metadata": {},
   "outputs": [
    {
     "data": {
      "text/plain": [
       "0"
      ]
     },
     "execution_count": 22,
     "metadata": {},
     "output_type": "execute_result"
    }
   ],
   "source": [
    "t1.count(0)# 0 is not in t so returns 0"
   ]
  },
  {
   "cell_type": "code",
   "execution_count": 23,
   "id": "daa528b0",
   "metadata": {},
   "outputs": [
    {
     "data": {
      "text/plain": [
       "7"
      ]
     },
     "execution_count": 23,
     "metadata": {},
     "output_type": "execute_result"
    }
   ],
   "source": [
    "t1.index(10) #index of 10 is 7"
   ]
  },
  {
   "cell_type": "code",
   "execution_count": 24,
   "id": "9899f91e",
   "metadata": {},
   "outputs": [
    {
     "ename": "ValueError",
     "evalue": "tuple.index(x): x not in tuple",
     "output_type": "error",
     "traceback": [
      "\u001b[0;31m---------------------------------------------------------------------------\u001b[0m",
      "\u001b[0;31mValueError\u001b[0m                                Traceback (most recent call last)",
      "\u001b[0;32m/var/folders/pz/8fj7_jqs1_lglvwks1ym9jl40000gn/T/ipykernel_9103/3254332954.py\u001b[0m in \u001b[0;36m<module>\u001b[0;34m\u001b[0m\n\u001b[0;32m----> 1\u001b[0;31m \u001b[0mt1\u001b[0m\u001b[0;34m.\u001b[0m\u001b[0mindex\u001b[0m\u001b[0;34m(\u001b[0m\u001b[0;36m11\u001b[0m\u001b[0;34m)\u001b[0m\u001b[0;34m\u001b[0m\u001b[0;34m\u001b[0m\u001b[0m\n\u001b[0m",
      "\u001b[0;31mValueError\u001b[0m: tuple.index(x): x not in tuple"
     ]
    }
   ],
   "source": [
    "t1.index(11) # 11 is not in my tuple so I get an error\n"
   ]
  },
  {
   "cell_type": "code",
   "execution_count": 26,
   "id": "d3d0e26e",
   "metadata": {},
   "outputs": [
    {
     "data": {
      "text/plain": [
       "(6, 7, 8, 9, 3, 4, 3, 2, 1, 7)"
      ]
     },
     "execution_count": 26,
     "metadata": {},
     "output_type": "execute_result"
    }
   ],
   "source": [
    "# we can not apend\n",
    "#Apend is not available. Because apend uses index mutation. + is used for concatenation\n",
    "#because it returns new tuple after concatenation unlinke list\n",
    "\n",
    "\n",
    "t3=(6,7,8,9,3)\n",
    "t4=(4,3,2,1,7)\n",
    "\n",
    "#concatenation is possible using +\n",
    "t3+t4"
   ]
  },
  {
   "cell_type": "code",
   "execution_count": 27,
   "id": "3ba5a064",
   "metadata": {},
   "outputs": [
    {
     "data": {
      "text/plain": [
       "(4, 5, 6, 7, 8, 9)"
      ]
     },
     "execution_count": 27,
     "metadata": {},
     "output_type": "execute_result"
    }
   ],
   "source": [
    "#insert operation is not available. If I want to insert data in particular location in tuple \n",
    "#so we can do is: convert tuple into list. Then insert, then convert back into tuple\n",
    "\n",
    "t5=(4,5,6,7,8,9)\n",
    "t5"
   ]
  },
  {
   "cell_type": "code",
   "execution_count": 32,
   "id": "e8a380b4",
   "metadata": {},
   "outputs": [],
   "source": [
    "l1=list(t5)"
   ]
  },
  {
   "cell_type": "code",
   "execution_count": 33,
   "id": "93961525",
   "metadata": {},
   "outputs": [
    {
     "data": {
      "text/plain": [
       "[4, 5, 6, 'Melissa', 7, 8, 9]"
      ]
     },
     "execution_count": 33,
     "metadata": {},
     "output_type": "execute_result"
    }
   ],
   "source": [
    "l1.insert(3,\"Melissa\") # insert Melissa in 3rd loc\n",
    "l1"
   ]
  },
  {
   "cell_type": "code",
   "execution_count": 37,
   "id": "cbcf824b",
   "metadata": {},
   "outputs": [
    {
     "data": {
      "text/plain": [
       "(4, 5, 6, 'Melissa', 7, 8, 9)"
      ]
     },
     "execution_count": 37,
     "metadata": {},
     "output_type": "execute_result"
    }
   ],
   "source": [
    "t5=tuple(l1) #assigning to var t5 or any var is very imp\n",
    "t5"
   ]
  },
  {
   "cell_type": "code",
   "execution_count": 38,
   "id": "b1b4f181",
   "metadata": {},
   "outputs": [
    {
     "data": {
      "text/plain": [
       "tuple"
      ]
     },
     "execution_count": 38,
     "metadata": {},
     "output_type": "execute_result"
    }
   ],
   "source": [
    "type(t5)\n",
    "\n",
    "#if I just write like tuple(l1) and do not assign to any var. then l1 still returns as\n",
    "#list, not tuple. "
   ]
  },
  {
   "cell_type": "code",
   "execution_count": null,
   "id": "dc42ebd5",
   "metadata": {},
   "outputs": [],
   "source": []
  }
 ],
 "metadata": {
  "kernelspec": {
   "display_name": "Python 3 (ipykernel)",
   "language": "python",
   "name": "python3"
  },
  "language_info": {
   "codemirror_mode": {
    "name": "ipython",
    "version": 3
   },
   "file_extension": ".py",
   "mimetype": "text/x-python",
   "name": "python",
   "nbconvert_exporter": "python",
   "pygments_lexer": "ipython3",
   "version": "3.8.8"
  }
 },
 "nbformat": 4,
 "nbformat_minor": 5
}
