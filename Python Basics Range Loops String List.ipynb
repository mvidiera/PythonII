{
 "cells": [
  {
   "cell_type": "code",
   "execution_count": 1,
   "id": "b708b166",
   "metadata": {},
   "outputs": [
    {
     "data": {
      "text/plain": [
       "range(0, 10)"
      ]
     },
     "execution_count": 1,
     "metadata": {},
     "output_type": "execute_result"
    }
   ],
   "source": [
    "range(10)"
   ]
  },
  {
   "cell_type": "markdown",
   "id": "5c19ab89",
   "metadata": {},
   "source": [
    "Range can be used as data generator. If I declare upper bound using range function and provide a list(), it will generate a list of data with upper bound mentioned. range generates object, when untegrated with list, it is iterative function and trying to generate dataset out of range.\n",
    "\n",
    "If I want reverse data, then I can not give like list(range(10,2)) This gives blank [] .\n",
    "we need to give step size -1 as reverse.\n"
   ]
  },
  {
   "cell_type": "code",
   "execution_count": 2,
   "id": "9a22d091",
   "metadata": {},
   "outputs": [
    {
     "data": {
      "text/plain": [
       "[0, 1, 2, 3, 4, 5, 6, 7, 8, 9]"
      ]
     },
     "execution_count": 2,
     "metadata": {},
     "output_type": "execute_result"
    }
   ],
   "source": [
    "list(range(10))"
   ]
  },
  {
   "cell_type": "code",
   "execution_count": 3,
   "id": "270a4f15",
   "metadata": {},
   "outputs": [
    {
     "data": {
      "text/plain": [
       "[2, 3, 4, 5, 6, 7]"
      ]
     },
     "execution_count": 3,
     "metadata": {},
     "output_type": "execute_result"
    }
   ],
   "source": [
    "list(range(2,8)) #upper bound and lower bound"
   ]
  },
  {
   "cell_type": "code",
   "execution_count": 4,
   "id": "e575432a",
   "metadata": {},
   "outputs": [
    {
     "data": {
      "text/plain": [
       "[10, 9, 8, 7, 6, 5, 4, 3]"
      ]
     },
     "execution_count": 4,
     "metadata": {},
     "output_type": "execute_result"
    }
   ],
   "source": [
    "list(range(10,2,-1)) "
   ]
  },
  {
   "cell_type": "code",
   "execution_count": 5,
   "id": "3b669f26",
   "metadata": {},
   "outputs": [
    {
     "ename": "TypeError",
     "evalue": "'float' object cannot be interpreted as an integer",
     "output_type": "error",
     "traceback": [
      "\u001b[0;31m---------------------------------------------------------------------------\u001b[0m",
      "\u001b[0;31mTypeError\u001b[0m                                 Traceback (most recent call last)",
      "\u001b[0;32m/var/folders/pz/8fj7_jqs1_lglvwks1ym9jl40000gn/T/ipykernel_5861/2374236408.py\u001b[0m in \u001b[0;36m<module>\u001b[0;34m\u001b[0m\n\u001b[0;32m----> 1\u001b[0;31m \u001b[0mlist\u001b[0m\u001b[0;34m(\u001b[0m\u001b[0mrange\u001b[0m\u001b[0;34m(\u001b[0m\u001b[0;36m10\u001b[0m\u001b[0;34m,\u001b[0m\u001b[0;36m2.5\u001b[0m\u001b[0;34m,\u001b[0m\u001b[0;34m-\u001b[0m\u001b[0;36m1\u001b[0m\u001b[0;34m)\u001b[0m\u001b[0;34m)\u001b[0m \u001b[0;31m#this returns error, as the step size is -1 and our one of the bounds in decimal\u001b[0m\u001b[0;34m\u001b[0m\u001b[0;34m\u001b[0m\u001b[0m\n\u001b[0m",
      "\u001b[0;31mTypeError\u001b[0m: 'float' object cannot be interpreted as an integer"
     ]
    }
   ],
   "source": [
    "list(range(10,2.5,-1)) #this returns error, as the step size is -1 and our one of the bounds in decimal\n"
   ]
  },
  {
   "cell_type": "code",
   "execution_count": 6,
   "id": "5263dba9",
   "metadata": {},
   "outputs": [
    {
     "data": {
      "text/plain": [
       "[3, 26, 69, 10, 5, 6, 17, 8, 9, 20, 11, 12]"
      ]
     },
     "execution_count": 6,
     "metadata": {},
     "output_type": "execute_result"
    }
   ],
   "source": [
    "#List manipulation\n",
    "\n",
    "l= [1,24,67,8,3,4,15,6,7,18,9,10]\n",
    "m=[]\n",
    "for i in l:     #extract dataset 1 by 1 out of the list. \n",
    "    \n",
    "    m.append(i+2) #for i= 1, 1+2=3==m for i=24...\n",
    "m"
   ]
  },
  {
   "cell_type": "code",
   "execution_count": 7,
   "id": "5e8fba5d",
   "metadata": {},
   "outputs": [
    {
     "data": {
      "text/plain": [
       "[5, 6, 17, 8, 9, 20, 11, 12]"
      ]
     },
     "execution_count": 7,
     "metadata": {},
     "output_type": "execute_result"
    }
   ],
   "source": [
    "#if condition \n",
    "\n",
    "l= [1,24,67,8,3,4,15,6,7,18,9,10]\n",
    "m=[]\n",
    "for i in range(len(l)): #if i> 4 only then add 2 to elements which are greater than 4\n",
    "    if i>=4:\n",
    "        m.append(l[i]+2)\n",
    "m"
   ]
  },
  {
   "cell_type": "code",
   "execution_count": 8,
   "id": "528de9f8",
   "metadata": {},
   "outputs": [
    {
     "name": "stdout",
     "output_type": "stream",
     "text": [
      "None of the condition is true\n",
      "yes dataset is of integer type\n"
     ]
    }
   ],
   "source": [
    "#if condition and if condition within an if statement\n",
    "\n",
    "s=10\n",
    "if s>10:\n",
    "    print(\"Number it is equal to 10\")\n",
    "elif s<10:\n",
    "    print(\"number is not equal to 10\")\n",
    "#if condition is not falling into any loopat all then use else\n",
    "else:\n",
    "    print(\"None of the condition is true\")\n",
    "    if type(s)== int:\n",
    "        print(\"yes dataset is of integer type\")"
   ]
  },
  {
   "cell_type": "code",
   "execution_count": 9,
   "id": "b0437be2",
   "metadata": {},
   "outputs": [
    {
     "data": {
      "text/plain": [
       "['Melissa', 'Whisky', 'Picu', 'Coco', 'Vidiera']"
      ]
     },
     "execution_count": 9,
     "metadata": {},
     "output_type": "execute_result"
    }
   ],
   "source": [
    "#if condition inside for loop\n",
    "#if my data set is string then add 2 else dont\n",
    "\n",
    "l= [1,24,67,8,3,4,15,6,7,18,9,10, \"Melissa\", \"Whisky\",\"Picu\", \"Coco\",\"Vidiera\"]\n",
    "m=[]\n",
    "\n",
    "#type returns datatype of the object \n",
    "\n",
    "for i in l:\n",
    "    if type(i)==str:\n",
    "        m.append(i)\n",
    "m"
   ]
  },
  {
   "cell_type": "code",
   "execution_count": 10,
   "id": "7bb3eebd",
   "metadata": {},
   "outputs": [],
   "source": [
    "#range states 3 point. upper lower bound n step size"
   ]
  },
  {
   "cell_type": "code",
   "execution_count": 11,
   "id": "71ea4e81",
   "metadata": {},
   "outputs": [
    {
     "name": "stdout",
     "output_type": "stream",
     "text": [
      "5\n",
      "6\n",
      "7\n",
      "8\n",
      "9\n",
      "3\n",
      "43\n",
      "no data left in collection\n"
     ]
    }
   ],
   "source": [
    "#FOR-ELSE\n",
    "#else with for statement\n",
    "\n",
    "l= [5,6,7,8,9,3,43]\n",
    "\n",
    "for i in l:\n",
    "    print(i)\n",
    "else:\n",
    "    print(\"no data left in collection\") #once the objects in the list are dsplayed then\n",
    "#else condition is displayed\n",
    "# for some reason if I can not complete for loop then even else loop is not executed"
   ]
  },
  {
   "cell_type": "code",
   "execution_count": 12,
   "id": "3f5c1bc0",
   "metadata": {},
   "outputs": [
    {
     "name": "stdout",
     "output_type": "stream",
     "text": [
      "V\n",
      "i\n",
      "d\n",
      "i\n"
     ]
    }
   ],
   "source": [
    "#BREAK- CONTINUE loop\n",
    "#for else operation where else condition can not be excecuted ie, if entire for loop can\n",
    "# not be completed. \n",
    "\n",
    "for i in \"Vidiera\": #string will store data in index values\n",
    "    if i==\"e\": #if the condition is met, come out of the loop  \n",
    "        break \n",
    "    else:\n",
    "        print(i)\n",
    "#if system encounter my name it shouldnt execute loop \n",
    "# go to Vidiera, extract object. now i==v, then it wont execute if statement, else will be\n",
    "#executed then print V. same for i d i. now i = e, then it will enter the if loop as condition\n",
    "#is met and then break the loop. so end result displays the data before e\n",
    "#if I give letter which doesnt belong to i, then if is never executed, it will just print entire i \n"
   ]
  },
  {
   "cell_type": "code",
   "execution_count": 13,
   "id": "0255f995",
   "metadata": {},
   "outputs": [
    {
     "name": "stdout",
     "output_type": "stream",
     "text": [
      "M\n",
      "e\n",
      "l\n",
      "i\n",
      "out of the loop\n"
     ]
    }
   ],
   "source": [
    "for i in \"Melissa\":\n",
    "    if i== \"s\":\n",
    "        break\n",
    "    print(i)\n",
    "    \n",
    "else:\n",
    "    print(\"Iteration is completed\")\n",
    "print(\"out of the loop\")\n",
    "\n",
    "#if i is not in the string given then it will display\n",
    "#as soon as i has the letter which is in the string. then iteration is broken and print stmt out \n",
    "#of the for loop is executed. "
   ]
  },
  {
   "cell_type": "code",
   "execution_count": 14,
   "id": "ee8eb8da",
   "metadata": {},
   "outputs": [
    {
     "name": "stdout",
     "output_type": "stream",
     "text": [
      "M\n",
      "e\n",
      "l\n",
      "i\n",
      "s\n",
      "s\n",
      "a\n",
      "Iteration is completed\n",
      "out of the loop\n"
     ]
    }
   ],
   "source": [
    "for i in \"Melissa\":\n",
    "    if i== \"z\":\n",
    "        break\n",
    "    print(i)\n",
    "else:\n",
    "    print(\"Iteration is completed\")\n",
    "print(\"out of the loop\")\n",
    "\n",
    "#in this case i doesnt match to any object in string. so all the objects in the string \n",
    "#is displayed. and the 2nd print of else statement is displayed.\n",
    "#at last the last print statement is displayed\n"
   ]
  },
  {
   "cell_type": "code",
   "execution_count": 15,
   "id": "87dd2b94",
   "metadata": {},
   "outputs": [
    {
     "name": "stdout",
     "output_type": "stream",
     "text": [
      "55\n",
      "11\n"
     ]
    }
   ],
   "source": [
    "#WHILE STATEMENT: perform operation till the condition is failed. Once condition is failed come out of loop\n",
    "\n",
    "d=10\n",
    "s=0\n",
    "i=1\n",
    "#want to perform addition operation starting from 1 to 10. \n",
    "\n",
    "while i<=d: #entire kernel will hang if I give condition that always be true. like while i= true or i==d\n",
    "    s=s+i\n",
    "    i=i+1\n",
    "#if i write print statements within while loop then I will get seriesof number like 1 2 3 etc not summation\n",
    "print(s)\n",
    "print(i)\n"
   ]
  },
  {
   "cell_type": "code",
   "execution_count": 16,
   "id": "ef6f1c54",
   "metadata": {},
   "outputs": [
    {
     "name": "stdout",
     "output_type": "stream",
     "text": [
      "M\n",
      "e\n",
      "l\n",
      "i\n",
      "a\n"
     ]
    }
   ],
   "source": [
    "#continue statement\n",
    "#try to perform operation and if condition is met, then continue executing. \n",
    "#continue will not let the next statement to execute. as soon as the condition is met\n",
    "#immediatedly it will give control to the for loop and iteration takes place all over. \n",
    "#in this case when i== s the condition is met, the next print statement is not executed\n",
    "#instead the cntrol is given to for loop and anything after continue wont be exceuted \n",
    "\n",
    "for i in \"Melissa\":\n",
    "    if i == \"s\":\n",
    "        continue\n",
    "    print(i)"
   ]
  },
  {
   "cell_type": "markdown",
   "id": "718fd4fe",
   "metadata": {},
   "source": [
    "Break vs Continue\n",
    "\n",
    "Break leaves the loop completely and executes the statements after the loop \n",
    "Break exits the loop\n",
    "Continue gives control back to the loop and will not execute statements after continue\n",
    "Continue skips the statement after, and continues the loop "
   ]
  },
  {
   "cell_type": "code",
   "execution_count": 17,
   "id": "27022302",
   "metadata": {},
   "outputs": [
    {
     "name": "stdout",
     "output_type": "stream",
     "text": [
      "Melissa\n"
     ]
    },
    {
     "data": {
      "text/plain": [
       "'Melissa'"
      ]
     },
     "execution_count": 17,
     "metadata": {},
     "output_type": "execute_result"
    }
   ],
   "source": [
    "# how to take an input\n",
    "\n",
    "input()\n",
    "# it always return string, though I give integer or anything. \n",
    "#to overcome this, we use typecasting\n"
   ]
  },
  {
   "cell_type": "code",
   "execution_count": 18,
   "id": "608bd021",
   "metadata": {},
   "outputs": [
    {
     "name": "stdout",
     "output_type": "stream",
     "text": [
      "123\n"
     ]
    },
    {
     "data": {
      "text/plain": [
       "str"
      ]
     },
     "execution_count": 18,
     "metadata": {},
     "output_type": "execute_result"
    }
   ],
   "source": [
    "type(input()) #here I have given integer but it is returning string. "
   ]
  },
  {
   "cell_type": "code",
   "execution_count": 20,
   "id": "58d12cb2",
   "metadata": {},
   "outputs": [
    {
     "name": "stdout",
     "output_type": "stream",
     "text": [
      "123\n"
     ]
    },
    {
     "data": {
      "text/plain": [
       "int"
      ]
     },
     "execution_count": 20,
     "metadata": {},
     "output_type": "execute_result"
    }
   ],
   "source": [
    "#typecast: store the value of input in var and then change the type\n",
    "a= input()\n",
    "b= int(a)\n",
    "type(b)\n",
    "\n",
    "#here if I give string as the input then I can not typecast and I get an error"
   ]
  },
  {
   "cell_type": "code",
   "execution_count": 25,
   "id": "76175ac1",
   "metadata": {},
   "outputs": [
    {
     "name": "stdout",
     "output_type": "stream",
     "text": [
      "5\n"
     ]
    },
    {
     "data": {
      "text/plain": [
       "[]"
      ]
     },
     "execution_count": 25,
     "metadata": {},
     "output_type": "execute_result"
    }
   ],
   "source": [
    "#creating code, where I am getting an input and checking that in the pre described list\n",
    "#if the input matches with the list element, then print any stmt\n",
    "\n",
    "a= input()\n",
    "l= [1,2,3,4,5,6,7,8,9,0]\n",
    "m=[]\n",
    "\n",
    "for i in l:\n",
    "    if i == a:\n",
    "        m.append(i)\n",
    "    \n",
    "m\n",
    "#it returns empty list \n",
    "#because, input always treates anything as string. 5 is considered as string, it wont \n",
    "#satisfy the if condiion, hence it returns empty list. \n",
    "# to avoid this, do the typecasting\n",
    "\n"
   ]
  },
  {
   "cell_type": "code",
   "execution_count": 29,
   "id": "b7e75cc4",
   "metadata": {},
   "outputs": [
    {
     "name": "stdout",
     "output_type": "stream",
     "text": [
      "Insert only an integer: 6\n"
     ]
    },
    {
     "data": {
      "text/plain": [
       "[6]"
      ]
     },
     "execution_count": 29,
     "metadata": {},
     "output_type": "execute_result"
    }
   ],
   "source": [
    "a= int(input(\"Insert only an integer: \"))\n",
    "\n",
    "l= [1,2,3,4,5,6,7,8,9,0]\n",
    "m=[]\n",
    "\n",
    "for i in l:\n",
    "    if i == a:\n",
    "        m.append(i)\n",
    "    \n",
    "m"
   ]
  },
  {
   "cell_type": "code",
   "execution_count": 27,
   "id": "064c33c3",
   "metadata": {},
   "outputs": [
    {
     "name": "stdout",
     "output_type": "stream",
     "text": [
      "e\n"
     ]
    },
    {
     "data": {
      "text/plain": [
       "['e']"
      ]
     },
     "execution_count": 27,
     "metadata": {},
     "output_type": "execute_result"
    }
   ],
   "source": [
    "#if the list value is string then no need to typecast of course\n",
    "a= input()\n",
    "l= ['a','b','c','d','e','f']\n",
    "m=[]\n",
    "\n",
    "for i in l:\n",
    "    if i == a:\n",
    "        m.append(i)\n",
    "    \n",
    "m"
   ]
  },
  {
   "cell_type": "code",
   "execution_count": 30,
   "id": "55371524",
   "metadata": {},
   "outputs": [
    {
     "data": {
      "text/plain": [
       "'MelissaVidiera'"
      ]
     },
     "execution_count": 30,
     "metadata": {},
     "output_type": "execute_result"
    }
   ],
   "source": [
    "#string concatnation: + operator is used. \n",
    "# we can not concatenate string and integer\n",
    "#data type should be same. if not then typecast\n",
    "\n",
    "\"Melissa\"+ \"Vidiera\""
   ]
  },
  {
   "cell_type": "code",
   "execution_count": 31,
   "id": "3f38a748",
   "metadata": {},
   "outputs": [
    {
     "ename": "TypeError",
     "evalue": "can only concatenate str (not \"int\") to str",
     "output_type": "error",
     "traceback": [
      "\u001b[0;31m---------------------------------------------------------------------------\u001b[0m",
      "\u001b[0;31mTypeError\u001b[0m                                 Traceback (most recent call last)",
      "\u001b[0;32m/var/folders/pz/8fj7_jqs1_lglvwks1ym9jl40000gn/T/ipykernel_5861/133154904.py\u001b[0m in \u001b[0;36m<module>\u001b[0;34m\u001b[0m\n\u001b[0;32m----> 1\u001b[0;31m \u001b[0;34m\"Melissa\"\u001b[0m\u001b[0;34m+\u001b[0m\u001b[0;36m5\u001b[0m\u001b[0;34m\u001b[0m\u001b[0;34m\u001b[0m\u001b[0m\n\u001b[0m",
      "\u001b[0;31mTypeError\u001b[0m: can only concatenate str (not \"int\") to str"
     ]
    }
   ],
   "source": [
    "\"Melissa\"+5"
   ]
  },
  {
   "cell_type": "code",
   "execution_count": 34,
   "id": "f8706f59",
   "metadata": {},
   "outputs": [
    {
     "data": {
      "text/plain": [
       "'Melissa5'"
      ]
     },
     "execution_count": 34,
     "metadata": {},
     "output_type": "execute_result"
    }
   ],
   "source": [
    "'Melissa'+'5'"
   ]
  },
  {
   "cell_type": "code",
   "execution_count": 33,
   "id": "24e74fa1",
   "metadata": {},
   "outputs": [
    {
     "data": {
      "text/plain": [
       "'Melissa5'"
      ]
     },
     "execution_count": 33,
     "metadata": {},
     "output_type": "execute_result"
    }
   ],
   "source": [
    "'Melissa'+str(5)"
   ]
  },
  {
   "cell_type": "code",
   "execution_count": 35,
   "id": "5f33c7c8",
   "metadata": {},
   "outputs": [
    {
     "ename": "TypeError",
     "evalue": "can only concatenate list (not \"str\") to list",
     "output_type": "error",
     "traceback": [
      "\u001b[0;31m---------------------------------------------------------------------------\u001b[0m",
      "\u001b[0;31mTypeError\u001b[0m                                 Traceback (most recent call last)",
      "\u001b[0;32m/var/folders/pz/8fj7_jqs1_lglvwks1ym9jl40000gn/T/ipykernel_5861/814152430.py\u001b[0m in \u001b[0;36m<module>\u001b[0;34m\u001b[0m\n\u001b[0;32m----> 1\u001b[0;31m \u001b[0;34m[\u001b[0m\u001b[0;36m1\u001b[0m\u001b[0;34m,\u001b[0m\u001b[0;36m2\u001b[0m\u001b[0;34m,\u001b[0m\u001b[0;36m3\u001b[0m\u001b[0;34m,\u001b[0m\u001b[0;36m4\u001b[0m\u001b[0;34m,\u001b[0m\u001b[0;36m5\u001b[0m\u001b[0;34m,\u001b[0m\u001b[0;36m6\u001b[0m\u001b[0;34m,\u001b[0m\u001b[0;36m7\u001b[0m\u001b[0;34m,\u001b[0m\u001b[0;36m8\u001b[0m\u001b[0;34m,\u001b[0m\u001b[0;36m9\u001b[0m\u001b[0;34m,\u001b[0m\u001b[0;36m0\u001b[0m\u001b[0;34m]\u001b[0m\u001b[0;34m+\u001b[0m\u001b[0;34m\"Melissa\"\u001b[0m\u001b[0;34m\u001b[0m\u001b[0;34m\u001b[0m\u001b[0m\n\u001b[0m",
      "\u001b[0;31mTypeError\u001b[0m: can only concatenate list (not \"str\") to list"
     ]
    }
   ],
   "source": [
    "[1,2,3,4,5,6,7,8,9,0]+\"Melissa\""
   ]
  },
  {
   "cell_type": "code",
   "execution_count": 36,
   "id": "653af585",
   "metadata": {},
   "outputs": [
    {
     "ename": "TypeError",
     "evalue": "can only concatenate list (not \"str\") to list",
     "output_type": "error",
     "traceback": [
      "\u001b[0;31m---------------------------------------------------------------------------\u001b[0m",
      "\u001b[0;31mTypeError\u001b[0m                                 Traceback (most recent call last)",
      "\u001b[0;32m/var/folders/pz/8fj7_jqs1_lglvwks1ym9jl40000gn/T/ipykernel_5861/2298582930.py\u001b[0m in \u001b[0;36m<module>\u001b[0;34m\u001b[0m\n\u001b[0;32m----> 1\u001b[0;31m \u001b[0;34m[\u001b[0m\u001b[0;34m'a'\u001b[0m\u001b[0;34m,\u001b[0m\u001b[0;34m'b'\u001b[0m\u001b[0;34m,\u001b[0m\u001b[0;34m'c'\u001b[0m\u001b[0;34m,\u001b[0m\u001b[0;34m'd'\u001b[0m\u001b[0;34m,\u001b[0m\u001b[0;34m'e'\u001b[0m\u001b[0;34m,\u001b[0m\u001b[0;34m'f'\u001b[0m\u001b[0;34m]\u001b[0m\u001b[0;34m+\u001b[0m\u001b[0;34m'Melissa'\u001b[0m\u001b[0;34m\u001b[0m\u001b[0;34m\u001b[0m\u001b[0m\n\u001b[0m",
      "\u001b[0;31mTypeError\u001b[0m: can only concatenate list (not \"str\") to list"
     ]
    }
   ],
   "source": [
    "['a','b','c','d','e','f']+'Melissa'"
   ]
  },
  {
   "cell_type": "code",
   "execution_count": 37,
   "id": "e44e758b",
   "metadata": {},
   "outputs": [
    {
     "data": {
      "text/plain": [
       "'MelMelMelMelMel'"
      ]
     },
     "execution_count": 37,
     "metadata": {},
     "output_type": "execute_result"
    }
   ],
   "source": [
    "\"Mel\"*5"
   ]
  },
  {
   "cell_type": "code",
   "execution_count": 38,
   "id": "eef69d1d",
   "metadata": {},
   "outputs": [
    {
     "data": {
      "text/plain": [
       "'Mel Mel Mel Mel Mel '"
      ]
     },
     "execution_count": 38,
     "metadata": {},
     "output_type": "execute_result"
    }
   ],
   "source": [
    "\"Mel \"*5"
   ]
  },
  {
   "cell_type": "code",
   "execution_count": 39,
   "id": "246ad129",
   "metadata": {},
   "outputs": [
    {
     "data": {
      "text/plain": [
       "[1, 2, 3, 4, 5, 1, 2, 3, 4, 5, 1, 2, 3, 4, 5, 1, 2, 3, 4, 5, 1, 2, 3, 4, 5]"
      ]
     },
     "execution_count": 39,
     "metadata": {},
     "output_type": "execute_result"
    }
   ],
   "source": [
    "[1,2,3,4,5]*5"
   ]
  },
  {
   "cell_type": "code",
   "execution_count": 40,
   "id": "a277dfec",
   "metadata": {},
   "outputs": [
    {
     "data": {
      "text/plain": [
       "['1', '2', '3', 'Melissa', '1', '2', '3', 'Melissa', '1', '2', '3', 'Melissa']"
      ]
     },
     "execution_count": 40,
     "metadata": {},
     "output_type": "execute_result"
    }
   ],
   "source": [
    "['1','2','3', \"Melissa\"]*3"
   ]
  },
  {
   "cell_type": "markdown",
   "id": "0e0d86f6",
   "metadata": {},
   "source": [
    "use tab after s. to know the list of function suggestion. or to complete suggestion use tab s.sp <tab> it will show s.split etc. \n",
    "    \n",
    "Shift+tab-> shows arguments in the function"
   ]
  },
  {
   "cell_type": "code",
   "execution_count": 44,
   "id": "9ae381e6",
   "metadata": {},
   "outputs": [
    {
     "data": {
      "text/plain": [
       "'MELISSA'"
      ]
     },
     "execution_count": 44,
     "metadata": {},
     "output_type": "execute_result"
    }
   ],
   "source": [
    "s=\"melissa\"\n",
    "s.upper()\n"
   ]
  },
  {
   "cell_type": "code",
   "execution_count": 45,
   "id": "bdc77b5f",
   "metadata": {},
   "outputs": [
    {
     "data": {
      "text/plain": [
       "'melissa'"
      ]
     },
     "execution_count": 45,
     "metadata": {},
     "output_type": "execute_result"
    }
   ],
   "source": [
    "s1=\"mELIssa\"\n",
    "s1.lower()"
   ]
  },
  {
   "cell_type": "code",
   "execution_count": 46,
   "id": "2a208983",
   "metadata": {},
   "outputs": [
    {
     "data": {
      "text/plain": [
       "['My', 'name', 'is', 'Melissa', 'Vidiera']"
      ]
     },
     "execution_count": 46,
     "metadata": {},
     "output_type": "execute_result"
    }
   ],
   "source": [
    "s3= \"My name is Melissa Vidiera\"\n",
    "s3.split()"
   ]
  },
  {
   "cell_type": "code",
   "execution_count": 47,
   "id": "dc018601",
   "metadata": {},
   "outputs": [
    {
     "data": {
      "text/plain": [
       "['My', 'name', 'is', 'Melissa', 'Vidiera']"
      ]
     },
     "execution_count": 47,
     "metadata": {},
     "output_type": "execute_result"
    }
   ],
   "source": [
    "s4=\"My@name@is@Melissa@Vidiera\"\n",
    "#split fiunction takes white spaces as delimeter/seperator. in this case, I can pass @ as\n",
    "#as argumetn then mention in arguments within quotes\n",
    "s4.split('@')"
   ]
  },
  {
   "cell_type": "code",
   "execution_count": 48,
   "id": "ea0e3cfb",
   "metadata": {},
   "outputs": [],
   "source": [
    "#if we have multiple delimiter\n",
    "#use map operation for single line code. As of now we are creating our own function\n",
    "\n"
   ]
  },
  {
   "cell_type": "code",
   "execution_count": 49,
   "id": "d2b4fab3",
   "metadata": {},
   "outputs": [
    {
     "data": {
      "text/plain": [
       "['MyN', 'meisMeliss', 'Vidier', '']"
      ]
     },
     "execution_count": 49,
     "metadata": {},
     "output_type": "execute_result"
    }
   ],
   "source": [
    "s5=\"MyNameisMelissaVidiera\"\n",
    "s5.split('a')\n",
    "#case sensitive, also the delimiter 'a' wont be the part of output data. i,e, a is missing in output"
   ]
  },
  {
   "cell_type": "code",
   "execution_count": 50,
   "id": "a74668fe",
   "metadata": {},
   "outputs": [
    {
     "data": {
      "text/plain": [
       "['MyNameisMelissaVidiera']"
      ]
     },
     "execution_count": 50,
     "metadata": {},
     "output_type": "execute_result"
    }
   ],
   "source": [
    "s5.split(\"A\")\n",
    "#it will return intital statement as delimiter is case sensitive"
   ]
  },
  {
   "cell_type": "code",
   "execution_count": 54,
   "id": "305f9039",
   "metadata": {},
   "outputs": [
    {
     "data": {
      "text/plain": [
       "('MyN', 'a', 'meisMelissaVidiera')"
      ]
     },
     "execution_count": 54,
     "metadata": {},
     "output_type": "execute_result"
    }
   ],
   "source": [
    "#as delimiter 'a' wont be part of output, it is a drawback. to overcome this we use\n",
    "#partition: it doesnt have default delimiter\n",
    "s5.partition('a')\n",
    "\n",
    "#this split data once it encounters the argument we have passed. \n",
    "#delimiter also be the part of output\n",
    "#only 1st time when it encounters delimiter then the data is separated into 2 parts. \n",
    "#three result\n",
    "#before 1st delimiter and after delimiter. i.e, 2nd n 3rd 'a' is not considered as delimiter\n",
    "#split always returns list. partition returns tuples"
   ]
  },
  {
   "cell_type": "code",
   "execution_count": 55,
   "id": "95c2aff8",
   "metadata": {},
   "outputs": [
    {
     "data": {
      "text/plain": [
       "tuple"
      ]
     },
     "execution_count": 55,
     "metadata": {},
     "output_type": "execute_result"
    }
   ],
   "source": [
    "type(s5.partition('a'))"
   ]
  },
  {
   "cell_type": "code",
   "execution_count": 57,
   "id": "330554ad",
   "metadata": {},
   "outputs": [
    {
     "data": {
      "text/plain": [
       "3"
      ]
     },
     "execution_count": 57,
     "metadata": {},
     "output_type": "execute_result"
    }
   ],
   "source": [
    "s6=\"mklaforhgojetogjpewtiglknwadklsnlask\"\n",
    "s6.find('a')\n",
    "#find returns index of first occurange of a/character we have passed\n",
    "#there are many a mentioned in str, but index isnt returned"
   ]
  },
  {
   "cell_type": "code",
   "execution_count": 59,
   "id": "feb4d49a",
   "metadata": {},
   "outputs": [
    {
     "data": {
      "text/plain": [
       "-1"
      ]
     },
     "execution_count": 59,
     "metadata": {},
     "output_type": "execute_result"
    }
   ],
   "source": [
    "s6.find('z')\n",
    "#z is not in the string, it returns -1. "
   ]
  },
  {
   "cell_type": "code",
   "execution_count": 65,
   "id": "b0027258",
   "metadata": {},
   "outputs": [
    {
     "data": {
      "text/plain": [
       "'xxxxxxxxxxxxxxxxxxxxxMelissaxxxxxxxxxxxxxxxxxxxxxx'"
      ]
     },
     "execution_count": 65,
     "metadata": {},
     "output_type": "execute_result"
    }
   ],
   "source": [
    "s6=\"Melissa\"\n",
    "s6.center(50, \"x\") #arg width=how many times my fillchar and my string is occupied.\n",
    "#fillchar= what is placed before and after. total 50 character that includes str melissa and x"
   ]
  },
  {
   "cell_type": "code",
   "execution_count": 66,
   "id": "b531e43b",
   "metadata": {},
   "outputs": [
    {
     "ename": "TypeError",
     "evalue": "The fill character must be exactly one character long",
     "output_type": "error",
     "traceback": [
      "\u001b[0;31m---------------------------------------------------------------------------\u001b[0m",
      "\u001b[0;31mTypeError\u001b[0m                                 Traceback (most recent call last)",
      "\u001b[0;32m/var/folders/pz/8fj7_jqs1_lglvwks1ym9jl40000gn/T/ipykernel_5861/3160608429.py\u001b[0m in \u001b[0;36m<module>\u001b[0;34m\u001b[0m\n\u001b[1;32m      1\u001b[0m \u001b[0ms7\u001b[0m\u001b[0;34m=\u001b[0m\u001b[0;34m\"Melissa\"\u001b[0m\u001b[0;34m\u001b[0m\u001b[0;34m\u001b[0m\u001b[0m\n\u001b[0;32m----> 2\u001b[0;31m \u001b[0ms7\u001b[0m\u001b[0;34m.\u001b[0m\u001b[0mcenter\u001b[0m\u001b[0;34m(\u001b[0m\u001b[0;36m50\u001b[0m\u001b[0;34m,\u001b[0m \u001b[0;34m\"xx\"\u001b[0m\u001b[0;34m)\u001b[0m\u001b[0;34m\u001b[0m\u001b[0;34m\u001b[0m\u001b[0m\n\u001b[0m",
      "\u001b[0;31mTypeError\u001b[0m: The fill character must be exactly one character long"
     ]
    }
   ],
   "source": [
    "#in center we can pass only 1 character, if we pass multiple then we will get an error\n",
    "s7=\"Melissa\"\n",
    "s7.center(50, \"xx\") "
   ]
  },
  {
   "cell_type": "code",
   "execution_count": 67,
   "id": "50db5317",
   "metadata": {},
   "outputs": [
    {
     "data": {
      "text/plain": [
       "'Melissa\\t Vidiera'"
      ]
     },
     "execution_count": 67,
     "metadata": {},
     "output_type": "execute_result"
    }
   ],
   "source": [
    "#\\t inside \"\" wont be considered as tab\n",
    "\"Melissa\\t Vidiera\""
   ]
  },
  {
   "cell_type": "code",
   "execution_count": 69,
   "id": "56bba916",
   "metadata": {},
   "outputs": [
    {
     "data": {
      "text/plain": [
       "['Melissa', 'Vidiera']"
      ]
     },
     "execution_count": 69,
     "metadata": {},
     "output_type": "execute_result"
    }
   ],
   "source": [
    "\"Melissa\\tVidiera\".split('\\t')"
   ]
  },
  {
   "cell_type": "code",
   "execution_count": 71,
   "id": "2249a6c2",
   "metadata": {},
   "outputs": [
    {
     "data": {
      "text/plain": [
       "'Melissa Vidiera'"
      ]
     },
     "execution_count": 71,
     "metadata": {},
     "output_type": "execute_result"
    }
   ],
   "source": [
    "\"Melissa\\tVidiera\".expandtabs()"
   ]
  },
  {
   "cell_type": "code",
   "execution_count": 72,
   "id": "dfff1b0f",
   "metadata": {},
   "outputs": [
    {
     "data": {
      "text/plain": [
       "['Melissa', 'Vidiera', 'Whisky', 'Vidiera']"
      ]
     },
     "execution_count": 72,
     "metadata": {},
     "output_type": "execute_result"
    }
   ],
   "source": [
    "\"Melissa\\tVidiera\\tWhisky\\tVidiera\".split('\\t')"
   ]
  },
  {
   "cell_type": "code",
   "execution_count": 74,
   "id": "0fec2d3f",
   "metadata": {},
   "outputs": [
    {
     "data": {
      "text/plain": [
       "'My name is Melissa Vidiera'"
      ]
     },
     "execution_count": 74,
     "metadata": {},
     "output_type": "execute_result"
    }
   ],
   "source": [
    "#in runtime if we want to take value from the variable\n",
    "#use format(), use {} this is placeholder of data\n",
    "'My name is {} Vidiera'.format(\"Melissa\")"
   ]
  },
  {
   "cell_type": "code",
   "execution_count": 77,
   "id": "de438022",
   "metadata": {},
   "outputs": [
    {
     "name": "stdout",
     "output_type": "stream",
     "text": [
      "Please enter your nameMelissa\n"
     ]
    },
    {
     "data": {
      "text/plain": [
       "'My name is Melissa'"
      ]
     },
     "execution_count": 77,
     "metadata": {},
     "output_type": "execute_result"
    }
   ],
   "source": [
    "#take input from keyboard \n",
    "a=input(\"Please enter your name\")\n",
    "\"My name is {}\".format(a)\n"
   ]
  },
  {
   "cell_type": "code",
   "execution_count": 79,
   "id": "48ee0119",
   "metadata": {},
   "outputs": [
    {
     "name": "stdout",
     "output_type": "stream",
     "text": [
      "Please enter your first name Melissa\n",
      "Please enter your last name Vidiera\n"
     ]
    },
    {
     "data": {
      "text/plain": [
       "'My name is Melissa Vidiera'"
      ]
     },
     "execution_count": 79,
     "metadata": {},
     "output_type": "execute_result"
    }
   ],
   "source": [
    "#multiple data set\n",
    "a=input(\"Please enter your first name \")\n",
    "b=input(\"Please enter your last name \")\n",
    "\n",
    "\"My name is {} {}\".format(a,b)"
   ]
  },
  {
   "cell_type": "code",
   "execution_count": 80,
   "id": "59f449d9",
   "metadata": {},
   "outputs": [
    {
     "name": "stdout",
     "output_type": "stream",
     "text": [
      "Please enter your first name Melissa\n",
      "Please enter your last name Vidiera\n"
     ]
    },
    {
     "ename": "IndexError",
     "evalue": "Replacement index 1 out of range for positional args tuple",
     "output_type": "error",
     "traceback": [
      "\u001b[0;31m---------------------------------------------------------------------------\u001b[0m",
      "\u001b[0;31mIndexError\u001b[0m                                Traceback (most recent call last)",
      "\u001b[0;32m/var/folders/pz/8fj7_jqs1_lglvwks1ym9jl40000gn/T/ipykernel_5861/3807959457.py\u001b[0m in \u001b[0;36m<module>\u001b[0;34m\u001b[0m\n\u001b[1;32m      3\u001b[0m \u001b[0mb\u001b[0m\u001b[0;34m=\u001b[0m\u001b[0minput\u001b[0m\u001b[0;34m(\u001b[0m\u001b[0;34m\"Please enter your last name \"\u001b[0m\u001b[0;34m)\u001b[0m\u001b[0;34m\u001b[0m\u001b[0;34m\u001b[0m\u001b[0m\n\u001b[1;32m      4\u001b[0m \u001b[0;34m\u001b[0m\u001b[0m\n\u001b[0;32m----> 5\u001b[0;31m \u001b[0;34m\"My name is {} {}\"\u001b[0m\u001b[0;34m.\u001b[0m\u001b[0mformat\u001b[0m\u001b[0;34m(\u001b[0m\u001b[0ma\u001b[0m\u001b[0;34m)\u001b[0m\u001b[0;34m\u001b[0m\u001b[0;34m\u001b[0m\u001b[0m\n\u001b[0m",
      "\u001b[0;31mIndexError\u001b[0m: Replacement index 1 out of range for positional args tuple"
     ]
    }
   ],
   "source": [
    "#if I give just one format()\n",
    "#if curly braces is more and format arg is less, then we will get an error\n",
    "#inversely, we wont get any error\n",
    "\n",
    "a=input(\"Please enter your first name \")\n",
    "b=input(\"Please enter your last name \")\n",
    "\n",
    "\"My name is {} {}\".format(a) "
   ]
  },
  {
   "cell_type": "code",
   "execution_count": 81,
   "id": "249b7080",
   "metadata": {},
   "outputs": [
    {
     "data": {
      "text/plain": [
       "True"
      ]
     },
     "execution_count": 81,
     "metadata": {},
     "output_type": "execute_result"
    }
   ],
   "source": [
    "s9= \"adfdknwagopijr6850\"\n",
    "s.isalpha()"
   ]
  },
  {
   "cell_type": "code",
   "execution_count": 99,
   "id": "106e5d9e",
   "metadata": {},
   "outputs": [
    {
     "data": {
      "text/plain": [
       "True"
      ]
     },
     "execution_count": 99,
     "metadata": {},
     "output_type": "execute_result"
    }
   ],
   "source": [
    "s9.isalnum()"
   ]
  },
  {
   "cell_type": "code",
   "execution_count": 91,
   "id": "da9b8087",
   "metadata": {},
   "outputs": [
    {
     "data": {
      "text/plain": [
       "False"
      ]
     },
     "execution_count": 91,
     "metadata": {},
     "output_type": "execute_result"
    }
   ],
   "source": [
    "s9.isdecimal()"
   ]
  },
  {
   "cell_type": "code",
   "execution_count": 92,
   "id": "662eec92",
   "metadata": {},
   "outputs": [
    {
     "data": {
      "text/plain": [
       "True"
      ]
     },
     "execution_count": 92,
     "metadata": {},
     "output_type": "execute_result"
    }
   ],
   "source": [
    "s9.islower()"
   ]
  },
  {
   "cell_type": "code",
   "execution_count": 93,
   "id": "115ff1c2",
   "metadata": {},
   "outputs": [
    {
     "data": {
      "text/plain": [
       "False"
      ]
     },
     "execution_count": 93,
     "metadata": {},
     "output_type": "execute_result"
    }
   ],
   "source": [
    "s9.istitle()"
   ]
  },
  {
   "cell_type": "code",
   "execution_count": 94,
   "id": "5f034575",
   "metadata": {},
   "outputs": [
    {
     "data": {
      "text/plain": [
       "True"
      ]
     },
     "execution_count": 94,
     "metadata": {},
     "output_type": "execute_result"
    }
   ],
   "source": [
    "s9.isidentifier()"
   ]
  },
  {
   "cell_type": "code",
   "execution_count": 95,
   "id": "197f3c8c",
   "metadata": {},
   "outputs": [
    {
     "data": {
      "text/plain": [
       "False"
      ]
     },
     "execution_count": 95,
     "metadata": {},
     "output_type": "execute_result"
    }
   ],
   "source": [
    "s9.isspace()"
   ]
  },
  {
   "cell_type": "code",
   "execution_count": 96,
   "id": "8f9a8a90",
   "metadata": {},
   "outputs": [
    {
     "data": {
      "text/plain": [
       "False"
      ]
     },
     "execution_count": 96,
     "metadata": {},
     "output_type": "execute_result"
    }
   ],
   "source": [
    "s9.endswith('i')"
   ]
  },
  {
   "cell_type": "code",
   "execution_count": 97,
   "id": "d0ef4080",
   "metadata": {},
   "outputs": [
    {
     "data": {
      "text/plain": [
       "18"
      ]
     },
     "execution_count": 97,
     "metadata": {},
     "output_type": "execute_result"
    }
   ],
   "source": [
    "len(s9)"
   ]
  },
  {
   "cell_type": "code",
   "execution_count": 102,
   "id": "87da9f3b",
   "metadata": {},
   "outputs": [
    {
     "data": {
      "text/plain": [
       "[6, 1, 2, 3, 4, 5, 'Melissa', 5.5, 'Vidiera']"
      ]
     },
     "execution_count": 102,
     "metadata": {},
     "output_type": "execute_result"
    }
   ],
   "source": [
    "#list\n",
    "\n",
    "l2=[1,2,3,4,5,\"Melissa\", 5.5, \"Vidiera\"]\n",
    "for i in l2:\n",
    "    m.append(i)\n",
    "m"
   ]
  },
  {
   "cell_type": "code",
   "execution_count": 103,
   "id": "4a1bce8c",
   "metadata": {},
   "outputs": [
    {
     "data": {
      "text/plain": [
       "[1, 2, 3, 4, 5, 'Melissa', 5.5, 'Vidiera', 4, 5, 6, 7, 8, 9, 'Whisky', 'Coco']"
      ]
     },
     "execution_count": 103,
     "metadata": {},
     "output_type": "execute_result"
    }
   ],
   "source": [
    "l3= [4,5,6,7,8,9,\"Whisky\",\"Coco\"]\n",
    "l2+l3"
   ]
  },
  {
   "cell_type": "code",
   "execution_count": 105,
   "id": "9be1911f",
   "metadata": {},
   "outputs": [
    {
     "data": {
      "text/plain": [
       "[1,\n",
       " 2,\n",
       " 3,\n",
       " 4,\n",
       " 5,\n",
       " 'Melissa',\n",
       " 5.5,\n",
       " 'Vidiera',\n",
       " 4,\n",
       " 5,\n",
       " 6,\n",
       " 7,\n",
       " 8,\n",
       " 9,\n",
       " 'Whisky',\n",
       " 'Coco',\n",
       " 1,\n",
       " 2,\n",
       " 3,\n",
       " 4,\n",
       " 5,\n",
       " 'Melissa',\n",
       " 5.5,\n",
       " 'Vidiera',\n",
       " 4,\n",
       " 5,\n",
       " 6,\n",
       " 7,\n",
       " 8,\n",
       " 9,\n",
       " 'Whisky',\n",
       " 'Coco']"
      ]
     },
     "execution_count": 105,
     "metadata": {},
     "output_type": "execute_result"
    }
   ],
   "source": [
    "(l2+l3)*2"
   ]
  },
  {
   "cell_type": "code",
   "execution_count": 106,
   "id": "065ea539",
   "metadata": {},
   "outputs": [
    {
     "data": {
      "text/plain": [
       "[]"
      ]
     },
     "execution_count": 106,
     "metadata": {},
     "output_type": "execute_result"
    }
   ],
   "source": [
    "(l2+l3)*0 #returns blank"
   ]
  },
  {
   "cell_type": "code",
   "execution_count": 107,
   "id": "bfae5a58",
   "metadata": {},
   "outputs": [
    {
     "ename": "TypeError",
     "evalue": "can only concatenate list (not \"str\") to list",
     "output_type": "error",
     "traceback": [
      "\u001b[0;31m---------------------------------------------------------------------------\u001b[0m",
      "\u001b[0;31mTypeError\u001b[0m                                 Traceback (most recent call last)",
      "\u001b[0;32m/var/folders/pz/8fj7_jqs1_lglvwks1ym9jl40000gn/T/ipykernel_5861/3352004219.py\u001b[0m in \u001b[0;36m<module>\u001b[0;34m\u001b[0m\n\u001b[0;32m----> 1\u001b[0;31m \u001b[0ml3\u001b[0m\u001b[0;34m+\u001b[0m\u001b[0;34m\"Melissa\"\u001b[0m\u001b[0;34m\u001b[0m\u001b[0;34m\u001b[0m\u001b[0m\n\u001b[0m",
      "\u001b[0;31mTypeError\u001b[0m: can only concatenate list (not \"str\") to list"
     ]
    }
   ],
   "source": [
    "l3+\"Melissa\" #mismatch of datatype"
   ]
  },
  {
   "cell_type": "code",
   "execution_count": 108,
   "id": "20447dde",
   "metadata": {},
   "outputs": [
    {
     "data": {
      "text/plain": [
       "[4, 5, 6, 7, 8, 9, 'Whisky', 'Coco', 'M', 'e', 'l', 'i', 's', 's', 'a']"
      ]
     },
     "execution_count": 108,
     "metadata": {},
     "output_type": "execute_result"
    }
   ],
   "source": [
    "l3+list(\"Melissa\")\n",
    "#if I pass Melissa as list by mentioning list then each character is considered as separate object\n",
    "#characters are considered as iterable object. Same way if I pass integer inside list(), I will get an error\n",
    "#TypeError: 'int' object is not iterable"
   ]
  },
  {
   "cell_type": "code",
   "execution_count": 109,
   "id": "f3f599d1",
   "metadata": {},
   "outputs": [
    {
     "ename": "TypeError",
     "evalue": "'int' object is not iterable",
     "output_type": "error",
     "traceback": [
      "\u001b[0;31m---------------------------------------------------------------------------\u001b[0m",
      "\u001b[0;31mTypeError\u001b[0m                                 Traceback (most recent call last)",
      "\u001b[0;32m/var/folders/pz/8fj7_jqs1_lglvwks1ym9jl40000gn/T/ipykernel_5861/2039281602.py\u001b[0m in \u001b[0;36m<module>\u001b[0;34m\u001b[0m\n\u001b[0;32m----> 1\u001b[0;31m \u001b[0mlist\u001b[0m\u001b[0;34m(\u001b[0m\u001b[0;36m90\u001b[0m\u001b[0;34m)\u001b[0m\u001b[0;34m\u001b[0m\u001b[0;34m\u001b[0m\u001b[0m\n\u001b[0m",
      "\u001b[0;31mTypeError\u001b[0m: 'int' object is not iterable"
     ]
    }
   ],
   "source": [
    "list(90)"
   ]
  },
  {
   "cell_type": "code",
   "execution_count": 112,
   "id": "68441239",
   "metadata": {},
   "outputs": [
    {
     "data": {
      "text/plain": [
       "[4, 5, 6, 7, 8, 9, 'Whisky', 'Coco', 'Picu', 'Picu', 'Picu']"
      ]
     },
     "execution_count": 112,
     "metadata": {},
     "output_type": "execute_result"
    }
   ],
   "source": [
    "l3.append(\"Picu\")\n",
    "l3\n",
    "#here I had run same stmt thrice, so Picu is added thrice\n"
   ]
  },
  {
   "cell_type": "code",
   "execution_count": 114,
   "id": "3544d0ab",
   "metadata": {},
   "outputs": [
    {
     "data": {
      "text/plain": [
       "[4, 5, 6, 7, 8, 'Ken', 'Ken', 9, 'Whisky', 'Coco', 'Picu', 'Picu', 'Picu']"
      ]
     },
     "execution_count": 114,
     "metadata": {},
     "output_type": "execute_result"
    }
   ],
   "source": [
    "l3.insert(6,\"Ken\") #att - index, object\n",
    "l3\n",
    "#I had run one with index 5 and another time with index 6\n",
    "# I have given index as 5, then object is not added in index 5(6th pos), it will add 1 before index(5th pos)"
   ]
  },
  {
   "cell_type": "code",
   "execution_count": 115,
   "id": "5dc7d34b",
   "metadata": {},
   "outputs": [
    {
     "data": {
      "text/plain": [
       "[4,\n",
       " 5,\n",
       " 6,\n",
       " 7,\n",
       " 8,\n",
       " 'Ken',\n",
       " 'Ken',\n",
       " 9,\n",
       " 'Whisky',\n",
       " 'Coco',\n",
       " 'Picu',\n",
       " 'Picu',\n",
       " 'Sontu',\n",
       " 'Picu']"
      ]
     },
     "execution_count": 115,
     "metadata": {},
     "output_type": "execute_result"
    }
   ],
   "source": [
    "l3.insert(-1,\"Sontu\") \n",
    "l3\n",
    "#same logic applied as last one, Sontu is not added in the last, it is added in last bt 2nd"
   ]
  },
  {
   "cell_type": "code",
   "execution_count": 116,
   "id": "c79375ff",
   "metadata": {},
   "outputs": [
    {
     "data": {
      "text/plain": [
       "[4,\n",
       " 5,\n",
       " 6,\n",
       " 7,\n",
       " 8,\n",
       " 'Ken',\n",
       " 'Ken',\n",
       " 9,\n",
       " 'Whisky',\n",
       " 'Coco',\n",
       " 'Picu',\n",
       " 'Picu',\n",
       " 'Sontu',\n",
       " [8, 9, 0],\n",
       " 'Picu']"
      ]
     },
     "execution_count": 116,
     "metadata": {},
     "output_type": "execute_result"
    }
   ],
   "source": [
    "#can insert list inside a list\n",
    "l3.insert(-1,[8,9,0]) \n",
    "l3"
   ]
  },
  {
   "cell_type": "code",
   "execution_count": 117,
   "id": "b0666999",
   "metadata": {},
   "outputs": [
    {
     "data": {
      "text/plain": [
       "[4,\n",
       " 5,\n",
       " 6,\n",
       " 7,\n",
       " 8,\n",
       " 'Ken',\n",
       " 'Ken',\n",
       " 9,\n",
       " 'Whisky',\n",
       " 'Coco',\n",
       " 'Picu',\n",
       " 'Picu',\n",
       " 'Sontu',\n",
       " [8, 9, 0]]"
      ]
     },
     "execution_count": 117,
     "metadata": {},
     "output_type": "execute_result"
    }
   ],
   "source": [
    "l3.pop()\n",
    "#remove data permanently from last index if I am not passing any argument. by default it is last\n",
    "l3"
   ]
  },
  {
   "cell_type": "code",
   "execution_count": 118,
   "id": "0982e949",
   "metadata": {},
   "outputs": [
    {
     "data": {
      "text/plain": [
       "[4,\n",
       " 5,\n",
       " 7,\n",
       " 8,\n",
       " 'Ken',\n",
       " 'Ken',\n",
       " 9,\n",
       " 'Whisky',\n",
       " 'Coco',\n",
       " 'Picu',\n",
       " 'Picu',\n",
       " 'Sontu',\n",
       " [8, 9, 0]]"
      ]
     },
     "execution_count": 118,
     "metadata": {},
     "output_type": "execute_result"
    }
   ],
   "source": [
    "l3.pop(2) #index2 is 3rd element. If I execute again, then again element in 2nd index is deleted\n",
    "l3"
   ]
  },
  {
   "cell_type": "code",
   "execution_count": 120,
   "id": "05d1031d",
   "metadata": {},
   "outputs": [
    {
     "data": {
      "text/plain": [
       "[[8, 9, 0],\n",
       " 'Sontu',\n",
       " 'Picu',\n",
       " 'Picu',\n",
       " 'Coco',\n",
       " 'Whisky',\n",
       " 9,\n",
       " 'Ken',\n",
       " 'Ken',\n",
       " 8,\n",
       " 7,\n",
       " 5,\n",
       " 4]"
      ]
     },
     "execution_count": 120,
     "metadata": {},
     "output_type": "execute_result"
    }
   ],
   "source": [
    "#reverse\n",
    "l3[::-1] #this one line of code displays reversed list. if I again give l3, orginal list l3 is printed as reverse\n",
    "#is not permanent\n",
    "#this is not reversing list permanently. as it is not stored\n",
    "#to make it permanent then we need to store it in variable \n",
    "#l3= l3[::-1]\n",
    "#::-1, default start index, defailt stop index, step size is -1. that is last element, -1, 2nd last, -1, 3rd last"
   ]
  },
  {
   "cell_type": "code",
   "execution_count": 122,
   "id": "baf7fa4d",
   "metadata": {},
   "outputs": [
    {
     "data": {
      "text/plain": [
       "[4,\n",
       " 5,\n",
       " 7,\n",
       " 8,\n",
       " 'Ken',\n",
       " 'Ken',\n",
       " 9,\n",
       " 'Whisky',\n",
       " 'Coco',\n",
       " 'Picu',\n",
       " 'Picu',\n",
       " 'Sontu',\n",
       " [8, 9, 0]]"
      ]
     },
     "execution_count": 122,
     "metadata": {},
     "output_type": "execute_result"
    }
   ],
   "source": [
    "l3.reverse()\n",
    "l3 #here I need to print l3, here list is reversed permanenty"
   ]
  },
  {
   "cell_type": "code",
   "execution_count": 123,
   "id": "2bb66c77",
   "metadata": {},
   "outputs": [
    {
     "ename": "TypeError",
     "evalue": "'<' not supported between instances of 'str' and 'int'",
     "output_type": "error",
     "traceback": [
      "\u001b[0;31m---------------------------------------------------------------------------\u001b[0m",
      "\u001b[0;31mTypeError\u001b[0m                                 Traceback (most recent call last)",
      "\u001b[0;32m/var/folders/pz/8fj7_jqs1_lglvwks1ym9jl40000gn/T/ipykernel_5861/805862314.py\u001b[0m in \u001b[0;36m<module>\u001b[0;34m\u001b[0m\n\u001b[0;32m----> 1\u001b[0;31m \u001b[0ml3\u001b[0m\u001b[0;34m.\u001b[0m\u001b[0msort\u001b[0m\u001b[0;34m(\u001b[0m\u001b[0;34m)\u001b[0m\u001b[0;34m\u001b[0m\u001b[0;34m\u001b[0m\u001b[0m\n\u001b[0m",
      "\u001b[0;31mTypeError\u001b[0m: '<' not supported between instances of 'str' and 'int'"
     ]
    }
   ],
   "source": [
    "l3.sort()\n",
    "#in my list, I have int list and different kind of var, so it cant be sorted"
   ]
  },
  {
   "cell_type": "code",
   "execution_count": 125,
   "id": "b5c298be",
   "metadata": {},
   "outputs": [
    {
     "data": {
      "text/plain": [
       "[0, 1, 9, 23, 23, 67, 68, 479]"
      ]
     },
     "execution_count": 125,
     "metadata": {},
     "output_type": "execute_result"
    }
   ],
   "source": [
    "l4=[67,9,23,479,23,68,0,1]\n",
    "l4.sort()\n",
    "l4"
   ]
  },
  {
   "cell_type": "code",
   "execution_count": 127,
   "id": "1a6e0ddc",
   "metadata": {},
   "outputs": [
    {
     "data": {
      "text/plain": [
       "[479, 68, 67, 23, 23, 9, 1, 0]"
      ]
     },
     "execution_count": 127,
     "metadata": {},
     "output_type": "execute_result"
    }
   ],
   "source": [
    "l4.sort(reverse=True)\n",
    "l4"
   ]
  },
  {
   "cell_type": "code",
   "execution_count": 129,
   "id": "7b5d5d8f",
   "metadata": {},
   "outputs": [
    {
     "data": {
      "text/plain": [
       "[[47, 8, 67, 3, 23, 9, 1, 0], [1, 2, 3, 4, 5, 6], [7, 8, 9, 0, 1]]"
      ]
     },
     "execution_count": 129,
     "metadata": {},
     "output_type": "execute_result"
    }
   ],
   "source": [
    "#nested list\n",
    "\n",
    "l5= [47, 8, 67, 3, 23, 9, 1, 0]\n",
    "l6= [1,2,3,4,5,6]\n",
    "l7= [7,8,9,0,1]\n",
    "\n",
    "l8= [l5,l6,l7]\n",
    "l8"
   ]
  },
  {
   "cell_type": "code",
   "execution_count": 131,
   "id": "7d1ee012",
   "metadata": {},
   "outputs": [
    {
     "data": {
      "text/plain": [
       "[7, 8, 9, 0, 1]"
      ]
     },
     "execution_count": 131,
     "metadata": {},
     "output_type": "execute_result"
    }
   ],
   "source": [
    "#2nd one whose index is 2\n",
    "l8[2]"
   ]
  },
  {
   "cell_type": "code",
   "execution_count": 135,
   "id": "80174ece",
   "metadata": {},
   "outputs": [
    {
     "data": {
      "text/plain": [
       "[7, 9, 1]"
      ]
     },
     "execution_count": 135,
     "metadata": {},
     "output_type": "execute_result"
    }
   ],
   "source": [
    "#print alternate objects within 3rd element in the list\n",
    "#[::2] default start index, defailt stop index, step size=2\n",
    "\n",
    "l8[2][::2]\n"
   ]
  },
  {
   "cell_type": "code",
   "execution_count": 138,
   "id": "7bd4b6f7",
   "metadata": {},
   "outputs": [],
   "source": [
    "#reverse of list embedded inside another list\n",
    "#firstly reverse main list\n",
    "# then take for loop which will be for each element is reversed main list\n",
    "#create 1 empty list. 1 to hold reversal of main list \n",
    "\n",
    "m=[]\n",
    "l8= l8[::-1]#and another to hold reversal of list inside main list\n",
    "for i in l8:\n",
    "    m.append(i[::-1])\n",
    "\n"
   ]
  },
  {
   "cell_type": "code",
   "execution_count": 139,
   "id": "8bcf1bc5",
   "metadata": {},
   "outputs": [
    {
     "data": {
      "text/plain": [
       "[[7, 8, 9, 0, 1], [1, 2, 3, 4, 5, 6], [47, 8, 67, 3, 23, 9, 1, 0]]"
      ]
     },
     "execution_count": 139,
     "metadata": {},
     "output_type": "execute_result"
    }
   ],
   "source": [
    "l8"
   ]
  },
  {
   "cell_type": "code",
   "execution_count": 140,
   "id": "181dc800",
   "metadata": {},
   "outputs": [
    {
     "data": {
      "text/plain": [
       "[[1, 0, 9, 8, 7], [6, 5, 4, 3, 2, 1], [0, 1, 9, 23, 3, 67, 8, 47]]"
      ]
     },
     "execution_count": 140,
     "metadata": {},
     "output_type": "execute_result"
    }
   ],
   "source": [
    "m"
   ]
  },
  {
   "cell_type": "code",
   "execution_count": 141,
   "id": "9eb190cd",
   "metadata": {},
   "outputs": [],
   "source": [
    "m=[]\n",
    "l8.reverse()\n",
    "for i in l8:\n",
    "    m.append(l8.reverse())"
   ]
  },
  {
   "cell_type": "code",
   "execution_count": 142,
   "id": "eaaa5362",
   "metadata": {},
   "outputs": [
    {
     "data": {
      "text/plain": [
       "[None, None, None]"
      ]
     },
     "execution_count": 142,
     "metadata": {},
     "output_type": "execute_result"
    }
   ],
   "source": [
    "m #reverse doesnt work for second one "
   ]
  },
  {
   "cell_type": "code",
   "execution_count": 143,
   "id": "0d9a9f3d",
   "metadata": {},
   "outputs": [],
   "source": [
    "m=[]\n",
    "l8.reverse()\n",
    "for i in l8:\n",
    "    m.append(i[::-1])"
   ]
  },
  {
   "cell_type": "code",
   "execution_count": 144,
   "id": "7b2b64f0",
   "metadata": {},
   "outputs": [
    {
     "data": {
      "text/plain": [
       "[[0, 1, 9, 23, 3, 67, 8, 47], [6, 5, 4, 3, 2, 1], [1, 0, 9, 8, 7]]"
      ]
     },
     "execution_count": 144,
     "metadata": {},
     "output_type": "execute_result"
    }
   ],
   "source": [
    "m"
   ]
  },
  {
   "cell_type": "code",
   "execution_count": 145,
   "id": "092640f1",
   "metadata": {},
   "outputs": [],
   "source": [
    "#to find the second element from all the list inside main list\n",
    "\n",
    "n=[]\n",
    "for i in m:\n",
    "    n.append(i[2])"
   ]
  },
  {
   "cell_type": "code",
   "execution_count": 146,
   "id": "78610f44",
   "metadata": {},
   "outputs": [
    {
     "data": {
      "text/plain": [
       "[9, 4, 9]"
      ]
     },
     "execution_count": 146,
     "metadata": {},
     "output_type": "execute_result"
    }
   ],
   "source": [
    "n"
   ]
  },
  {
   "cell_type": "code",
   "execution_count": 147,
   "id": "fb897031",
   "metadata": {},
   "outputs": [],
   "source": [
    "#extract second element from embedded list and multiply by 2\n",
    "n=[]\n",
    "for i in m:\n",
    "    n.append(i[2]*2)"
   ]
  },
  {
   "cell_type": "code",
   "execution_count": 148,
   "id": "db7b946e",
   "metadata": {},
   "outputs": [
    {
     "data": {
      "text/plain": [
       "[18, 8, 18]"
      ]
     },
     "execution_count": 148,
     "metadata": {},
     "output_type": "execute_result"
    }
   ],
   "source": [
    "n"
   ]
  },
  {
   "cell_type": "code",
   "execution_count": 149,
   "id": "4abd6650",
   "metadata": {},
   "outputs": [
    {
     "data": {
      "text/plain": [
       "[18, 8, 18]"
      ]
     },
     "execution_count": 149,
     "metadata": {},
     "output_type": "execute_result"
    }
   ],
   "source": [
    "#List Comprehension operation. Goes backward. \n",
    "[i[2]*2 for i in m]"
   ]
  },
  {
   "cell_type": "code",
   "execution_count": 21,
   "id": "98f62b6f",
   "metadata": {},
   "outputs": [],
   "source": [
    "#Remove 5 from list and nested list\n",
    "\n",
    "l10= [1,4,5,6,5,5,[4,5,6,7,8,5,5]]\n",
    "\n",
    "for i in l10:\n",
    "    if i==5:\n",
    "        l10.remove(5)\n",
    "        \n",
    "    if type(i)== list:\n",
    "        for j in i:\n",
    "            if j==5:\n",
    "                i.remove(j)\n",
    "            \n"
   ]
  },
  {
   "cell_type": "code",
   "execution_count": 22,
   "id": "e9a26bbb",
   "metadata": {},
   "outputs": [
    {
     "data": {
      "text/plain": [
       "[1, 4, 6, 5, [4, 6, 7, 8, 5]]"
      ]
     },
     "execution_count": 22,
     "metadata": {},
     "output_type": "execute_result"
    }
   ],
   "source": [
    "l10"
   ]
  },
  {
   "cell_type": "code",
   "execution_count": 23,
   "id": "7ca4f2a4",
   "metadata": {},
   "outputs": [
    {
     "ename": "TypeError",
     "evalue": "'int' object is not iterable",
     "output_type": "error",
     "traceback": [
      "\u001b[0;31m---------------------------------------------------------------------------\u001b[0m",
      "\u001b[0;31mTypeError\u001b[0m                                 Traceback (most recent call last)",
      "\u001b[0;32m/var/folders/pz/8fj7_jqs1_lglvwks1ym9jl40000gn/T/ipykernel_7021/2392711113.py\u001b[0m in \u001b[0;36m<module>\u001b[0;34m\u001b[0m\n\u001b[1;32m      2\u001b[0m \u001b[0;34m\u001b[0m\u001b[0m\n\u001b[1;32m      3\u001b[0m \u001b[0;32mfor\u001b[0m \u001b[0mi\u001b[0m \u001b[0;32min\u001b[0m \u001b[0ml11\u001b[0m\u001b[0;34m:\u001b[0m\u001b[0;34m\u001b[0m\u001b[0;34m\u001b[0m\u001b[0m\n\u001b[0;32m----> 4\u001b[0;31m     \u001b[0;32mfor\u001b[0m \u001b[0mj\u001b[0m \u001b[0;32min\u001b[0m \u001b[0mi\u001b[0m\u001b[0;34m:\u001b[0m\u001b[0;34m\u001b[0m\u001b[0;34m\u001b[0m\u001b[0m\n\u001b[0m\u001b[1;32m      5\u001b[0m         \u001b[0;32mif\u001b[0m \u001b[0mj\u001b[0m\u001b[0;34m==\u001b[0m\u001b[0;36m5\u001b[0m\u001b[0;34m:\u001b[0m\u001b[0;34m\u001b[0m\u001b[0;34m\u001b[0m\u001b[0m\n\u001b[1;32m      6\u001b[0m             \u001b[0mi\u001b[0m\u001b[0;34m.\u001b[0m\u001b[0mremove\u001b[0m\u001b[0;34m(\u001b[0m\u001b[0mj\u001b[0m\u001b[0;34m)\u001b[0m\u001b[0;34m\u001b[0m\u001b[0;34m\u001b[0m\u001b[0m\n",
      "\u001b[0;31mTypeError\u001b[0m: 'int' object is not iterable"
     ]
    }
   ],
   "source": [
    "l11= [1,4,5,6,5,5,[4,5,6,7,8,5,5]]\n",
    "\n",
    "for i in l11:\n",
    "    for j in i:\n",
    "        if j==5:\n",
    "            i.remove(j)\n",
    "print(l11)"
   ]
  },
  {
   "cell_type": "code",
   "execution_count": 24,
   "id": "47e4177f",
   "metadata": {},
   "outputs": [
    {
     "ename": "TypeError",
     "evalue": "'int' object is not iterable",
     "output_type": "error",
     "traceback": [
      "\u001b[0;31m---------------------------------------------------------------------------\u001b[0m",
      "\u001b[0;31mTypeError\u001b[0m                                 Traceback (most recent call last)",
      "\u001b[0;32m/var/folders/pz/8fj7_jqs1_lglvwks1ym9jl40000gn/T/ipykernel_7021/2746768562.py\u001b[0m in \u001b[0;36m<module>\u001b[0;34m\u001b[0m\n\u001b[1;32m      2\u001b[0m \u001b[0;34m\u001b[0m\u001b[0m\n\u001b[1;32m      3\u001b[0m \u001b[0;32mfor\u001b[0m \u001b[0mi\u001b[0m \u001b[0;32min\u001b[0m \u001b[0mm\u001b[0m\u001b[0;34m:\u001b[0m\u001b[0;34m\u001b[0m\u001b[0;34m\u001b[0m\u001b[0m\n\u001b[0;32m----> 4\u001b[0;31m     \u001b[0;32mfor\u001b[0m \u001b[0mj\u001b[0m \u001b[0;32min\u001b[0m \u001b[0mi\u001b[0m\u001b[0;34m:\u001b[0m\u001b[0;34m\u001b[0m\u001b[0;34m\u001b[0m\u001b[0m\n\u001b[0m\u001b[1;32m      5\u001b[0m         \u001b[0;32mif\u001b[0m \u001b[0mj\u001b[0m\u001b[0;34m==\u001b[0m\u001b[0;36m5\u001b[0m\u001b[0;34m:\u001b[0m\u001b[0;34m\u001b[0m\u001b[0;34m\u001b[0m\u001b[0m\n\u001b[1;32m      6\u001b[0m             \u001b[0mi\u001b[0m\u001b[0;34m.\u001b[0m\u001b[0mremove\u001b[0m\u001b[0;34m(\u001b[0m\u001b[0mj\u001b[0m\u001b[0;34m)\u001b[0m\u001b[0;34m\u001b[0m\u001b[0;34m\u001b[0m\u001b[0m\n",
      "\u001b[0;31mTypeError\u001b[0m: 'int' object is not iterable"
     ]
    }
   ],
   "source": [
    "m= [1,4,5,6,5,5,[4,5,6,7,8,5,5]]\n",
    "\n",
    "for i in m:\n",
    "    for j in i:\n",
    "        if j==5:\n",
    "            i.remove(j)\n",
    "print(m)"
   ]
  },
  {
   "cell_type": "code",
   "execution_count": null,
   "id": "81ccdb9a",
   "metadata": {},
   "outputs": [],
   "source": []
  }
 ],
 "metadata": {
  "kernelspec": {
   "display_name": "Python 3 (ipykernel)",
   "language": "python",
   "name": "python3"
  },
  "language_info": {
   "codemirror_mode": {
    "name": "ipython",
    "version": 3
   },
   "file_extension": ".py",
   "mimetype": "text/x-python",
   "name": "python",
   "nbconvert_exporter": "python",
   "pygments_lexer": "ipython3",
   "version": "3.8.8"
  }
 },
 "nbformat": 4,
 "nbformat_minor": 5
}
