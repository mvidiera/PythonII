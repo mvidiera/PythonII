{
 "cells": [
  {
   "cell_type": "markdown",
   "id": "4bd0af03",
   "metadata": {},
   "source": [
    "There are 2 types of errors\n",
    "1. Compile time error: syntactical error while I make any mistakes in typing code\n",
    "* ex: calling class without importing. Pandas\n",
    "* 6/0 error\n",
    "* indentation error\n",
    "\n",
    "2. Run time error\n",
    "* Statement is written correctly and while execution we will encounter error\n",
    "* ex: input()stmt. code is correct and input number will be 0 and next line to execute is division. We will get divisble by 0 error\n",
    "\n",
    "\n",
    "Can we use if else instead of exception handling? No. we can not think of all the situation where we encounter error and how\n",
    "\n",
    "\n",
    "What could happen if there is no exception handling? (wiki real-life example)\n",
    "* in 1996 flight 501 where the sensor has failed as exception handling was not introduced\n",
    "* In aircraft, we have set of sensors and each has set of codes. If sensor 1 works then sensor 2 does. all in series. In this way, 1 of the sensors did not work due to code failure and there exception was not handled. \n",
    "* This resulted in fligth crash.\n",
    "\n",
    "\n",
    "We have to make a habit to use Exception handling in programming\n",
    "\n",
    "We have 4 blocks\n",
    "* Try: inside this block we will write suspicious code\n",
    "* Except: This block handles exception. If code lines in try fails, codes in except block execute\n",
    "* else: On successful execution of try, control goes to else block\n",
    "* finally: No matter whatever is, finally will be excuted\n",
    "if try is executed then try->else->finally. if try is not executed, except->finally\n",
    "\n",
    "All 4 block has to be written in same order\n",
    "\n",
    "\n",
    "Try and Except only works for runtime error not compile time\n"
   ]
  },
  {
   "cell_type": "raw",
   "id": "4cd863c2",
   "metadata": {},
   "source": [
    "#compile time error\n",
    "print('Melissa Vidiera) \n",
    "      # I've missed a quote on purpose"
   ]
  },
  {
   "cell_type": "code",
   "execution_count": 4,
   "id": "931e1671",
   "metadata": {},
   "outputs": [
    {
     "name": "stdout",
     "output_type": "stream",
     "text": [
      "0\n"
     ]
    },
    {
     "ename": "ZeroDivisionError",
     "evalue": "division by zero",
     "output_type": "error",
     "traceback": [
      "\u001b[0;31m---------------------------------------------------------------------------\u001b[0m",
      "\u001b[0;31mZeroDivisionError\u001b[0m                         Traceback (most recent call last)",
      "\u001b[0;32m/var/folders/pz/8fj7_jqs1_lglvwks1ym9jl40000gn/T/ipykernel_13624/1591450399.py\u001b[0m in \u001b[0;36m<module>\u001b[0;34m\u001b[0m\n\u001b[1;32m      1\u001b[0m \u001b[0;31m#\u001b[0m\u001b[0;34m\u001b[0m\u001b[0;34m\u001b[0m\u001b[0;34m\u001b[0m\u001b[0m\n\u001b[1;32m      2\u001b[0m \u001b[0ma\u001b[0m\u001b[0;34m=\u001b[0m\u001b[0mint\u001b[0m\u001b[0;34m(\u001b[0m\u001b[0minput\u001b[0m\u001b[0;34m(\u001b[0m\u001b[0;34m)\u001b[0m\u001b[0;34m)\u001b[0m\u001b[0;34m\u001b[0m\u001b[0;34m\u001b[0m\u001b[0m\n\u001b[0;32m----> 3\u001b[0;31m \u001b[0;36m5\u001b[0m\u001b[0;34m/\u001b[0m\u001b[0ma\u001b[0m\u001b[0;34m\u001b[0m\u001b[0;34m\u001b[0m\u001b[0m\n\u001b[0m",
      "\u001b[0;31mZeroDivisionError\u001b[0m: division by zero"
     ]
    }
   ],
   "source": [
    "# compile time error. \n",
    "#no problem with syntax. While running, when I am providing 1 as input, then while running I get a divisible/0 error\n",
    "a=int(input())\n",
    "5/a"
   ]
  },
  {
   "cell_type": "code",
   "execution_count": 9,
   "id": "c680233f",
   "metadata": {},
   "outputs": [
    {
     "data": {
      "text/plain": [
       "23"
      ]
     },
     "execution_count": 9,
     "metadata": {},
     "output_type": "execute_result"
    }
   ],
   "source": [
    "# compile time error. \n",
    "\n",
    "f1= open('xyz.txt','w')\n",
    "f1.write(\"This is Melissa Vidiera\")\n",
    "#no issue as this is correct mode."
   ]
  },
  {
   "cell_type": "code",
   "execution_count": 10,
   "id": "c1c9f6cc",
   "metadata": {},
   "outputs": [
    {
     "ename": "UnsupportedOperation",
     "evalue": "not writable",
     "output_type": "error",
     "traceback": [
      "\u001b[0;31m---------------------------------------------------------------------------\u001b[0m",
      "\u001b[0;31mUnsupportedOperation\u001b[0m                      Traceback (most recent call last)",
      "\u001b[0;32m/var/folders/pz/8fj7_jqs1_lglvwks1ym9jl40000gn/T/ipykernel_13624/293278277.py\u001b[0m in \u001b[0;36m<module>\u001b[0;34m\u001b[0m\n\u001b[1;32m      2\u001b[0m \u001b[0;34m\u001b[0m\u001b[0m\n\u001b[1;32m      3\u001b[0m \u001b[0mf1\u001b[0m\u001b[0;34m=\u001b[0m \u001b[0mopen\u001b[0m\u001b[0;34m(\u001b[0m\u001b[0;34m'xyz.txt'\u001b[0m\u001b[0;34m,\u001b[0m\u001b[0;34m'r'\u001b[0m\u001b[0;34m)\u001b[0m\u001b[0;34m\u001b[0m\u001b[0;34m\u001b[0m\u001b[0m\n\u001b[0;32m----> 4\u001b[0;31m \u001b[0mf1\u001b[0m\u001b[0;34m.\u001b[0m\u001b[0mwrite\u001b[0m\u001b[0;34m(\u001b[0m\u001b[0;34m\"This is Melissa Vidiera\"\u001b[0m\u001b[0;34m)\u001b[0m\u001b[0;34m\u001b[0m\u001b[0;34m\u001b[0m\u001b[0m\n\u001b[0m",
      "\u001b[0;31mUnsupportedOperation\u001b[0m: not writable"
     ]
    }
   ],
   "source": [
    "#next up give read mode or do not mention any file mode then try writing\n",
    "\n",
    "f1= open('xyz.txt','r')\n",
    "f1.write(\"This is Melissa Vidiera\")\n",
    "#error:not writable "
   ]
  },
  {
   "cell_type": "code",
   "execution_count": 11,
   "id": "25428486",
   "metadata": {},
   "outputs": [
    {
     "name": "stdout",
     "output_type": "stream",
     "text": [
      "print this in case the code is successfully run\n"
     ]
    },
    {
     "data": {
      "text/plain": [
       "88"
      ]
     },
     "execution_count": 11,
     "metadata": {},
     "output_type": "execute_result"
    }
   ],
   "source": [
    "f1= open('xyz.txt','w')\n",
    "f1.write(\"This is Melissa Vidiera\")\n",
    "#if there is no error these 2 lines will run\n",
    "print(\"print this in case the code is successfully run\")\n",
    "10+78"
   ]
  },
  {
   "cell_type": "code",
   "execution_count": 12,
   "id": "915c67aa",
   "metadata": {},
   "outputs": [
    {
     "ename": "UnsupportedOperation",
     "evalue": "not writable",
     "output_type": "error",
     "traceback": [
      "\u001b[0;31m---------------------------------------------------------------------------\u001b[0m",
      "\u001b[0;31mUnsupportedOperation\u001b[0m                      Traceback (most recent call last)",
      "\u001b[0;32m/var/folders/pz/8fj7_jqs1_lglvwks1ym9jl40000gn/T/ipykernel_13624/3067471192.py\u001b[0m in \u001b[0;36m<module>\u001b[0;34m\u001b[0m\n\u001b[1;32m      1\u001b[0m \u001b[0mf1\u001b[0m\u001b[0;34m=\u001b[0m \u001b[0mopen\u001b[0m\u001b[0;34m(\u001b[0m\u001b[0;34m'xyz.txt'\u001b[0m\u001b[0;34m,\u001b[0m\u001b[0;34m'r'\u001b[0m\u001b[0;34m)\u001b[0m\u001b[0;34m\u001b[0m\u001b[0;34m\u001b[0m\u001b[0m\n\u001b[0;32m----> 2\u001b[0;31m \u001b[0mf1\u001b[0m\u001b[0;34m.\u001b[0m\u001b[0mwrite\u001b[0m\u001b[0;34m(\u001b[0m\u001b[0;34m\"This is Melissa Vidiera\"\u001b[0m\u001b[0;34m)\u001b[0m\u001b[0;34m\u001b[0m\u001b[0;34m\u001b[0m\u001b[0m\n\u001b[0m\u001b[1;32m      3\u001b[0m \u001b[0;31m#if there is no error these 2 lines will run\u001b[0m\u001b[0;34m\u001b[0m\u001b[0;34m\u001b[0m\u001b[0;34m\u001b[0m\u001b[0m\n\u001b[1;32m      4\u001b[0m \u001b[0mprint\u001b[0m\u001b[0;34m(\u001b[0m\u001b[0;34m\"print this in case the code is successfully run\"\u001b[0m\u001b[0;34m)\u001b[0m\u001b[0;34m\u001b[0m\u001b[0;34m\u001b[0m\u001b[0m\n\u001b[1;32m      5\u001b[0m \u001b[0;36m10\u001b[0m\u001b[0;34m+\u001b[0m\u001b[0;36m78\u001b[0m\u001b[0;34m\u001b[0m\u001b[0;34m\u001b[0m\u001b[0m\n",
      "\u001b[0;31mUnsupportedOperation\u001b[0m: not writable"
     ]
    }
   ],
   "source": [
    "f1= open('xyz.txt','r')\n",
    "f1.write(\"This is Melissa Vidiera\")\n",
    "#if 2 lines are not executed as there is an error in 2nd line\n",
    "print(\"print this in case the code is successfully run\")\n",
    "10+78"
   ]
  },
  {
   "cell_type": "code",
   "execution_count": 18,
   "id": "a3f277c3",
   "metadata": {},
   "outputs": [
    {
     "name": "stdout",
     "output_type": "stream",
     "text": [
      "MY code is working fine\n"
     ]
    }
   ],
   "source": [
    "try:\n",
    "    f1= open('xyz.txt','w')\n",
    "    f1.write(\"This is Whisky Vidiera\")\n",
    "    print(\"MY code is working fine\")\n",
    "    \n",
    "except: \n",
    "    print(\"My code has failed\")\n",
    "\n",
    "#in try block if code is failed, then the control goes to except block which handles an error\n"
   ]
  },
  {
   "cell_type": "code",
   "execution_count": 19,
   "id": "775a70df",
   "metadata": {},
   "outputs": [
    {
     "name": "stdout",
     "output_type": "stream",
     "text": [
      "My code has failed\n"
     ]
    }
   ],
   "source": [
    "#changing the mode of file\n",
    "\n",
    "try:\n",
    "    f1= open('xyz.txt','r')\n",
    "    f1.write(\"This is Whisky Vidiera\")\n",
    "    print(\"MY code is working fine\")\n",
    "    \n",
    "except: \n",
    "    print(\"My code has failed\")"
   ]
  },
  {
   "cell_type": "code",
   "execution_count": 22,
   "id": "90ee14d8",
   "metadata": {},
   "outputs": [
    {
     "name": "stdout",
     "output_type": "stream",
     "text": [
      "My code has failed\n"
     ]
    }
   ],
   "source": [
    "#embedding another try except inside a try expect\n",
    "\n",
    "try:\n",
    "    f1= open('xyz.txt','r')\n",
    "    f1.write(\"This is Whisky Vidiera\")\n",
    "    try: \n",
    "        print(\"My code is working fine\")\n",
    "    except:\n",
    "        print(\"This print statement will be executed if code works\")\n",
    "except: \n",
    "    print(\"My code has failed\")"
   ]
  },
  {
   "cell_type": "code",
   "execution_count": 23,
   "id": "228b5270",
   "metadata": {},
   "outputs": [
    {
     "ename": "SyntaxError",
     "evalue": "EOL while scanning string literal (2482588351.py, line 5)",
     "output_type": "error",
     "traceback": [
      "\u001b[0;36m  File \u001b[0;32m\"/var/folders/pz/8fj7_jqs1_lglvwks1ym9jl40000gn/T/ipykernel_13624/2482588351.py\"\u001b[0;36m, line \u001b[0;32m5\u001b[0m\n\u001b[0;31m    f1.write(\"This is Whisky Vidiera)\u001b[0m\n\u001b[0m                                      ^\u001b[0m\n\u001b[0;31mSyntaxError\u001b[0m\u001b[0;31m:\u001b[0m EOL while scanning string literal\n"
     ]
    }
   ],
   "source": [
    "#Applying try except for compile error: doesnt work\n",
    "\n",
    "try:\n",
    "    f1= open('xyz.txt','r')\n",
    "    f1.write(\"This is Whisky Vidiera) \n",
    "             #removed quote on purpose\n",
    "    print(\"MY code is working fine\")\n",
    "    \n",
    "except: \n",
    "    print(\"My code has failed\")\n",
    "             \n",
    "#these types of compilation error wont work even if we apply try except"
   ]
  },
  {
   "cell_type": "code",
   "execution_count": 31,
   "id": "6abd0686",
   "metadata": {},
   "outputs": [
    {
     "name": "stdout",
     "output_type": "stream",
     "text": [
      "0\n"
     ]
    },
    {
     "ename": "ZeroDivisionError",
     "evalue": "division by zero",
     "output_type": "error",
     "traceback": [
      "\u001b[0;31m---------------------------------------------------------------------------\u001b[0m",
      "\u001b[0;31mZeroDivisionError\u001b[0m                         Traceback (most recent call last)",
      "\u001b[0;32m/var/folders/pz/8fj7_jqs1_lglvwks1ym9jl40000gn/T/ipykernel_13624/3309206049.py\u001b[0m in \u001b[0;36m<module>\u001b[0;34m\u001b[0m\n\u001b[1;32m      1\u001b[0m \u001b[0ma\u001b[0m\u001b[0;34m=\u001b[0m \u001b[0mint\u001b[0m\u001b[0;34m(\u001b[0m\u001b[0minput\u001b[0m\u001b[0;34m(\u001b[0m\u001b[0;34m)\u001b[0m\u001b[0;34m)\u001b[0m\u001b[0;34m\u001b[0m\u001b[0;34m\u001b[0m\u001b[0m\n\u001b[0;32m----> 2\u001b[0;31m \u001b[0mb\u001b[0m\u001b[0;34m=\u001b[0m \u001b[0;36m50\u001b[0m\u001b[0;34m/\u001b[0m\u001b[0ma\u001b[0m\u001b[0;34m\u001b[0m\u001b[0;34m\u001b[0m\u001b[0m\n\u001b[0m\u001b[1;32m      3\u001b[0m \u001b[0mb\u001b[0m\u001b[0;34m\u001b[0m\u001b[0;34m\u001b[0m\u001b[0m\n",
      "\u001b[0;31mZeroDivisionError\u001b[0m: division by zero"
     ]
    }
   ],
   "source": [
    "a= int(input())\n",
    "b= 50/a\n",
    "b"
   ]
  },
  {
   "cell_type": "code",
   "execution_count": 39,
   "id": "825eae60",
   "metadata": {},
   "outputs": [
    {
     "name": "stdout",
     "output_type": "stream",
     "text": [
      "0\n",
      "Please enter any number except 0\n",
      "This is the end of code lines\n"
     ]
    }
   ],
   "source": [
    "try:\n",
    "    a= int(input())\n",
    "    b= 50/a\n",
    "    print(b)\n",
    "except:\n",
    "    print(\"Please enter any number except 0\")\n",
    "    \n",
    "print(\"This is the end of code lines\")"
   ]
  },
  {
   "cell_type": "code",
   "execution_count": 40,
   "id": "e46a9e87",
   "metadata": {},
   "outputs": [
    {
     "name": "stdout",
     "output_type": "stream",
     "text": [
      "0\n",
      "division by zero\n",
      "This is the end of code lines\n"
     ]
    }
   ],
   "source": [
    "#Instead of printing my own msg, print system message or print the error itself but do not break code\n",
    "#use Exception superclass and assign it to object e \n",
    "#when I have no clue what is the exact exception \n",
    "\n",
    "try:\n",
    "    a= int(input())\n",
    "    b= 79/a\n",
    "    print(b)\n",
    "except Exception as e: #need not to use e, can use any var\n",
    "    print(e)\n",
    "    print(\"This is the end of code lines\")"
   ]
  },
  {
   "cell_type": "code",
   "execution_count": 41,
   "id": "4782583e",
   "metadata": {},
   "outputs": [
    {
     "name": "stdout",
     "output_type": "stream",
     "text": [
      "7\n",
      "11.285714285714286\n",
      "MY code is working fine\n",
      "It has exceuted a try block and is working fine\n"
     ]
    }
   ],
   "source": [
    "# else block \n",
    "\n",
    "try:\n",
    "    a= int(input())\n",
    "    b= 79/a\n",
    "    print(b)\n",
    "    print(\"MY code is working fine\")\n",
    "    \n",
    "except: \n",
    "    print(\"My code has failed\")\n",
    "    \n",
    "else: # no error so except block is skipped. Else block is excuted if try works\n",
    "    print(\"It has exceuted a try block and is working fine\")"
   ]
  },
  {
   "cell_type": "code",
   "execution_count": 42,
   "id": "ed077b50",
   "metadata": {},
   "outputs": [
    {
     "name": "stdout",
     "output_type": "stream",
     "text": [
      "0\n",
      "My code has failed\n"
     ]
    }
   ],
   "source": [
    "#give input as 0\n",
    "#here try is not completed, thats why else is not executed\n",
    "try:\n",
    "    a= int(input())\n",
    "    b= 79/a\n",
    "    print(b)\n",
    "    print(\"MY code is working fine\")\n",
    "    \n",
    "except: \n",
    "    print(\"My code has failed\")\n",
    "    \n",
    "else: \n",
    "    print(\"It has exceuted a try block and is working fine\")"
   ]
  },
  {
   "cell_type": "markdown",
   "id": "109761c3",
   "metadata": {},
   "source": [
    "for-else: The else keyword in a for loop specifies a block of code to be executed when the loop is finished\n",
    "\n"
   ]
  },
  {
   "cell_type": "code",
   "execution_count": 45,
   "id": "27673366",
   "metadata": {},
   "outputs": [
    {
     "name": "stdout",
     "output_type": "stream",
     "text": [
      "5\n",
      "15.8\n",
      "MY code is working fine\n",
      "It has exceuted a try block and is working fine\n",
      "This block will be excuted no matter what\n"
     ]
    }
   ],
   "source": [
    "#finally\n",
    "\n",
    "\n",
    "try:\n",
    "    a= int(input())\n",
    "    b= 79/a\n",
    "    print(b)\n",
    "    print(\"MY code is working fine\")\n",
    "    \n",
    "except: \n",
    "    print(\"My code has failed\")\n",
    "    \n",
    "else: \n",
    "    print(\"It has exceuted a try block and is working fine\")\n",
    "    \n",
    "finally:\n",
    "    print(\"This block will be excuted no matter what\")"
   ]
  },
  {
   "cell_type": "code",
   "execution_count": 46,
   "id": "57cfe176",
   "metadata": {},
   "outputs": [
    {
     "name": "stdout",
     "output_type": "stream",
     "text": [
      "0\n",
      "My code has failed\n",
      "This block will be excuted no matter what\n"
     ]
    }
   ],
   "source": [
    "try:\n",
    "    a= int(input())\n",
    "    b= 79/a\n",
    "    print(b)\n",
    "    print(\"MY code is working fine\")\n",
    "    \n",
    "except: \n",
    "    print(\"My code has failed\")\n",
    "    \n",
    "else: \n",
    "    print(\"It has exceuted a try block and is working fine\")\n",
    "    \n",
    "finally:\n",
    "    print(\"This block will be excuted no matter what\")"
   ]
  },
  {
   "cell_type": "code",
   "execution_count": 53,
   "id": "e6e96ab9",
   "metadata": {},
   "outputs": [
    {
     "name": "stdout",
     "output_type": "stream",
     "text": [
      "5\n",
      "15.8\n",
      "MY code is working fine\n",
      "My code has failed\n",
      "This block will be excuted no matter what\n"
     ]
    },
    {
     "ename": "NameError",
     "evalue": "name 'jkvds' is not defined",
     "output_type": "error",
     "traceback": [
      "\u001b[0;31m---------------------------------------------------------------------------\u001b[0m",
      "\u001b[0;31mNameError\u001b[0m                                 Traceback (most recent call last)",
      "\u001b[0;32m/var/folders/pz/8fj7_jqs1_lglvwks1ym9jl40000gn/T/ipykernel_13624/3028354254.py\u001b[0m in \u001b[0;36m<module>\u001b[0;34m\u001b[0m\n\u001b[1;32m     14\u001b[0m \u001b[0;32mfinally\u001b[0m\u001b[0;34m:\u001b[0m\u001b[0;34m\u001b[0m\u001b[0;34m\u001b[0m\u001b[0m\n\u001b[1;32m     15\u001b[0m     \u001b[0mprint\u001b[0m\u001b[0;34m(\u001b[0m\u001b[0;34m\"This block will be excuted no matter what\"\u001b[0m\u001b[0;34m)\u001b[0m\u001b[0;34m\u001b[0m\u001b[0;34m\u001b[0m\u001b[0m\n\u001b[0;32m---> 16\u001b[0;31m     \u001b[0mjkvds\u001b[0m\u001b[0;34m\u001b[0m\u001b[0;34m\u001b[0m\u001b[0m\n\u001b[0m\u001b[1;32m     17\u001b[0m \u001b[0;34m\u001b[0m\u001b[0m\n\u001b[1;32m     18\u001b[0m \u001b[0;34m\u001b[0m\u001b[0m\n",
      "\u001b[0;31mNameError\u001b[0m: name 'jkvds' is not defined"
     ]
    }
   ],
   "source": [
    "#make any error inside any block or in finally block itself except for syntactical error\n",
    "try:\n",
    "    a= int(input())\n",
    "    b= 79/a\n",
    "    print(b)\n",
    "    print(\"MY code is working fine\")\n",
    "    gdhrsyj\n",
    "except: \n",
    "    print(\"My code has failed\")\n",
    "    \n",
    "else: \n",
    "    print(\"It has exceuted a try block and is working fine\")\n",
    "    \n",
    "finally:\n",
    "    print(\"This block will be excuted no matter what\")\n",
    "    jkvds\n",
    "    \n",
    "    "
   ]
  },
  {
   "cell_type": "code",
   "execution_count": 56,
   "id": "ed8702af",
   "metadata": {},
   "outputs": [
    {
     "ename": "SyntaxError",
     "evalue": "invalid syntax (2176137159.py, line 7)",
     "output_type": "error",
     "traceback": [
      "\u001b[0;36m  File \u001b[0;32m\"/var/folders/pz/8fj7_jqs1_lglvwks1ym9jl40000gn/T/ipykernel_13624/2176137159.py\"\u001b[0;36m, line \u001b[0;32m7\u001b[0m\n\u001b[0;31m    this is an error on purpose\u001b[0m\n\u001b[0m               ^\u001b[0m\n\u001b[0;31mSyntaxError\u001b[0m\u001b[0;31m:\u001b[0m invalid syntax\n"
     ]
    }
   ],
   "source": [
    "#if I make any syntactical errorin any block, code never runs not even finally\n",
    "try:\n",
    "    a= int(input())\n",
    "    b= 79/a\n",
    "    print(b)\n",
    "    print(\"MY code is working fine\")\n",
    "    this is an error on purpose\n",
    "except: \n",
    "    print(\"My code has failed\")\n",
    "    \n",
    "else: \n",
    "    print(\"It has exceuted a try block and is working fine\")\n",
    "    \n",
    "finally:\n",
    "    print(\"This block will be excuted no matter what\")\n",
    "    this is an error on purpose"
   ]
  },
  {
   "cell_type": "code",
   "execution_count": 57,
   "id": "ba9f1608",
   "metadata": {},
   "outputs": [],
   "source": [
    "\n",
    "def askint():\n",
    "    v= int(input('Please enter an integer'))\n"
   ]
  },
  {
   "cell_type": "code",
   "execution_count": 58,
   "id": "21eb4339",
   "metadata": {},
   "outputs": [
    {
     "name": "stdout",
     "output_type": "stream",
     "text": [
      "Please enter an integerg\n"
     ]
    },
    {
     "ename": "ValueError",
     "evalue": "invalid literal for int() with base 10: 'g'",
     "output_type": "error",
     "traceback": [
      "\u001b[0;31m---------------------------------------------------------------------------\u001b[0m",
      "\u001b[0;31mValueError\u001b[0m                                Traceback (most recent call last)",
      "\u001b[0;32m/var/folders/pz/8fj7_jqs1_lglvwks1ym9jl40000gn/T/ipykernel_13624/577270890.py\u001b[0m in \u001b[0;36m<module>\u001b[0;34m\u001b[0m\n\u001b[0;32m----> 1\u001b[0;31m \u001b[0maskint\u001b[0m\u001b[0;34m(\u001b[0m\u001b[0;34m)\u001b[0m\u001b[0;34m\u001b[0m\u001b[0;34m\u001b[0m\u001b[0m\n\u001b[0m",
      "\u001b[0;32m/var/folders/pz/8fj7_jqs1_lglvwks1ym9jl40000gn/T/ipykernel_13624/2294999400.py\u001b[0m in \u001b[0;36maskint\u001b[0;34m()\u001b[0m\n\u001b[1;32m      1\u001b[0m \u001b[0;32mdef\u001b[0m \u001b[0maskint\u001b[0m\u001b[0;34m(\u001b[0m\u001b[0;34m)\u001b[0m\u001b[0;34m:\u001b[0m\u001b[0;34m\u001b[0m\u001b[0;34m\u001b[0m\u001b[0m\n\u001b[0;32m----> 2\u001b[0;31m     \u001b[0mv\u001b[0m\u001b[0;34m=\u001b[0m \u001b[0mint\u001b[0m\u001b[0;34m(\u001b[0m\u001b[0minput\u001b[0m\u001b[0;34m(\u001b[0m\u001b[0;34m'Please enter an integer'\u001b[0m\u001b[0;34m)\u001b[0m\u001b[0;34m)\u001b[0m\u001b[0;34m\u001b[0m\u001b[0;34m\u001b[0m\u001b[0m\n\u001b[0m",
      "\u001b[0;31mValueError\u001b[0m: invalid literal for int() with base 10: 'g'"
     ]
    }
   ],
   "source": [
    "askint() #if I give any other character than int"
   ]
  },
  {
   "cell_type": "code",
   "execution_count": 59,
   "id": "a2b534d7",
   "metadata": {},
   "outputs": [],
   "source": [
    "#we should enclose each and every part of code inside try except\n",
    "#re -writing function\n",
    "\n",
    "def askint():\n",
    "    try:\n",
    "        v= int(input('Please enter an integer'))\n",
    "    except Exception as e:\n",
    "        print(e)"
   ]
  },
  {
   "cell_type": "code",
   "execution_count": 60,
   "id": "dd1dafaa",
   "metadata": {},
   "outputs": [
    {
     "name": "stdout",
     "output_type": "stream",
     "text": [
      "Please enter an integerg\n",
      "invalid literal for int() with base 10: 'g'\n"
     ]
    }
   ],
   "source": [
    "askint()"
   ]
  },
  {
   "cell_type": "code",
   "execution_count": 63,
   "id": "92b559f7",
   "metadata": {},
   "outputs": [],
   "source": [
    "#makingmistake in finally block \n",
    "\n",
    "def askint():\n",
    "    try:\n",
    "        v= int(input('Please enter an integer'))\n",
    "    except Exception as e:\n",
    "        print(e)\n",
    "    finally:\n",
    "        print(\"This is finally block and will be executed everytime\")\n",
    "        print(v)"
   ]
  },
  {
   "cell_type": "code",
   "execution_count": 64,
   "id": "a7835c0e",
   "metadata": {},
   "outputs": [
    {
     "name": "stdout",
     "output_type": "stream",
     "text": [
      "Please enter an integerg\n",
      "invalid literal for int() with base 10: 'g'\n",
      "This is finally block and will be executed everytime\n"
     ]
    },
    {
     "ename": "UnboundLocalError",
     "evalue": "local variable 'v' referenced before assignment",
     "output_type": "error",
     "traceback": [
      "\u001b[0;31m---------------------------------------------------------------------------\u001b[0m",
      "\u001b[0;31mUnboundLocalError\u001b[0m                         Traceback (most recent call last)",
      "\u001b[0;32m/var/folders/pz/8fj7_jqs1_lglvwks1ym9jl40000gn/T/ipykernel_13624/577270890.py\u001b[0m in \u001b[0;36m<module>\u001b[0;34m\u001b[0m\n\u001b[0;32m----> 1\u001b[0;31m \u001b[0maskint\u001b[0m\u001b[0;34m(\u001b[0m\u001b[0;34m)\u001b[0m\u001b[0;34m\u001b[0m\u001b[0;34m\u001b[0m\u001b[0m\n\u001b[0m",
      "\u001b[0;32m/var/folders/pz/8fj7_jqs1_lglvwks1ym9jl40000gn/T/ipykernel_13624/3141386957.py\u001b[0m in \u001b[0;36maskint\u001b[0;34m()\u001b[0m\n\u001b[1;32m      6\u001b[0m     \u001b[0;32mfinally\u001b[0m\u001b[0;34m:\u001b[0m\u001b[0;34m\u001b[0m\u001b[0;34m\u001b[0m\u001b[0m\n\u001b[1;32m      7\u001b[0m         \u001b[0mprint\u001b[0m\u001b[0;34m(\u001b[0m\u001b[0;34m\"This is finally block and will be executed everytime\"\u001b[0m\u001b[0;34m)\u001b[0m\u001b[0;34m\u001b[0m\u001b[0;34m\u001b[0m\u001b[0m\n\u001b[0;32m----> 8\u001b[0;31m         \u001b[0mprint\u001b[0m\u001b[0;34m(\u001b[0m\u001b[0mv\u001b[0m\u001b[0;34m)\u001b[0m\u001b[0;34m\u001b[0m\u001b[0;34m\u001b[0m\u001b[0m\n\u001b[0m",
      "\u001b[0;31mUnboundLocalError\u001b[0m: local variable 'v' referenced before assignment"
     ]
    }
   ],
   "source": [
    "askint()"
   ]
  },
  {
   "cell_type": "code",
   "execution_count": 68,
   "id": "3b1831c0",
   "metadata": {},
   "outputs": [],
   "source": [
    "# to avoid further error even in finally, intro try except within finally block\n",
    "\n",
    "def askint1():\n",
    "    try:\n",
    "        v= int(input('Please enter an integer '))\n",
    "    except Exception as e:\n",
    "        print(e)\n",
    "    finally:\n",
    "        print(\"This is finally block and will be executed everytime\")\n",
    "        try:\n",
    "            print(v)\n",
    "        except Exception as e:\n",
    "            print(e)"
   ]
  },
  {
   "cell_type": "code",
   "execution_count": 69,
   "id": "84971102",
   "metadata": {},
   "outputs": [
    {
     "name": "stdout",
     "output_type": "stream",
     "text": [
      "Please enter an integer g\n",
      "invalid literal for int() with base 10: 'g'\n",
      "This is finally block and will be executed everytime\n",
      "local variable 'v' referenced before assignment\n"
     ]
    }
   ],
   "source": [
    "askint1()"
   ]
  },
  {
   "cell_type": "code",
   "execution_count": 71,
   "id": "291189e7",
   "metadata": {},
   "outputs": [
    {
     "name": "stdout",
     "output_type": "stream",
     "text": [
      "Please enter an integer 6\n",
      "This is finally block and will be executed everytime\n",
      "6\n"
     ]
    }
   ],
   "source": [
    "askint1()"
   ]
  },
  {
   "cell_type": "code",
   "execution_count": 75,
   "id": "d5331f65",
   "metadata": {},
   "outputs": [],
   "source": [
    "def askint1():\n",
    "    try:\n",
    "        v= int(input('Please enter an integer '))\n",
    "    except Exception as e:\n",
    "        print(e)\n",
    "    finally:\n",
    "        print(\"This is finally block and will be executed everytime\")\n",
    "        try:\n",
    "            print(v)\n",
    "        except Exception as e:\n",
    "            print(e)\n",
    "        else: \n",
    "            print(\"this is else block within finally\")\n",
    "        finally:\n",
    "            print(\"this is finally block within finally\")\n",
    "            "
   ]
  },
  {
   "cell_type": "code",
   "execution_count": 73,
   "id": "f86e31cb",
   "metadata": {},
   "outputs": [
    {
     "name": "stdout",
     "output_type": "stream",
     "text": [
      "Please enter an integer 78\n",
      "This is finally block and will be executed everytime\n",
      "78\n",
      "this is else within finally\n"
     ]
    }
   ],
   "source": [
    "askint1()"
   ]
  },
  {
   "cell_type": "code",
   "execution_count": 76,
   "id": "858486a7",
   "metadata": {},
   "outputs": [
    {
     "name": "stdout",
     "output_type": "stream",
     "text": [
      "Please enter an integer 6\n",
      "This is finally block and will be executed everytime\n",
      "6\n",
      "this is else block within finally\n",
      "this is finally block within finally\n"
     ]
    }
   ],
   "source": [
    "askint1()"
   ]
  },
  {
   "cell_type": "code",
   "execution_count": 80,
   "id": "0593b5cc",
   "metadata": {},
   "outputs": [],
   "source": [
    "## keep on asking input unless we provide right kind of input, without throwing an error\n",
    "#Control back to try block unless correct format of the data is input\n",
    "#use while loop just before try: execute code inside while is condition is matched\n",
    "# so when I am providing input othther than integer, then control goes to except block\n",
    "\n",
    "# we need to write a code such that when control goes expect block. it should go back to try and ask for input\n",
    "#apply continue stmt :The continue keyword is used to end the current iteration in a for loop (or a while loop),\n",
    "#and continues to the next iteration.\n",
    "\n",
    "def askint2():\n",
    "    \n",
    "    while True: # true is universal condition. That is, while block is executed\n",
    "        \n",
    "        try:\n",
    "            v= int(input('Please enter an integer '))\n",
    "            c=50/v\n",
    "            print(c)\n",
    "         #when i insert character other than int, then block goes to except   \n",
    "        except Exception as e:\n",
    "            print(e) #exception is printed\n",
    "            continue #control goes to while true rather than going to next codes(except finally)\n",
    "            \n",
    "        finally: # even I have written finally after continue why it is executed? it is musr execution block in any situation\n",
    "            print(\"This is finally block and will be executed everytime\")\n",
    "        \n",
    "\n"
   ]
  },
  {
   "cell_type": "code",
   "execution_count": 81,
   "id": "6f435a55",
   "metadata": {},
   "outputs": [
    {
     "name": "stdout",
     "output_type": "stream",
     "text": [
      "Please enter an integer g\n",
      "invalid literal for int() with base 10: 'g'\n",
      "This is finally block and will be executed everytime\n",
      "Please enter an integer g\n",
      "invalid literal for int() with base 10: 'g'\n",
      "This is finally block and will be executed everytime\n",
      "Please enter an integer 6\n",
      "8.333333333333334\n",
      "This is finally block and will be executed everytime\n",
      "This is finally block and will be executed everytime\n"
     ]
    },
    {
     "ename": "KeyboardInterrupt",
     "evalue": "Interrupted by user",
     "output_type": "error",
     "traceback": [
      "\u001b[0;31m---------------------------------------------------------------------------\u001b[0m",
      "\u001b[0;31mKeyboardInterrupt\u001b[0m                         Traceback (most recent call last)",
      "\u001b[0;32m/var/folders/pz/8fj7_jqs1_lglvwks1ym9jl40000gn/T/ipykernel_13624/3737617321.py\u001b[0m in \u001b[0;36m<module>\u001b[0;34m\u001b[0m\n\u001b[0;32m----> 1\u001b[0;31m \u001b[0maskint2\u001b[0m\u001b[0;34m(\u001b[0m\u001b[0;34m)\u001b[0m\u001b[0;34m\u001b[0m\u001b[0;34m\u001b[0m\u001b[0m\n\u001b[0m",
      "\u001b[0;32m/var/folders/pz/8fj7_jqs1_lglvwks1ym9jl40000gn/T/ipykernel_13624/222557059.py\u001b[0m in \u001b[0;36maskint2\u001b[0;34m()\u001b[0m\n\u001b[1;32m     13\u001b[0m \u001b[0;34m\u001b[0m\u001b[0m\n\u001b[1;32m     14\u001b[0m         \u001b[0;32mtry\u001b[0m\u001b[0;34m:\u001b[0m\u001b[0;34m\u001b[0m\u001b[0;34m\u001b[0m\u001b[0m\n\u001b[0;32m---> 15\u001b[0;31m             \u001b[0mv\u001b[0m\u001b[0;34m=\u001b[0m \u001b[0mint\u001b[0m\u001b[0;34m(\u001b[0m\u001b[0minput\u001b[0m\u001b[0;34m(\u001b[0m\u001b[0;34m'Please enter an integer '\u001b[0m\u001b[0;34m)\u001b[0m\u001b[0;34m)\u001b[0m\u001b[0;34m\u001b[0m\u001b[0;34m\u001b[0m\u001b[0m\n\u001b[0m\u001b[1;32m     16\u001b[0m             \u001b[0mc\u001b[0m\u001b[0;34m=\u001b[0m\u001b[0;36m50\u001b[0m\u001b[0;34m/\u001b[0m\u001b[0mv\u001b[0m\u001b[0;34m\u001b[0m\u001b[0;34m\u001b[0m\u001b[0m\n\u001b[1;32m     17\u001b[0m             \u001b[0mprint\u001b[0m\u001b[0;34m(\u001b[0m\u001b[0mc\u001b[0m\u001b[0;34m)\u001b[0m\u001b[0;34m\u001b[0m\u001b[0;34m\u001b[0m\u001b[0m\n",
      "\u001b[0;32m~/opt/anaconda3/lib/python3.8/site-packages/ipykernel/kernelbase.py\u001b[0m in \u001b[0;36mraw_input\u001b[0;34m(self, prompt)\u001b[0m\n\u001b[1;32m   1004\u001b[0m                 \u001b[0;34m\"raw_input was called, but this frontend does not support input requests.\"\u001b[0m\u001b[0;34m\u001b[0m\u001b[0;34m\u001b[0m\u001b[0m\n\u001b[1;32m   1005\u001b[0m             )\n\u001b[0;32m-> 1006\u001b[0;31m         return self._input_request(\n\u001b[0m\u001b[1;32m   1007\u001b[0m             \u001b[0mstr\u001b[0m\u001b[0;34m(\u001b[0m\u001b[0mprompt\u001b[0m\u001b[0;34m)\u001b[0m\u001b[0;34m,\u001b[0m\u001b[0;34m\u001b[0m\u001b[0;34m\u001b[0m\u001b[0m\n\u001b[1;32m   1008\u001b[0m             \u001b[0mself\u001b[0m\u001b[0;34m.\u001b[0m\u001b[0m_parent_ident\u001b[0m\u001b[0;34m[\u001b[0m\u001b[0;34m\"shell\"\u001b[0m\u001b[0;34m]\u001b[0m\u001b[0;34m,\u001b[0m\u001b[0;34m\u001b[0m\u001b[0;34m\u001b[0m\u001b[0m\n",
      "\u001b[0;32m~/opt/anaconda3/lib/python3.8/site-packages/ipykernel/kernelbase.py\u001b[0m in \u001b[0;36m_input_request\u001b[0;34m(self, prompt, ident, parent, password)\u001b[0m\n\u001b[1;32m   1049\u001b[0m             \u001b[0;32mexcept\u001b[0m \u001b[0mKeyboardInterrupt\u001b[0m\u001b[0;34m:\u001b[0m\u001b[0;34m\u001b[0m\u001b[0;34m\u001b[0m\u001b[0m\n\u001b[1;32m   1050\u001b[0m                 \u001b[0;31m# re-raise KeyboardInterrupt, to truncate traceback\u001b[0m\u001b[0;34m\u001b[0m\u001b[0;34m\u001b[0m\u001b[0;34m\u001b[0m\u001b[0m\n\u001b[0;32m-> 1051\u001b[0;31m                 \u001b[0;32mraise\u001b[0m \u001b[0mKeyboardInterrupt\u001b[0m\u001b[0;34m(\u001b[0m\u001b[0;34m\"Interrupted by user\"\u001b[0m\u001b[0;34m)\u001b[0m \u001b[0;32mfrom\u001b[0m \u001b[0;32mNone\u001b[0m\u001b[0;34m\u001b[0m\u001b[0;34m\u001b[0m\u001b[0m\n\u001b[0m\u001b[1;32m   1052\u001b[0m             \u001b[0;32mexcept\u001b[0m \u001b[0mException\u001b[0m\u001b[0;34m:\u001b[0m\u001b[0;34m\u001b[0m\u001b[0;34m\u001b[0m\u001b[0m\n\u001b[1;32m   1053\u001b[0m                 \u001b[0mself\u001b[0m\u001b[0;34m.\u001b[0m\u001b[0mlog\u001b[0m\u001b[0;34m.\u001b[0m\u001b[0mwarning\u001b[0m\u001b[0;34m(\u001b[0m\u001b[0;34m\"Invalid Message:\"\u001b[0m\u001b[0;34m,\u001b[0m \u001b[0mexc_info\u001b[0m\u001b[0;34m=\u001b[0m\u001b[0;32mTrue\u001b[0m\u001b[0;34m)\u001b[0m\u001b[0;34m\u001b[0m\u001b[0;34m\u001b[0m\u001b[0m\n",
      "\u001b[0;31mKeyboardInterrupt\u001b[0m: Interrupted by user"
     ]
    }
   ],
   "source": [
    "askint2()"
   ]
  },
  {
   "cell_type": "code",
   "execution_count": null,
   "id": "dae99996",
   "metadata": {},
   "outputs": [],
   "source": [
    "#in last code even if I enter interger, I am repeatedly asked to enter input. \n",
    "#this is because in while loop I have given universal condition \n",
    "#we need to break this\n",
    "# I was not able to execute other code, this is because my kernel was still executing the forever running loop\n",
    "#Interupt kernel in this case. \n"
   ]
  },
  {
   "cell_type": "code",
   "execution_count": 79,
   "id": "2decdc58",
   "metadata": {},
   "outputs": [
    {
     "name": "stdout",
     "output_type": "stream",
     "text": [
      "Please enter an integer y\n",
      "invalid literal for int() with base 10: 'y'\n",
      "This is finally block and will be executed everytime\n",
      "Please enter an integer 6\n",
      "This is finally block and will be executed everytime\n",
      "This is finally block and will be executed everytime\n"
     ]
    },
    {
     "ename": "KeyboardInterrupt",
     "evalue": "Interrupted by user",
     "output_type": "error",
     "traceback": [
      "\u001b[0;31m---------------------------------------------------------------------------\u001b[0m",
      "\u001b[0;31mKeyboardInterrupt\u001b[0m                         Traceback (most recent call last)",
      "\u001b[0;32m/var/folders/pz/8fj7_jqs1_lglvwks1ym9jl40000gn/T/ipykernel_13624/3737617321.py\u001b[0m in \u001b[0;36m<module>\u001b[0;34m\u001b[0m\n\u001b[0;32m----> 1\u001b[0;31m \u001b[0maskint2\u001b[0m\u001b[0;34m(\u001b[0m\u001b[0;34m)\u001b[0m\u001b[0;34m\u001b[0m\u001b[0;34m\u001b[0m\u001b[0m\n\u001b[0m",
      "\u001b[0;32m/var/folders/pz/8fj7_jqs1_lglvwks1ym9jl40000gn/T/ipykernel_13624/1149049841.py\u001b[0m in \u001b[0;36maskint2\u001b[0;34m()\u001b[0m\n\u001b[1;32m     13\u001b[0m \u001b[0;34m\u001b[0m\u001b[0m\n\u001b[1;32m     14\u001b[0m         \u001b[0;32mtry\u001b[0m\u001b[0;34m:\u001b[0m\u001b[0;34m\u001b[0m\u001b[0;34m\u001b[0m\u001b[0m\n\u001b[0;32m---> 15\u001b[0;31m             \u001b[0mv\u001b[0m\u001b[0;34m=\u001b[0m \u001b[0mint\u001b[0m\u001b[0;34m(\u001b[0m\u001b[0minput\u001b[0m\u001b[0;34m(\u001b[0m\u001b[0;34m'Please enter an integer '\u001b[0m\u001b[0;34m)\u001b[0m\u001b[0;34m)\u001b[0m\u001b[0;34m\u001b[0m\u001b[0;34m\u001b[0m\u001b[0m\n\u001b[0m\u001b[1;32m     16\u001b[0m          \u001b[0;31m#when i insert character other than int, then block goes to except\u001b[0m\u001b[0;34m\u001b[0m\u001b[0;34m\u001b[0m\u001b[0;34m\u001b[0m\u001b[0m\n\u001b[1;32m     17\u001b[0m         \u001b[0;32mexcept\u001b[0m \u001b[0mException\u001b[0m \u001b[0;32mas\u001b[0m \u001b[0me\u001b[0m\u001b[0;34m:\u001b[0m\u001b[0;34m\u001b[0m\u001b[0;34m\u001b[0m\u001b[0m\n",
      "\u001b[0;32m~/opt/anaconda3/lib/python3.8/site-packages/ipykernel/kernelbase.py\u001b[0m in \u001b[0;36mraw_input\u001b[0;34m(self, prompt)\u001b[0m\n\u001b[1;32m   1004\u001b[0m                 \u001b[0;34m\"raw_input was called, but this frontend does not support input requests.\"\u001b[0m\u001b[0;34m\u001b[0m\u001b[0;34m\u001b[0m\u001b[0m\n\u001b[1;32m   1005\u001b[0m             )\n\u001b[0;32m-> 1006\u001b[0;31m         return self._input_request(\n\u001b[0m\u001b[1;32m   1007\u001b[0m             \u001b[0mstr\u001b[0m\u001b[0;34m(\u001b[0m\u001b[0mprompt\u001b[0m\u001b[0;34m)\u001b[0m\u001b[0;34m,\u001b[0m\u001b[0;34m\u001b[0m\u001b[0;34m\u001b[0m\u001b[0m\n\u001b[1;32m   1008\u001b[0m             \u001b[0mself\u001b[0m\u001b[0;34m.\u001b[0m\u001b[0m_parent_ident\u001b[0m\u001b[0;34m[\u001b[0m\u001b[0;34m\"shell\"\u001b[0m\u001b[0;34m]\u001b[0m\u001b[0;34m,\u001b[0m\u001b[0;34m\u001b[0m\u001b[0;34m\u001b[0m\u001b[0m\n",
      "\u001b[0;32m~/opt/anaconda3/lib/python3.8/site-packages/ipykernel/kernelbase.py\u001b[0m in \u001b[0;36m_input_request\u001b[0;34m(self, prompt, ident, parent, password)\u001b[0m\n\u001b[1;32m   1049\u001b[0m             \u001b[0;32mexcept\u001b[0m \u001b[0mKeyboardInterrupt\u001b[0m\u001b[0;34m:\u001b[0m\u001b[0;34m\u001b[0m\u001b[0;34m\u001b[0m\u001b[0m\n\u001b[1;32m   1050\u001b[0m                 \u001b[0;31m# re-raise KeyboardInterrupt, to truncate traceback\u001b[0m\u001b[0;34m\u001b[0m\u001b[0;34m\u001b[0m\u001b[0;34m\u001b[0m\u001b[0m\n\u001b[0;32m-> 1051\u001b[0;31m                 \u001b[0;32mraise\u001b[0m \u001b[0mKeyboardInterrupt\u001b[0m\u001b[0;34m(\u001b[0m\u001b[0;34m\"Interrupted by user\"\u001b[0m\u001b[0;34m)\u001b[0m \u001b[0;32mfrom\u001b[0m \u001b[0;32mNone\u001b[0m\u001b[0;34m\u001b[0m\u001b[0;34m\u001b[0m\u001b[0m\n\u001b[0m\u001b[1;32m   1052\u001b[0m             \u001b[0;32mexcept\u001b[0m \u001b[0mException\u001b[0m\u001b[0;34m:\u001b[0m\u001b[0;34m\u001b[0m\u001b[0;34m\u001b[0m\u001b[0m\n\u001b[1;32m   1053\u001b[0m                 \u001b[0mself\u001b[0m\u001b[0;34m.\u001b[0m\u001b[0mlog\u001b[0m\u001b[0;34m.\u001b[0m\u001b[0mwarning\u001b[0m\u001b[0;34m(\u001b[0m\u001b[0;34m\"Invalid Message:\"\u001b[0m\u001b[0;34m,\u001b[0m \u001b[0mexc_info\u001b[0m\u001b[0;34m=\u001b[0m\u001b[0;32mTrue\u001b[0m\u001b[0;34m)\u001b[0m\u001b[0;34m\u001b[0m\u001b[0;34m\u001b[0m\u001b[0m\n",
      "\u001b[0;31mKeyboardInterrupt\u001b[0m: Interrupted by user"
     ]
    }
   ],
   "source": [
    "askint2()"
   ]
  },
  {
   "cell_type": "code",
   "execution_count": 83,
   "id": "07786a7c",
   "metadata": {},
   "outputs": [
    {
     "ename": "NameError",
     "evalue": "name 'c' is not defined",
     "output_type": "error",
     "traceback": [
      "\u001b[0;31m---------------------------------------------------------------------------\u001b[0m",
      "\u001b[0;31mNameError\u001b[0m                                 Traceback (most recent call last)",
      "\u001b[0;32m/var/folders/pz/8fj7_jqs1_lglvwks1ym9jl40000gn/T/ipykernel_13624/3235490055.py\u001b[0m in \u001b[0;36m<module>\u001b[0;34m\u001b[0m\n\u001b[0;32m----> 1\u001b[0;31m \u001b[0mc\u001b[0m\u001b[0;34m\u001b[0m\u001b[0;34m\u001b[0m\u001b[0m\n\u001b[0m",
      "\u001b[0;31mNameError\u001b[0m: name 'c' is not defined"
     ]
    }
   ],
   "source": [
    "#break universal while loop by introducing break statement in else block\n",
    "#we are using break in else block, because if try is successful then else block will be executed \n",
    "#Hence, we intoduce break in else block \n"
   ]
  },
  {
   "cell_type": "code",
   "execution_count": 84,
   "id": "e13dabb4",
   "metadata": {},
   "outputs": [],
   "source": [
    "def askint3():\n",
    "    \n",
    "    while True: \n",
    "        \n",
    "        try:\n",
    "            v= int(input('Please enter an integer '))\n",
    "            c=50/v\n",
    "            print(c)\n",
    "            \n",
    "        except Exception as e:\n",
    "            print(e) \n",
    "            continue \n",
    "        else: \n",
    "            print(\"Integer has been entered\")\n",
    "            break\n",
    "            \n",
    "        finally:\n",
    "            print(\"This is finally block and will be executed everytime\")\n",
    "        \n",
    "\n",
    "#if int is provided as input: try-> else-> break the loop-> finally\n",
    "#if any other char apart from int is provide, except-> continue-> try. \n",
    "#Code will keep on looking for int for infinite times unless int is typed"
   ]
  },
  {
   "cell_type": "code",
   "execution_count": 85,
   "id": "e819ef4a",
   "metadata": {},
   "outputs": [
    {
     "name": "stdout",
     "output_type": "stream",
     "text": [
      "Please enter an integer g\n",
      "invalid literal for int() with base 10: 'g'\n",
      "This is finally block and will be executed everytime\n",
      "Please enter an integer 5\n",
      "10.0\n",
      "Integer has been entered\n",
      "This is finally block and will be executed everytime\n"
     ]
    }
   ],
   "source": [
    "askint3()"
   ]
  },
  {
   "cell_type": "code",
   "execution_count": 86,
   "id": "dd3eae4b",
   "metadata": {},
   "outputs": [],
   "source": [
    "#Code will keep on looking for int for infinite times unless int is typed\n",
    "#Terminate the code, if incorrect input is provided for n number of times\n",
    "# wecan use counter or for range loop\n",
    "\n",
    "def askint3():\n",
    "    \n",
    "    for i in range(5): \n",
    "        \n",
    "        try:\n",
    "            v= int(input('Please enter an integer '))\n",
    "            c=50/v\n",
    "            print(c)\n",
    "            \n",
    "        except Exception as e:\n",
    "            print(e) \n",
    "            continue \n",
    "        else: \n",
    "            print(\"Integer has been entered\")\n",
    "            break\n",
    "            \n",
    "        finally:\n",
    "            print(\"This is finally block and will be executed everytime\")\n",
    "        "
   ]
  },
  {
   "cell_type": "code",
   "execution_count": 87,
   "id": "a9891600",
   "metadata": {},
   "outputs": [
    {
     "name": "stdout",
     "output_type": "stream",
     "text": [
      "Please enter an integer \n",
      "invalid literal for int() with base 10: ''\n",
      "This is finally block and will be executed everytime\n",
      "Please enter an integer gf\n",
      "invalid literal for int() with base 10: 'gf'\n",
      "This is finally block and will be executed everytime\n",
      "Please enter an integer g\n",
      "invalid literal for int() with base 10: 'g'\n",
      "This is finally block and will be executed everytime\n",
      "Please enter an integer g\n",
      "invalid literal for int() with base 10: 'g'\n",
      "This is finally block and will be executed everytime\n",
      "Please enter an integer e\n",
      "invalid literal for int() with base 10: 'e'\n",
      "This is finally block and will be executed everytime\n"
     ]
    }
   ],
   "source": [
    "askint3()"
   ]
  },
  {
   "cell_type": "code",
   "execution_count": 90,
   "id": "e5c4d248",
   "metadata": {},
   "outputs": [
    {
     "name": "stdout",
     "output_type": "stream",
     "text": [
      "Please enter an integer 7\n",
      "7.142857142857143\n",
      "Integer has been entered\n",
      "This is finally block and will be executed everytime\n",
      "7.142857142857143\n"
     ]
    }
   ],
   "source": [
    "#introduce error in finally block on purpose. here the code will break and error is displayed\n",
    "\n",
    "def askint4():\n",
    "    \n",
    "    for i in range(5): \n",
    "        \n",
    "        try:\n",
    "            v= int(input('Please enter an integer '))\n",
    "            c=50/v\n",
    "            print(c)\n",
    "            \n",
    "        except Exception as e:\n",
    "            print(e) \n",
    "            continue \n",
    "        else: \n",
    "            print(\"Integer has been entered\")\n",
    "            break\n",
    "            \n",
    "        finally:\n",
    "            print(\"This is finally block and will be executed everytime\")\n",
    "            print(c)\n",
    "\n",
    "            \n",
    "askint4()"
   ]
  },
  {
   "cell_type": "code",
   "execution_count": 91,
   "id": "be82400d",
   "metadata": {},
   "outputs": [
    {
     "name": "stdout",
     "output_type": "stream",
     "text": [
      "Please enter an integer h\n",
      "invalid literal for int() with base 10: 'h'\n",
      "This is finally block and will be executed everytime\n"
     ]
    },
    {
     "ename": "UnboundLocalError",
     "evalue": "local variable 'c' referenced before assignment",
     "output_type": "error",
     "traceback": [
      "\u001b[0;31m---------------------------------------------------------------------------\u001b[0m",
      "\u001b[0;31mUnboundLocalError\u001b[0m                         Traceback (most recent call last)",
      "\u001b[0;32m/var/folders/pz/8fj7_jqs1_lglvwks1ym9jl40000gn/T/ipykernel_13624/1327456886.py\u001b[0m in \u001b[0;36m<module>\u001b[0;34m\u001b[0m\n\u001b[1;32m      1\u001b[0m \u001b[0;31m# if I enter non integer character\u001b[0m\u001b[0;34m\u001b[0m\u001b[0;34m\u001b[0m\u001b[0;34m\u001b[0m\u001b[0m\n\u001b[0;32m----> 2\u001b[0;31m \u001b[0maskint4\u001b[0m\u001b[0;34m(\u001b[0m\u001b[0;34m)\u001b[0m\u001b[0;34m\u001b[0m\u001b[0;34m\u001b[0m\u001b[0m\n\u001b[0m",
      "\u001b[0;32m/var/folders/pz/8fj7_jqs1_lglvwks1ym9jl40000gn/T/ipykernel_13624/1329811160.py\u001b[0m in \u001b[0;36maskint4\u001b[0;34m()\u001b[0m\n\u001b[1;32m     19\u001b[0m         \u001b[0;32mfinally\u001b[0m\u001b[0;34m:\u001b[0m\u001b[0;34m\u001b[0m\u001b[0;34m\u001b[0m\u001b[0m\n\u001b[1;32m     20\u001b[0m             \u001b[0mprint\u001b[0m\u001b[0;34m(\u001b[0m\u001b[0;34m\"This is finally block and will be executed everytime\"\u001b[0m\u001b[0;34m)\u001b[0m\u001b[0;34m\u001b[0m\u001b[0;34m\u001b[0m\u001b[0m\n\u001b[0;32m---> 21\u001b[0;31m             \u001b[0mprint\u001b[0m\u001b[0;34m(\u001b[0m\u001b[0mc\u001b[0m\u001b[0;34m)\u001b[0m\u001b[0;34m\u001b[0m\u001b[0;34m\u001b[0m\u001b[0m\n\u001b[0m\u001b[1;32m     22\u001b[0m \u001b[0;34m\u001b[0m\u001b[0m\n\u001b[1;32m     23\u001b[0m \u001b[0;34m\u001b[0m\u001b[0m\n",
      "\u001b[0;31mUnboundLocalError\u001b[0m: local variable 'c' referenced before assignment"
     ]
    }
   ],
   "source": [
    "# if I enter non integer character, I will get an error\n",
    "askint4()"
   ]
  },
  {
   "cell_type": "code",
   "execution_count": 92,
   "id": "f9eaae23",
   "metadata": {},
   "outputs": [
    {
     "name": "stdout",
     "output_type": "stream",
     "text": [
      "Please enter an integer g\n",
      "invalid literal for int() with base 10: 'g'\n",
      "This is finally block and will be executed everytime\n",
      "Please enter an integer 6\n",
      "8.333333333333334\n",
      "Integer has been entered\n",
      "This is finally block and will be executed everytime\n",
      "8.333333333333334\n"
     ]
    }
   ],
   "source": [
    "# to avoid this, last stmt print c can be written in the end outside all block or intended to wile loop \n",
    "\n",
    "def askint5():\n",
    "    \n",
    "    for i in range(5): \n",
    "        \n",
    "        try:\n",
    "            v= int(input('Please enter an integer '))\n",
    "            c=50/v\n",
    "            print(c)\n",
    "            \n",
    "        except Exception as e:\n",
    "            print(e) \n",
    "            continue \n",
    "        else: \n",
    "            print(\"Integer has been entered\")\n",
    "            break\n",
    "            \n",
    "        finally:\n",
    "            print(\"This is finally block and will be executed everytime\")\n",
    "    \n",
    "    print(c)\n",
    "\n",
    "            \n",
    "askint5()\n",
    "#no error"
   ]
  },
  {
   "cell_type": "code",
   "execution_count": 2,
   "id": "d682df01",
   "metadata": {},
   "outputs": [
    {
     "name": "stdout",
     "output_type": "stream",
     "text": [
      "There is an error in my mode\n"
     ]
    }
   ],
   "source": [
    "# mentioning different types of errors\n",
    "#\n",
    "\n",
    "try: \n",
    "    f=open('abc.txt') #error: this is in read mode by default\n",
    "    f.write(\"My name is Melissa Vidiera. This is exception handling module\")\n",
    "except OSError: \n",
    "    print(\"There is an error in my mode\")\n",
    "    "
   ]
  },
  {
   "cell_type": "code",
   "execution_count": 3,
   "id": "c6a1295c",
   "metadata": {},
   "outputs": [
    {
     "name": "stdout",
     "output_type": "stream",
     "text": [
      "There is an error in my mode\n"
     ]
    }
   ],
   "source": [
    "try: \n",
    "    f=open('abc.txt')\n",
    "    f.write(\"My name is Melissa Vidiera. This is exception handling module\")\n",
    "except IOError: \n",
    "    print(\"There is an error in my mode\")\n",
    "    "
   ]
  },
  {
   "cell_type": "code",
   "execution_count": 4,
   "id": "dd43d751",
   "metadata": {},
   "outputs": [
    {
     "ename": "FileNotFoundError",
     "evalue": "[Errno 2] No such file or directory: 'abc.txt'",
     "output_type": "error",
     "traceback": [
      "\u001b[0;31m---------------------------------------------------------------------------\u001b[0m",
      "\u001b[0;31mFileNotFoundError\u001b[0m                         Traceback (most recent call last)",
      "\u001b[0;32m/var/folders/pz/8fj7_jqs1_lglvwks1ym9jl40000gn/T/ipykernel_1510/99276445.py\u001b[0m in \u001b[0;36m<module>\u001b[0;34m\u001b[0m\n\u001b[1;32m      1\u001b[0m \u001b[0;32mtry\u001b[0m\u001b[0;34m:\u001b[0m\u001b[0;34m\u001b[0m\u001b[0;34m\u001b[0m\u001b[0m\n\u001b[0;32m----> 2\u001b[0;31m     \u001b[0mf\u001b[0m\u001b[0;34m=\u001b[0m\u001b[0mopen\u001b[0m\u001b[0;34m(\u001b[0m\u001b[0;34m'abc.txt'\u001b[0m\u001b[0;34m)\u001b[0m\u001b[0;34m\u001b[0m\u001b[0;34m\u001b[0m\u001b[0m\n\u001b[0m\u001b[1;32m      3\u001b[0m     \u001b[0mf\u001b[0m\u001b[0;34m.\u001b[0m\u001b[0mwrite\u001b[0m\u001b[0;34m(\u001b[0m\u001b[0;34m\"My name is Melissa Vidiera. This is exception handling module\"\u001b[0m\u001b[0;34m)\u001b[0m\u001b[0;34m\u001b[0m\u001b[0;34m\u001b[0m\u001b[0m\n\u001b[1;32m      4\u001b[0m \u001b[0;32mexcept\u001b[0m \u001b[0mValueError\u001b[0m\u001b[0;34m:\u001b[0m\u001b[0;34m\u001b[0m\u001b[0;34m\u001b[0m\u001b[0m\n\u001b[1;32m      5\u001b[0m     \u001b[0mprint\u001b[0m\u001b[0;34m(\u001b[0m\u001b[0;34m\"There is an error in my mode\"\u001b[0m\u001b[0;34m)\u001b[0m\u001b[0;34m\u001b[0m\u001b[0;34m\u001b[0m\u001b[0m\n",
      "\u001b[0;31mFileNotFoundError\u001b[0m: [Errno 2] No such file or directory: 'abc.txt'"
     ]
    }
   ],
   "source": [
    "#we can not mention ValueError\n",
    "# this is not value error. I have made mistake even while using except method\n",
    "#to avoid this, do not catch exception which I am not sure. better use Exceptions obj e\n",
    "\n",
    "try: \n",
    "    f=open('abc.txt')\n",
    "    f.write(\"My name is Melissa Vidiera. This is exception handling module\")\n",
    "except ValueError: \n",
    "    print(\"There is an error in my mode\")\n",
    "    "
   ]
  },
  {
   "cell_type": "code",
   "execution_count": 6,
   "id": "738f10df",
   "metadata": {},
   "outputs": [
    {
     "name": "stdout",
     "output_type": "stream",
     "text": [
      "There is an error in my mode\n"
     ]
    }
   ],
   "source": [
    "#can we handle multiple error at a time\n",
    "\n",
    "try: \n",
    "    f=open('abc.txt')\n",
    "    f.write(\"My name is Melissa Vidiera. This is exception handling module\")\n",
    "except OSError: \n",
    "    print(\"There is an error in my mode\")\n",
    "except IOError:\n",
    "    print(\"this is IO error\")\n",
    "except FileExistsError:\n",
    "    print(\"This is file Exist error\")"
   ]
  },
  {
   "cell_type": "code",
   "execution_count": 12,
   "id": "64fe3be7",
   "metadata": {},
   "outputs": [
    {
     "name": "stdout",
     "output_type": "stream",
     "text": [
      "this is file not found error\n"
     ]
    }
   ],
   "source": [
    "#changing except block pos\n",
    "#writing down all possible except block and checkng which will be printed\n",
    "#once the correct one is captured, other except blocks arenot even checked\n",
    "\n",
    "try: \n",
    "    f=open('abc.txt')\n",
    "    f.write(\"My name is Melissa Vidiera. This is exception handling module\")\n",
    "except ValueError: \n",
    "    print(\"There is an error in my mode\")\n",
    "except FileExistsError:\n",
    "    print(\"This is file Exist error\")\n",
    "except FileNotFoundError:\n",
    "    print(\"this is file not found error\")\n",
    "except OSError: \n",
    "    print(\"This is OS Error and I have skipped 1st 2 except block as it throws error even i except block\")\n",
    "except IOError:\n",
    "    print(\"this is IO error\")\n",
    "except Exception as e:\n",
    "    print(\"This is exception superclass\", e)\n",
    "\n",
    "\n",
    "#here if I used ValueError or FileExistsError, it woulg give me an error even after using except block\n",
    "#so system wll consider next except method\n"
   ]
  },
  {
   "cell_type": "code",
   "execution_count": 13,
   "id": "54f9e9f3",
   "metadata": {},
   "outputs": [
    {
     "name": "stdout",
     "output_type": "stream",
     "text": [
      "There is an error with this code\n"
     ]
    }
   ],
   "source": [
    "# how to avoig writing keyword and format except everytime\n",
    "\n",
    "try: \n",
    "    f=open('abc.txt')\n",
    "    f.write(\"My name is Melissa Vidiera. This is exception handling module\")\n",
    "except(ValueError,FileExistsError,FileNotFoundError,OSError,IOError, Exception):\n",
    "    print(\"There is an error with this code\")"
   ]
  },
  {
   "cell_type": "code",
   "execution_count": 15,
   "id": "13aee9db",
   "metadata": {},
   "outputs": [
    {
     "ename": "FileNotFoundError",
     "evalue": "[Errno 2] No such file or directory: 'abc.txt'",
     "output_type": "error",
     "traceback": [
      "\u001b[0;31m---------------------------------------------------------------------------\u001b[0m",
      "\u001b[0;31mFileNotFoundError\u001b[0m                         Traceback (most recent call last)",
      "\u001b[0;32m/var/folders/pz/8fj7_jqs1_lglvwks1ym9jl40000gn/T/ipykernel_1510/2404827800.py\u001b[0m in \u001b[0;36m<module>\u001b[0;34m\u001b[0m\n\u001b[1;32m      1\u001b[0m \u001b[0;32mtry\u001b[0m\u001b[0;34m:\u001b[0m\u001b[0;34m\u001b[0m\u001b[0;34m\u001b[0m\u001b[0m\n\u001b[0;32m----> 2\u001b[0;31m     \u001b[0mf\u001b[0m\u001b[0;34m=\u001b[0m\u001b[0mopen\u001b[0m\u001b[0;34m(\u001b[0m\u001b[0;34m'abc.txt'\u001b[0m\u001b[0;34m)\u001b[0m\u001b[0;34m\u001b[0m\u001b[0;34m\u001b[0m\u001b[0m\n\u001b[0m\u001b[1;32m      3\u001b[0m     \u001b[0mf\u001b[0m\u001b[0;34m.\u001b[0m\u001b[0mwrite\u001b[0m\u001b[0;34m(\u001b[0m\u001b[0;34m\"My name is Melissa Vidiera. This is exception handling module\"\u001b[0m\u001b[0;34m)\u001b[0m\u001b[0;34m\u001b[0m\u001b[0;34m\u001b[0m\u001b[0m\n\u001b[1;32m      4\u001b[0m \u001b[0;32mexcept\u001b[0m\u001b[0;34m(\u001b[0m\u001b[0mValueError\u001b[0m\u001b[0;34m,\u001b[0m\u001b[0mFileExistsError\u001b[0m\u001b[0;34m)\u001b[0m\u001b[0;34m:\u001b[0m\u001b[0;34m\u001b[0m\u001b[0;34m\u001b[0m\u001b[0m\n\u001b[1;32m      5\u001b[0m     \u001b[0mprint\u001b[0m\u001b[0;34m(\u001b[0m\u001b[0;34m\"There is an error with this code\"\u001b[0m\u001b[0;34m)\u001b[0m\u001b[0;34m\u001b[0m\u001b[0;34m\u001b[0m\u001b[0m\n",
      "\u001b[0;31mFileNotFoundError\u001b[0m: [Errno 2] No such file or directory: 'abc.txt'"
     ]
    }
   ],
   "source": [
    "try: \n",
    "    f=open('abc.txt')\n",
    "    f.write(\"My name is Melissa Vidiera. This is exception handling module\")\n",
    "except(ValueError,FileExistsError):\n",
    "    print(\"There is an error with this code\")"
   ]
  },
  {
   "cell_type": "code",
   "execution_count": 16,
   "id": "925ad5c6",
   "metadata": {},
   "outputs": [
    {
     "name": "stdout",
     "output_type": "stream",
     "text": [
      "There is an error with this code\n"
     ]
    }
   ],
   "source": [
    "try: \n",
    "    f=open('abc.txt')\n",
    "    f.write(\"My name is Melissa Vidiera. This is exception handling module\")\n",
    "except(ValueError,FileExistsError, Exception):\n",
    "    print(\"There is an error with this code\")"
   ]
  },
  {
   "cell_type": "code",
   "execution_count": 30,
   "id": "65d2f685",
   "metadata": {},
   "outputs": [
    {
     "name": "stdout",
     "output_type": "stream",
     "text": [
      "Enter any number: 1\n",
      "10.0\n",
      "This is not integer I was looking for\n"
     ]
    }
   ],
   "source": [
    "#writing own kind of error\n",
    "#using RAISE keyword\n",
    "#in try block I can use own exception using keyword raise\n",
    "# I can print my own exception statement\n",
    "# if there is any error in actual try block, then exception block is exceuted\n",
    "\n",
    "try: \n",
    "    v= int(input(\"Enter any number: \"))\n",
    "    c= 10/v\n",
    "    print(c)\n",
    "    \n",
    "    if v<2:\n",
    "        raise ValueError(\"This is not integer I was looking for\")\n",
    "\n",
    "except Exception as e: #instead of Exception if I give, ValueError doesnt work\n",
    "    print(e)"
   ]
  },
  {
   "cell_type": "code",
   "execution_count": 31,
   "id": "5a21be74",
   "metadata": {},
   "outputs": [
    {
     "name": "stdout",
     "output_type": "stream",
     "text": [
      "Enter any number: 0\n",
      "division by zero\n"
     ]
    }
   ],
   "source": [
    "try: \n",
    "    v= int(input(\"Enter any number: \"))\n",
    "    c= 10/v\n",
    "    print(c)\n",
    "    \n",
    "    if v<2:\n",
    "        raise ValueError(\"This is not integer I was looking for\")\n",
    "\n",
    "except Exception as e: #instead of Exception if I give, ValueError doesnt work\n",
    "    print(e)"
   ]
  },
  {
   "cell_type": "code",
   "execution_count": null,
   "id": "0a60a2f6",
   "metadata": {},
   "outputs": [],
   "source": []
  }
 ],
 "metadata": {
  "kernelspec": {
   "display_name": "Python 3 (ipykernel)",
   "language": "python",
   "name": "python3"
  },
  "language_info": {
   "codemirror_mode": {
    "name": "ipython",
    "version": 3
   },
   "file_extension": ".py",
   "mimetype": "text/x-python",
   "name": "python",
   "nbconvert_exporter": "python",
   "pygments_lexer": "ipython3",
   "version": "3.8.8"
  }
 },
 "nbformat": 4,
 "nbformat_minor": 5
}
