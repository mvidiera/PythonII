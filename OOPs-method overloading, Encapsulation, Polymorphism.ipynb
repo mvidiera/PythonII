{
 "cells": [
  {
   "cell_type": "code",
   "execution_count": 5,
   "id": "c49a54d4",
   "metadata": {},
   "outputs": [],
   "source": [
    "class person:\n",
    "    def __init__(self,a,b,c):\n",
    "        self.a=a\n",
    "        self.b=b\n",
    "        self.c=c\n",
    "\n",
    "        #method overloading\n",
    "    def __str__(self):\n",
    "        return \"My name is Melissa Vidiera\"#str method always return strng\n",
    "    \n",
    "    "
   ]
  },
  {
   "cell_type": "code",
   "execution_count": 6,
   "id": "f6e02920",
   "metadata": {},
   "outputs": [],
   "source": [
    "p=person(3,4,5)"
   ]
  },
  {
   "cell_type": "code",
   "execution_count": 7,
   "id": "0052eba2",
   "metadata": {},
   "outputs": [
    {
     "name": "stdout",
     "output_type": "stream",
     "text": [
      "My name is Melissa Vidiera\n"
     ]
    }
   ],
   "source": [
    "print(p)"
   ]
  },
  {
   "cell_type": "code",
   "execution_count": 51,
   "id": "0d6c2302",
   "metadata": {},
   "outputs": [],
   "source": [
    "#METHOD OVERLOADING\n",
    "\n",
    "#if I comment out str method then p returns just object\n",
    "class person1:\n",
    "    def __init__(self,a,b,c):\n",
    "        self.a=a\n",
    "        self.b=b\n",
    "        self.c=c\n",
    "\n",
    "        #method overloading\n",
    "    def __str__(self):\n",
    "        return \"My name is Melissa Vidiera\""
   ]
  },
  {
   "cell_type": "code",
   "execution_count": 52,
   "id": "cf99bdc0",
   "metadata": {},
   "outputs": [],
   "source": [
    "p=person1(6,7,8)"
   ]
  },
  {
   "cell_type": "code",
   "execution_count": 53,
   "id": "2260d4f7",
   "metadata": {},
   "outputs": [
    {
     "name": "stdout",
     "output_type": "stream",
     "text": [
      "My name is Melissa Vidiera\n"
     ]
    }
   ],
   "source": [
    "print(p)"
   ]
  },
  {
   "cell_type": "code",
   "execution_count": 45,
   "id": "32a86cfa",
   "metadata": {},
   "outputs": [],
   "source": [
    "#calling person in another class\n",
    "#student is child class and person is parent\n",
    "\n",
    "class student(person):\n",
    "    def __init__(self,student_id, *args): #import all var of person\n",
    "        super(student,self).__init__(*args)\n",
    "        self.student_id=student_id\n",
    "#method overriding: here I'm not re writing. I am appending\n",
    "\n",
    "    def __str__(self):\n",
    "        return super(student,self).__str__() + \" I am student\"\n",
    "#super(student,self).__str__()- this prints My name is Melissa Vidiera"
   ]
  },
  {
   "cell_type": "code",
   "execution_count": 46,
   "id": "9663de6f",
   "metadata": {},
   "outputs": [],
   "source": [
    "s=student(25, 1,2,3)"
   ]
  },
  {
   "cell_type": "code",
   "execution_count": 47,
   "id": "782aff0b",
   "metadata": {},
   "outputs": [
    {
     "data": {
      "text/plain": [
       "25"
      ]
     },
     "execution_count": 47,
     "metadata": {},
     "output_type": "execute_result"
    }
   ],
   "source": [
    "s.student_id"
   ]
  },
  {
   "cell_type": "code",
   "execution_count": 48,
   "id": "6fb4c080",
   "metadata": {},
   "outputs": [
    {
     "data": {
      "text/plain": [
       "<__main__.student at 0x7fd3357bb1f0>"
      ]
     },
     "execution_count": 48,
     "metadata": {},
     "output_type": "execute_result"
    }
   ],
   "source": [
    "s"
   ]
  },
  {
   "cell_type": "code",
   "execution_count": 42,
   "id": "0cd9da1e",
   "metadata": {},
   "outputs": [
    {
     "name": "stdout",
     "output_type": "stream",
     "text": [
      "My name is Melissa Vidiera\n"
     ]
    }
   ],
   "source": [
    "print(s) #inherited from parent class person"
   ]
  },
  {
   "cell_type": "code",
   "execution_count": 49,
   "id": "e1c88dab",
   "metadata": {},
   "outputs": [
    {
     "name": "stdout",
     "output_type": "stream",
     "text": [
      "My name is Melissa Vidiera I am student\n"
     ]
    }
   ],
   "source": [
    "print(s)"
   ]
  },
  {
   "cell_type": "code",
   "execution_count": 54,
   "id": "83d3a3e7",
   "metadata": {},
   "outputs": [
    {
     "name": "stdout",
     "output_type": "stream",
     "text": [
      "My name is Melissa Vidiera\n"
     ]
    }
   ],
   "source": [
    "print(p) #str method from parent class."
   ]
  },
  {
   "cell_type": "markdown",
   "id": "5e23f22f",
   "metadata": {},
   "source": [
    "# Encapsulation\n",
    "\n",
    "person 1 has created class a, b and c\n",
    "person 2 has creaed class 1,2 and 3\n",
    "\n",
    "* to reuse the code: we need not to create same code, we can utilize code which has been written by someone else\n",
    "* in same time, we need not to worry hoe, which pattern and what is the definition of the code that person is used\n",
    "* I have an idea about input and output. I wont be having any idea how the code written or work \n",
    "* I am just trying to pass my input and get ouput\n",
    "* Here implementation is hidden inside class or function\n",
    "* summarizing: hiding the implementation is known as encapsulation\n",
    "\n",
    "\n"
   ]
  },
  {
   "cell_type": "code",
   "execution_count": 4,
   "id": "409767f1",
   "metadata": {},
   "outputs": [],
   "source": [
    "#class 1\n",
    "\n",
    "class tyre:\n",
    "    #constructor\n",
    "    def __init__(self, branch, baise, opt_pre):\n",
    "        self.branch= branch\n",
    "        self.baise= baise\n",
    "        self.opt_pre=opt_pre\n",
    "#overridinf str\n",
    "    def __str__(self):\n",
    "        return str(self.branch) + \" \" +str(self.baise) +\" \" + str(self.opt_pre)"
   ]
  },
  {
   "cell_type": "code",
   "execution_count": 5,
   "id": "83df0c37",
   "metadata": {},
   "outputs": [],
   "source": [
    "t= tyre(\"xyz\",56,88)"
   ]
  },
  {
   "cell_type": "code",
   "execution_count": 6,
   "id": "fbf84aaf",
   "metadata": {},
   "outputs": [
    {
     "name": "stdout",
     "output_type": "stream",
     "text": [
      "xyz 56 88\n"
     ]
    }
   ],
   "source": [
    "print(t)"
   ]
  },
  {
   "cell_type": "code",
   "execution_count": 7,
   "id": "b062b68d",
   "metadata": {},
   "outputs": [],
   "source": [
    "#class 2\n",
    "\n",
    "class engine:\n",
    "    def __init__(self, fuel_type, noise_level):\n",
    "        self.fuel_type= fuel_type\n",
    "        self.noise_level=noise_level\n",
    "        \n",
    "    def __str__(self):\n",
    "        return str(self.noise_level)+ \" \" + str(self.fuel_type)"
   ]
  },
  {
   "cell_type": "code",
   "execution_count": 8,
   "id": "0da89a2d",
   "metadata": {},
   "outputs": [],
   "source": [
    "e= engine(\"petrol\",90)"
   ]
  },
  {
   "cell_type": "code",
   "execution_count": 9,
   "id": "8e626f53",
   "metadata": {},
   "outputs": [
    {
     "name": "stdout",
     "output_type": "stream",
     "text": [
      "90 petrol\n"
     ]
    }
   ],
   "source": [
    "print(e)\n"
   ]
  },
  {
   "cell_type": "code",
   "execution_count": 10,
   "id": "bdc45495",
   "metadata": {},
   "outputs": [],
   "source": [
    "#class 3\n",
    "\n",
    "class body:\n",
    "    def __init__(self, body_size):\n",
    "        self.body_size= body_size\n",
    "        \n",
    "    def __str__(self):\n",
    "        return \"This is my definition of engine class\" + \" \" + str(self.body_size)\n",
    "    "
   ]
  },
  {
   "cell_type": "code",
   "execution_count": 11,
   "id": "f8d1c602",
   "metadata": {},
   "outputs": [],
   "source": [
    "b= body('small')"
   ]
  },
  {
   "cell_type": "code",
   "execution_count": 12,
   "id": "a2205497",
   "metadata": {},
   "outputs": [
    {
     "name": "stdout",
     "output_type": "stream",
     "text": [
      "This is my definition of engine class small\n"
     ]
    }
   ],
   "source": [
    "print(b)"
   ]
  },
  {
   "cell_type": "markdown",
   "id": "82203cc9",
   "metadata": {},
   "source": [
    "## Inheritence vs Encapsulation\n",
    "\n",
    "* There are 3 classes Engine, tyre and body\n",
    "* I can utilize these classes using inheritence. \n",
    "* I dont want to use inheritence concept. \n",
    "* Some one has created these 3 classes \n",
    "* I have created a car class\n",
    "* Car class should take number of arguments equal to the classes which I have to use\n"
   ]
  },
  {
   "cell_type": "markdown",
   "id": "35ac7a79",
   "metadata": {},
   "source": [
    "* I am not aware of class implementation and I just call the class using its object, neither should I worry about\n",
    "* import and utilize the method, variables of that class. Class implementation will be hidden\n",
    "\n",
    "Types of Encapsulation\n",
    "1. Composite encapsulation\n",
    "2. Dynamic encapsulation\n",
    "\n",
    "* Composite: Whenever we are trying to call/use a call we are pass object in runtime\n",
    "* Dynamic: instead of passing object, we are passing all data/value of that variables as input data"
   ]
  },
  {
   "cell_type": "code",
   "execution_count": 21,
   "id": "8a974573",
   "metadata": {},
   "outputs": [],
   "source": [
    "class car():\n",
    "    def __init__(self, t1, e1, b1): #here t stands for tyre class, just used tyre class as arg t\n",
    "        self.t1=t1\n",
    "        self.e1=e1\n",
    "        self.b1=b1\n",
    "        \n",
    "    def __str__(self):\n",
    "        return str(self.t1)+ \" \"+ str(self.e1) + \" \" +str(self.b1)     #return local var\n",
    "    "
   ]
  },
  {
   "cell_type": "code",
   "execution_count": 22,
   "id": "02ba1a21",
   "metadata": {},
   "outputs": [],
   "source": [
    "c1=car('Tyre',\"Engine\",\"Body\") #here I am passing my variable which is string"
   ]
  },
  {
   "cell_type": "code",
   "execution_count": 23,
   "id": "65b8e8d7",
   "metadata": {},
   "outputs": [
    {
     "name": "stdout",
     "output_type": "stream",
     "text": [
      "Tyre Engine Body\n"
     ]
    }
   ],
   "source": [
    "print(c1)"
   ]
  },
  {
   "cell_type": "code",
   "execution_count": 25,
   "id": "edff9139",
   "metadata": {},
   "outputs": [],
   "source": [
    "#here I can not fulfil my requirement of using those 3 classes\n",
    "#instead of passing local variables Tyre, Engine and body: pass object of those classes\n",
    "# t,e and b\n",
    "\n",
    "#composit encapsultion\n",
    "c1=car(t,e,b)"
   ]
  },
  {
   "cell_type": "code",
   "execution_count": 26,
   "id": "839389c9",
   "metadata": {},
   "outputs": [
    {
     "name": "stdout",
     "output_type": "stream",
     "text": [
      "xyz 56 88 90 petrol This is my definition of engine class small\n"
     ]
    }
   ],
   "source": [
    "print(c1)\n",
    "#output of tyre class is xyz 56 88\n",
    "#output of fuel class is 90 petrol\n",
    "#output of body call is This is my definition of engine class small"
   ]
  },
  {
   "cell_type": "code",
   "execution_count": 27,
   "id": "3d6bcedc",
   "metadata": {},
   "outputs": [
    {
     "name": "stdout",
     "output_type": "stream",
     "text": [
      "xyz 56 88 90 petrol This is my own data\n"
     ]
    }
   ],
   "source": [
    "#I can also pass string or my own data/var with the objects\n",
    "#Dynamic encapsulation\n",
    "c2=car(t,e, \"This is my own data\")\n",
    "print(c2)"
   ]
  },
  {
   "cell_type": "code",
   "execution_count": 32,
   "id": "0066df1a",
   "metadata": {},
   "outputs": [],
   "source": [
    "c3=car((\"BangaloreBranc\", 10,2), e, \"Medium body\") \n",
    "#tyre(branch, baise, opt_pre) \n",
    "\n",
    "#while passing data for the object that has multiple argument, use bracket enclosing with data.\n",
    "#ex: tyre has 3 arg: pass these 3 inside () within main bracket "
   ]
  },
  {
   "cell_type": "code",
   "execution_count": 33,
   "id": "b42b0d12",
   "metadata": {},
   "outputs": [
    {
     "name": "stdout",
     "output_type": "stream",
     "text": [
      "('BangaloreBranc', 10, 2) 90 petrol Medium body\n"
     ]
    }
   ],
   "source": [
    "print(c3)"
   ]
  },
  {
   "cell_type": "markdown",
   "id": "84ffc57b",
   "metadata": {},
   "source": [
    "# Polymorphism"
   ]
  },
  {
   "cell_type": "markdown",
   "id": "37df299f",
   "metadata": {},
   "source": [
    "* A same person can have dfferent roles like employee, student or daughter\n",
    "* Name and identity wont be changed. Behaviour is changed in different environment\n",
    "* Implemetation will be changed but not definition\n",
    "\n"
   ]
  },
  {
   "cell_type": "code",
   "execution_count": 34,
   "id": "568a6bbd",
   "metadata": {},
   "outputs": [],
   "source": [
    "#If I pass string in add_x(), then str concatenation is made. if number then addtion \n",
    "#and list etc. this is called polymorphism\n",
    "# This one function will behave differently in different enviroment\n",
    "def add_x(a,b):\n",
    "    return a+b"
   ]
  },
  {
   "cell_type": "code",
   "execution_count": 35,
   "id": "989a975b",
   "metadata": {},
   "outputs": [
    {
     "data": {
      "text/plain": [
       "'melissavidiera'"
      ]
     },
     "execution_count": 35,
     "metadata": {},
     "output_type": "execute_result"
    }
   ],
   "source": [
    "add_x(\"melissa\", \"vidiera\")"
   ]
  },
  {
   "cell_type": "code",
   "execution_count": 37,
   "id": "cd608251",
   "metadata": {},
   "outputs": [
    {
     "data": {
      "text/plain": [
       "17.8"
      ]
     },
     "execution_count": 37,
     "metadata": {},
     "output_type": "execute_result"
    }
   ],
   "source": [
    "add_x(9.8,8)"
   ]
  },
  {
   "cell_type": "code",
   "execution_count": 38,
   "id": "ab1c8a13",
   "metadata": {},
   "outputs": [
    {
     "data": {
      "text/plain": [
       "[4, 6, 8, 2, 7, 8]"
      ]
     },
     "execution_count": 38,
     "metadata": {},
     "output_type": "execute_result"
    }
   ],
   "source": [
    "#passing list\n",
    "add_x([4,6,8],[2,7,8])"
   ]
  },
  {
   "cell_type": "code",
   "execution_count": 42,
   "id": "98a79948",
   "metadata": {},
   "outputs": [
    {
     "data": {
      "text/plain": [
       "[1, 4, 5, 7, 1, 4, 5, 7, 1, 4, 5, 7, 1, 4, 5, 7]"
      ]
     },
     "execution_count": 42,
     "metadata": {},
     "output_type": "execute_result"
    }
   ],
   "source": [
    "def mul_x(a,b):\n",
    "    return a*b\n",
    "\n",
    "\n",
    "mul_x([1,4,5,7],4)"
   ]
  },
  {
   "cell_type": "code",
   "execution_count": 43,
   "id": "53af36d7",
   "metadata": {},
   "outputs": [
    {
     "data": {
      "text/plain": [
       "20"
      ]
     },
     "execution_count": 43,
     "metadata": {},
     "output_type": "execute_result"
    }
   ],
   "source": [
    "mul_x(4,5)"
   ]
  },
  {
   "cell_type": "code",
   "execution_count": 44,
   "id": "b6c38f6e",
   "metadata": {},
   "outputs": [
    {
     "data": {
      "text/plain": [
       "'MelissaMelissaMelissaMelissaMelissa'"
      ]
     },
     "execution_count": 44,
     "metadata": {},
     "output_type": "execute_result"
    }
   ],
   "source": [
    "mul_x(\"Melissa\",5)"
   ]
  },
  {
   "cell_type": "code",
   "execution_count": null,
   "id": "f58f0ded",
   "metadata": {},
   "outputs": [],
   "source": []
  },
  {
   "cell_type": "code",
   "execution_count": null,
   "id": "49dbe755",
   "metadata": {},
   "outputs": [],
   "source": []
  }
 ],
 "metadata": {
  "kernelspec": {
   "display_name": "Python 3 (ipykernel)",
   "language": "python",
   "name": "python3"
  },
  "language_info": {
   "codemirror_mode": {
    "name": "ipython",
    "version": 3
   },
   "file_extension": ".py",
   "mimetype": "text/x-python",
   "name": "python",
   "nbconvert_exporter": "python",
   "pygments_lexer": "ipython3",
   "version": "3.8.8"
  }
 },
 "nbformat": 4,
 "nbformat_minor": 5
}
