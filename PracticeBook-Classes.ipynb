{
 "cells": [
  {
   "cell_type": "code",
   "execution_count": 2,
   "metadata": {},
   "outputs": [
    {
     "name": "stdout",
     "output_type": "stream",
     "text": [
      "melissavidiera@gmail.com\n",
      "priyankan@gmail.com\n"
     ]
    }
   ],
   "source": [
    "class Student:\n",
    "    #pass\n",
    "    \n",
    "    def __init__(self,first,last,marks):  #self is a instance by itsef\n",
    "        self.first=first  #its nthn but writing Std_1.first= \"Melissa\"\n",
    "        self.last=last\n",
    "        self.marks=marks\n",
    "        self.email= first + '.' + last +'gmail.com'\n",
    "        \n",
    "#creating objects\n",
    "\n",
    "Std_1= Student()    \n",
    "Std_2= Student()\n",
    "\n",
    "#define instance variables for first object- which are unique in each instance/obj\n",
    "\n",
    "Std_1.first= \"Melissa\"\n",
    "Std_1.last= \"Vidiera\"\n",
    "Std_1.email=\"melissavidiera@gmail.com\"\n",
    "Std_1.marks= 55\n",
    "\n",
    "#defining instance for second obj\n",
    "\n",
    "Std_2.first= \"Priyanka\"\n",
    "Std_2.last= \"Nagaraj\"\n",
    "Std_2.email=\"priyankan@gmail.com\"\n",
    "Std_2.marks= 85\n",
    "\n",
    "#to print email address\n",
    "\n",
    "print(Std_1.email)\n",
    "\n",
    "print(Std_2.email)\n",
    "\n"
   ]
  },
  {
   "cell_type": "code",
   "execution_count": 3,
   "metadata": {},
   "outputs": [
    {
     "name": "stdout",
     "output_type": "stream",
     "text": [
      "Melissa\n",
      "Priyanka\n"
     ]
    }
   ],
   "source": [
    "print(Std_1.first)\n",
    "\n",
    "print(Std_2.first)"
   ]
  },
  {
   "cell_type": "code",
   "execution_count": 8,
   "metadata": {},
   "outputs": [
    {
     "name": "stdout",
     "output_type": "stream",
     "text": [
      "Melissa\n",
      "Priyanka\n"
     ]
    }
   ],
   "source": [
    "# I don want to set variabes manually\n",
    "# use init(), more like constructors. Remve pass stmt in the initial code n define the init()\n",
    "\n",
    "class Student:\n",
    "    def __init__(self,first,last,marks):  #self is a instance by itsef\n",
    "        self.first=first  #its nthn but writing Std_1.first= \"Melissa\"\n",
    "        self.last=last\n",
    "        self.marks=marks\n",
    "        self.email= first + '.' + last +'@gmail.com'\n",
    "    \n",
    "Std_1=Student('Melissa','Vidiera',80)\n",
    "Std_2=Student('Priyanka','Nagraj',90)\n",
    "\n",
    "\n",
    "print(Std_1.first)\n",
    "print(Std_2.first)\n",
    "\n",
    "#here we've created the instances of Student class. We're passing the values specified in init()\n",
    "#init() takes the instance as self, first, last n marks automatically\n",
    "# Std_1 is passed as self, then it will set all the attributes\n",
    "#so it will set self.first as first that we've passed as Melissa, etc.\n",
    "\n"
   ]
  },
  {
   "cell_type": "code",
   "execution_count": 9,
   "metadata": {},
   "outputs": [
    {
     "name": "stdout",
     "output_type": "stream",
     "text": [
      "Melissa.Vidiera@gmail.com\n",
      "Priyanka.Nagraj@gmail.com\n"
     ]
    }
   ],
   "source": [
    "print(Std_1.email)\n",
    "print(Std_2.email)"
   ]
  },
  {
   "cell_type": "code",
   "execution_count": 10,
   "metadata": {},
   "outputs": [
    {
     "name": "stdout",
     "output_type": "stream",
     "text": [
      "Melissa Vidiera\n"
     ]
    }
   ],
   "source": [
    "print('{} {}'.format(Std_1.first,Std_1.last))  #concat of 2 str"
   ]
  },
  {
   "cell_type": "code",
   "execution_count": 11,
   "metadata": {},
   "outputs": [
    {
     "ename": "ValueError",
     "evalue": "Invalid format specifier",
     "output_type": "error",
     "traceback": [
      "\u001b[0;31m---------------------------------------------------------------------------\u001b[0m",
      "\u001b[0;31mValueError\u001b[0m                                Traceback (most recent call last)",
      "\u001b[0;32m<ipython-input-11-2a06fda323f0>\u001b[0m in \u001b[0;36m<module>\u001b[0;34m\u001b[0m\n\u001b[0;32m----> 1\u001b[0;31m \u001b[0mprint\u001b[0m\u001b[0;34m(\u001b[0m\u001b[0mformat\u001b[0m\u001b[0;34m(\u001b[0m\u001b[0mStd_1\u001b[0m\u001b[0;34m.\u001b[0m\u001b[0mfirst\u001b[0m\u001b[0;34m,\u001b[0m\u001b[0mStd_1\u001b[0m\u001b[0;34m.\u001b[0m\u001b[0mlast\u001b[0m\u001b[0;34m)\u001b[0m\u001b[0;34m)\u001b[0m\u001b[0;34m\u001b[0m\u001b[0;34m\u001b[0m\u001b[0m\n\u001b[0m",
      "\u001b[0;31mValueError\u001b[0m: Invalid format specifier"
     ]
    }
   ],
   "source": [
    "print(format(Std_1.first,Std_1.last))"
   ]
  },
  {
   "cell_type": "code",
   "execution_count": 15,
   "metadata": {},
   "outputs": [
    {
     "name": "stdout",
     "output_type": "stream",
     "text": [
      "Melissa\n",
      "Priyanka\n",
      "Melissa Vidiera\n",
      "Priyanka Nagraj\n"
     ]
    }
   ],
   "source": [
    "# to perform some kind of action. Add some methods\n",
    "\n",
    "class Student:\n",
    "    def __init__(self,first,last,marks):  #self is a instance by itsef\n",
    "        self.first=first  #its nthn but writing Std_1.first= \"Melissa\"\n",
    "        self.last=last\n",
    "        self.marks=marks\n",
    "        self.email= first + '.' + last +'@gmail.com'\n",
    " \n",
    "    #self is instance argument. Std_1 or Std_2 are passed. Generally we can consider that as self\n",
    "    \n",
    "    def fullname(self):#each method inside the class automatically takes instance oas an arg. eg Std_1 wic is instance\n",
    "        \n",
    "        return '{} {}'.format(self.first,self.last)\n",
    "    \n",
    "Std_1=Student('Melissa','Vidiera',80)\n",
    "Std_2=Student('Priyanka','Nagraj',90)\n",
    "\n",
    "\n",
    "print(Std_1.first)\n",
    "print(Std_2.first)\n",
    "\n",
    "\n",
    "print(Std_1.fullname())\n",
    "print(Std_2.fullname())"
   ]
  },
  {
   "cell_type": "code",
   "execution_count": 20,
   "metadata": {},
   "outputs": [
    {
     "name": "stdout",
     "output_type": "stream",
     "text": [
      "Melissa Vidiera\n",
      "Priyanka Nagraj\n",
      "80\n",
      "90\n",
      "84\n",
      "94\n"
     ]
    }
   ],
   "source": [
    "#class variables- Variables that are shared amg all instances of a class\n",
    "\n",
    "class Student:\n",
    "    \n",
    "    #initialising class variables, public/protected kind\n",
    "    prec_rise= 1.05   #5%. Define one more method call apply_raise\n",
    "    \n",
    "    \n",
    "    def __init__(self,first,last,marks):  #self is a instance by itsef\n",
    "        self.first=first  #its nthn but writing Std_1.first= \"Melissa\"\n",
    "        self.last=last\n",
    "        self.marks=marks\n",
    "        self.email= first + '.' + last +'@gmail.com'\n",
    " \n",
    "\n",
    "    def fullname(self):#each method inside the class automatically takes instance oas an arg. eg Std_1 wic is instance\n",
    "        \n",
    "        return '{} {}'.format(self.first,self.last)\n",
    "    \n",
    "    def apply_raise(self):\n",
    "        \n",
    "        #self.marks=marks, if I \n",
    "        return int(self.marks*1.05)\n",
    "        \n",
    "    \n",
    "Std_1=Student('Melissa','Vidiera',80)\n",
    "Std_2=Student('Priyanka','Nagraj',90)\n",
    "\n",
    "print(Std_1.fullname())\n",
    "print(Std_2.fullname())\n",
    "\n",
    "print(Std_1.marks)\n",
    "print(Std_2.marks)\n",
    "\n",
    "print(Std_1.apply_raise())   #if print() is not used then code will be- Std_1.apply_raise()\n",
    "print(Std_2.apply_raise())   #no return stmt in the method(), just gv as- self.marks= int(self.marks*1.05)"
   ]
  },
  {
   "cell_type": "code",
   "execution_count": 24,
   "metadata": {},
   "outputs": [
    {
     "name": "stdout",
     "output_type": "stream",
     "text": [
      "{'first': 'Melissa', 'last': 'Vidiera', 'marks': 80, 'email': 'Melissa.Vidiera@gmail.com'}\n",
      "{'first': 'Priyanka', 'last': 'Nagraj', 'marks': 90, 'email': 'Priyanka.Nagraj@gmail.com'}\n"
     ]
    }
   ],
   "source": [
    "print(Std_1.__dict__)  #if Ijust gv dict w/o underscore, error will be popped as 'Student' object has no attribute 'dict'\n",
    "print(Std_2.__dict__) \n",
    "\n",
    "#this will print dictionary of just an object. perc_rise will not be displayed here as it is class variable"
   ]
  },
  {
   "cell_type": "code",
   "execution_count": 26,
   "metadata": {},
   "outputs": [
    {
     "name": "stdout",
     "output_type": "stream",
     "text": [
      "{'__module__': '__main__', 'prec_rise': 1.05, '__init__': <function Student.__init__ at 0x112fd81e0>, 'fullname': <function Student.fullname at 0x11306ff28>, 'apply_raise': <function Student.apply_raise at 0x11306fd90>, '__dict__': <attribute '__dict__' of 'Student' objects>, '__weakref__': <attribute '__weakref__' of 'Student' objects>, '__doc__': None}\n"
     ]
    }
   ],
   "source": [
    "print(Student.__dict__) #this gvs info abt class variables n methods called inside class in dictionary formato"
   ]
  },
  {
   "cell_type": "code",
   "execution_count": null,
   "metadata": {},
   "outputs": [],
   "source": [
    "INHERITENCE\n",
    "\n",
    "#A class can inherit attributes and behavior methods from the other class called Uperclass\n",
    "\n",
    "# A class which inherits from Superclass is called subclass/child class\n",
    "\n",
    "#Superclass- vehicles. attributes- brakes, accelerate\n",
    "#Baseclass : Cars> Derivedclass- sports, SUV, Convertible\n",
    "           # Bikes> DerivedClass- motor, Pedal\n",
    "        \n",
    "#Cars and bikes are afterall vehicles and must have accerates n brakes which is derived from vehicles superclass"
   ]
  },
  {
   "cell_type": "code",
   "execution_count": 34,
   "metadata": {},
   "outputs": [
    {
     "name": "stdout",
     "output_type": "stream",
     "text": [
      "Melissa.Vidiera@gmail.com\n"
     ]
    }
   ],
   "source": [
    "class Student:\n",
    "    \n",
    "    prec_rise= 1.05   \n",
    "    \n",
    "    \n",
    "    def __init__(self,first,last,marks):  \n",
    "        self.first=first  \n",
    "        self.last=last\n",
    "        self.marks=marks\n",
    "        self.email= first + '.' + last +'@gmail.com'\n",
    " \n",
    "\n",
    "    def fullname(self):\n",
    "        \n",
    "        return '{} {}'.format(self.first,self.last)\n",
    "    \n",
    "    def apply_raise(self):\n",
    "        \n",
    "        #self.marks=marks, if I \n",
    "        return int(self.marks*1.05)\n",
    "        \n",
    "\n",
    "class Dumb(Student): #baseclass has been created called Dumb wrt Student() superclass\n",
    "    pass\n",
    "\n",
    "\n",
    "Std_1 = Dumb('Melissa','Vidiera',80) #other than calling Student superclass, I called base class Dumb\n",
    "\n",
    "# Dumb class doesnt have its own parameter as of now, so wteva Student class has, Dumb will derive that\n",
    "#parser looked at Dumb class for init(), but couldnt find. Then, it look in the Student()\n",
    "print(Std_1.email)\n",
    "\n",
    "#print(help(Dumb))\n"
   ]
  },
  {
   "cell_type": "code",
   "execution_count": 35,
   "metadata": {},
   "outputs": [
    {
     "name": "stdout",
     "output_type": "stream",
     "text": [
      "Help on class Dumb in module __main__:\n",
      "\n",
      "class Dumb(Student)\n",
      " |  Dumb(first, last, marks)\n",
      " |  \n",
      " |  Method resolution order:\n",
      " |      Dumb\n",
      " |      Student\n",
      " |      builtins.object\n",
      " |  \n",
      " |  Methods inherited from Student:\n",
      " |  \n",
      " |  __init__(self, first, last, marks)\n",
      " |      Initialize self.  See help(type(self)) for accurate signature.\n",
      " |  \n",
      " |  apply_raise(self)\n",
      " |  \n",
      " |  fullname(self)\n",
      " |  \n",
      " |  ----------------------------------------------------------------------\n",
      " |  Data descriptors inherited from Student:\n",
      " |  \n",
      " |  __dict__\n",
      " |      dictionary for instance variables (if defined)\n",
      " |  \n",
      " |  __weakref__\n",
      " |      list of weak references to the object (if defined)\n",
      " |  \n",
      " |  ----------------------------------------------------------------------\n",
      " |  Data and other attributes inherited from Student:\n",
      " |  \n",
      " |  prec_rise = 1.05\n",
      "\n",
      "None\n"
     ]
    }
   ],
   "source": [
    "print(help(Dumb))\n",
    "\n"
   ]
  },
  {
   "cell_type": "code",
   "execution_count": 38,
   "metadata": {},
   "outputs": [
    {
     "name": "stdout",
     "output_type": "stream",
     "text": [
      "1.1\n"
     ]
    }
   ],
   "source": [
    "#chng perc_rise to 10%\n",
    "\n",
    "class Dumb(Student):\n",
    "    perc_rise=1.10\n",
    "\n",
    "Std_1=Dumb('melissa','Vidiera',60)\n",
    "\n",
    "print(Std_1.perc_rise)  #here rise% is 10%\n",
    "\n",
    "#to check for base class whr perc_rise is still 5%\n",
    "\n"
   ]
  },
  {
   "cell_type": "code",
   "execution_count": 39,
   "metadata": {},
   "outputs": [
    {
     "ename": "AttributeError",
     "evalue": "'Student' object has no attribute 'perc_rise'",
     "output_type": "error",
     "traceback": [
      "\u001b[0;31m---------------------------------------------------------------------------\u001b[0m",
      "\u001b[0;31mAttributeError\u001b[0m                            Traceback (most recent call last)",
      "\u001b[0;32m<ipython-input-39-9d7a1bd5b502>\u001b[0m in \u001b[0;36m<module>\u001b[0;34m\u001b[0m\n\u001b[1;32m      1\u001b[0m \u001b[0mStd_1\u001b[0m\u001b[0;34m=\u001b[0m\u001b[0mStudent\u001b[0m\u001b[0;34m(\u001b[0m\u001b[0;34m'melissa'\u001b[0m\u001b[0;34m,\u001b[0m\u001b[0;34m'Vidiera'\u001b[0m\u001b[0;34m,\u001b[0m\u001b[0;36m60\u001b[0m\u001b[0;34m)\u001b[0m\u001b[0;34m\u001b[0m\u001b[0;34m\u001b[0m\u001b[0m\n\u001b[1;32m      2\u001b[0m \u001b[0;34m\u001b[0m\u001b[0m\n\u001b[0;32m----> 3\u001b[0;31m \u001b[0mprint\u001b[0m\u001b[0;34m(\u001b[0m\u001b[0mStd_1\u001b[0m\u001b[0;34m.\u001b[0m\u001b[0mperc_rise\u001b[0m\u001b[0;34m)\u001b[0m\u001b[0;34m\u001b[0m\u001b[0;34m\u001b[0m\u001b[0m\n\u001b[0m",
      "\u001b[0;31mAttributeError\u001b[0m: 'Student' object has no attribute 'perc_rise'"
     ]
    }
   ],
   "source": [
    "Std_1=Student('melissa','Vidiera',60)\n",
    "\n",
    "print(Std_1.perc_rise)"
   ]
  },
  {
   "cell_type": "code",
   "execution_count": null,
   "metadata": {},
   "outputs": [],
   "source": []
  }
 ],
 "metadata": {
  "kernelspec": {
   "display_name": "Python 3",
   "language": "python",
   "name": "python3"
  },
  "language_info": {
   "codemirror_mode": {
    "name": "ipython",
    "version": 3
   },
   "file_extension": ".py",
   "mimetype": "text/x-python",
   "name": "python",
   "nbconvert_exporter": "python",
   "pygments_lexer": "ipython3",
   "version": "3.7.3"
  }
 },
 "nbformat": 4,
 "nbformat_minor": 2
}
