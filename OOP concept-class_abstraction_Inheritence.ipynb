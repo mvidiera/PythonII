{
 "cells": [
  {
   "cell_type": "markdown",
   "id": "5824f1a7",
   "metadata": {},
   "source": [
    "Python spports both type: Scripting and OOPs as well\n",
    "\n",
    "An object is simply a collection of data (variables) and methods (functions) that act on those data. \n",
    "Similarly, a class is a blueprint for that object. \n",
    "class as a sketch (prototype) of a house. It contains all the details about the floors, doors, windows, etc.\n",
    "\n",
    "Car has properties like Engine, Type, Interiors, tire\n",
    "all these properties are applicable to any kind of car. \n",
    "\n",
    "Ex: Range Rover. \n",
    "RangeRover has different kind of specifications from this car generic class. \n",
    "\n",
    "\n"
   ]
  },
  {
   "cell_type": "code",
   "execution_count": 1,
   "id": "e54f3ed6",
   "metadata": {},
   "outputs": [
    {
     "data": {
      "text/plain": [
       "int"
      ]
     },
     "execution_count": 1,
     "metadata": {},
     "output_type": "execute_result"
    }
   ],
   "source": [
    "i=10\n",
    "type(i)"
   ]
  },
  {
   "cell_type": "code",
   "execution_count": 2,
   "id": "b309d56f",
   "metadata": {},
   "outputs": [
    {
     "name": "stdout",
     "output_type": "stream",
     "text": [
      "<class 'int'>\n"
     ]
    }
   ],
   "source": [
    "print(type(i)) #this means int i is a variable of int class. similar for string.\n",
    "# i is the instance of class integer "
   ]
  },
  {
   "cell_type": "code",
   "execution_count": 3,
   "id": "0ad2ab25",
   "metadata": {},
   "outputs": [
    {
     "name": "stdout",
     "output_type": "stream",
     "text": [
      "<class 'str'>\n"
     ]
    }
   ],
   "source": [
    "j=\"Melissa\"\n",
    "print(type(j))\n",
    "#here j is variable of str class"
   ]
  },
  {
   "cell_type": "code",
   "execution_count": 4,
   "id": "51df896c",
   "metadata": {},
   "outputs": [
    {
     "ename": "SyntaxError",
     "evalue": "unexpected EOF while parsing (3830439120.py, line 1)",
     "output_type": "error",
     "traceback": [
      "\u001b[0;36m  File \u001b[0;32m\"/var/folders/pz/8fj7_jqs1_lglvwks1ym9jl40000gn/T/ipykernel_11713/3830439120.py\"\u001b[0;36m, line \u001b[0;32m1\u001b[0m\n\u001b[0;31m    class test: #no body.\u001b[0m\n\u001b[0m                          ^\u001b[0m\n\u001b[0;31mSyntaxError\u001b[0m\u001b[0;31m:\u001b[0m unexpected EOF while parsing\n"
     ]
    }
   ],
   "source": [
    "class test: #no body. "
   ]
  },
  {
   "cell_type": "code",
   "execution_count": 5,
   "id": "8563df54",
   "metadata": {},
   "outputs": [],
   "source": [
    "class test1:\n",
    "    pass"
   ]
  },
  {
   "cell_type": "code",
   "execution_count": 6,
   "id": "a440d7fb",
   "metadata": {},
   "outputs": [],
   "source": [
    "class person:\n",
    "    pass"
   ]
  },
  {
   "cell_type": "code",
   "execution_count": 23,
   "id": "e7aaf919",
   "metadata": {},
   "outputs": [],
   "source": [
    "#how to create object in the class\n",
    "p= person()"
   ]
  },
  {
   "cell_type": "code",
   "execution_count": 24,
   "id": "de582d25",
   "metadata": {},
   "outputs": [
    {
     "data": {
      "text/plain": [
       "__main__.person"
      ]
     },
     "execution_count": 24,
     "metadata": {},
     "output_type": "execute_result"
    }
   ],
   "source": [
    "type(p) #I have not defined anything"
   ]
  },
  {
   "cell_type": "code",
   "execution_count": 9,
   "id": "f669d92c",
   "metadata": {},
   "outputs": [
    {
     "name": "stdout",
     "output_type": "stream",
     "text": [
      "<class '__main__.person'>\n"
     ]
    }
   ],
   "source": [
    "print(p) #p is var that belongs to class called person"
   ]
  },
  {
   "cell_type": "code",
   "execution_count": 10,
   "id": "9ae82e98",
   "metadata": {},
   "outputs": [],
   "source": [
    "#create a var inside class/create class var. for object p I am creating variables\n",
    "p.name=\"Melissa\"\n",
    "p.surname=\"Vidiera\"\n",
    "p.yob= 80293\n",
    "\n"
   ]
  },
  {
   "cell_type": "code",
   "execution_count": 78,
   "id": "1e38045a",
   "metadata": {},
   "outputs": [],
   "source": [
    "a= person #if while calling object if I dont use () then next object's data will override\n",
    "#a.name and p.name both are Whisky"
   ]
  },
  {
   "cell_type": "code",
   "execution_count": 12,
   "id": "3830c206",
   "metadata": {},
   "outputs": [
    {
     "name": "stdout",
     "output_type": "stream",
     "text": [
      "<class '__main__.person'>\n"
     ]
    }
   ],
   "source": [
    "print(p)"
   ]
  },
  {
   "cell_type": "code",
   "execution_count": 13,
   "id": "3980be05",
   "metadata": {},
   "outputs": [],
   "source": [
    "#object p and a can have same property or not\n",
    "# a and p are instances of class person. \n",
    "\n",
    "a.name=\"Whisky\"\n",
    "a.surname=\"Vidiera\"\n",
    "a.yob= 102017\n",
    "a.emp= 2640416"
   ]
  },
  {
   "cell_type": "code",
   "execution_count": 14,
   "id": "8f80fab5",
   "metadata": {},
   "outputs": [
    {
     "data": {
      "text/plain": [
       "'Whisky'"
      ]
     },
     "execution_count": 14,
     "metadata": {},
     "output_type": "execute_result"
    }
   ],
   "source": [
    "#calling var\n",
    "a.name"
   ]
  },
  {
   "cell_type": "code",
   "execution_count": 15,
   "id": "0f7febb9",
   "metadata": {},
   "outputs": [
    {
     "data": {
      "text/plain": [
       "102017"
      ]
     },
     "execution_count": 15,
     "metadata": {},
     "output_type": "execute_result"
    }
   ],
   "source": [
    "a.yob"
   ]
  },
  {
   "cell_type": "code",
   "execution_count": 16,
   "id": "dc44832e",
   "metadata": {},
   "outputs": [
    {
     "data": {
      "text/plain": [
       "102017"
      ]
     },
     "execution_count": 16,
     "metadata": {},
     "output_type": "execute_result"
    }
   ],
   "source": [
    "p.yob"
   ]
  },
  {
   "cell_type": "code",
   "execution_count": 17,
   "id": "5270a998",
   "metadata": {},
   "outputs": [
    {
     "data": {
      "text/plain": [
       "'Vidiera'"
      ]
     },
     "execution_count": 17,
     "metadata": {},
     "output_type": "execute_result"
    }
   ],
   "source": [
    "a.surname"
   ]
  },
  {
   "cell_type": "code",
   "execution_count": 18,
   "id": "7237df82",
   "metadata": {},
   "outputs": [
    {
     "data": {
      "text/plain": [
       "str"
      ]
     },
     "execution_count": 18,
     "metadata": {},
     "output_type": "execute_result"
    }
   ],
   "source": [
    "type(a.surname)"
   ]
  },
  {
   "cell_type": "code",
   "execution_count": 19,
   "id": "ad880cd5",
   "metadata": {},
   "outputs": [
    {
     "data": {
      "text/plain": [
       "'Whisky'"
      ]
     },
     "execution_count": 19,
     "metadata": {},
     "output_type": "execute_result"
    }
   ],
   "source": [
    "p.name # I have assigned p.name as Melissa but i am getting whisky not Melissa\n",
    "\n",
    "#p and a belongs to person class.\n",
    "#why I am getting second values, not first because I have not used () while calling object\n",
    "#override"
   ]
  },
  {
   "cell_type": "markdown",
   "id": "a684b931",
   "metadata": {},
   "source": [
    "Why I will get variable which is declared in second time in same class for same properties(var), though the object is different\n",
    "\n",
    "a and p is var of person class\n",
    "name surname yob belongs to person class\n",
    "all these are class variable\n",
    "\n",
    "First instance I have defined Melissa then I have defined Whisky as class variable for class person but different object: \n",
    "when I am trying to assign multiple data for a same variable \"name\", it will hold the latest data, though it has called in different object. \n",
    "This way is not proper way to write a class and declare object and variables. \n",
    "\n",
    "\n",
    "self: self is the pointer which is the first argument passed in class\n",
    "it is not keyword, we can give any name( instead of self) for first arg which is taken as pointer\n",
    "\n",
    "Object is the pointer. once defined even if I want to call method or var, I need to use object ex:p.name, p.method()"
   ]
  },
  {
   "cell_type": "code",
   "execution_count": 20,
   "id": "a62d0a0b",
   "metadata": {},
   "outputs": [],
   "source": [
    "class person: #create class person\n",
    "    \n",
    "#CONSTRUCTOR\n",
    "    def __int__(self,name,surname,yob): #itialize var. create method/func inside a class and init is method name. in pyt method __ and ends with __ is defined by default\n",
    "        self.name= name#properties of class. self is not keyword, I can use any var. here self is  pointer/reference\n",
    "        self.surname=surname#self is referencing/ pointing to person class itself.\n",
    "        self.yob=yob"
   ]
  },
  {
   "cell_type": "code",
   "execution_count": 25,
   "id": "058a2f90",
   "metadata": {},
   "outputs": [],
   "source": [
    "#create variable\n",
    "p=person()"
   ]
  },
  {
   "cell_type": "code",
   "execution_count": 26,
   "id": "9f33cb48",
   "metadata": {},
   "outputs": [
    {
     "name": "stdout",
     "output_type": "stream",
     "text": [
      "<__main__.person object at 0x7f89a27cd610>\n"
     ]
    }
   ],
   "source": [
    "print(p)"
   ]
  },
  {
   "cell_type": "code",
   "execution_count": null,
   "id": "9d168f84",
   "metadata": {},
   "outputs": [],
   "source": []
  },
  {
   "cell_type": "code",
   "execution_count": null,
   "id": "d2fb3297",
   "metadata": {},
   "outputs": [],
   "source": []
  },
  {
   "cell_type": "code",
   "execution_count": null,
   "id": "0a697eb5",
   "metadata": {},
   "outputs": [],
   "source": []
  },
  {
   "cell_type": "code",
   "execution_count": 28,
   "id": "7e33e4c2",
   "metadata": {},
   "outputs": [],
   "source": [
    "class dog():\n",
    "    def __init__(self, name, age):\n",
    "        pass"
   ]
  },
  {
   "cell_type": "code",
   "execution_count": 29,
   "id": "8bb2f7c8",
   "metadata": {},
   "outputs": [],
   "source": [
    "#creating object\n",
    "\n",
    "mydog= dog()"
   ]
  },
  {
   "cell_type": "code",
   "execution_count": 32,
   "id": "e2056c09",
   "metadata": {},
   "outputs": [
    {
     "name": "stdout",
     "output_type": "stream",
     "text": [
      "<__main__.dog object at 0x7f89a27f69a0>\n"
     ]
    }
   ],
   "source": [
    "print(mydog)"
   ]
  },
  {
   "cell_type": "code",
   "execution_count": 39,
   "id": "b04c1cf3",
   "metadata": {},
   "outputs": [],
   "source": [
    "#adding attributes\n",
    "\n",
    "class dog():\n",
    "    \n",
    "    def __init__(self, name, age):\n",
    "        self.name=name\n",
    "        self.age=age"
   ]
  },
  {
   "cell_type": "code",
   "execution_count": 48,
   "id": "30c4842f",
   "metadata": {},
   "outputs": [],
   "source": [
    "#create object and pass the attributes/parameter\n",
    "\n",
    "mydog1= dog(\"Whisky\",4) #do not forget passing parameter inside dog() that is class name"
   ]
  },
  {
   "cell_type": "code",
   "execution_count": 49,
   "id": "db4897fc",
   "metadata": {},
   "outputs": [
    {
     "name": "stdout",
     "output_type": "stream",
     "text": [
      "<__main__.dog object at 0x7f89a28b23d0>\n"
     ]
    }
   ],
   "source": [
    "print(mydog1)"
   ]
  },
  {
   "cell_type": "code",
   "execution_count": 50,
   "id": "4e91f34c",
   "metadata": {},
   "outputs": [
    {
     "name": "stdout",
     "output_type": "stream",
     "text": [
      "Whisky\n"
     ]
    }
   ],
   "source": [
    "print(mydog1.name)"
   ]
  },
  {
   "cell_type": "code",
   "execution_count": 52,
   "id": "3d9474e2",
   "metadata": {},
   "outputs": [
    {
     "name": "stdout",
     "output_type": "stream",
     "text": [
      "4\n"
     ]
    }
   ],
   "source": [
    "print(mydog1.age)"
   ]
  },
  {
   "cell_type": "code",
   "execution_count": 57,
   "id": "e1eb7cf5",
   "metadata": {},
   "outputs": [
    {
     "name": "stdout",
     "output_type": "stream",
     "text": [
      "My dog's name is Whisky who is 4 years old\n"
     ]
    }
   ],
   "source": [
    "print(\"My dog's name is \" +mydog1.name+ \" who is \" +str(mydog1.age)+ \" years old\")\n",
    "#we need to typecast age as str(), else I will get an error "
   ]
  },
  {
   "cell_type": "code",
   "execution_count": 58,
   "id": "447d34cb",
   "metadata": {},
   "outputs": [],
   "source": [
    "#defining methods in class\n",
    "\n",
    "class dog():\n",
    "    \n",
    "    def __init__(self, name, age):\n",
    "        self.name=name\n",
    "        self.age=age\n",
    "        \n",
    "    def bark(self):\n",
    "        print(\" bow wow\" )\n",
    "        \n"
   ]
  },
  {
   "cell_type": "code",
   "execution_count": 60,
   "id": "47ae779f",
   "metadata": {},
   "outputs": [
    {
     "name": "stdout",
     "output_type": "stream",
     "text": [
      " bow wow\n"
     ]
    }
   ],
   "source": [
    "mydog1 = dog(\"Whisky\",4) # we just can not write mydog1.bark() without initializing my object mydog1 to class dog\n",
    "mydog1.bark()"
   ]
  },
  {
   "cell_type": "code",
   "execution_count": 66,
   "id": "54835b41",
   "metadata": {},
   "outputs": [],
   "source": [
    "#another method\n",
    "\n",
    "class dog():\n",
    "    \n",
    "    def __init__(self, name, age):\n",
    "        self.name=name\n",
    "        self.age=age\n",
    "        \n",
    "    def bark(self):\n",
    "        print(\" bow wow\" )\n",
    "        \n",
    "    def doginfo(self):\n",
    "        print(\"My dog's name is \" +self.name+ \" who is \" +str(self.age)+ \" years old\")"
   ]
  },
  {
   "cell_type": "code",
   "execution_count": 67,
   "id": "78ae2976",
   "metadata": {},
   "outputs": [
    {
     "name": "stdout",
     "output_type": "stream",
     "text": [
      "My dog's name is Whisky who is 4 years old\n",
      "My dog's name is Picu who is 6 years old\n",
      "My dog's name is Coco who is 1 years old\n"
     ]
    }
   ],
   "source": [
    "mydog1= dog(\"Whisky\", 4)\n",
    "mydog2= dog(\"Picu\",6)\n",
    "mydog3= dog(\"Coco\",1)\n",
    "\n",
    "mydog1.doginfo()\n",
    "mydog2.doginfo()\n",
    "mydog3.doginfo()"
   ]
  },
  {
   "cell_type": "markdown",
   "id": "f7ada8a8",
   "metadata": {},
   "source": [
    "Summarizing:\n",
    "1. create class with class keyword following class name\n",
    "2. Initialize variables using __init__ method (def) passing self and attributes\n",
    "3. Create methods using def() pass self\n",
    "4. Create objects by initialising with class_name() passing the attributes\n",
    "5. Call methods using object.methodname()\n"
   ]
  },
  {
   "cell_type": "code",
   "execution_count": 74,
   "id": "78ab9cc5",
   "metadata": {},
   "outputs": [],
   "source": [
    "#Assigning new values to attribute\n",
    "\n",
    "class dog():\n",
    "    \n",
    "    def __init__(self, name, age):\n",
    "        self.name=name\n",
    "        self.age=age\n",
    "        \n",
    "    def bark(self):\n",
    "        print(\" bow wow\" )\n",
    "        \n",
    "    def doginfo(self):\n",
    "        print(\"My dog's name is \" +self.name+ \" who is \" +str(self.age)+ \" years old\")\n",
    "        \n",
    "    def birthday(self):\n",
    "        m= self.age+1\n",
    "        print(\"This is my dog's \" +str(m)+ \"th birthday\")"
   ]
  },
  {
   "cell_type": "code",
   "execution_count": 75,
   "id": "171bb4ba",
   "metadata": {},
   "outputs": [
    {
     "name": "stdout",
     "output_type": "stream",
     "text": [
      "This is my dog's 5th birthday\n"
     ]
    }
   ],
   "source": [
    "mydog1= dog(\"Whisky\", 4)\n",
    "mydog1.birthday()"
   ]
  },
  {
   "cell_type": "code",
   "execution_count": 76,
   "id": "49790425",
   "metadata": {},
   "outputs": [
    {
     "name": "stdout",
     "output_type": "stream",
     "text": [
      "This is my dog's 5th birthday\n",
      "This is my dog's 7th birthday\n",
      "This is my dog's 2th birthday\n"
     ]
    }
   ],
   "source": [
    "mydog1= dog(\"Whisky\", 4)\n",
    "mydog2= dog(\"Picu\",6)\n",
    "mydog3= dog(\"Coco\",1)\n",
    "\n",
    "mydog1.birthday()\n",
    "mydog2.birthday()\n",
    "mydog3.birthday()"
   ]
  },
  {
   "cell_type": "code",
   "execution_count": 89,
   "id": "ddcf3a55",
   "metadata": {},
   "outputs": [],
   "source": [
    "#passing arguments to method. Passing object as argument\n",
    "# setBuddy() method. pass self and buddy as argument where buddy is an object of dog (not characteristics)\n",
    "\n",
    "#here I'm setting 2 arguments. self.buddy= buddy and buddy.buddy=self\n",
    "#this means relationship s mutual. Whisky is Coco's buddy and coco is whisky's buddy\n",
    "\n",
    "#suppose I am passing in the object mydog1 that is whisky which is self and buddy is coco.\n",
    "#self.buddy is coco and buddy(coco).buddy is whisky\n",
    "\n",
    "class dog():\n",
    "    \n",
    "    def __init__(self, name, age):\n",
    "        self.name=name\n",
    "        self.age=age\n",
    "        \n",
    "    def bark(self):\n",
    "        print(\" bow wow\" )\n",
    "        \n",
    "    def doginfo(self):\n",
    "        print(\"My dog's name is \" +self.name+ \" who is \" +str(self.age)+ \" years old\")\n",
    "        \n",
    "    def birthday(self):\n",
    "        m= self.age+1\n",
    "        print(\"This is my dog's \" +str(m)+ \"th birthday\")\n",
    "        \n",
    "    def setbuddy(self,buddy):\n",
    "        self.buddy= buddy\n",
    "        buddy.buddy= self\n",
    "        # doesnt work print(\"My dog Whisky's buddy name is\" +mydog.buddy.name+ \"and age is \" +str(mydog.buddy.age)+ \".\" )\n",
    "        \n"
   ]
  },
  {
   "cell_type": "code",
   "execution_count": 98,
   "id": "028d0caa",
   "metadata": {},
   "outputs": [
    {
     "name": "stdout",
     "output_type": "stream",
     "text": [
      "My dog Whisky's buddy name is Picu and age is 6.\n"
     ]
    }
   ],
   "source": [
    "mydog1= dog(\"Whisky\", 4)\n",
    "mydog2= dog(\"Picu\",6)\n",
    "\n",
    "mydog1.setbuddy(mydog2) #passing 2nd object mydog2 as argument for 1st obj mydog1\n",
    "\n",
    "print(\"My dog Whisky's buddy name is \" +mydog1.buddy.name+ \" and age is \" +str(mydog1.buddy.age)+ \".\" )\n",
    "        "
   ]
  },
  {
   "cell_type": "code",
   "execution_count": 96,
   "id": "1bb36bc5",
   "metadata": {},
   "outputs": [
    {
     "name": "stdout",
     "output_type": "stream",
     "text": [
      "Whisky's buddy is Picu.\n",
      "Whisky's buddy is 6 years old\n"
     ]
    }
   ],
   "source": [
    "print(\"Whisky's buddy is \" +mydog1.buddy.name+\".\")\n",
    "print(\"Whisky's buddy is \" +str(mydog1.buddy.age)+ \" years old\")"
   ]
  },
  {
   "cell_type": "code",
   "execution_count": 8,
   "id": "3104dcc5",
   "metadata": {},
   "outputs": [],
   "source": [
    "class person1():\n",
    "    def __init__(self, name, surname, yob):\n",
    "        self.name=name\n",
    "        self.surname=surname\n",
    "        self.yob=yob\n",
    "\n",
    "        "
   ]
  },
  {
   "cell_type": "code",
   "execution_count": 9,
   "id": "a61f1112",
   "metadata": {},
   "outputs": [],
   "source": [
    "#create object p. while creating object make sure arguments are passed\n",
    "\n",
    "p=person1(\"Melissa\",\"Vidiera\",1994)"
   ]
  },
  {
   "cell_type": "code",
   "execution_count": 10,
   "id": "cd12d368",
   "metadata": {},
   "outputs": [
    {
     "name": "stdout",
     "output_type": "stream",
     "text": [
      "<__main__.person1 object at 0x7fa8e8ff91f0>\n"
     ]
    }
   ],
   "source": [
    "#print p prints object not arguments\n",
    "print(p)"
   ]
  },
  {
   "cell_type": "code",
   "execution_count": 11,
   "id": "8f6f940c",
   "metadata": {},
   "outputs": [
    {
     "data": {
      "text/plain": [
       "'Whisky'"
      ]
     },
     "execution_count": 11,
     "metadata": {},
     "output_type": "execute_result"
    }
   ],
   "source": [
    "s=person1(\"Whisky\",\"Vidiera\", 2017)\n",
    "s.name"
   ]
  },
  {
   "cell_type": "code",
   "execution_count": 12,
   "id": "431d6e1a",
   "metadata": {},
   "outputs": [
    {
     "data": {
      "text/plain": [
       "'Melissa'"
      ]
     },
     "execution_count": 12,
     "metadata": {},
     "output_type": "execute_result"
    }
   ],
   "source": [
    "p.name"
   ]
  },
  {
   "cell_type": "code",
   "execution_count": 13,
   "id": "f63ca9c0",
   "metadata": {},
   "outputs": [],
   "source": [
    "class person2():\n",
    "    def __init__(self, name, surname, yob):\n",
    "        self.name1=name\n",
    "        self.surname1=surname\n",
    "        self.yob=yob\n",
    "\n",
    "p=person2(\"xyz\",\"abc\",1234)"
   ]
  },
  {
   "cell_type": "code",
   "execution_count": 14,
   "id": "1bd8bc80",
   "metadata": {},
   "outputs": [
    {
     "ename": "AttributeError",
     "evalue": "'person2' object has no attribute 'name'",
     "output_type": "error",
     "traceback": [
      "\u001b[0;31m---------------------------------------------------------------------------\u001b[0m",
      "\u001b[0;31mAttributeError\u001b[0m                            Traceback (most recent call last)",
      "\u001b[0;32m/var/folders/pz/8fj7_jqs1_lglvwks1ym9jl40000gn/T/ipykernel_2314/1888443627.py\u001b[0m in \u001b[0;36m<module>\u001b[0;34m\u001b[0m\n\u001b[0;32m----> 1\u001b[0;31m \u001b[0mp\u001b[0m\u001b[0;34m.\u001b[0m\u001b[0mname\u001b[0m\u001b[0;34m\u001b[0m\u001b[0;34m\u001b[0m\u001b[0m\n\u001b[0m",
      "\u001b[0;31mAttributeError\u001b[0m: 'person2' object has no attribute 'name'"
     ]
    }
   ],
   "source": [
    "p.name\n",
    "#here - self.name1=name: self.name1 is actual variable, name is not actual variable\n",
    "#that is why, when I am trying to print p.name, it says there is no attribute 'name'"
   ]
  },
  {
   "cell_type": "code",
   "execution_count": 15,
   "id": "1bdf3ee8",
   "metadata": {},
   "outputs": [
    {
     "data": {
      "text/plain": [
       "'xyz'"
      ]
     },
     "execution_count": 15,
     "metadata": {},
     "output_type": "execute_result"
    }
   ],
   "source": [
    "p.name1"
   ]
  },
  {
   "cell_type": "code",
   "execution_count": 17,
   "id": "09be9824",
   "metadata": {},
   "outputs": [],
   "source": [
    "#ACCESSING VARIABLES INSIDE AND OUTSIDE CLASS\n",
    "\n",
    "class person3():\n",
    "    def __init__(self,name,surname,yob):\n",
    "        self.name=name\n",
    "        self.surname=surname\n",
    "        self.yob=yob\n",
    "        \n",
    "    def test(self,m,n):#even in method, first keyword should be pointer\n",
    "        return m+n+yob  #accessing variable yob inside class"
   ]
  },
  {
   "cell_type": "code",
   "execution_count": 20,
   "id": "ff06b475",
   "metadata": {},
   "outputs": [],
   "source": [
    "#yob belongs to class person3\n",
    "\n",
    "p=person3(\"Melissa\",\"Vidiera\",1234)"
   ]
  },
  {
   "cell_type": "code",
   "execution_count": 23,
   "id": "ee231834",
   "metadata": {},
   "outputs": [
    {
     "data": {
      "text/plain": [
       "'Melissa'"
      ]
     },
     "execution_count": 23,
     "metadata": {},
     "output_type": "execute_result"
    }
   ],
   "source": [
    "p.name #accessing variable name outside class\n",
    "#whwn I m accessing var outside class, I always need to use object to use any kind of var"
   ]
  },
  {
   "cell_type": "code",
   "execution_count": 22,
   "id": "4f6f81de",
   "metadata": {},
   "outputs": [
    {
     "ename": "NameError",
     "evalue": "name 'yob' is not defined",
     "output_type": "error",
     "traceback": [
      "\u001b[0;31m---------------------------------------------------------------------------\u001b[0m",
      "\u001b[0;31mNameError\u001b[0m                                 Traceback (most recent call last)",
      "\u001b[0;32m/var/folders/pz/8fj7_jqs1_lglvwks1ym9jl40000gn/T/ipykernel_2314/3551969003.py\u001b[0m in \u001b[0;36m<module>\u001b[0;34m\u001b[0m\n\u001b[0;32m----> 1\u001b[0;31m \u001b[0mp\u001b[0m\u001b[0;34m.\u001b[0m\u001b[0mtest\u001b[0m\u001b[0;34m(\u001b[0m\u001b[0;36m3\u001b[0m\u001b[0;34m,\u001b[0m\u001b[0;36m4\u001b[0m\u001b[0;34m)\u001b[0m\u001b[0;34m\u001b[0m\u001b[0;34m\u001b[0m\u001b[0m\n\u001b[0m",
      "\u001b[0;32m/var/folders/pz/8fj7_jqs1_lglvwks1ym9jl40000gn/T/ipykernel_2314/1772763330.py\u001b[0m in \u001b[0;36mtest\u001b[0;34m(self, m, n)\u001b[0m\n\u001b[1;32m      6\u001b[0m \u001b[0;34m\u001b[0m\u001b[0m\n\u001b[1;32m      7\u001b[0m     \u001b[0;32mdef\u001b[0m \u001b[0mtest\u001b[0m\u001b[0;34m(\u001b[0m\u001b[0mself\u001b[0m\u001b[0;34m,\u001b[0m\u001b[0mm\u001b[0m\u001b[0;34m,\u001b[0m\u001b[0mn\u001b[0m\u001b[0;34m)\u001b[0m\u001b[0;34m:\u001b[0m\u001b[0;31m#even in method, first keyword should be pointer\u001b[0m\u001b[0;34m\u001b[0m\u001b[0;34m\u001b[0m\u001b[0m\n\u001b[0;32m----> 8\u001b[0;31m         \u001b[0;32mreturn\u001b[0m \u001b[0mm\u001b[0m\u001b[0;34m+\u001b[0m\u001b[0mn\u001b[0m\u001b[0;34m+\u001b[0m\u001b[0myob\u001b[0m\u001b[0;34m\u001b[0m\u001b[0;34m\u001b[0m\u001b[0m\n\u001b[0m\u001b[1;32m      9\u001b[0m \u001b[0;34m\u001b[0m\u001b[0m\n\u001b[1;32m     10\u001b[0m \u001b[0;34m\u001b[0m\u001b[0m\n",
      "\u001b[0;31mNameError\u001b[0m: name 'yob' is not defined"
     ]
    }
   ],
   "source": [
    "p.test(3,4)\n",
    "#when I am calling method test, I am getting an error like yob is not defined\n",
    "#as in test(), var yob is used without object or pointer keyword self. that's the reason I am getting an error"
   ]
  },
  {
   "cell_type": "code",
   "execution_count": 32,
   "id": "d70b26ef",
   "metadata": {},
   "outputs": [],
   "source": [
    "class person4():\n",
    "    def __init__(self,name,surname,yob):\n",
    "        self.name=name\n",
    "        self.surname=surname\n",
    "        self.yob=yob\n",
    "        \n",
    "    def test(self,m,n):\n",
    "        return m+n+self.yob  #calling/using class var inside class using pointer(self)"
   ]
  },
  {
   "cell_type": "code",
   "execution_count": 33,
   "id": "68caceac",
   "metadata": {},
   "outputs": [],
   "source": [
    "p=person4('xyz','abc',123)"
   ]
  },
  {
   "cell_type": "code",
   "execution_count": 35,
   "id": "b0dd19c7",
   "metadata": {},
   "outputs": [
    {
     "data": {
      "text/plain": [
       "133"
      ]
     },
     "execution_count": 35,
     "metadata": {},
     "output_type": "execute_result"
    }
   ],
   "source": [
    "p.test(4,6)"
   ]
  },
  {
   "cell_type": "code",
   "execution_count": 38,
   "id": "12707a4c",
   "metadata": {},
   "outputs": [
    {
     "data": {
      "text/plain": [
       "81"
      ]
     },
     "execution_count": 38,
     "metadata": {},
     "output_type": "execute_result"
    }
   ],
   "source": [
    "s= person4('mjsn','nsfdk',78)\n",
    "s.test(1,2)\n",
    "#here I have created another object s and passed different value for yob \n",
    "#then I called test(), that value 78 is used in computation inside test because I called test using new obj s"
   ]
  },
  {
   "cell_type": "code",
   "execution_count": 39,
   "id": "7d761884",
   "metadata": {},
   "outputs": [
    {
     "data": {
      "text/plain": [
       "<__main__.person4 at 0x7fa8e90c85b0>"
      ]
     },
     "execution_count": 39,
     "metadata": {},
     "output_type": "execute_result"
    }
   ],
   "source": [
    "p #it gives object location. suppose I dont want object loc, I need some useful info\n",
    "#so overwrite an inbuilt method called __str__(), it is pre defined\n",
    "#str() is method just to return any valuable info when object is called with print()\n",
    "#without print, it just returns address of object"
   ]
  },
  {
   "cell_type": "code",
   "execution_count": 51,
   "id": "5c2bd097",
   "metadata": {},
   "outputs": [
    {
     "data": {
      "text/plain": [
       "2002"
      ]
     },
     "execution_count": 51,
     "metadata": {},
     "output_type": "execute_result"
    }
   ],
   "source": [
    "class person5():\n",
    "    def __init__(self,name,surname,yob):\n",
    "        self.name=name\n",
    "        self.surname=surname\n",
    "        self.yob=yob\n",
    "        \n",
    "    def test(self,m,n):\n",
    "        return m+n+self.yob\n",
    "    \n",
    "    def __str__(self): #str() returns str, if I give something like return 1, I will get error or just object loc\n",
    "        #return 1\n",
    "        #return \"My name is Melissa \"\n",
    "        return \"First name is %s, surname is %s and yob is %d\" %(self.name, self.surname, self.yob)\n",
    "\n",
    "p=person5('Melissa','Vidiera',1994)\n",
    "p.test(3,5)"
   ]
  },
  {
   "cell_type": "code",
   "execution_count": 49,
   "id": "d770410b",
   "metadata": {},
   "outputs": [
    {
     "name": "stdout",
     "output_type": "stream",
     "text": [
      "My name is Melissa \n"
     ]
    }
   ],
   "source": [
    "print(p)"
   ]
  },
  {
   "cell_type": "code",
   "execution_count": 52,
   "id": "c6fce21d",
   "metadata": {},
   "outputs": [
    {
     "name": "stdout",
     "output_type": "stream",
     "text": [
      "First name is Melissa, surname is Vidiera and yob is 1994\n"
     ]
    }
   ],
   "source": [
    "print(p)"
   ]
  },
  {
   "cell_type": "code",
   "execution_count": 53,
   "id": "e8e4a68c",
   "metadata": {},
   "outputs": [
    {
     "name": "stdout",
     "output_type": "stream",
     "text": [
      "<__main__.person4 object at 0x7fa8e8ff9880>\n"
     ]
    }
   ],
   "source": []
  },
  {
   "cell_type": "code",
   "execution_count": 54,
   "id": "3a96b6b2",
   "metadata": {},
   "outputs": [],
   "source": [
    "#init is used to initialise. \n",
    "#how to pass data to class without __init__()\n",
    "\n",
    "class test1():\n",
    "    pass\n"
   ]
  },
  {
   "cell_type": "code",
   "execution_count": 56,
   "id": "b856a161",
   "metadata": {},
   "outputs": [],
   "source": [
    "p=test1()"
   ]
  },
  {
   "cell_type": "code",
   "execution_count": 57,
   "id": "8436b002",
   "metadata": {},
   "outputs": [],
   "source": [
    "p.name=\"Coco\"\n",
    "p.surname=\"Vidiera\"\n",
    "p.yob=2021"
   ]
  },
  {
   "cell_type": "code",
   "execution_count": 58,
   "id": "b90b11fb",
   "metadata": {},
   "outputs": [
    {
     "data": {
      "text/plain": [
       "'Coco'"
      ]
     },
     "execution_count": 58,
     "metadata": {},
     "output_type": "execute_result"
    }
   ],
   "source": [
    "p.name\n"
   ]
  },
  {
   "cell_type": "code",
   "execution_count": 59,
   "id": "ee597452",
   "metadata": {},
   "outputs": [],
   "source": [
    "q=test1()\n",
    "q.name=\"Picu\"\n",
    "q.surname=\"Vidiera\"\n",
    "q.yob=2017"
   ]
  },
  {
   "cell_type": "code",
   "execution_count": 60,
   "id": "812a4c1c",
   "metadata": {},
   "outputs": [
    {
     "data": {
      "text/plain": [
       "'Picu'"
      ]
     },
     "execution_count": 60,
     "metadata": {},
     "output_type": "execute_result"
    }
   ],
   "source": [
    "q.name"
   ]
  },
  {
   "cell_type": "code",
   "execution_count": 61,
   "id": "6222da8c",
   "metadata": {},
   "outputs": [
    {
     "data": {
      "text/plain": [
       "<__main__.test1 at 0x7fa8e8ff9130>"
      ]
     },
     "execution_count": 61,
     "metadata": {},
     "output_type": "execute_result"
    }
   ],
   "source": [
    "p"
   ]
  },
  {
   "cell_type": "code",
   "execution_count": 62,
   "id": "f975048b",
   "metadata": {},
   "outputs": [
    {
     "name": "stdout",
     "output_type": "stream",
     "text": [
      "<__main__.test1 object at 0x7fa8e8ff9130>\n"
     ]
    }
   ],
   "source": [
    "print(p)"
   ]
  },
  {
   "cell_type": "code",
   "execution_count": 64,
   "id": "5c1be07a",
   "metadata": {},
   "outputs": [],
   "source": [
    "#another way of passing values in class\n",
    "#create function to pass values to class\n",
    "\n",
    "class person6:\n",
    "    def pass_name(self,name):\n",
    "        self.name=name\n",
    "        \n",
    "    def pass_surname(self,surname):\n",
    "        self.surname=surname\n",
    "        \n",
    "    def pass_yob(self, yob):\n",
    "        self.yob=yob\n"
   ]
  },
  {
   "cell_type": "code",
   "execution_count": 66,
   "id": "84dbc093",
   "metadata": {},
   "outputs": [],
   "source": [
    "#creating object without passing any var\n",
    "\n",
    "p1=person6()"
   ]
  },
  {
   "cell_type": "code",
   "execution_count": 69,
   "id": "67fd59b0",
   "metadata": {},
   "outputs": [
    {
     "ename": "AttributeError",
     "evalue": "'person6' object has no attribute 'name'",
     "output_type": "error",
     "traceback": [
      "\u001b[0;31m---------------------------------------------------------------------------\u001b[0m",
      "\u001b[0;31mAttributeError\u001b[0m                            Traceback (most recent call last)",
      "\u001b[0;32m/var/folders/pz/8fj7_jqs1_lglvwks1ym9jl40000gn/T/ipykernel_2314/3745247138.py\u001b[0m in \u001b[0;36m<module>\u001b[0;34m\u001b[0m\n\u001b[0;32m----> 1\u001b[0;31m \u001b[0mp1\u001b[0m\u001b[0;34m.\u001b[0m\u001b[0mname\u001b[0m \u001b[0;31m#so now I cant fetch value using object.\u001b[0m\u001b[0;34m\u001b[0m\u001b[0;34m\u001b[0m\u001b[0m\n\u001b[0m",
      "\u001b[0;31mAttributeError\u001b[0m: 'person6' object has no attribute 'name'"
     ]
    }
   ],
   "source": [
    "p1.name #so now I cant fetch value using object. I will get an error"
   ]
  },
  {
   "cell_type": "code",
   "execution_count": 70,
   "id": "b7fd5438",
   "metadata": {},
   "outputs": [],
   "source": [
    "#pass name inside method\n",
    "\n",
    "p1.pass_name(\"Melissa\")\n",
    "p1.pass_surname(\"Vidiera\") #use shortcut. tab after p1. it suggest method()\n",
    "p1.pass_yob(1234)"
   ]
  },
  {
   "cell_type": "code",
   "execution_count": 71,
   "id": "6ff673f3",
   "metadata": {},
   "outputs": [
    {
     "data": {
      "text/plain": [
       "'Melissa'"
      ]
     },
     "execution_count": 71,
     "metadata": {},
     "output_type": "execute_result"
    }
   ],
   "source": [
    "p1.name"
   ]
  },
  {
   "cell_type": "code",
   "execution_count": 114,
   "id": "6d121a0e",
   "metadata": {},
   "outputs": [
    {
     "data": {
      "text/plain": [
       "{'name': 'Melissa', 'surname': 'Vidiera', 'yob': 1234}"
      ]
     },
     "execution_count": 114,
     "metadata": {},
     "output_type": "execute_result"
    }
   ],
   "source": [
    "p1.__dict__\n"
   ]
  },
  {
   "cell_type": "code",
   "execution_count": 74,
   "id": "3b3a5519",
   "metadata": {},
   "outputs": [],
   "source": [
    "#creating other object and checking without calling methods\n",
    "\n",
    "s1=person6()"
   ]
  },
  {
   "cell_type": "code",
   "execution_count": 75,
   "id": "b55f7b28",
   "metadata": {},
   "outputs": [
    {
     "ename": "AttributeError",
     "evalue": "'person6' object has no attribute 'name'",
     "output_type": "error",
     "traceback": [
      "\u001b[0;31m---------------------------------------------------------------------------\u001b[0m",
      "\u001b[0;31mAttributeError\u001b[0m                            Traceback (most recent call last)",
      "\u001b[0;32m/var/folders/pz/8fj7_jqs1_lglvwks1ym9jl40000gn/T/ipykernel_2314/2835019485.py\u001b[0m in \u001b[0;36m<module>\u001b[0;34m\u001b[0m\n\u001b[0;32m----> 1\u001b[0;31m \u001b[0ms1\u001b[0m\u001b[0;34m.\u001b[0m\u001b[0mname\u001b[0m\u001b[0;34m\u001b[0m\u001b[0;34m\u001b[0m\u001b[0m\n\u001b[0m",
      "\u001b[0;31mAttributeError\u001b[0m: 'person6' object has no attribute 'name'"
     ]
    }
   ],
   "source": [
    "s1.name"
   ]
  },
  {
   "cell_type": "code",
   "execution_count": 77,
   "id": "3111ed9f",
   "metadata": {},
   "outputs": [
    {
     "data": {
      "text/plain": [
       "'Whisky'"
      ]
     },
     "execution_count": 77,
     "metadata": {},
     "output_type": "execute_result"
    }
   ],
   "source": [
    "s1.pass_name(\"Whisky\")\n",
    "s1.name\n"
   ]
  },
  {
   "cell_type": "markdown",
   "id": "840aa2f4",
   "metadata": {},
   "source": [
    "Summarizing\n",
    "\n",
    "To create class and pass variables\n",
    "1. Create class, create init method and pass variables. (good method)\n",
    "2. Empty class using pass, later I can pass variables by creating object and passing variables\n",
    "3. Creating methods to pass var to class\n"
   ]
  },
  {
   "cell_type": "markdown",
   "id": "17bb77a4",
   "metadata": {},
   "source": [
    "## Abstraction\n",
    "Access modifiers:\n",
    "1.public: variables can be accessed inside, outside, subclass and even in different packages\n",
    "2.private: no access outside that class\n",
    "3.protected key: within class and subclass. not outside package\n",
    "\n",
    "python doesnt have keyword/notation usage\n",
    "Python community respects privacy of others and other variables\n",
    "\n",
    "But still abstraction property exists\n",
    "\n",
    "single underscore in front of var then that var is protected var\n",
    "no underscore- public\n",
    "double underscore- private variables\n"
   ]
  },
  {
   "cell_type": "code",
   "execution_count": 101,
   "id": "354bb024",
   "metadata": {},
   "outputs": [],
   "source": [
    "class person7:\n",
    "    \n",
    "    def __init__(self,name,surname,yob):\n",
    "        self._name=name\n",
    "        self._surname=surname\n",
    "        self._yob=yob\n",
    "        \n",
    "    def test(self,m,n):\n",
    "        return m+n+self._yob\n",
    "    \n",
    "    def __str__(self):\n",
    "        return \"First name is %s, surname is %s and yob is %d\" %(self._name, self._surname, self._yob)\n",
    "    \n",
    "#apply underscore in front of every variable in init()"
   ]
  },
  {
   "cell_type": "code",
   "execution_count": 110,
   "id": "d84edd9a",
   "metadata": {},
   "outputs": [],
   "source": [
    "p3=person7(\"nmp\",\"Vidiera\",1994)"
   ]
  },
  {
   "cell_type": "code",
   "execution_count": 111,
   "id": "a3977f35",
   "metadata": {},
   "outputs": [
    {
     "ename": "AttributeError",
     "evalue": "'person7' object has no attribute 'name'",
     "output_type": "error",
     "traceback": [
      "\u001b[0;31m---------------------------------------------------------------------------\u001b[0m",
      "\u001b[0;31mAttributeError\u001b[0m                            Traceback (most recent call last)",
      "\u001b[0;32m/var/folders/pz/8fj7_jqs1_lglvwks1ym9jl40000gn/T/ipykernel_2314/1070342730.py\u001b[0m in \u001b[0;36m<module>\u001b[0;34m\u001b[0m\n\u001b[0;32m----> 1\u001b[0;31m \u001b[0mp3\u001b[0m\u001b[0;34m.\u001b[0m\u001b[0mname\u001b[0m\u001b[0;34m\u001b[0m\u001b[0;34m\u001b[0m\u001b[0m\n\u001b[0m",
      "\u001b[0;31mAttributeError\u001b[0m: 'person7' object has no attribute 'name'"
     ]
    }
   ],
   "source": [
    "p3.name"
   ]
  },
  {
   "cell_type": "code",
   "execution_count": 112,
   "id": "b40ef78a",
   "metadata": {},
   "outputs": [
    {
     "data": {
      "text/plain": [
       "'nmp'"
      ]
     },
     "execution_count": 112,
     "metadata": {},
     "output_type": "execute_result"
    }
   ],
   "source": [
    "p3._name"
   ]
  },
  {
   "cell_type": "code",
   "execution_count": 113,
   "id": "264dc5b8",
   "metadata": {},
   "outputs": [
    {
     "data": {
      "text/plain": [
       "{'_name': 'nmp', '_surname': 'Vidiera', '_yob': 1994}"
      ]
     },
     "execution_count": 113,
     "metadata": {},
     "output_type": "execute_result"
    }
   ],
   "source": [
    "p3.__dict__\n",
    "\n",
    "#for previous example \n",
    "#{'name': 'Melissa', 'surname': 'Vidiera', 'yob': 1234} without abstraction variables will be stored like this\n",
    "#But using protected, variables will be stored like\n",
    "#{'_name': 'nmp', '_surname': 'Vidiera', '_yob': 1994}\n"
   ]
  },
  {
   "cell_type": "code",
   "execution_count": 116,
   "id": "18d792cf",
   "metadata": {},
   "outputs": [
    {
     "data": {
      "text/plain": [
       "<__main__.person7 at 0x7fa8ea447130>"
      ]
     },
     "execution_count": 116,
     "metadata": {},
     "output_type": "execute_result"
    }
   ],
   "source": [
    "p3"
   ]
  },
  {
   "cell_type": "code",
   "execution_count": null,
   "id": "5bedcf27",
   "metadata": {},
   "outputs": [],
   "source": []
  },
  {
   "cell_type": "code",
   "execution_count": 107,
   "id": "e66f3c93",
   "metadata": {},
   "outputs": [
    {
     "data": {
      "text/plain": [
       "10000"
      ]
     },
     "execution_count": 107,
     "metadata": {},
     "output_type": "execute_result"
    }
   ],
   "source": [
    "class Employee:\n",
    "    # constructor\n",
    "    def __init__(self, name, sal):\n",
    "        self._name = name;   # protected attribute \n",
    "        self._sal = sal; \n",
    "        \n",
    "emp = Employee(\"Captain\", 10000)\n",
    "emp._sal"
   ]
  },
  {
   "cell_type": "code",
   "execution_count": 108,
   "id": "afc872b5",
   "metadata": {},
   "outputs": [
    {
     "data": {
      "text/plain": [
       "'Captain'"
      ]
     },
     "execution_count": 108,
     "metadata": {},
     "output_type": "execute_result"
    }
   ],
   "source": [
    "emp._name"
   ]
  },
  {
   "cell_type": "code",
   "execution_count": 109,
   "id": "ebcfbef8",
   "metadata": {},
   "outputs": [
    {
     "ename": "AttributeError",
     "evalue": "'Employee' object has no attribute 'name'",
     "output_type": "error",
     "traceback": [
      "\u001b[0;31m---------------------------------------------------------------------------\u001b[0m",
      "\u001b[0;31mAttributeError\u001b[0m                            Traceback (most recent call last)",
      "\u001b[0;32m/var/folders/pz/8fj7_jqs1_lglvwks1ym9jl40000gn/T/ipykernel_2314/1121459226.py\u001b[0m in \u001b[0;36m<module>\u001b[0;34m\u001b[0m\n\u001b[0;32m----> 1\u001b[0;31m \u001b[0memp\u001b[0m\u001b[0;34m.\u001b[0m\u001b[0mname\u001b[0m\u001b[0;34m\u001b[0m\u001b[0;34m\u001b[0m\u001b[0m\n\u001b[0m",
      "\u001b[0;31mAttributeError\u001b[0m: 'Employee' object has no attribute 'name'"
     ]
    }
   ],
   "source": [
    "emp.name"
   ]
  },
  {
   "cell_type": "code",
   "execution_count": 120,
   "id": "14d65d9d",
   "metadata": {},
   "outputs": [],
   "source": [
    "#PRIVATE: name var is declared as private\n",
    "\n",
    "class person8:\n",
    "    \n",
    "    def __init__(self,name,surname,yob):\n",
    "        self.__name=name\n",
    "        self._surname=surname\n",
    "        self._yob=yob\n",
    "        \n",
    "    def test(self,m,n):\n",
    "        return m+n+self._yob\n",
    "    \n",
    "    def __str__(self):\n",
    "        return \"First name is %s, surname is %s and yob is %d\" %(self._name, self._surname, self._yob)\n"
   ]
  },
  {
   "cell_type": "code",
   "execution_count": 121,
   "id": "967e85fd",
   "metadata": {},
   "outputs": [],
   "source": [
    "p8= person8(\"Whisky\",\"Vidiera\",2017)"
   ]
  },
  {
   "cell_type": "code",
   "execution_count": 123,
   "id": "0c727904",
   "metadata": {},
   "outputs": [
    {
     "data": {
      "text/plain": [
       "'Vidiera'"
      ]
     },
     "execution_count": 123,
     "metadata": {},
     "output_type": "execute_result"
    }
   ],
   "source": [
    "p8._surname"
   ]
  },
  {
   "cell_type": "code",
   "execution_count": 125,
   "id": "f816883e",
   "metadata": {},
   "outputs": [
    {
     "ename": "AttributeError",
     "evalue": "'person8' object has no attribute '__name'",
     "output_type": "error",
     "traceback": [
      "\u001b[0;31m---------------------------------------------------------------------------\u001b[0m",
      "\u001b[0;31mAttributeError\u001b[0m                            Traceback (most recent call last)",
      "\u001b[0;32m/var/folders/pz/8fj7_jqs1_lglvwks1ym9jl40000gn/T/ipykernel_2314/4078231579.py\u001b[0m in \u001b[0;36m<module>\u001b[0;34m\u001b[0m\n\u001b[0;32m----> 1\u001b[0;31m \u001b[0mp8\u001b[0m\u001b[0;34m.\u001b[0m\u001b[0m__name\u001b[0m\u001b[0;34m\u001b[0m\u001b[0;34m\u001b[0m\u001b[0m\n\u001b[0m",
      "\u001b[0;31mAttributeError\u001b[0m: 'person8' object has no attribute '__name'"
     ]
    }
   ],
   "source": [
    "p8.__name #private error: 'person8' object has no attribute '__name'"
   ]
  },
  {
   "cell_type": "code",
   "execution_count": 126,
   "id": "e17e163d",
   "metadata": {},
   "outputs": [
    {
     "data": {
      "text/plain": [
       "{'_person8__name': 'Whisky', '_surname': 'Vidiera', '_yob': 2017}"
      ]
     },
     "execution_count": 126,
     "metadata": {},
     "output_type": "execute_result"
    }
   ],
   "source": [
    "p8.__dict__\n",
    "#double underscore variable\n",
    "#here, Vidiera is stored under _surname 2017 is stored under _yob\n",
    "#but name is stored under _person8__name, name variable encorporates class itself, thats why we cant call name\n",
    "#using __name  "
   ]
  },
  {
   "cell_type": "code",
   "execution_count": 128,
   "id": "8ddf5860",
   "metadata": {},
   "outputs": [
    {
     "data": {
      "text/plain": [
       "'Whisky'"
      ]
     },
     "execution_count": 128,
     "metadata": {},
     "output_type": "execute_result"
    }
   ],
   "source": [
    "#to access private variables\n",
    "p8._person8__name"
   ]
  },
  {
   "cell_type": "markdown",
   "id": "9e9dc037",
   "metadata": {},
   "source": [
    "## Inheritence\n",
    "\n",
    "Inheriting all the properties of class A to class B\n",
    "Used for reusability\n",
    "no keyword like extend to use inheritence\n",
    "instead, call parent class as argumeent in child class\n",
    "* args stands for \"bring all other properties of parent class\"\n",
    "* super: super keyword is used i,e super(student) is Person, inherit from parent \n",
    "\n",
    "super(student,self) init method this stands for call person which is super of student and write init method\n",
    "then bring all the parameters of super() using *args"
   ]
  },
  {
   "cell_type": "code",
   "execution_count": 137,
   "id": "7bae0b7f",
   "metadata": {},
   "outputs": [],
   "source": [
    "# student want to use all var in person class\n",
    "\n",
    "class student(person7): #person 7 has protected view\n",
    "    def __init__(self,regno,clgname, *args): #variables just applicable for student class.\n",
    "        super(student,self).__init__(*args)#: no semicolon. here student will even understand name surname n yob\n",
    "        self.regno=regno #follow indentation of init, not super\n",
    "        self.clgname=clgname\n",
    "    \n",
    "    "
   ]
  },
  {
   "cell_type": "code",
   "execution_count": 138,
   "id": "3d973406",
   "metadata": {},
   "outputs": [
    {
     "ename": "TypeError",
     "evalue": "__init__() missing 3 required positional arguments: 'name', 'surname', and 'yob'",
     "output_type": "error",
     "traceback": [
      "\u001b[0;31m---------------------------------------------------------------------------\u001b[0m",
      "\u001b[0;31mTypeError\u001b[0m                                 Traceback (most recent call last)",
      "\u001b[0;32m/var/folders/pz/8fj7_jqs1_lglvwks1ym9jl40000gn/T/ipykernel_2314/2822758064.py\u001b[0m in \u001b[0;36m<module>\u001b[0;34m\u001b[0m\n\u001b[0;32m----> 1\u001b[0;31m \u001b[0mstu\u001b[0m\u001b[0;34m=\u001b[0m \u001b[0mstudent\u001b[0m\u001b[0;34m(\u001b[0m\u001b[0;36m25\u001b[0m\u001b[0;34m,\u001b[0m\u001b[0;34m\"VVCE\"\u001b[0m\u001b[0;34m)\u001b[0m \u001b[0;31m#I just can not give 2 arg which are defined n student.\u001b[0m\u001b[0;34m\u001b[0m\u001b[0;34m\u001b[0m\u001b[0m\n\u001b[0m\u001b[1;32m      2\u001b[0m \u001b[0;31m#I have to also pass name surname n yob\u001b[0m\u001b[0;34m\u001b[0m\u001b[0;34m\u001b[0m\u001b[0;34m\u001b[0m\u001b[0m\n",
      "\u001b[0;32m/var/folders/pz/8fj7_jqs1_lglvwks1ym9jl40000gn/T/ipykernel_2314/32316329.py\u001b[0m in \u001b[0;36m__init__\u001b[0;34m(self, regno, clgname, *args)\u001b[0m\n\u001b[1;32m      3\u001b[0m \u001b[0;32mclass\u001b[0m \u001b[0mstudent\u001b[0m\u001b[0;34m(\u001b[0m\u001b[0mperson7\u001b[0m\u001b[0;34m)\u001b[0m\u001b[0;34m:\u001b[0m \u001b[0;31m#person 7 has protected view\u001b[0m\u001b[0;34m\u001b[0m\u001b[0;34m\u001b[0m\u001b[0m\n\u001b[1;32m      4\u001b[0m     \u001b[0;32mdef\u001b[0m \u001b[0m__init__\u001b[0m\u001b[0;34m(\u001b[0m\u001b[0mself\u001b[0m\u001b[0;34m,\u001b[0m\u001b[0mregno\u001b[0m\u001b[0;34m,\u001b[0m\u001b[0mclgname\u001b[0m\u001b[0;34m,\u001b[0m \u001b[0;34m*\u001b[0m\u001b[0margs\u001b[0m\u001b[0;34m)\u001b[0m\u001b[0;34m:\u001b[0m \u001b[0;31m#variables just applicable for student class.\u001b[0m\u001b[0;34m\u001b[0m\u001b[0;34m\u001b[0m\u001b[0m\n\u001b[0;32m----> 5\u001b[0;31m         \u001b[0msuper\u001b[0m\u001b[0;34m(\u001b[0m\u001b[0mstudent\u001b[0m\u001b[0;34m,\u001b[0m\u001b[0mself\u001b[0m\u001b[0;34m)\u001b[0m\u001b[0;34m.\u001b[0m\u001b[0m__init__\u001b[0m\u001b[0;34m(\u001b[0m\u001b[0;34m*\u001b[0m\u001b[0margs\u001b[0m\u001b[0;34m)\u001b[0m\u001b[0;31m#: no semicolon. here student will even understand name surname n yob\u001b[0m\u001b[0;34m\u001b[0m\u001b[0;34m\u001b[0m\u001b[0m\n\u001b[0m\u001b[1;32m      6\u001b[0m         \u001b[0mself\u001b[0m\u001b[0;34m.\u001b[0m\u001b[0mregno\u001b[0m\u001b[0;34m=\u001b[0m\u001b[0mregno\u001b[0m \u001b[0;31m#follow indentation of init, not super\u001b[0m\u001b[0;34m\u001b[0m\u001b[0;34m\u001b[0m\u001b[0m\n\u001b[1;32m      7\u001b[0m         \u001b[0mself\u001b[0m\u001b[0;34m.\u001b[0m\u001b[0mclgname\u001b[0m\u001b[0;34m=\u001b[0m\u001b[0mclgname\u001b[0m\u001b[0;34m\u001b[0m\u001b[0;34m\u001b[0m\u001b[0m\n",
      "\u001b[0;31mTypeError\u001b[0m: __init__() missing 3 required positional arguments: 'name', 'surname', and 'yob'"
     ]
    }
   ],
   "source": [
    "stu= student(25,\"VVCE\") #I just can not give 2 arg which are defined n student. \n",
    "#I have to also pass name surname n yob"
   ]
  },
  {
   "cell_type": "code",
   "execution_count": 139,
   "id": "b823976f",
   "metadata": {},
   "outputs": [],
   "source": [
    "stu= student(25,\"VVCE\",\"Melissa\",\"Vidiera\",1994) #name, surname n yob should be passed after stu's var"
   ]
  },
  {
   "cell_type": "code",
   "execution_count": 140,
   "id": "6d1c11c1",
   "metadata": {},
   "outputs": [
    {
     "ename": "AttributeError",
     "evalue": "'student' object has no attribute 'name'",
     "output_type": "error",
     "traceback": [
      "\u001b[0;31m---------------------------------------------------------------------------\u001b[0m",
      "\u001b[0;31mAttributeError\u001b[0m                            Traceback (most recent call last)",
      "\u001b[0;32m/var/folders/pz/8fj7_jqs1_lglvwks1ym9jl40000gn/T/ipykernel_2314/1278600243.py\u001b[0m in \u001b[0;36m<module>\u001b[0;34m\u001b[0m\n\u001b[0;32m----> 1\u001b[0;31m \u001b[0mstu\u001b[0m\u001b[0;34m.\u001b[0m\u001b[0mname\u001b[0m \u001b[0;31m#error\u001b[0m\u001b[0;34m\u001b[0m\u001b[0;34m\u001b[0m\u001b[0m\n\u001b[0m",
      "\u001b[0;31mAttributeError\u001b[0m: 'student' object has no attribute 'name'"
     ]
    }
   ],
   "source": [
    "stu.name #error #_name "
   ]
  },
  {
   "cell_type": "code",
   "execution_count": 142,
   "id": "0508acf5",
   "metadata": {},
   "outputs": [
    {
     "data": {
      "text/plain": [
       "'Vidiera'"
      ]
     },
     "execution_count": 142,
     "metadata": {},
     "output_type": "execute_result"
    }
   ],
   "source": [
    "stu._surname"
   ]
  },
  {
   "cell_type": "code",
   "execution_count": 143,
   "id": "256a5d10",
   "metadata": {},
   "outputs": [
    {
     "data": {
      "text/plain": [
       "'Melissa'"
      ]
     },
     "execution_count": 143,
     "metadata": {},
     "output_type": "execute_result"
    }
   ],
   "source": [
    "stu._name"
   ]
  },
  {
   "cell_type": "code",
   "execution_count": 144,
   "id": "dc010d76",
   "metadata": {},
   "outputs": [
    {
     "data": {
      "text/plain": [
       "'VVCE'"
      ]
     },
     "execution_count": 144,
     "metadata": {},
     "output_type": "execute_result"
    }
   ],
   "source": [
    "stu.clgname"
   ]
  },
  {
   "cell_type": "code",
   "execution_count": 146,
   "id": "feba17fb",
   "metadata": {},
   "outputs": [
    {
     "data": {
      "text/plain": [
       "2011"
      ]
     },
     "execution_count": 146,
     "metadata": {},
     "output_type": "execute_result"
    }
   ],
   "source": [
    "\n",
    "#test is defined in parent, not student. calling parent method\n",
    "\n",
    "stu.test(9,8)"
   ]
  },
  {
   "cell_type": "code",
   "execution_count": 148,
   "id": "58c1b872",
   "metadata": {},
   "outputs": [
    {
     "name": "stdout",
     "output_type": "stream",
     "text": [
      "my name is Melissa\n",
      "my surname is Vidiera\n"
     ]
    }
   ],
   "source": [
    "#MULTIPLE INHERITENCE\n",
    "\n",
    "class a:\n",
    "    def test(self):\n",
    "        print(\"my name is Melissa\")\n",
    "        \n",
    "class b:\n",
    "    def test(self): #same method name but print is different\n",
    "        print(\"my surname is Vidiera\")\n",
    "        \n",
    "#accessing 2 class: \n",
    "#Issue: c's parents have same method. \n",
    "#create differnet class for each parent inside the class\n",
    "class c(a,b):\n",
    "    objofa= a()\n",
    "    objofb= b()\n",
    "    \n",
    "    objofa.test()\n",
    "    objofb.test()\n",
    "    "
   ]
  },
  {
   "cell_type": "code",
   "execution_count": 152,
   "id": "5a88c30c",
   "metadata": {},
   "outputs": [
    {
     "name": "stdout",
     "output_type": "stream",
     "text": [
      "my name is Melissa\n"
     ]
    }
   ],
   "source": [
    "#create another object outside the class\n",
    "#by default: it will call class that is passed in 1st arg \n",
    "objout= c()\n",
    "objout.test()"
   ]
  },
  {
   "cell_type": "code",
   "execution_count": 153,
   "id": "1a1024c0",
   "metadata": {},
   "outputs": [
    {
     "name": "stdout",
     "output_type": "stream",
     "text": [
      "my name is Melissa\n",
      "my surname is Vidiera\n",
      "my surname is Vidiera\n"
     ]
    }
   ],
   "source": [
    "#interchanging b and a while passing class a and b as parents class c(b,a):\n",
    "\n",
    "class a:\n",
    "    def test(self):\n",
    "        print(\"my name is Melissa\")\n",
    "        \n",
    "class b:\n",
    "    def test(self): #same method name but print is different\n",
    "        print(\"my surname is Vidiera\")\n",
    "        \n",
    "#accessing 2 class: \n",
    "#Issue: c's parents have same method. \n",
    "#create differnet class for each parent inside the class\n",
    "class c(b,a):\n",
    "    objofa= a()\n",
    "    objofb= b()\n",
    "    \n",
    "    objofa.test()\n",
    "    objofb.test()\n",
    "    \n",
    "objout= c()\n",
    "objout.test()\n",
    "    "
   ]
  },
  {
   "cell_type": "code",
   "execution_count": 154,
   "id": "f8cb0842",
   "metadata": {},
   "outputs": [],
   "source": [
    "#creating object outside class and checking if it works\n",
    "\n",
    "class a:\n",
    "    def test(self):\n",
    "        print(\"my name is Melissa\")\n",
    "        \n",
    "g=a # wont show any error but it says that g object belongs to main "
   ]
  },
  {
   "cell_type": "code",
   "execution_count": 155,
   "id": "966a9c02",
   "metadata": {},
   "outputs": [
    {
     "data": {
      "text/plain": [
       "__main__.a"
      ]
     },
     "execution_count": 155,
     "metadata": {},
     "output_type": "execute_result"
    }
   ],
   "source": [
    "g #"
   ]
  },
  {
   "cell_type": "code",
   "execution_count": 158,
   "id": "0cd296c4",
   "metadata": {},
   "outputs": [
    {
     "ename": "TypeError",
     "evalue": "test() missing 1 required positional argument: 'self'",
     "output_type": "error",
     "traceback": [
      "\u001b[0;31m---------------------------------------------------------------------------\u001b[0m",
      "\u001b[0;31mTypeError\u001b[0m                                 Traceback (most recent call last)",
      "\u001b[0;32m/var/folders/pz/8fj7_jqs1_lglvwks1ym9jl40000gn/T/ipykernel_2314/1248883868.py\u001b[0m in \u001b[0;36m<module>\u001b[0;34m\u001b[0m\n\u001b[0;32m----> 1\u001b[0;31m \u001b[0mg\u001b[0m\u001b[0;34m.\u001b[0m\u001b[0mtest\u001b[0m\u001b[0;34m(\u001b[0m\u001b[0;34m)\u001b[0m\u001b[0;34m\u001b[0m\u001b[0;34m\u001b[0m\u001b[0m\n\u001b[0m",
      "\u001b[0;31mTypeError\u001b[0m: test() missing 1 required positional argument: 'self'"
     ]
    }
   ],
   "source": [
    "g.test()"
   ]
  },
  {
   "cell_type": "code",
   "execution_count": null,
   "id": "5f4690f4",
   "metadata": {},
   "outputs": [],
   "source": []
  },
  {
   "cell_type": "code",
   "execution_count": null,
   "id": "cc62a031",
   "metadata": {},
   "outputs": [],
   "source": []
  }
 ],
 "metadata": {
  "kernelspec": {
   "display_name": "Python 3 (ipykernel)",
   "language": "python",
   "name": "python3"
  },
  "language_info": {
   "codemirror_mode": {
    "name": "ipython",
    "version": 3
   },
   "file_extension": ".py",
   "mimetype": "text/x-python",
   "name": "python",
   "nbconvert_exporter": "python",
   "pygments_lexer": "ipython3",
   "version": "3.8.8"
  }
 },
 "nbformat": 4,
 "nbformat_minor": 5
}
